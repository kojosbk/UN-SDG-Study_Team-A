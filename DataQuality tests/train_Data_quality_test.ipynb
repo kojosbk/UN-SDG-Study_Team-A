{
 "cells": [
  {
   "cell_type": "markdown",
   "metadata": {
    "id": "EV8k1rFpDDJs"
   },
   "source": [
    "# Processing Big Data - Deequ Analysis\n",
    "A library for measuring the data quality of large datasets. "
   ]
  },
  {
   "cell_type": "markdown",
   "metadata": {
    "id": "USKopMYSDDJ0"
   },
   "source": [
    "## Import dependencies"
   ]
  },
  {
   "cell_type": "code",
   "execution_count": 1,
   "metadata": {
    "id": "gkJ3tG1uDDJ6"
   },
   "outputs": [
    {
     "name": "stderr",
     "output_type": "stream",
     "text": [
      "Please set env variable SPARK_VERSION\n"
     ]
    }
   ],
   "source": [
    "import pandas as pd \n",
    "import numpy as np\n",
    "import matplotlib.pyplot as plt\n",
    "import pydeequ\n",
    "from pydeequ.analyzers import *\n",
    "from pydeequ.profiles import *\n",
    "from pydeequ.suggestions import *\n",
    "from pydeequ.checks import *\n",
    "from pydeequ.verification import *\n",
    "\n",
    "from pyspark.sql import SparkSession\n",
    "from pyspark.sql import functions as F\n",
    "from pyspark.sql.types import DecimalType, DoubleType, IntegerType, DateType, NumericType, StructType, StringType, StructField"
   ]
  },
  {
   "cell_type": "code",
   "execution_count": 2,
   "metadata": {
    "id": "TBSOZ7X5DDJ7"
   },
   "outputs": [],
   "source": [
    "spark = (SparkSession\n",
    "    .builder\n",
    "    .config(\"spark.jars.packages\", pydeequ.deequ_maven_coord)\n",
    "    .config(\"spark.jars.excludes\", pydeequ.f2j_maven_coord)\n",
    "    .getOrCreate())"
   ]
  },
  {
   "cell_type": "markdown",
   "metadata": {},
   "source": [
    "## Read data into spark dataframe"
   ]
  },
  {
   "cell_type": "code",
   "execution_count": 18,
   "metadata": {
    "id": "4Ao6fv5TDDJ-"
   },
   "outputs": [],
   "source": [
    "#read parquet file\n",
    "#file = 'train'\n",
    "\n",
    "#df = spark.read.csv('train.csv')\n",
    "\n",
    "df_pandas = pd.read_csv('train.csv')\n",
    "df = spark.createDataFrame(df_pandas)"
   ]
  },
  {
   "cell_type": "markdown",
   "metadata": {
    "id": "pi0etV9NDDKC"
   },
   "source": [
    "## **Run tests on the dataset**\n",
    "\n",
    "## Test 1 - Null values ⛔️\n",
    "Checking the data for completeness."
   ]
  },
  {
   "cell_type": "code",
   "execution_count": 19,
   "metadata": {},
   "outputs": [
    {
     "name": "stdout",
     "output_type": "stream",
     "text": [
      "root\n",
      " |-- doi: string (nullable = true)\n",
      " |-- text_id: string (nullable = true)\n",
      " |-- text: string (nullable = true)\n",
      " |-- sdg: long (nullable = true)\n",
      " |-- labels_negative: long (nullable = true)\n",
      " |-- labels_positive: long (nullable = true)\n",
      " |-- agreement: double (nullable = true)\n",
      " |-- id: long (nullable = true)\n",
      "\n"
     ]
    }
   ],
   "source": [
    "df.printSchema()"
   ]
  },
  {
   "cell_type": "code",
   "execution_count": 20,
   "metadata": {
    "colab": {
     "base_uri": "https://localhost:8080/",
     "height": 332
    },
    "id": "bKtagFU3DDKE",
    "outputId": "35277e18-8aa0-45ec-f9d0-dfce8049efb4"
   },
   "outputs": [
    {
     "data": {
      "text/html": [
       "<div>\n",
       "<style scoped>\n",
       "    .dataframe tbody tr th:only-of-type {\n",
       "        vertical-align: middle;\n",
       "    }\n",
       "\n",
       "    .dataframe tbody tr th {\n",
       "        vertical-align: top;\n",
       "    }\n",
       "\n",
       "    .dataframe thead th {\n",
       "        text-align: right;\n",
       "    }\n",
       "</style>\n",
       "<table border=\"1\" class=\"dataframe\">\n",
       "  <thead>\n",
       "    <tr style=\"text-align: right;\">\n",
       "      <th></th>\n",
       "      <th>check</th>\n",
       "      <th>check_level</th>\n",
       "      <th>check_status</th>\n",
       "      <th>constraint</th>\n",
       "      <th>constraint_status</th>\n",
       "      <th>constraint_message</th>\n",
       "    </tr>\n",
       "  </thead>\n",
       "  <tbody>\n",
       "    <tr>\n",
       "      <th>0</th>\n",
       "      <td>missing values</td>\n",
       "      <td>Warning</td>\n",
       "      <td>Success</td>\n",
       "      <td>CompletenessConstraint(Completeness(doi,None))</td>\n",
       "      <td>Success</td>\n",
       "      <td></td>\n",
       "    </tr>\n",
       "    <tr>\n",
       "      <th>1</th>\n",
       "      <td>missing values</td>\n",
       "      <td>Warning</td>\n",
       "      <td>Success</td>\n",
       "      <td>CompletenessConstraint(Completeness(text_id,No...</td>\n",
       "      <td>Success</td>\n",
       "      <td></td>\n",
       "    </tr>\n",
       "    <tr>\n",
       "      <th>2</th>\n",
       "      <td>missing values</td>\n",
       "      <td>Warning</td>\n",
       "      <td>Success</td>\n",
       "      <td>CompletenessConstraint(Completeness(text,None))</td>\n",
       "      <td>Success</td>\n",
       "      <td></td>\n",
       "    </tr>\n",
       "    <tr>\n",
       "      <th>3</th>\n",
       "      <td>missing values</td>\n",
       "      <td>Warning</td>\n",
       "      <td>Success</td>\n",
       "      <td>CompletenessConstraint(Completeness(sdg,None))</td>\n",
       "      <td>Success</td>\n",
       "      <td></td>\n",
       "    </tr>\n",
       "    <tr>\n",
       "      <th>4</th>\n",
       "      <td>missing values</td>\n",
       "      <td>Warning</td>\n",
       "      <td>Success</td>\n",
       "      <td>CompletenessConstraint(Completeness(labels_neg...</td>\n",
       "      <td>Success</td>\n",
       "      <td></td>\n",
       "    </tr>\n",
       "    <tr>\n",
       "      <th>5</th>\n",
       "      <td>missing values</td>\n",
       "      <td>Warning</td>\n",
       "      <td>Success</td>\n",
       "      <td>CompletenessConstraint(Completeness(labels_pos...</td>\n",
       "      <td>Success</td>\n",
       "      <td></td>\n",
       "    </tr>\n",
       "    <tr>\n",
       "      <th>6</th>\n",
       "      <td>missing values</td>\n",
       "      <td>Warning</td>\n",
       "      <td>Success</td>\n",
       "      <td>CompletenessConstraint(Completeness(agreement,...</td>\n",
       "      <td>Success</td>\n",
       "      <td></td>\n",
       "    </tr>\n",
       "    <tr>\n",
       "      <th>7</th>\n",
       "      <td>missing values</td>\n",
       "      <td>Warning</td>\n",
       "      <td>Success</td>\n",
       "      <td>CompletenessConstraint(Completeness(id,None))</td>\n",
       "      <td>Success</td>\n",
       "      <td></td>\n",
       "    </tr>\n",
       "    <tr>\n",
       "      <th>8</th>\n",
       "      <td>missing values</td>\n",
       "      <td>Warning</td>\n",
       "      <td>Success</td>\n",
       "      <td>ComplianceConstraint(Compliance(Combined Compl...</td>\n",
       "      <td>Success</td>\n",
       "      <td></td>\n",
       "    </tr>\n",
       "  </tbody>\n",
       "</table>\n",
       "</div>"
      ],
      "text/plain": [
       "            check check_level check_status  \\\n",
       "0  missing values     Warning      Success   \n",
       "1  missing values     Warning      Success   \n",
       "2  missing values     Warning      Success   \n",
       "3  missing values     Warning      Success   \n",
       "4  missing values     Warning      Success   \n",
       "5  missing values     Warning      Success   \n",
       "6  missing values     Warning      Success   \n",
       "7  missing values     Warning      Success   \n",
       "8  missing values     Warning      Success   \n",
       "\n",
       "                                          constraint constraint_status  \\\n",
       "0     CompletenessConstraint(Completeness(doi,None))           Success   \n",
       "1  CompletenessConstraint(Completeness(text_id,No...           Success   \n",
       "2    CompletenessConstraint(Completeness(text,None))           Success   \n",
       "3     CompletenessConstraint(Completeness(sdg,None))           Success   \n",
       "4  CompletenessConstraint(Completeness(labels_neg...           Success   \n",
       "5  CompletenessConstraint(Completeness(labels_pos...           Success   \n",
       "6  CompletenessConstraint(Completeness(agreement,...           Success   \n",
       "7      CompletenessConstraint(Completeness(id,None))           Success   \n",
       "8  ComplianceConstraint(Compliance(Combined Compl...           Success   \n",
       "\n",
       "  constraint_message  \n",
       "0                     \n",
       "1                     \n",
       "2                     \n",
       "3                     \n",
       "4                     \n",
       "5                     \n",
       "6                     \n",
       "7                     \n",
       "8                     "
      ]
     },
     "execution_count": 20,
     "metadata": {},
     "output_type": "execute_result"
    }
   ],
   "source": [
    "#Checking for NULL values\n",
    "checkResult = VerificationSuite(spark) \\\n",
    "                    .onData(df) \\\n",
    "                    .addCheck(\n",
    "                    Check(spark,CheckLevel.Warning, \"missing values\")\\\n",
    "                    .isComplete('doi')\\\n",
    "                    .isComplete('text_id')\\\n",
    "                    .isComplete('text')\\\n",
    "                    .isComplete('sdg')\\\n",
    "                    .isComplete('labels_negative')\\\n",
    "                    .isComplete('labels_positive')\\\n",
    "                    .isComplete('agreement')\\\n",
    "                    .isComplete('id')\\\n",
    "                    .areComplete(df.columns))\\\n",
    "                    .run()\n",
    "\n",
    "checkResult_df = VerificationResult.checkResultsAsDataFrame(spark, checkResult)\n",
    "checkResult_df.toPandas()\n"
   ]
  },
  {
   "cell_type": "markdown",
   "metadata": {
    "id": "Low_wGUrDDKF"
   },
   "source": [
    "## Test 2 - Zero Values 🅾️\n",
    "\n",
    "Checking for zero values within the dataset."
   ]
  },
  {
   "cell_type": "code",
   "execution_count": 21,
   "metadata": {},
   "outputs": [
    {
     "data": {
      "text/html": [
       "<div>\n",
       "<style scoped>\n",
       "    .dataframe tbody tr th:only-of-type {\n",
       "        vertical-align: middle;\n",
       "    }\n",
       "\n",
       "    .dataframe tbody tr th {\n",
       "        vertical-align: top;\n",
       "    }\n",
       "\n",
       "    .dataframe thead th {\n",
       "        text-align: right;\n",
       "    }\n",
       "</style>\n",
       "<table border=\"1\" class=\"dataframe\">\n",
       "  <thead>\n",
       "    <tr style=\"text-align: right;\">\n",
       "      <th></th>\n",
       "      <th>check</th>\n",
       "      <th>check_level</th>\n",
       "      <th>check_status</th>\n",
       "      <th>constraint</th>\n",
       "      <th>constraint_status</th>\n",
       "      <th>constraint_message</th>\n",
       "    </tr>\n",
       "  </thead>\n",
       "  <tbody>\n",
       "    <tr>\n",
       "      <th>0</th>\n",
       "      <td>Non Zero Values</td>\n",
       "      <td>Warning</td>\n",
       "      <td>Warning</td>\n",
       "      <td>ComplianceConstraint(Compliance(Zero values,sd...</td>\n",
       "      <td>Success</td>\n",
       "      <td></td>\n",
       "    </tr>\n",
       "    <tr>\n",
       "      <th>1</th>\n",
       "      <td>Non Zero Values</td>\n",
       "      <td>Warning</td>\n",
       "      <td>Warning</td>\n",
       "      <td>ComplianceConstraint(Compliance(Zero values,la...</td>\n",
       "      <td>Failure</td>\n",
       "      <td>Value: 0.3996685168054271 does not meet the co...</td>\n",
       "    </tr>\n",
       "    <tr>\n",
       "      <th>2</th>\n",
       "      <td>Non Zero Values</td>\n",
       "      <td>Warning</td>\n",
       "      <td>Warning</td>\n",
       "      <td>ComplianceConstraint(Compliance(Zero values,la...</td>\n",
       "      <td>Failure</td>\n",
       "      <td>Value: 0.024668516805427074 does not meet the ...</td>\n",
       "    </tr>\n",
       "    <tr>\n",
       "      <th>3</th>\n",
       "      <td>Non Zero Values</td>\n",
       "      <td>Warning</td>\n",
       "      <td>Warning</td>\n",
       "      <td>ComplianceConstraint(Compliance(Zero values,ag...</td>\n",
       "      <td>Failure</td>\n",
       "      <td>Value: 0.023936170212765957 does not meet the ...</td>\n",
       "    </tr>\n",
       "    <tr>\n",
       "      <th>4</th>\n",
       "      <td>Non Zero Values</td>\n",
       "      <td>Warning</td>\n",
       "      <td>Warning</td>\n",
       "      <td>ComplianceConstraint(Compliance(Zero values,id...</td>\n",
       "      <td>Success</td>\n",
       "      <td></td>\n",
       "    </tr>\n",
       "  </tbody>\n",
       "</table>\n",
       "</div>"
      ],
      "text/plain": [
       "             check check_level check_status  \\\n",
       "0  Non Zero Values     Warning      Warning   \n",
       "1  Non Zero Values     Warning      Warning   \n",
       "2  Non Zero Values     Warning      Warning   \n",
       "3  Non Zero Values     Warning      Warning   \n",
       "4  Non Zero Values     Warning      Warning   \n",
       "\n",
       "                                          constraint constraint_status  \\\n",
       "0  ComplianceConstraint(Compliance(Zero values,sd...           Success   \n",
       "1  ComplianceConstraint(Compliance(Zero values,la...           Failure   \n",
       "2  ComplianceConstraint(Compliance(Zero values,la...           Failure   \n",
       "3  ComplianceConstraint(Compliance(Zero values,ag...           Failure   \n",
       "4  ComplianceConstraint(Compliance(Zero values,id...           Success   \n",
       "\n",
       "                                  constraint_message  \n",
       "0                                                     \n",
       "1  Value: 0.3996685168054271 does not meet the co...  \n",
       "2  Value: 0.024668516805427074 does not meet the ...  \n",
       "3  Value: 0.023936170212765957 does not meet the ...  \n",
       "4                                                     "
      ]
     },
     "execution_count": 21,
     "metadata": {},
     "output_type": "execute_result"
    }
   ],
   "source": [
    "#TODO: Write your code here\n",
    "checkResult = VerificationSuite(spark) \\\n",
    "                    .onData(df) \\\n",
    "                    .addCheck(\n",
    "                    Check(spark,CheckLevel.Warning, \"Non Zero Values\")\\\n",
    "                    .satisfies(\"sdg == 0\", \"Zero values\", lambda x: x==0)\\\n",
    "                    .satisfies(\"labels_negative == 0\", \"Zero values\", lambda x: x==0)\\\n",
    "                    .satisfies(\"labels_positive == 0\", \"Zero values\", lambda x: x==0)\\\n",
    "                    .satisfies(\"agreement == 0\", \"Zero values\", lambda x: x==0)\\\n",
    "                    .satisfies(\"id == 0\", \"Zero values\", lambda x: x==0)\\\n",
    "                    )\\\n",
    "                    .run()\n",
    "\n",
    "checkResult_df = VerificationResult.checkResultsAsDataFrame(spark, checkResult)\n",
    "checkResult_df.toPandas()"
   ]
  },
  {
   "cell_type": "markdown",
   "metadata": {
    "id": "bThOkXQ2DDKH"
   },
   "source": [
    "## Test 3 - Negative values ➖️\n",
    "Checking that all values in the data are positive.\n"
   ]
  },
  {
   "cell_type": "code",
   "execution_count": 22,
   "metadata": {
    "colab": {
     "base_uri": "https://localhost:8080/",
     "height": 269
    },
    "id": "uCbivSPkDDKI",
    "outputId": "9bc64832-1fca-4b0a-fced-37eb248797b6"
   },
   "outputs": [
    {
     "data": {
      "text/html": [
       "<div>\n",
       "<style scoped>\n",
       "    .dataframe tbody tr th:only-of-type {\n",
       "        vertical-align: middle;\n",
       "    }\n",
       "\n",
       "    .dataframe tbody tr th {\n",
       "        vertical-align: top;\n",
       "    }\n",
       "\n",
       "    .dataframe thead th {\n",
       "        text-align: right;\n",
       "    }\n",
       "</style>\n",
       "<table border=\"1\" class=\"dataframe\">\n",
       "  <thead>\n",
       "    <tr style=\"text-align: right;\">\n",
       "      <th></th>\n",
       "      <th>check</th>\n",
       "      <th>check_level</th>\n",
       "      <th>check_status</th>\n",
       "      <th>constraint</th>\n",
       "      <th>constraint_status</th>\n",
       "      <th>constraint_message</th>\n",
       "    </tr>\n",
       "  </thead>\n",
       "  <tbody>\n",
       "    <tr>\n",
       "      <th>0</th>\n",
       "      <td>Non Negative Values</td>\n",
       "      <td>Warning</td>\n",
       "      <td>Success</td>\n",
       "      <td>ComplianceConstraint(Compliance(sdg is non-neg...</td>\n",
       "      <td>Success</td>\n",
       "      <td></td>\n",
       "    </tr>\n",
       "    <tr>\n",
       "      <th>1</th>\n",
       "      <td>Non Negative Values</td>\n",
       "      <td>Warning</td>\n",
       "      <td>Success</td>\n",
       "      <td>ComplianceConstraint(Compliance(labels_negativ...</td>\n",
       "      <td>Success</td>\n",
       "      <td></td>\n",
       "    </tr>\n",
       "    <tr>\n",
       "      <th>2</th>\n",
       "      <td>Non Negative Values</td>\n",
       "      <td>Warning</td>\n",
       "      <td>Success</td>\n",
       "      <td>ComplianceConstraint(Compliance(labels_positiv...</td>\n",
       "      <td>Success</td>\n",
       "      <td></td>\n",
       "    </tr>\n",
       "    <tr>\n",
       "      <th>3</th>\n",
       "      <td>Non Negative Values</td>\n",
       "      <td>Warning</td>\n",
       "      <td>Success</td>\n",
       "      <td>ComplianceConstraint(Compliance(agreement is n...</td>\n",
       "      <td>Success</td>\n",
       "      <td></td>\n",
       "    </tr>\n",
       "    <tr>\n",
       "      <th>4</th>\n",
       "      <td>Non Negative Values</td>\n",
       "      <td>Warning</td>\n",
       "      <td>Success</td>\n",
       "      <td>ComplianceConstraint(Compliance(id is non-nega...</td>\n",
       "      <td>Success</td>\n",
       "      <td></td>\n",
       "    </tr>\n",
       "  </tbody>\n",
       "</table>\n",
       "</div>"
      ],
      "text/plain": [
       "                 check check_level check_status  \\\n",
       "0  Non Negative Values     Warning      Success   \n",
       "1  Non Negative Values     Warning      Success   \n",
       "2  Non Negative Values     Warning      Success   \n",
       "3  Non Negative Values     Warning      Success   \n",
       "4  Non Negative Values     Warning      Success   \n",
       "\n",
       "                                          constraint constraint_status  \\\n",
       "0  ComplianceConstraint(Compliance(sdg is non-neg...           Success   \n",
       "1  ComplianceConstraint(Compliance(labels_negativ...           Success   \n",
       "2  ComplianceConstraint(Compliance(labels_positiv...           Success   \n",
       "3  ComplianceConstraint(Compliance(agreement is n...           Success   \n",
       "4  ComplianceConstraint(Compliance(id is non-nega...           Success   \n",
       "\n",
       "  constraint_message  \n",
       "0                     \n",
       "1                     \n",
       "2                     \n",
       "3                     \n",
       "4                     "
      ]
     },
     "execution_count": 22,
     "metadata": {},
     "output_type": "execute_result"
    }
   ],
   "source": [
    "#TODO: Write your code here\n",
    "#Check for Negative values\n",
    "checkResult = VerificationSuite(spark) \\\n",
    "                    .onData(df) \\\n",
    "                    .addCheck(\n",
    "                    Check(spark,CheckLevel.Warning, \"Non Negative Values\")\\\n",
    "                    .isNonNegative('sdg')\\\n",
    "                    .isNonNegative('labels_negative')\\\n",
    "                    .isNonNegative('labels_positive')\\\n",
    "                    .isNonNegative('agreement')\\\n",
    "                    .isNonNegative('id')\\\n",
    "                    )\\\n",
    "                    .run()\n",
    "\n",
    "checkResult_df = VerificationResult.checkResultsAsDataFrame(spark, checkResult)\n",
    "checkResult_df.toPandas()\n"
   ]
  },
  {
   "cell_type": "markdown",
   "metadata": {
    "id": "1LFgEe1yDDKJ"
   },
   "source": [
    "## Test 4 - Determine Maximum Values ⚠️\n",
    "We want to find the maximum values in the dataset for the numerical fields. Extremum values can often be used to define an upper bound for the column values so we can define them as the threshold values."
   ]
  },
  {
   "cell_type": "code",
   "execution_count": 23,
   "metadata": {
    "colab": {
     "base_uri": "https://localhost:8080/"
    },
    "id": "JMMhyLiJDDKJ",
    "outputId": "a1b4c054-bcab-4467-cac1-43eff4605edb"
   },
   "outputs": [
    {
     "name": "stdout",
     "output_type": "stream",
     "text": [
      "Column: 'sdg'\n",
      "\t Maximum Value: 15.0\n",
      "Column: 'agreement'\n",
      "\t Maximum Value: 1.0\n",
      "Column: 'labels_positive'\n",
      "\t Maximum Value: 925.0\n",
      "Column: 'id'\n",
      "\t Maximum Value: 25944.0\n",
      "Column: 'labels_negative'\n",
      "\t Maximum Value: 837.0\n"
     ]
    }
   ],
   "source": [
    "#TODO: Write your code here\n",
    "num_cols = ['sdg','labels_negative','labels_positive','agreement','id']\n",
    "\n",
    "result = ColumnProfilerRunner(spark) \\\n",
    "    .onData(df) \\\n",
    "    .run()\n",
    "\n",
    "for col, profile in result.profiles.items():\n",
    "    #print(col,profile)\n",
    "  if col in num_cols:\n",
    "       print(f'Column: \\'{col}\\'')\n",
    "       print('\\t',f'Maximum Value: {profile.maximum}')"
   ]
  },
  {
   "cell_type": "markdown",
   "metadata": {
    "id": "w76O1xRQDDKM"
   },
   "source": [
    "## Test 5 - Duplication 👥️\n",
    "Lastly, we want to determine the uniqueness of the items found in the dataframe. \n",
    "\n",
    "The first thing to check will be if the primary key values within the dataset are unique - in our case, that will be a combination of the **text_id** and the **id**. Secondly, we want to check if the entries are all unique, which is done by checking for duplicates across that whole dataset."
   ]
  },
  {
   "cell_type": "code",
   "execution_count": 24,
   "metadata": {
    "colab": {
     "base_uri": "https://localhost:8080/",
     "height": 81
    },
    "id": "64PGs6w_DDKM",
    "outputId": "c8ccec43-e256-4c33-9edc-4ccf7086b4a8"
   },
   "outputs": [
    {
     "data": {
      "text/html": [
       "<div>\n",
       "<style scoped>\n",
       "    .dataframe tbody tr th:only-of-type {\n",
       "        vertical-align: middle;\n",
       "    }\n",
       "\n",
       "    .dataframe tbody tr th {\n",
       "        vertical-align: top;\n",
       "    }\n",
       "\n",
       "    .dataframe thead th {\n",
       "        text-align: right;\n",
       "    }\n",
       "</style>\n",
       "<table border=\"1\" class=\"dataframe\">\n",
       "  <thead>\n",
       "    <tr style=\"text-align: right;\">\n",
       "      <th></th>\n",
       "      <th>check</th>\n",
       "      <th>check_level</th>\n",
       "      <th>check_status</th>\n",
       "      <th>constraint</th>\n",
       "      <th>constraint_status</th>\n",
       "      <th>constraint_message</th>\n",
       "    </tr>\n",
       "  </thead>\n",
       "  <tbody>\n",
       "    <tr>\n",
       "      <th>0</th>\n",
       "      <td>Unique Values</td>\n",
       "      <td>Error</td>\n",
       "      <td>Success</td>\n",
       "      <td>UniquenessConstraint(Uniqueness(Stream(text_id...</td>\n",
       "      <td>Success</td>\n",
       "      <td></td>\n",
       "    </tr>\n",
       "  </tbody>\n",
       "</table>\n",
       "</div>"
      ],
      "text/plain": [
       "           check check_level check_status  \\\n",
       "0  Unique Values       Error      Success   \n",
       "\n",
       "                                          constraint constraint_status  \\\n",
       "0  UniquenessConstraint(Uniqueness(Stream(text_id...           Success   \n",
       "\n",
       "  constraint_message  \n",
       "0                     "
      ]
     },
     "execution_count": 24,
     "metadata": {},
     "output_type": "execute_result"
    }
   ],
   "source": [
    "#TODO: Write your code here\n",
    "checkResult = VerificationSuite(spark) \\\n",
    "                    .onData(df) \\\n",
    "                    .addCheck(\n",
    "                    Check(spark,CheckLevel.Error, \"Unique Values\")\\\n",
    "                    .hasUniqueness((\"text_id\",\"id\"), lambda x: x == 1)\\\n",
    "                    )\\\n",
    "                    .run()\n",
    "\n",
    "checkResult_df = VerificationResult.checkResultsAsDataFrame(spark, checkResult)\n",
    "checkResult_df.toPandas()\n"
   ]
  },
  {
   "cell_type": "code",
   "execution_count": null,
   "metadata": {},
   "outputs": [],
   "source": []
  }
 ],
 "metadata": {
  "colab": {
   "name": "Data_deequ_tests_student_version.ipynb",
   "provenance": []
  },
  "interpreter": {
   "hash": "0b41f59b882618484a4d28c089dca4efdf4ffb1e043e654ec6730d7439b802f5"
  },
  "kernelspec": {
   "display_name": "Python 3 (ipykernel)",
   "language": "python",
   "name": "python3"
  },
  "language_info": {
   "codemirror_mode": {
    "name": "ipython",
    "version": 3
   },
   "file_extension": ".py",
   "mimetype": "text/x-python",
   "name": "python",
   "nbconvert_exporter": "python",
   "pygments_lexer": "ipython3",
   "version": "3.9.7"
  }
 },
 "nbformat": 4,
 "nbformat_minor": 1
}
