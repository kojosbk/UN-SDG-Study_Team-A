{
  "cells": [
    {
      "cell_type": "markdown",
      "metadata": {
        "id": "EV8k1rFpDDJs"
      },
      "source": [
        "# **Data Quality Verification - Deequ Analysis**\n",
        "A library for measuring the data quality of large datasets. "
      ]
    },
    {
      "cell_type": "markdown",
      "metadata": {
        "id": "DgkbyMo3RYQ3"
      },
      "source": [
        "\n",
        "\n",
        "![](https://www.amurta.com/wp-content/uploads/2021/08/Infographics-The-6-Dimensions-of-Data-Quality-01.png)\n",
        "\n",
        "# <a id=\"contents\">Table of Contents</a><br>\n",
        "1. [**Importing Dependencies**](#Import_dependencies)\n",
        "  \n",
        "     \n",
        "    \n",
        "2. [**Read Data into Spark DataFrame**](#preprocessing)\n",
        ">   2.1 Import as CSV <br>\n",
        "    2.2 Convert into Spark Dataframe<br>\n",
        "    2.3 Display Dataset schemas<br>\n",
        "   \n",
        "3. **Data Quality Checks**<br>\n",
        ">   3.1 [**Null Values Check**](#Null_Values)<br>\n",
        "    3.2 [**Zero Values Check**](#Zero_Values)<br>\n",
        "    3.3 [**Negative Values Check**](#Negative_Values)<br>\n",
        "    3.4 [**Determine Maximum Values**](#Maximum_Values)<br>\n",
        "    3.5 [**Duplications Check**](#Duplications)<br>\n",
        "    \n",
        "    \n",
        "5. [**Conclusion and Recommendation**](#Conclusion/Recommendation) <br>\n",
        "   > 5.1 [**Conclusion**](#Conclusion) <br>\n",
        "     5.2 [**Recommendation**](#Recommendation) <br><br>\n"
      ]
    },
    {
      "cell_type": "markdown",
      "metadata": {
        "id": "USKopMYSDDJ0"
      },
      "source": [
        "## Import_dependencies"
      ]
    },
    {
      "cell_type": "code",
      "execution_count": null,
      "metadata": {
        "id": "gkJ3tG1uDDJ6",
        "outputId": "41ef1c3d-46f3-46a1-aabf-14668a6c0f91"
      },
      "outputs": [
        {
          "name": "stderr",
          "output_type": "stream",
          "text": [
            "Please set env variable SPARK_VERSION\n"
          ]
        }
      ],
      "source": [
        "import pandas as pd\n",
        "import numpy as np\n",
        "import matplotlib.pyplot as plt\n",
        "import pydeequ\n",
        "from pydeequ.analyzers import *\n",
        "from pydeequ.profiles import *\n",
        "from pydeequ.suggestions import *\n",
        "from pydeequ.checks import *\n",
        "from pydeequ.verification import *\n",
        "\n",
        "from pyspark.sql import SparkSession\n",
        "from pyspark.sql import functions as F\n",
        "from pyspark.sql.types import DecimalType, DoubleType, IntegerType, DateType, NumericType, StructType, StringType, StructField"
      ]
    },
    {
      "cell_type": "code",
      "execution_count": null,
      "metadata": {
        "id": "TBSOZ7X5DDJ7"
      },
      "outputs": [],
      "source": [
        "spark = (SparkSession\n",
        "    .builder\n",
        "    .config(\"spark.jars.packages\", pydeequ.deequ_maven_coord)\n",
        "    .config(\"spark.jars.excludes\", pydeequ.f2j_maven_coord)\n",
        "    .getOrCreate())"
      ]
    },
    {
      "cell_type": "markdown",
      "metadata": {
        "id": "-kS0lOcBJegT"
      },
      "source": [
        "## Read data into spark dataframe"
      ]
    },
    {
      "cell_type": "code",
      "execution_count": null,
      "metadata": {
        "id": "4Ao6fv5TDDJ-"
      },
      "outputs": [],
      "source": [
        "#Read Test file\n",
        "df_test_pandas = pd.read_csv('test.csv')\n",
        "df_test = spark.createDataFrame(df_test_pandas)\n",
        "\n",
        "#Read Train file\n",
        "df_train_pandas = pd.read_csv('train.csv')\n",
        "df_train = spark.createDataFrame(df_train_pandas)\n",
        "\n"
      ]
    },
    {
      "cell_type": "code",
      "execution_count": null,
      "metadata": {
        "colab": {
          "base_uri": "https://localhost:8080/"
        },
        "id": "lwatwP7zJege",
        "outputId": "fb379007-154e-476f-c9e6-771fc17c7a8b"
      },
      "outputs": [
        {
          "name": "stdout",
          "output_type": "stream",
          "text": [
            "TEST FILE SCHEMA:\n",
            "root\n",
            " |-- doi: string (nullable = true)\n",
            " |-- text_id: string (nullable = true)\n",
            " |-- text: string (nullable = true)\n",
            " |-- labels_negative: long (nullable = true)\n",
            " |-- labels_positive: long (nullable = true)\n",
            " |-- agreement: double (nullable = true)\n",
            " |-- id: long (nullable = true)\n",
            "\n",
            "TRAIN FILE SCHEMA:\n",
            "root\n",
            " |-- doi: string (nullable = true)\n",
            " |-- text_id: string (nullable = true)\n",
            " |-- text: string (nullable = true)\n",
            " |-- sdg: long (nullable = true)\n",
            " |-- labels_negative: long (nullable = true)\n",
            " |-- labels_positive: long (nullable = true)\n",
            " |-- agreement: double (nullable = true)\n",
            " |-- id: long (nullable = true)\n",
            "\n"
          ]
        }
      ],
      "source": [
        "#Viewing the schema the data originally comes in\n",
        "\n",
        "print(\"TEST FILE SCHEMA:\")\n",
        "df_test.printSchema() \n",
        "\n",
        "print(\"TRAIN FILE SCHEMA:\")\n",
        "df_train.printSchema()"
      ]
    },
    {
      "cell_type": "markdown",
      "metadata": {
        "id": "xOvTERqKZ_Nu"
      },
      "source": [
        "## **Data Quality Checks**"
      ]
    },
    {
      "cell_type": "markdown",
      "metadata": {
        "id": "pi0etV9NDDKC"
      },
      "source": [
        "# Null_Values\n",
        "Checking the data for completeness."
      ]
    },
    {
      "cell_type": "code",
      "execution_count": null,
      "metadata": {
        "id": "6uZbUlw9MEGK"
      },
      "outputs": [],
      "source": [
        "def test_nulltest(data):\n",
        "  checkResult = VerificationSuite(spark) \\\n",
        "                    .onData(data) \\\n",
        "                    .addCheck(\n",
        "                    Check(spark,CheckLevel.Warning, \"missing values\")\\\n",
        "                    .isComplete('doi')\\\n",
        "                    .isComplete('text_id')\\\n",
        "                    .isComplete('text')\\\n",
        "                    .isComplete('labels_negative')\\\n",
        "                    .isComplete('labels_positive')\\\n",
        "                    .isComplete('agreement')\\\n",
        "                    .isComplete('id')\\\n",
        "                    .areComplete(data.columns))\\\n",
        "                    .run()\n",
        "\n",
        "  checkResult_df = VerificationResult.checkResultsAsDataFrame(spark, checkResult)\n",
        "  return checkResult_df.toPandas()"
      ]
    },
    {
      "cell_type": "code",
      "execution_count": null,
      "metadata": {
        "colab": {
          "base_uri": "https://localhost:8080/",
          "height": 300
        },
        "id": "a2IC2bg4NAc2",
        "outputId": "5f2ba013-8697-4c7b-9f7d-a69d367cb29b"
      },
      "outputs": [
        {
          "data": {
            "text/html": [
              "<div>\n",
              "<style scoped>\n",
              "    .dataframe tbody tr th:only-of-type {\n",
              "        vertical-align: middle;\n",
              "    }\n",
              "\n",
              "    .dataframe tbody tr th {\n",
              "        vertical-align: top;\n",
              "    }\n",
              "\n",
              "    .dataframe thead th {\n",
              "        text-align: right;\n",
              "    }\n",
              "</style>\n",
              "<table border=\"1\" class=\"dataframe\">\n",
              "  <thead>\n",
              "    <tr style=\"text-align: right;\">\n",
              "      <th></th>\n",
              "      <th>check</th>\n",
              "      <th>check_level</th>\n",
              "      <th>check_status</th>\n",
              "      <th>constraint</th>\n",
              "      <th>constraint_status</th>\n",
              "      <th>constraint_message</th>\n",
              "    </tr>\n",
              "  </thead>\n",
              "  <tbody>\n",
              "    <tr>\n",
              "      <th>0</th>\n",
              "      <td>missing values</td>\n",
              "      <td>Warning</td>\n",
              "      <td>Success</td>\n",
              "      <td>CompletenessConstraint(Completeness(doi,None))</td>\n",
              "      <td>Success</td>\n",
              "      <td></td>\n",
              "    </tr>\n",
              "    <tr>\n",
              "      <th>1</th>\n",
              "      <td>missing values</td>\n",
              "      <td>Warning</td>\n",
              "      <td>Success</td>\n",
              "      <td>CompletenessConstraint(Completeness(text_id,No...</td>\n",
              "      <td>Success</td>\n",
              "      <td></td>\n",
              "    </tr>\n",
              "    <tr>\n",
              "      <th>2</th>\n",
              "      <td>missing values</td>\n",
              "      <td>Warning</td>\n",
              "      <td>Success</td>\n",
              "      <td>CompletenessConstraint(Completeness(text,None))</td>\n",
              "      <td>Success</td>\n",
              "      <td></td>\n",
              "    </tr>\n",
              "    <tr>\n",
              "      <th>3</th>\n",
              "      <td>missing values</td>\n",
              "      <td>Warning</td>\n",
              "      <td>Success</td>\n",
              "      <td>CompletenessConstraint(Completeness(labels_neg...</td>\n",
              "      <td>Success</td>\n",
              "      <td></td>\n",
              "    </tr>\n",
              "    <tr>\n",
              "      <th>4</th>\n",
              "      <td>missing values</td>\n",
              "      <td>Warning</td>\n",
              "      <td>Success</td>\n",
              "      <td>CompletenessConstraint(Completeness(labels_pos...</td>\n",
              "      <td>Success</td>\n",
              "      <td></td>\n",
              "    </tr>\n",
              "    <tr>\n",
              "      <th>5</th>\n",
              "      <td>missing values</td>\n",
              "      <td>Warning</td>\n",
              "      <td>Success</td>\n",
              "      <td>CompletenessConstraint(Completeness(agreement,...</td>\n",
              "      <td>Success</td>\n",
              "      <td></td>\n",
              "    </tr>\n",
              "    <tr>\n",
              "      <th>6</th>\n",
              "      <td>missing values</td>\n",
              "      <td>Warning</td>\n",
              "      <td>Success</td>\n",
              "      <td>CompletenessConstraint(Completeness(id,None))</td>\n",
              "      <td>Success</td>\n",
              "      <td></td>\n",
              "    </tr>\n",
              "    <tr>\n",
              "      <th>7</th>\n",
              "      <td>missing values</td>\n",
              "      <td>Warning</td>\n",
              "      <td>Success</td>\n",
              "      <td>ComplianceConstraint(Compliance(Combined Compl...</td>\n",
              "      <td>Success</td>\n",
              "      <td></td>\n",
              "    </tr>\n",
              "  </tbody>\n",
              "</table>\n",
              "</div>"
            ],
            "text/plain": [
              "            check check_level check_status  \\\n",
              "0  missing values     Warning      Success   \n",
              "1  missing values     Warning      Success   \n",
              "2  missing values     Warning      Success   \n",
              "3  missing values     Warning      Success   \n",
              "4  missing values     Warning      Success   \n",
              "5  missing values     Warning      Success   \n",
              "6  missing values     Warning      Success   \n",
              "7  missing values     Warning      Success   \n",
              "\n",
              "                                          constraint constraint_status  \\\n",
              "0     CompletenessConstraint(Completeness(doi,None))           Success   \n",
              "1  CompletenessConstraint(Completeness(text_id,No...           Success   \n",
              "2    CompletenessConstraint(Completeness(text,None))           Success   \n",
              "3  CompletenessConstraint(Completeness(labels_neg...           Success   \n",
              "4  CompletenessConstraint(Completeness(labels_pos...           Success   \n",
              "5  CompletenessConstraint(Completeness(agreement,...           Success   \n",
              "6      CompletenessConstraint(Completeness(id,None))           Success   \n",
              "7  ComplianceConstraint(Compliance(Combined Compl...           Success   \n",
              "\n",
              "  constraint_message  \n",
              "0                     \n",
              "1                     \n",
              "2                     \n",
              "3                     \n",
              "4                     \n",
              "5                     \n",
              "6                     \n",
              "7                     "
            ]
          },
          "execution_count": 11,
          "metadata": {},
          "output_type": "execute_result"
        }
      ],
      "source": [
        "# Null values check for Test file\n",
        "test_nulltest(df_test)"
      ]
    },
    {
      "cell_type": "code",
      "execution_count": null,
      "metadata": {
        "id": "NCD-3RBpZ_Ny",
        "outputId": "9729594f-f217-4232-d8f7-06e02fa43377"
      },
      "outputs": [
        {
          "data": {
            "text/html": [
              "<div>\n",
              "<style scoped>\n",
              "    .dataframe tbody tr th:only-of-type {\n",
              "        vertical-align: middle;\n",
              "    }\n",
              "\n",
              "    .dataframe tbody tr th {\n",
              "        vertical-align: top;\n",
              "    }\n",
              "\n",
              "    .dataframe thead th {\n",
              "        text-align: right;\n",
              "    }\n",
              "</style>\n",
              "<table border=\"1\" class=\"dataframe\">\n",
              "  <thead>\n",
              "    <tr style=\"text-align: right;\">\n",
              "      <th></th>\n",
              "      <th>check</th>\n",
              "      <th>check_level</th>\n",
              "      <th>check_status</th>\n",
              "      <th>constraint</th>\n",
              "      <th>constraint_status</th>\n",
              "      <th>constraint_message</th>\n",
              "    </tr>\n",
              "  </thead>\n",
              "  <tbody>\n",
              "    <tr>\n",
              "      <th>0</th>\n",
              "      <td>missing values</td>\n",
              "      <td>Warning</td>\n",
              "      <td>Success</td>\n",
              "      <td>CompletenessConstraint(Completeness(doi,None))</td>\n",
              "      <td>Success</td>\n",
              "      <td></td>\n",
              "    </tr>\n",
              "    <tr>\n",
              "      <th>1</th>\n",
              "      <td>missing values</td>\n",
              "      <td>Warning</td>\n",
              "      <td>Success</td>\n",
              "      <td>CompletenessConstraint(Completeness(text_id,No...</td>\n",
              "      <td>Success</td>\n",
              "      <td></td>\n",
              "    </tr>\n",
              "    <tr>\n",
              "      <th>2</th>\n",
              "      <td>missing values</td>\n",
              "      <td>Warning</td>\n",
              "      <td>Success</td>\n",
              "      <td>CompletenessConstraint(Completeness(text,None))</td>\n",
              "      <td>Success</td>\n",
              "      <td></td>\n",
              "    </tr>\n",
              "    <tr>\n",
              "      <th>3</th>\n",
              "      <td>missing values</td>\n",
              "      <td>Warning</td>\n",
              "      <td>Success</td>\n",
              "      <td>CompletenessConstraint(Completeness(labels_neg...</td>\n",
              "      <td>Success</td>\n",
              "      <td></td>\n",
              "    </tr>\n",
              "    <tr>\n",
              "      <th>4</th>\n",
              "      <td>missing values</td>\n",
              "      <td>Warning</td>\n",
              "      <td>Success</td>\n",
              "      <td>CompletenessConstraint(Completeness(labels_pos...</td>\n",
              "      <td>Success</td>\n",
              "      <td></td>\n",
              "    </tr>\n",
              "    <tr>\n",
              "      <th>5</th>\n",
              "      <td>missing values</td>\n",
              "      <td>Warning</td>\n",
              "      <td>Success</td>\n",
              "      <td>CompletenessConstraint(Completeness(agreement,...</td>\n",
              "      <td>Success</td>\n",
              "      <td></td>\n",
              "    </tr>\n",
              "    <tr>\n",
              "      <th>6</th>\n",
              "      <td>missing values</td>\n",
              "      <td>Warning</td>\n",
              "      <td>Success</td>\n",
              "      <td>CompletenessConstraint(Completeness(id,None))</td>\n",
              "      <td>Success</td>\n",
              "      <td></td>\n",
              "    </tr>\n",
              "    <tr>\n",
              "      <th>7</th>\n",
              "      <td>missing values</td>\n",
              "      <td>Warning</td>\n",
              "      <td>Success</td>\n",
              "      <td>ComplianceConstraint(Compliance(Combined Compl...</td>\n",
              "      <td>Success</td>\n",
              "      <td></td>\n",
              "    </tr>\n",
              "  </tbody>\n",
              "</table>\n",
              "</div>"
            ],
            "text/plain": [
              "            check check_level check_status  \\\n",
              "0  missing values     Warning      Success   \n",
              "1  missing values     Warning      Success   \n",
              "2  missing values     Warning      Success   \n",
              "3  missing values     Warning      Success   \n",
              "4  missing values     Warning      Success   \n",
              "5  missing values     Warning      Success   \n",
              "6  missing values     Warning      Success   \n",
              "7  missing values     Warning      Success   \n",
              "\n",
              "                                          constraint constraint_status  \\\n",
              "0     CompletenessConstraint(Completeness(doi,None))           Success   \n",
              "1  CompletenessConstraint(Completeness(text_id,No...           Success   \n",
              "2    CompletenessConstraint(Completeness(text,None))           Success   \n",
              "3  CompletenessConstraint(Completeness(labels_neg...           Success   \n",
              "4  CompletenessConstraint(Completeness(labels_pos...           Success   \n",
              "5  CompletenessConstraint(Completeness(agreement,...           Success   \n",
              "6      CompletenessConstraint(Completeness(id,None))           Success   \n",
              "7  ComplianceConstraint(Compliance(Combined Compl...           Success   \n",
              "\n",
              "  constraint_message  \n",
              "0                     \n",
              "1                     \n",
              "2                     \n",
              "3                     \n",
              "4                     \n",
              "5                     \n",
              "6                     \n",
              "7                     "
            ]
          },
          "execution_count": 12,
          "metadata": {},
          "output_type": "execute_result"
        }
      ],
      "source": [
        "# Null values check for Train file\n",
        "test_nulltest(df_train)"
      ]
    },
    {
      "cell_type": "markdown",
      "metadata": {
        "id": "Low_wGUrDDKF"
      },
      "source": [
        "## Zero_Values\n",
        "\n",
        "Checking for zero values within the dataset."
      ]
    },
    {
      "cell_type": "code",
      "execution_count": null,
      "metadata": {
        "id": "SX_81mhBNuG9"
      },
      "outputs": [],
      "source": [
        "def test_zerotest(data):\n",
        "  checkResult = VerificationSuite(spark) \\\n",
        "                    .onData(data) \\\n",
        "                    .addCheck(\n",
        "                    Check(spark,CheckLevel.Warning, \"Non Zero Values\")\\\n",
        "                    .satisfies(\"labels_negative == 0\", \"Zero values\", lambda x: x==0)\\\n",
        "                    .satisfies(\"labels_positive == 0\", \"Zero values\", lambda x: x==0)\\\n",
        "                    .satisfies(\"agreement == 0\", \"Zero values\", lambda x: x==0)\\\n",
        "                    .satisfies(\"id == 0\", \"Zero values\", lambda x: x==0)\\\n",
        "                    .satisfies(\"sdg == 0\", \"Zero values\", lambda x: x==0)\\\n",
        "                    )\\\n",
        "                    .run()\n",
        "\n",
        "  checkResult_df = VerificationResult.checkResultsAsDataFrame(spark, checkResult)\n",
        "  return checkResult_df.toPandas()"
      ]
    },
    {
      "cell_type": "code",
      "execution_count": null,
      "metadata": {
        "colab": {
          "base_uri": "https://localhost:8080/",
          "height": 306
        },
        "id": "4fUkiBlzOBee",
        "outputId": "fdd64ac4-8b98-437d-d460-b6632ecf9b72"
      },
      "outputs": [
        {
          "name": "stdout",
          "output_type": "stream",
          "text": [
            "Python Callback server started!\n"
          ]
        },
        {
          "data": {
            "text/html": [
              "<div>\n",
              "<style scoped>\n",
              "    .dataframe tbody tr th:only-of-type {\n",
              "        vertical-align: middle;\n",
              "    }\n",
              "\n",
              "    .dataframe tbody tr th {\n",
              "        vertical-align: top;\n",
              "    }\n",
              "\n",
              "    .dataframe thead th {\n",
              "        text-align: right;\n",
              "    }\n",
              "</style>\n",
              "<table border=\"1\" class=\"dataframe\">\n",
              "  <thead>\n",
              "    <tr style=\"text-align: right;\">\n",
              "      <th></th>\n",
              "      <th>check</th>\n",
              "      <th>check_level</th>\n",
              "      <th>check_status</th>\n",
              "      <th>constraint</th>\n",
              "      <th>constraint_status</th>\n",
              "      <th>constraint_message</th>\n",
              "    </tr>\n",
              "  </thead>\n",
              "  <tbody>\n",
              "    <tr>\n",
              "      <th>0</th>\n",
              "      <td>Non Zero Values</td>\n",
              "      <td>Warning</td>\n",
              "      <td>Warning</td>\n",
              "      <td>ComplianceConstraint(Compliance(Zero values,la...</td>\n",
              "      <td>Failure</td>\n",
              "      <td>Value: 0.39571450593494684 does not meet the c...</td>\n",
              "    </tr>\n",
              "    <tr>\n",
              "      <th>1</th>\n",
              "      <td>Non Zero Values</td>\n",
              "      <td>Warning</td>\n",
              "      <td>Warning</td>\n",
              "      <td>ComplianceConstraint(Compliance(Zero values,la...</td>\n",
              "      <td>Failure</td>\n",
              "      <td>Value: 0.026360413133960228 does not meet the ...</td>\n",
              "    </tr>\n",
              "    <tr>\n",
              "      <th>2</th>\n",
              "      <td>Non Zero Values</td>\n",
              "      <td>Warning</td>\n",
              "      <td>Warning</td>\n",
              "      <td>ComplianceConstraint(Compliance(Zero values,ag...</td>\n",
              "      <td>Failure</td>\n",
              "      <td>Value: 0.026668722059503623 does not meet the ...</td>\n",
              "    </tr>\n",
              "    <tr>\n",
              "      <th>3</th>\n",
              "      <td>Non Zero Values</td>\n",
              "      <td>Warning</td>\n",
              "      <td>Warning</td>\n",
              "      <td>ComplianceConstraint(Compliance(Zero values,id...</td>\n",
              "      <td>Success</td>\n",
              "      <td></td>\n",
              "    </tr>\n",
              "  </tbody>\n",
              "</table>\n",
              "</div>"
            ],
            "text/plain": [
              "             check check_level check_status  \\\n",
              "0  Non Zero Values     Warning      Warning   \n",
              "1  Non Zero Values     Warning      Warning   \n",
              "2  Non Zero Values     Warning      Warning   \n",
              "3  Non Zero Values     Warning      Warning   \n",
              "\n",
              "                                          constraint constraint_status  \\\n",
              "0  ComplianceConstraint(Compliance(Zero values,la...           Failure   \n",
              "1  ComplianceConstraint(Compliance(Zero values,la...           Failure   \n",
              "2  ComplianceConstraint(Compliance(Zero values,ag...           Failure   \n",
              "3  ComplianceConstraint(Compliance(Zero values,id...           Success   \n",
              "\n",
              "                                  constraint_message  \n",
              "0  Value: 0.39571450593494684 does not meet the c...  \n",
              "1  Value: 0.026360413133960228 does not meet the ...  \n",
              "2  Value: 0.026668722059503623 does not meet the ...  \n",
              "3                                                     "
            ]
          },
          "execution_count": 15,
          "metadata": {},
          "output_type": "execute_result"
        }
      ],
      "source": [
        "#Zero values check on Test file\n",
        "test_zerotest(df_test)"
      ]
    },
    {
      "cell_type": "code",
      "execution_count": null,
      "metadata": {
        "id": "wD9NUiPLZ_N1",
        "outputId": "e9749525-9376-4c81-eb5f-423335a3fa66"
      },
      "outputs": [
        {
          "data": {
            "text/html": [
              "<div>\n",
              "<style scoped>\n",
              "    .dataframe tbody tr th:only-of-type {\n",
              "        vertical-align: middle;\n",
              "    }\n",
              "\n",
              "    .dataframe tbody tr th {\n",
              "        vertical-align: top;\n",
              "    }\n",
              "\n",
              "    .dataframe thead th {\n",
              "        text-align: right;\n",
              "    }\n",
              "</style>\n",
              "<table border=\"1\" class=\"dataframe\">\n",
              "  <thead>\n",
              "    <tr style=\"text-align: right;\">\n",
              "      <th></th>\n",
              "      <th>check</th>\n",
              "      <th>check_level</th>\n",
              "      <th>check_status</th>\n",
              "      <th>constraint</th>\n",
              "      <th>constraint_status</th>\n",
              "      <th>constraint_message</th>\n",
              "    </tr>\n",
              "  </thead>\n",
              "  <tbody>\n",
              "    <tr>\n",
              "      <th>0</th>\n",
              "      <td>Non Zero Values</td>\n",
              "      <td>Warning</td>\n",
              "      <td>Warning</td>\n",
              "      <td>ComplianceConstraint(Compliance(Zero values,la...</td>\n",
              "      <td>Failure</td>\n",
              "      <td>Value: 0.3996685168054271 does not meet the co...</td>\n",
              "    </tr>\n",
              "    <tr>\n",
              "      <th>1</th>\n",
              "      <td>Non Zero Values</td>\n",
              "      <td>Warning</td>\n",
              "      <td>Warning</td>\n",
              "      <td>ComplianceConstraint(Compliance(Zero values,la...</td>\n",
              "      <td>Failure</td>\n",
              "      <td>Value: 0.024668516805427074 does not meet the ...</td>\n",
              "    </tr>\n",
              "    <tr>\n",
              "      <th>2</th>\n",
              "      <td>Non Zero Values</td>\n",
              "      <td>Warning</td>\n",
              "      <td>Warning</td>\n",
              "      <td>ComplianceConstraint(Compliance(Zero values,ag...</td>\n",
              "      <td>Failure</td>\n",
              "      <td>Value: 0.023936170212765957 does not meet the ...</td>\n",
              "    </tr>\n",
              "    <tr>\n",
              "      <th>3</th>\n",
              "      <td>Non Zero Values</td>\n",
              "      <td>Warning</td>\n",
              "      <td>Warning</td>\n",
              "      <td>ComplianceConstraint(Compliance(Zero values,id...</td>\n",
              "      <td>Success</td>\n",
              "      <td></td>\n",
              "    </tr>\n",
              "    <tr>\n",
              "      <th>4</th>\n",
              "      <td>Non Zero Values</td>\n",
              "      <td>Warning</td>\n",
              "      <td>Warning</td>\n",
              "      <td>ComplianceConstraint(Compliance(Zero values,sd...</td>\n",
              "      <td>Success</td>\n",
              "      <td></td>\n",
              "    </tr>\n",
              "  </tbody>\n",
              "</table>\n",
              "</div>"
            ],
            "text/plain": [
              "             check check_level check_status  \\\n",
              "0  Non Zero Values     Warning      Warning   \n",
              "1  Non Zero Values     Warning      Warning   \n",
              "2  Non Zero Values     Warning      Warning   \n",
              "3  Non Zero Values     Warning      Warning   \n",
              "4  Non Zero Values     Warning      Warning   \n",
              "\n",
              "                                          constraint constraint_status  \\\n",
              "0  ComplianceConstraint(Compliance(Zero values,la...           Failure   \n",
              "1  ComplianceConstraint(Compliance(Zero values,la...           Failure   \n",
              "2  ComplianceConstraint(Compliance(Zero values,ag...           Failure   \n",
              "3  ComplianceConstraint(Compliance(Zero values,id...           Success   \n",
              "4  ComplianceConstraint(Compliance(Zero values,sd...           Success   \n",
              "\n",
              "                                  constraint_message  \n",
              "0  Value: 0.3996685168054271 does not meet the co...  \n",
              "1  Value: 0.024668516805427074 does not meet the ...  \n",
              "2  Value: 0.023936170212765957 does not meet the ...  \n",
              "3                                                     \n",
              "4                                                     "
            ]
          },
          "execution_count": 24,
          "metadata": {},
          "output_type": "execute_result"
        }
      ],
      "source": [
        "#Zero values check on Train file\n",
        "test_zerotest(df_train)"
      ]
    },
    {
      "cell_type": "markdown",
      "metadata": {
        "id": "bThOkXQ2DDKH"
      },
      "source": [
        "## Test 3 - Negative values ➖️\n",
        "Checking that all values in the data are positive.\n"
      ]
    },
    {
      "cell_type": "code",
      "execution_count": null,
      "metadata": {
        "id": "-goYRY33OcWC"
      },
      "outputs": [],
      "source": [
        "#TODO: Write your code here\n",
        "#Check for Negative values\n",
        "def test_negative(data):\n",
        "  checkResult = VerificationSuite(spark) \\\n",
        "                    .onData(data) \\\n",
        "                    .addCheck(\n",
        "                    Check(spark,CheckLevel.Warning, \"Non Negative Values\")\\\n",
        "                    .isNonNegative('labels_negative')\\\n",
        "                    .isNonNegative('labels_positive')\\\n",
        "                    .isNonNegative('agreement')\\\n",
        "                    .isNonNegative('id')\\\n",
        "                    .isNonNegative('sdg')\\\n",
        "                    \n",
        "                    )\\\n",
        "                    .run()\n",
        "\n",
        "  checkResult_df = VerificationResult.checkResultsAsDataFrame(spark, checkResult)\n",
        "  return checkResult_df.toPandas()"
      ]
    },
    {
      "cell_type": "code",
      "execution_count": null,
      "metadata": {
        "colab": {
          "base_uri": "https://localhost:8080/",
          "height": 175
        },
        "id": "kph_2qxlO7cK",
        "outputId": "86837025-9780-464d-f1c7-a8d630107d16"
      },
      "outputs": [
        {
          "data": {
            "text/html": [
              "<div>\n",
              "<style scoped>\n",
              "    .dataframe tbody tr th:only-of-type {\n",
              "        vertical-align: middle;\n",
              "    }\n",
              "\n",
              "    .dataframe tbody tr th {\n",
              "        vertical-align: top;\n",
              "    }\n",
              "\n",
              "    .dataframe thead th {\n",
              "        text-align: right;\n",
              "    }\n",
              "</style>\n",
              "<table border=\"1\" class=\"dataframe\">\n",
              "  <thead>\n",
              "    <tr style=\"text-align: right;\">\n",
              "      <th></th>\n",
              "      <th>check</th>\n",
              "      <th>check_level</th>\n",
              "      <th>check_status</th>\n",
              "      <th>constraint</th>\n",
              "      <th>constraint_status</th>\n",
              "      <th>constraint_message</th>\n",
              "    </tr>\n",
              "  </thead>\n",
              "  <tbody>\n",
              "    <tr>\n",
              "      <th>0</th>\n",
              "      <td>Non Negative Values</td>\n",
              "      <td>Warning</td>\n",
              "      <td>Success</td>\n",
              "      <td>ComplianceConstraint(Compliance(labels_negativ...</td>\n",
              "      <td>Success</td>\n",
              "      <td></td>\n",
              "    </tr>\n",
              "    <tr>\n",
              "      <th>1</th>\n",
              "      <td>Non Negative Values</td>\n",
              "      <td>Warning</td>\n",
              "      <td>Success</td>\n",
              "      <td>ComplianceConstraint(Compliance(labels_positiv...</td>\n",
              "      <td>Success</td>\n",
              "      <td></td>\n",
              "    </tr>\n",
              "    <tr>\n",
              "      <th>2</th>\n",
              "      <td>Non Negative Values</td>\n",
              "      <td>Warning</td>\n",
              "      <td>Success</td>\n",
              "      <td>ComplianceConstraint(Compliance(agreement is n...</td>\n",
              "      <td>Success</td>\n",
              "      <td></td>\n",
              "    </tr>\n",
              "    <tr>\n",
              "      <th>3</th>\n",
              "      <td>Non Negative Values</td>\n",
              "      <td>Warning</td>\n",
              "      <td>Success</td>\n",
              "      <td>ComplianceConstraint(Compliance(id is non-nega...</td>\n",
              "      <td>Success</td>\n",
              "      <td></td>\n",
              "    </tr>\n",
              "  </tbody>\n",
              "</table>\n",
              "</div>"
            ],
            "text/plain": [
              "                 check check_level check_status  \\\n",
              "0  Non Negative Values     Warning      Success   \n",
              "1  Non Negative Values     Warning      Success   \n",
              "2  Non Negative Values     Warning      Success   \n",
              "3  Non Negative Values     Warning      Success   \n",
              "\n",
              "                                          constraint constraint_status  \\\n",
              "0  ComplianceConstraint(Compliance(labels_negativ...           Success   \n",
              "1  ComplianceConstraint(Compliance(labels_positiv...           Success   \n",
              "2  ComplianceConstraint(Compliance(agreement is n...           Success   \n",
              "3  ComplianceConstraint(Compliance(id is non-nega...           Success   \n",
              "\n",
              "  constraint_message  \n",
              "0                     \n",
              "1                     \n",
              "2                     \n",
              "3                     "
            ]
          },
          "execution_count": 21,
          "metadata": {},
          "output_type": "execute_result"
        }
      ],
      "source": [
        "#Negative values check on Test file\n",
        "test_negative(df_test)"
      ]
    },
    {
      "cell_type": "code",
      "execution_count": null,
      "metadata": {
        "id": "IxzUPvlnZ_N_",
        "outputId": "10277f0c-477f-4e47-ec55-c5f8776421f0"
      },
      "outputs": [
        {
          "data": {
            "text/html": [
              "<div>\n",
              "<style scoped>\n",
              "    .dataframe tbody tr th:only-of-type {\n",
              "        vertical-align: middle;\n",
              "    }\n",
              "\n",
              "    .dataframe tbody tr th {\n",
              "        vertical-align: top;\n",
              "    }\n",
              "\n",
              "    .dataframe thead th {\n",
              "        text-align: right;\n",
              "    }\n",
              "</style>\n",
              "<table border=\"1\" class=\"dataframe\">\n",
              "  <thead>\n",
              "    <tr style=\"text-align: right;\">\n",
              "      <th></th>\n",
              "      <th>check</th>\n",
              "      <th>check_level</th>\n",
              "      <th>check_status</th>\n",
              "      <th>constraint</th>\n",
              "      <th>constraint_status</th>\n",
              "      <th>constraint_message</th>\n",
              "    </tr>\n",
              "  </thead>\n",
              "  <tbody>\n",
              "    <tr>\n",
              "      <th>0</th>\n",
              "      <td>Non Negative Values</td>\n",
              "      <td>Warning</td>\n",
              "      <td>Success</td>\n",
              "      <td>ComplianceConstraint(Compliance(labels_negativ...</td>\n",
              "      <td>Success</td>\n",
              "      <td></td>\n",
              "    </tr>\n",
              "    <tr>\n",
              "      <th>1</th>\n",
              "      <td>Non Negative Values</td>\n",
              "      <td>Warning</td>\n",
              "      <td>Success</td>\n",
              "      <td>ComplianceConstraint(Compliance(labels_positiv...</td>\n",
              "      <td>Success</td>\n",
              "      <td></td>\n",
              "    </tr>\n",
              "    <tr>\n",
              "      <th>2</th>\n",
              "      <td>Non Negative Values</td>\n",
              "      <td>Warning</td>\n",
              "      <td>Success</td>\n",
              "      <td>ComplianceConstraint(Compliance(agreement is n...</td>\n",
              "      <td>Success</td>\n",
              "      <td></td>\n",
              "    </tr>\n",
              "    <tr>\n",
              "      <th>3</th>\n",
              "      <td>Non Negative Values</td>\n",
              "      <td>Warning</td>\n",
              "      <td>Success</td>\n",
              "      <td>ComplianceConstraint(Compliance(id is non-nega...</td>\n",
              "      <td>Success</td>\n",
              "      <td></td>\n",
              "    </tr>\n",
              "    <tr>\n",
              "      <th>4</th>\n",
              "      <td>Non Negative Values</td>\n",
              "      <td>Warning</td>\n",
              "      <td>Success</td>\n",
              "      <td>ComplianceConstraint(Compliance(sdg is non-neg...</td>\n",
              "      <td>Success</td>\n",
              "      <td></td>\n",
              "    </tr>\n",
              "  </tbody>\n",
              "</table>\n",
              "</div>"
            ],
            "text/plain": [
              "                 check check_level check_status  \\\n",
              "0  Non Negative Values     Warning      Success   \n",
              "1  Non Negative Values     Warning      Success   \n",
              "2  Non Negative Values     Warning      Success   \n",
              "3  Non Negative Values     Warning      Success   \n",
              "4  Non Negative Values     Warning      Success   \n",
              "\n",
              "                                          constraint constraint_status  \\\n",
              "0  ComplianceConstraint(Compliance(labels_negativ...           Success   \n",
              "1  ComplianceConstraint(Compliance(labels_positiv...           Success   \n",
              "2  ComplianceConstraint(Compliance(agreement is n...           Success   \n",
              "3  ComplianceConstraint(Compliance(id is non-nega...           Success   \n",
              "4  ComplianceConstraint(Compliance(sdg is non-neg...           Success   \n",
              "\n",
              "  constraint_message  \n",
              "0                     \n",
              "1                     \n",
              "2                     \n",
              "3                     \n",
              "4                     "
            ]
          },
          "execution_count": 26,
          "metadata": {},
          "output_type": "execute_result"
        }
      ],
      "source": [
        "#Negative values check on Train file\n",
        "test_negative(df_train)"
      ]
    },
    {
      "cell_type": "markdown",
      "metadata": {
        "id": "1LFgEe1yDDKJ"
      },
      "source": [
        "## Test 4 - Determine Maximum Values ⚠️\n",
        "We want to find the maximum values in the dataset for the numerical fields. Extremum values can often be used to define an upper bound for the column values so we can define them as the threshold values."
      ]
    },
    {
      "cell_type": "code",
      "execution_count": null,
      "metadata": {
        "id": "NhAZUx1-PoZT"
      },
      "outputs": [],
      "source": [
        "num_cols = ['sdg','labels_negative','labels_positive','agreement','id']\n",
        "\n",
        "def test_maxvalue(data):\n",
        "  result = ColumnProfilerRunner(spark) \\\n",
        "    .onData(data) \\\n",
        "    .run()\n",
        "\n",
        "  for col, profile in result.profiles.items():\n",
        "    #print(col,profile)\n",
        "    if col in num_cols:\n",
        "        print(f'Column: \\'{col}\\'')\n",
        "        print('\\t',f'Maximum Value: {profile.maximum}')"
      ]
    },
    {
      "cell_type": "code",
      "execution_count": null,
      "metadata": {
        "colab": {
          "base_uri": "https://localhost:8080/"
        },
        "id": "r6qWzJiOQOW9",
        "outputId": "3331ddb0-f526-4e3f-e348-e4402510c534"
      },
      "outputs": [
        {
          "name": "stdout",
          "output_type": "stream",
          "text": [
            "Column: 'agreement'\n",
            "\t Maximum Value: 1.0\n",
            "Column: 'labels_positive'\n",
            "\t Maximum Value: 882.0\n",
            "Column: 'id'\n",
            "\t Maximum Value: 6487.0\n",
            "Column: 'labels_negative'\n",
            "\t Maximum Value: 106.0\n"
          ]
        }
      ],
      "source": [
        "#Maximum Values check for Test file\n",
        "test_maxvalue(df_test)"
      ]
    },
    {
      "cell_type": "code",
      "execution_count": null,
      "metadata": {
        "id": "vxTNVhw6Z_OA",
        "outputId": "a062cdb0-2ccf-43ba-8a9a-b319e059474f"
      },
      "outputs": [
        {
          "name": "stdout",
          "output_type": "stream",
          "text": [
            "Column: 'sdg'\n",
            "\t Maximum Value: 15.0\n",
            "Column: 'agreement'\n",
            "\t Maximum Value: 1.0\n",
            "Column: 'labels_positive'\n",
            "\t Maximum Value: 925.0\n",
            "Column: 'id'\n",
            "\t Maximum Value: 25944.0\n",
            "Column: 'labels_negative'\n",
            "\t Maximum Value: 837.0\n"
          ]
        }
      ],
      "source": [
        "#Maximum Values check for Train file\n",
        "test_maxvalue(df_train)"
      ]
    },
    {
      "cell_type": "markdown",
      "metadata": {
        "id": "w76O1xRQDDKM"
      },
      "source": [
        "## Test 5 - Duplication 👥️\n",
        "Lastly, we want to determine the uniqueness of the items found in the dataframe. \n",
        "\n",
        "The first thing to check will be if the primary key values within the dataset are unique - in our case, that will be a combination of the **text_id** and the **id**. Secondly, we want to check if the entries are all unique, which is done by checking for duplicates across that whole dataset."
      ]
    },
    {
      "cell_type": "code",
      "execution_count": null,
      "metadata": {
        "id": "dhUPk_TGTQVe"
      },
      "outputs": [],
      "source": [
        "def test_duplicates(data):\n",
        "  checkResult = VerificationSuite(spark) \\\n",
        "                    .onData(data) \\\n",
        "                    .addCheck(\n",
        "                    Check(spark,CheckLevel.Error, \"Unique Values\")\\\n",
        "                    .hasUniqueness((\"text_id\",\"id\"), lambda x: x == 1)\\\n",
        "                    )\\\n",
        "                    .run()\n",
        "\n",
        "  checkResult_df = VerificationResult.checkResultsAsDataFrame(spark, checkResult)\n",
        "  return checkResult_df.toPandas()"
      ]
    },
    {
      "cell_type": "code",
      "execution_count": null,
      "metadata": {
        "colab": {
          "base_uri": "https://localhost:8080/",
          "height": 81
        },
        "id": "OWioGqnATlMf",
        "outputId": "c7286860-c93f-415a-ef11-08e0e7d13f77"
      },
      "outputs": [
        {
          "data": {
            "text/html": [
              "<div>\n",
              "<style scoped>\n",
              "    .dataframe tbody tr th:only-of-type {\n",
              "        vertical-align: middle;\n",
              "    }\n",
              "\n",
              "    .dataframe tbody tr th {\n",
              "        vertical-align: top;\n",
              "    }\n",
              "\n",
              "    .dataframe thead th {\n",
              "        text-align: right;\n",
              "    }\n",
              "</style>\n",
              "<table border=\"1\" class=\"dataframe\">\n",
              "  <thead>\n",
              "    <tr style=\"text-align: right;\">\n",
              "      <th></th>\n",
              "      <th>check</th>\n",
              "      <th>check_level</th>\n",
              "      <th>check_status</th>\n",
              "      <th>constraint</th>\n",
              "      <th>constraint_status</th>\n",
              "      <th>constraint_message</th>\n",
              "    </tr>\n",
              "  </thead>\n",
              "  <tbody>\n",
              "    <tr>\n",
              "      <th>0</th>\n",
              "      <td>Unique Values</td>\n",
              "      <td>Error</td>\n",
              "      <td>Success</td>\n",
              "      <td>UniquenessConstraint(Uniqueness(Stream(text_id...</td>\n",
              "      <td>Success</td>\n",
              "      <td></td>\n",
              "    </tr>\n",
              "  </tbody>\n",
              "</table>\n",
              "</div>"
            ],
            "text/plain": [
              "           check check_level check_status  \\\n",
              "0  Unique Values       Error      Success   \n",
              "\n",
              "                                          constraint constraint_status  \\\n",
              "0  UniquenessConstraint(Uniqueness(Stream(text_id...           Success   \n",
              "\n",
              "  constraint_message  \n",
              "0                     "
            ]
          },
          "execution_count": 32,
          "metadata": {},
          "output_type": "execute_result"
        }
      ],
      "source": [
        "#Duplicates check for Test file\n",
        "test_duplicates(df_test)"
      ]
    },
    {
      "cell_type": "code",
      "execution_count": null,
      "metadata": {
        "id": "9ZFdcYiwZ_OB",
        "outputId": "7d42c297-2b84-4463-9e00-4bd56617e1bf"
      },
      "outputs": [
        {
          "data": {
            "text/html": [
              "<div>\n",
              "<style scoped>\n",
              "    .dataframe tbody tr th:only-of-type {\n",
              "        vertical-align: middle;\n",
              "    }\n",
              "\n",
              "    .dataframe tbody tr th {\n",
              "        vertical-align: top;\n",
              "    }\n",
              "\n",
              "    .dataframe thead th {\n",
              "        text-align: right;\n",
              "    }\n",
              "</style>\n",
              "<table border=\"1\" class=\"dataframe\">\n",
              "  <thead>\n",
              "    <tr style=\"text-align: right;\">\n",
              "      <th></th>\n",
              "      <th>check</th>\n",
              "      <th>check_level</th>\n",
              "      <th>check_status</th>\n",
              "      <th>constraint</th>\n",
              "      <th>constraint_status</th>\n",
              "      <th>constraint_message</th>\n",
              "    </tr>\n",
              "  </thead>\n",
              "  <tbody>\n",
              "    <tr>\n",
              "      <th>0</th>\n",
              "      <td>Unique Values</td>\n",
              "      <td>Error</td>\n",
              "      <td>Success</td>\n",
              "      <td>UniquenessConstraint(Uniqueness(Stream(text_id...</td>\n",
              "      <td>Success</td>\n",
              "      <td></td>\n",
              "    </tr>\n",
              "  </tbody>\n",
              "</table>\n",
              "</div>"
            ],
            "text/plain": [
              "           check check_level check_status  \\\n",
              "0  Unique Values       Error      Success   \n",
              "\n",
              "                                          constraint constraint_status  \\\n",
              "0  UniquenessConstraint(Uniqueness(Stream(text_id...           Success   \n",
              "\n",
              "  constraint_message  \n",
              "0                     "
            ]
          },
          "execution_count": 33,
          "metadata": {},
          "output_type": "execute_result"
        }
      ],
      "source": [
        "#Duplicates check for Train file\n",
        "test_duplicates(df_train)"
      ]
    },
    {
      "cell_type": "markdown",
      "metadata": {
        "id": "cw6wwbZhZ_OC"
      },
      "source": [
        "## Conclusion/Recommendation"
      ]
    },
    {
      "cell_type": "markdown",
      "metadata": {
        "id": "JzLCw8gUZ_OC"
      },
      "source": [
        "## Conclusion\n",
        "\n",
        "Based on the data quality checks, both train and test files are clean. The zero values present in the numerical columns are valid."
      ]
    },
    {
      "cell_type": "markdown",
      "metadata": {
        "id": "8ynTh_vgZ_OC"
      },
      "source": [
        "## Recommendation\n",
        "\n",
        "File may be used for modeling with minimal or no further data cleaning."
      ]
    }
  ],
  "metadata": {
    "colab": {
      "name": "Data_quality_Verification.ipynb",
      "provenance": []
    },
    "interpreter": {
      "hash": "0b41f59b882618484a4d28c089dca4efdf4ffb1e043e654ec6730d7439b802f5"
    },
    "kernelspec": {
      "display_name": "Python 3 (ipykernel)",
      "language": "python",
      "name": "python3"
    },
    "language_info": {
      "codemirror_mode": {
        "name": "ipython",
        "version": 3
      },
      "file_extension": ".py",
      "mimetype": "text/x-python",
      "name": "python",
      "nbconvert_exporter": "python",
      "pygments_lexer": "ipython3",
      "version": "3.9.7"
    }
  },
  "nbformat": 4,
  "nbformat_minor": 0
}