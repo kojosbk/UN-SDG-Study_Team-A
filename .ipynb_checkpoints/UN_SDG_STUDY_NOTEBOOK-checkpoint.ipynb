{
 "cells": [
  {
   "cell_type": "markdown",
   "id": "74d44289",
   "metadata": {
    "_cell_guid": "b1076dfc-b9ad-4769-8c92-a6c4dae69d19",
    "_uuid": "8f2839f25d086af736a60e9eeb907d3b93b6e0e5",
    "papermill": {
     "duration": 0.006813,
     "end_time": "2022-07-18T13:56:12.456305",
     "exception": false,
     "start_time": "2022-07-18T13:56:12.449492",
     "status": "completed"
    },
    "tags": []
   },
   "source": [
    "# **Sustainable Development Goals (SDGs) Classifier**\n",
    "\n",
    "![](https://www.idsa.in/system/files/sdg-un-banner.jpg)"
   ]
  },
  {
   "cell_type": "markdown",
   "id": "94794604",
   "metadata": {
    "papermill": {
     "duration": 0.005136,
     "end_time": "2022-07-18T13:56:12.467153",
     "exception": false,
     "start_time": "2022-07-18T13:56:12.462017",
     "status": "completed"
    },
    "tags": []
   },
   "source": [
    "# <a id=\"contents\">Table of Contents</a><br>\n",
    "1. [**Introduction**](#introduction)\n",
    "  > 1.1 [**Problem Statement**](#problem_statement) <br>\n",
    "    1.2 [**Data Description**](#data)<br>\n",
    "    1.3 [**Importing Libraries**](#importing_libraries)<br>\n",
    "    1.4 [**Loading Data**](#loading_data) <br>\n",
    "    \n",
    "2. [**Data Preprocessing**](#preprocessing)\n",
    ">   2.1 <br>\n",
    "    2.2 <br>\n",
    "    2.3 <br>\n",
    "\n",
    "3. [**Exploratory Data Analysis**](#EDA) <br>\n",
    "   \n",
    "4. [**Modeling**](#model) <br>\n",
    "    4.1 [**Model Training**](#modeltraining) <br>\n",
    "    > 4.1.1. [**Model 1**](#model1) <br>\n",
    "     4.1.2. [**Model 2**](#model2) <br>\n",
    "     4.1.3. [**Model 3**](#model3) <br>\n",
    "     \n",
    "    4.2 [**Mertics Evaluation**](#merticsevaluation) <br>\n",
    "    \n",
    "5. [**Conclusion and Recommendation**](#Conclusion/Recommendation) <br>\n",
    "   > 5.1 [**Conclusion**](#Conclusion) <br>\n",
    "     5.2 [**Recommendation**](#Recommendation) <br><br>\n",
    "\n",
    "6. [**References**](#reference) <br>"
   ]
  },
  {
   "cell_type": "markdown",
   "id": "4baa648f",
   "metadata": {
    "papermill": {
     "duration": 0.005163,
     "end_time": "2022-07-18T13:56:12.477665",
     "exception": false,
     "start_time": "2022-07-18T13:56:12.472502",
     "status": "completed"
    },
    "tags": []
   },
   "source": [
    "# 1.0 <a id=\"introduction\"><strong>INTRODUCTION</strong></a>\n",
    "[Table of Contents](#contents)<br>\n",
    "\n"
   ]
  },
  {
   "cell_type": "markdown",
   "id": "1bd54aeb",
   "metadata": {
    "papermill": {
     "duration": 0.005078,
     "end_time": "2022-07-18T13:56:12.488197",
     "exception": false,
     "start_time": "2022-07-18T13:56:12.483119",
     "status": "completed"
    },
    "tags": []
   },
   "source": [
    "## 1.1 <a id=\"problem_statement\"><strong>Problem Statement</strong></a>\n",
    "[Table of Contents](#contents)<br>\n"
   ]
  },
  {
   "cell_type": "markdown",
   "id": "c4445352",
   "metadata": {
    "papermill": {
     "duration": 0.005257,
     "end_time": "2022-07-18T13:56:12.498864",
     "exception": false,
     "start_time": "2022-07-18T13:56:12.493607",
     "status": "completed"
    },
    "tags": []
   },
   "source": [
    "## 1.2 <a id=\"data\"><strong>Data Description</strong></a>\n",
    "[Table of Contents](#contents)<br>\n"
   ]
  },
  {
   "cell_type": "markdown",
   "id": "7ea41aa5",
   "metadata": {
    "papermill": {
     "duration": 0.005156,
     "end_time": "2022-07-18T13:56:12.509524",
     "exception": false,
     "start_time": "2022-07-18T13:56:12.504368",
     "status": "completed"
    },
    "tags": []
   },
   "source": [
    " ## 1.3  <a id=\"importing_libraries\"><strong>Importing Libraries</strong></a>\n",
    "[Table of Contents](#contents)<br>\n"
   ]
  },
  {
   "cell_type": "markdown",
   "id": "ede9b2cb",
   "metadata": {
    "papermill": {
     "duration": 0.008756,
     "end_time": "2022-07-18T13:56:12.557220",
     "exception": false,
     "start_time": "2022-07-18T13:56:12.548464",
     "status": "completed"
    },
    "tags": []
   },
   "source": [
    "## 1.4 <a id=\"loading_data\"><strong>Loading Data</strong></a>\n",
    "[Table of Contents](#contents)\n"
   ]
  },
  {
   "cell_type": "markdown",
   "id": "e7397874",
   "metadata": {
    "papermill": {
     "duration": 0.01004,
     "end_time": "2022-07-18T13:56:42.924343",
     "exception": false,
     "start_time": "2022-07-18T13:56:42.914303",
     "status": "completed"
    },
    "tags": []
   },
   "source": [
    "# 2.0 <a id=\"preprocessing\"><strong>DATA PREPROCESSING</strong></a>\n",
    "[Table of Contents](#contents)\n"
   ]
  },
  {
   "cell_type": "markdown",
   "id": "0c9b4750",
   "metadata": {
    "papermill": {
     "duration": 0.006669,
     "end_time": "2022-07-18T13:56:42.954659",
     "exception": false,
     "start_time": "2022-07-18T13:56:42.947990",
     "status": "completed"
    },
    "tags": []
   },
   "source": [
    "# 3.0 <a id=\"EDA\"><strong>EXPLORATORY DATA ANALYSIS</strong></a>\n",
    "[Table of Contents](#contents)\n",
    "\n"
   ]
  },
  {
   "cell_type": "markdown",
   "id": "f1238689",
   "metadata": {
    "papermill": {
     "duration": 0.009079,
     "end_time": "2022-07-18T13:56:42.984814",
     "exception": false,
     "start_time": "2022-07-18T13:56:42.975735",
     "status": "completed"
    },
    "tags": []
   },
   "source": [
    "# 4.0 <a id=\"model\"><strong>MODELLING</strong></a>\n",
    "[Table of Contents](#contents)\n"
   ]
  },
  {
   "cell_type": "markdown",
   "id": "5fbc24a6",
   "metadata": {
    "papermill": {
     "duration": 0.010093,
     "end_time": "2022-07-18T13:56:43.011369",
     "exception": false,
     "start_time": "2022-07-18T13:56:43.001276",
     "status": "completed"
    },
    "tags": []
   },
   "source": [
    "## 4.1 <a id=\"modelpreprocessing\"><strong>Model Preprocessing</strong></a>\n",
    "[Table of Contents](#contents)\n"
   ]
  },
  {
   "cell_type": "markdown",
   "id": "2d8bf891",
   "metadata": {
    "papermill": {
     "duration": 0.009604,
     "end_time": "2022-07-18T13:56:43.051315",
     "exception": false,
     "start_time": "2022-07-18T13:56:43.041711",
     "status": "completed"
    },
    "tags": []
   },
   "source": [
    "## 4.2 <a id=\"modeltraining\"><strong>Model Training</strong></a>\n",
    "[Table of Contents](#contents)\n"
   ]
  },
  {
   "cell_type": "markdown",
   "id": "e25c0888",
   "metadata": {
    "papermill": {
     "duration": 0.00965,
     "end_time": "2022-07-18T13:56:43.071282",
     "exception": false,
     "start_time": "2022-07-18T13:56:43.061632",
     "status": "completed"
    },
    "tags": []
   },
   "source": [
    "### 4.2.1 <a id=\"model1\"><strong>Model 1</strong></a>\n",
    "[Table of Contents](#contents)\n"
   ]
  },
  {
   "cell_type": "markdown",
   "id": "034b19b6",
   "metadata": {
    "papermill": {
     "duration": 0.009791,
     "end_time": "2022-07-18T13:56:43.110607",
     "exception": false,
     "start_time": "2022-07-18T13:56:43.100816",
     "status": "completed"
    },
    "tags": []
   },
   "source": [
    "### 4.2.2 <a id=\"model2\"><strong>Model 2</strong></a>\n",
    "[Table of Contents](#contents)\n"
   ]
  },
  {
   "cell_type": "markdown",
   "id": "3ea226c3",
   "metadata": {
    "papermill": {
     "duration": 0.010448,
     "end_time": "2022-07-18T13:56:43.151110",
     "exception": false,
     "start_time": "2022-07-18T13:56:43.140662",
     "status": "completed"
    },
    "tags": []
   },
   "source": [
    "### 4.2.3 <a id=\"model3\"><strong>Model 3</strong></a>\n",
    "[Table of Contents](#contents)\n"
   ]
  },
  {
   "cell_type": "markdown",
   "id": "3348b803",
   "metadata": {
    "papermill": {
     "duration": 0.009882,
     "end_time": "2022-07-18T13:56:43.192178",
     "exception": false,
     "start_time": "2022-07-18T13:56:43.182296",
     "status": "completed"
    },
    "tags": []
   },
   "source": [
    "# 5.0 <a id=\"Conclusion/Recommendation\"><strong>CONCLUSION AND RECOMMENDATION</strong></a>\n",
    "[Table of Contents](#contents)"
   ]
  },
  {
   "cell_type": "markdown",
   "id": "5a749541",
   "metadata": {
    "papermill": {
     "duration": 0.009264,
     "end_time": "2022-07-18T13:56:43.211246",
     "exception": false,
     "start_time": "2022-07-18T13:56:43.201982",
     "status": "completed"
    },
    "tags": []
   },
   "source": [
    "## 5.1 <a id=\"Conclusion\"><strong>Conclusion</strong></a>\n",
    "[Table of Contents](#contents)"
   ]
  },
  {
   "cell_type": "markdown",
   "id": "936522d3",
   "metadata": {
    "papermill": {
     "duration": 0.009205,
     "end_time": "2022-07-18T13:56:43.230174",
     "exception": false,
     "start_time": "2022-07-18T13:56:43.220969",
     "status": "completed"
    },
    "tags": []
   },
   "source": [
    "## 5.2 <a id=\"Recommendation\"><strong>Recommendation</strong></a>\n",
    "[Table of Contents](#contents)"
   ]
  },
  {
   "cell_type": "markdown",
   "id": "7b4a93e0",
   "metadata": {
    "papermill": {
     "duration": 0.011243,
     "end_time": "2022-07-18T13:56:43.251893",
     "exception": false,
     "start_time": "2022-07-18T13:56:43.240650",
     "status": "completed"
    },
    "tags": []
   },
   "source": [
    "# 6.0 <a id=\"reference\"><strong>REFERENCES</strong></a>\n",
    "[Table of Contents](#contents)"
   ]
  },
  {
   "cell_type": "code",
   "execution_count": null,
   "metadata": {},
   "outputs": [],
   "source": [
    "# **Sustainable Development Goals (SDGs) Classifier**\n",
    "\n",
    "![](https://www.idsa.in/system/files/sdg-un-banner.jpg)\n",
    "\n",
    "# <a id=\"contents\">Table of Contents</a><br>\n",
    "1. [**Introduction**](#introduction)\n",
    "  > 1.1 [**Problem Statement**](#problem_statement) <br>\n",
    "    1.2 [**Data Description**](#data)<br>\n",
    "    1.3 [**Importing Libraries**](#importing_libraries)<br>\n",
    "    1.4 [**Loading Data**](#loading_data) <br>\n",
    "    \n",
    "2. [**Data Preprocessing**](#preprocessing)\n",
    ">   2.1 <br>\n",
    "    2.2 <br>\n",
    "    2.3 <br>\n",
    "\n",
    "3. [**Exploratory Data Analysis**](#EDA) <br>\n",
    "   \n",
    "4. [**Modeling**](#model) <br>\n",
    "    4.1 [**Model Training**](#modeltraining) <br>\n",
    "    > 4.1.1. [**Model 1**](#model1) <br>\n",
    "     4.1.2. [**Model 2**](#model2) <br>\n",
    "     4.1.3. [**Model 3**](#model3) <br>\n",
    "     \n",
    "    4.2 [**Mertics Evaluation**](#merticsevaluation) <br>\n",
    "    \n",
    "5. [**Conclusion and Recommendation**](#Conclusion/Recommendation) <br>\n",
    "   > 5.1 [**Conclusion**](#Conclusion) <br>\n",
    "     5.2 [**Recommendation**](#Recommendation) <br><br>\n",
    "\n",
    "6. [**References**](#reference) <br>\n",
    "\n",
    "# 1.0 <a id=\"introduction\"><strong>INTRODUCTION</strong></a>\n",
    "[Table of Contents](#contents)<br>\n",
    "\n",
    "\n",
    "\n",
    "## 1.1 <a id=\"problem_statement\"><strong>Problem Statement</strong></a>\n",
    "[Table of Contents](#contents)<br>\n",
    "\n",
    "\n",
    "## 1.2 <a id=\"data\"><strong>Data Description</strong></a>\n",
    "[Table of Contents](#contents)<br>\n",
    "\n",
    "\n",
    " ## 1.3  <a id=\"importing_libraries\"><strong>Importing Libraries</strong></a>\n",
    "[Table of Contents](#contents)<br>\n",
    "\n",
    "\n",
    "## 1.4 <a id=\"loading_data\"><strong>Loading Data</strong></a>\n",
    "[Table of Contents](#contents)\n",
    "\n",
    "\n",
    "# 2.0 <a id=\"preprocessing\"><strong>DATA PREPROCESSING</strong></a>\n",
    "[Table of Contents](#contents)\n",
    "\n",
    "\n",
    "# 3.0 <a id=\"EDA\"><strong>EXPLORATORY DATA ANALYSIS</strong></a>\n",
    "[Table of Contents](#contents)\n",
    "\n",
    "\n",
    "\n",
    "# 4.0 <a id=\"model\"><strong>MODELLING</strong></a>\n",
    "[Table of Contents](#contents)\n",
    "\n",
    "\n",
    "## 4.1 <a id=\"modelpreprocessing\"><strong>Model Preprocessing</strong></a>\n",
    "[Table of Contents](#contents)\n",
    "\n",
    "\n",
    "## 4.2 <a id=\"modeltraining\"><strong>Model Training</strong></a>\n",
    "[Table of Contents](#contents)\n",
    "\n",
    "\n",
    "### 4.2.1 <a id=\"model1\"><strong>Model 1</strong></a>\n",
    "[Table of Contents](#contents)\n",
    "\n",
    "\n",
    "### 4.2.2 <a id=\"model2\"><strong>Model 2</strong></a>\n",
    "[Table of Contents](#contents)\n",
    "\n",
    "\n",
    "### 4.2.3 <a id=\"model3\"><strong>Model 3</strong></a>\n",
    "[Table of Contents](#contents)\n",
    "\n",
    "\n",
    "# 5.0 <a id=\"Conclusion/Recommendation\"><strong>CONCLUSION AND RECOMMENDATION</strong></a>\n",
    "[Table of Contents](#contents)\n",
    "\n",
    "## 5.1 <a id=\"Conclusion\"><strong>Conclusion</strong></a>\n",
    "[Table of Contents](#contents)\n",
    "\n",
    "## 5.2 <a id=\"Recommendation\"><strong>Recommendation</strong></a>\n",
    "[Table of Contents](#contents)\n",
    "\n",
    "# 6.0 <a id=\"reference\"><strong>REFERENCES</strong></a>\n",
    "[Table of Contents](#contents)"
   ]
  }
 ],
 "metadata": {
  "kernelspec": {
   "display_name": "Python 3 (ipykernel)",
   "language": "python",
   "name": "python3"
  },
  "language_info": {
   "codemirror_mode": {
    "name": "ipython",
    "version": 3
   },
   "file_extension": ".py",
   "mimetype": "text/x-python",
   "name": "python",
   "nbconvert_exporter": "python",
   "pygments_lexer": "ipython3",
   "version": "3.9.12"
  }
 },
 "nbformat": 4,
 "nbformat_minor": 2
}
