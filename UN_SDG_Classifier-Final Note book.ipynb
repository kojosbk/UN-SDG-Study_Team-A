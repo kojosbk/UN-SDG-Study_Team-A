{
 "cells": [
  {
   "cell_type": "markdown",
   "metadata": {},
   "source": [
    "# **Sustainable Development Goals (SDGs) Classifier**\n",
    "\n",
    "![](https://www.idsa.in/system/files/sdg-un-banner.jpg)\n",
    "\n",
    "# <a id=\"contents\">Table of Contents</a><br>\n",
    "1. [**Introduction**](#introduction)\n",
    "  > 1.1 [**Problem Statement**](#problem_statement) <br>\n",
    "    1.2 [**Project Objectives**](#project_objective) <br>\n",
    "    1.3 [**Definition of Data Features**](#data)<br>\n",
    "    1.4 [**Importing Libraries**](#importing_libraries)<br>\n",
    "    1.5 [**Loading Data**](#loading_data) <br>\n",
    "    1.6 [**Initialize Comet**](#comet) <br>\n",
    "    \n",
    "2. [**Data Preprocessing**](#preprocessing)\n",
    ">   2.1 [**Cumulative Probability Over Agreement Scores**](#cumulative)<br>\n",
    "    2.2 [**Removing Links**](#removing_links)<br>\n",
    "\n",
    "\n",
    "3. [**Exploratory Data Analysis**](#EDA) <br>\n",
    ">   3.1 [**Most Frequent Words**](#most_frequent_words)<br>\n",
    "    3.2 [**Visualisation**](#visualisation)<br>\n",
    "    3.3 [**Countries Involved in Sustainable Development Goals (SDG)**](#countries)<br>\n",
    "    3.4 [**Text Analysis**](#text_analysis)<br>\n",
    "    3.5 [**Class Balance**](#class_balance)<br>\n",
    "    3.6 [**Feature Engineering**](#feature_engineering)<br>\n",
    "   \n",
    "4. [**Classification Models**](#model) <br>\n",
    ">   4.1 [**Defining the Independent (X) and Dependent Variables (y)**](#def_variables) <br> \n",
    "    4.2 [**Model Preprocessing**](#modelpreprocessing) <br>\n",
    "    4.3 [**Building Models**](#buildingmodels) <br>\n",
    "      >>4.3.1 [**Logistic Regression Classifier**](#lrc) <br>\n",
    "      4.3.2 [**Decision Tree Classifier**](#dtc) <br>\n",
    "      4.3.3 [**Naive Bayes Classifier**](#nbc) <br> \n",
    "      4.3.4 [**K-Neighbors Classifier**](#knc) <br>\n",
    "      4.3.5 [**5**](#knc) <br>\n",
    "      \n",
    "  >   4.4 [**Model Performance**](#modelperformance) <br>\n",
    "        \n",
    "5. [**Conclusion and Recommendation**](#Conclusion/Recommendation) <br>\n",
    "   > 5.1 [**Conclusion**](#Conclusion) <br>\n",
    "     5.2 [**Recommendation**](#Recommendation) <br><br>\n",
    "\n",
    "6. [**References**](#reference) <br>\n",
    "\n"
   ]
  },
  {
   "cell_type": "markdown",
   "metadata": {},
   "source": [
    "# 1 <a id=\"introduction\"><strong>INTRODUCTION</strong></a>\n",
    "[Table of Contents](#contents)<br>"
   ]
  },
  {
   "cell_type": "markdown",
   "metadata": {},
   "source": [
    "The Sustainable Development Goals (SDGs) were established in 2015 as a blueprint for peace and prosperity for people and the planet, now and into the future. The SDGs must be monitored in order to gauge development and challenges to achieving such common objectives. Teams from the United Nations evaluate streams of SDG-related papers created by governments, academia, business, and public bodies to determine how well each SDG is progressing.\n",
    "Although UNEP has experts in many domains that can help in evaluating streams of SDG-related papers, connections to the SDGs outside of their areas of expertise may be missed.\n",
    "so for that reason we , members of team A have been tasked to build an NLP module that would help identify SDGs based on articles fed to the module"
   ]
  },
  {
   "cell_type": "markdown",
   "metadata": {},
   "source": [
    "\n",
    "## 1.1 <a id=\"problem_statement\"><strong>Problem Statement</strong></a>\n",
    "[Table of Contents](#contents)<br>\n",
    "\n",
    ">* Nation teams use documents produced by governments, academia, private and public entities in the monitoring of SDGs.<br>\n",
    ">* It is a time-consuming exercise for Experts to read the documents and identify which SDGs are mentioned, or are related to it.<br> \n",
    ">* UNEP has experts in many fields, links to the SDGs that are outside their expertise may be overlooked.<br>\n",
    ">* It is essential to assess progress and obstacles to realise such shared goals . "
   ]
  },
  {
   "cell_type": "markdown",
   "metadata": {},
   "source": [
    "\n",
    "## 1.2 <a id=\"project_objective\"><strong>Project Objectives</strong></a>\n",
    "[Table of Contents](#contents)<br>"
   ]
  },
  {
   "cell_type": "markdown",
   "metadata": {},
   "source": [
    ">* Clean the dataset so that it may be utilized for model development.\n",
    ">* Create a variety of models to identify the various SDGs.\n",
    ">* Using the provided Test Data, assess the model's accuracy in making predictions.\n",
    ">* Pick the best model for categorizing SDG articles."
   ]
  },
  {
   "cell_type": "markdown",
   "metadata": {},
   "source": [
    "## 1.3 <a id=\"data\"><strong>Definition of Data Features</strong></a>\n",
    "[Table of Contents](#contents)<br>"
   ]
  },
  {
   "cell_type": "markdown",
   "metadata": {},
   "source": [
    "#### I. Data Source\n",
    "The Sustainable Development Goals (SDGs) Community Dataset (OSDG-CD) is the end product of hundreds of volunteers' efforts on the OSDG Community Platform to advance our understanding of the SDGs (OSDG-CP). It includes hundreds of text snippets that community volunteers labeled with regard to the SDGs.\n",
    "\n",
    "#### I. Goal Description\n",
    "1. End poverty in all its forms everywhere\n",
    "2. End hunger, achieve food security and improved nutrition and promote sustainable agriculture\n",
    "3. Ensure healthy lives and promote well-being for all at all ages\n",
    "4. Ensure inclusive and equitable quality education and promote lifelong learning opportunities for all\n",
    "5. Achieve gender equality and empower all women and girls\n",
    "6. Ensure availability and sustainable management of water and sanitation for all\n",
    "7. Ensure access to affordable, reliable, sustainable and modern energy for all\n",
    "8. Promote sustained, inclusive and sustainable economic growth, full and productive employment and decent work for all\n",
    "9. Build resilient infrastructure, promote inclusive and sustainable industrialization and foster innovation\n",
    "10. Reduce inequality within and among countries\n",
    "11. Make cities and human settlements inclusive, safe, resilient and sustainable\n",
    "12. Ensure sustainable consumption and production patterns\n",
    "13. Take urgent action to combat Sustainable Development Goals (SDG) and its impacts\n",
    "14. Conserve and sustainably use the oceans, seas and marine resources for sustainable development\n",
    "15. Protect, restore and promote sustainable use of terrestrial ecosystems, sustainably manage forests, combat desertification, and halt and reverse land degradation and halt biodiversity loss\n",
    "\n",
    "\n",
    "\n",
    "\n",
    "#### II. Column Definitions\n",
    "The OSDG-CD dataset is provided in a .csv format. It is a flat tabular dataset that contains the following columns:\n",
    "\n",
    ">* doi : Digital Object Identifier of the original document\n",
    ">* text_id : unique text identifier;\n",
    ">* text : text excerpt from the document;\n",
    ">* sdg : the SDG the text is validated against;\n",
    ">* labels_negative : the number of volunteers who rejected the suggested SDG label;\n",
    ">* labels_positive : the number of volunteers who accepted the suggested SDG label;\n",
    ">* agreement : agreement score based on the formula described <a href=\"https://github.com/osdg-ai/osdg-data\"> Here</a>"
   ]
  },
  {
   "cell_type": "markdown",
   "metadata": {},
   "source": [
    " ## 1.4  <a id=\"importing_libraries\"><strong>Importing Libraries</strong></a>\n",
    "[Table of Contents](#contents)<br>"
   ]
  },
  {
   "cell_type": "code",
   "execution_count": 119,
   "metadata": {},
   "outputs": [],
   "source": [
    "# Import basic and fundamental libraries\n",
    "import numpy as np\n",
    "import scipy.stats as stats\n",
    "import pandas as pd\n",
    "import string\n",
    "import re\n",
    "import pickle\n",
    "import pycountry\n",
    "\n",
    "# Import libraries for data visualization\n",
    "import matplotlib.pyplot as plt\n",
    "import seaborn as sns\n",
    "%matplotlib inline\n",
    "import plotly.express as px\n",
    "import plotly.graph_objects as go\n",
    "from textblob import TextBlob\n",
    "from wordcloud import WordCloud, ImageColorGenerator\n",
    "\n",
    "# Import libraries for NLP\n",
    "import nltk\n",
    "from nltk.corpus import stopwords, wordnet\n",
    "from nltk.stem import SnowballStemmer, PorterStemmer, LancasterStemmer, WordNetLemmatizer\n",
    "from nltk.tokenize import word_tokenize, TreebankWordTokenizer\n",
    "\n",
    "# Import utility libraries from scikit-learn\n",
    "import sklearn\n",
    "from sklearn.model_selection import train_test_split\n",
    "from sklearn.feature_extraction.text import CountVectorizer, TfidfTransformer\n",
    "from sklearn.preprocessing import MinMaxScaler\n",
    "from sklearn.utils import resample\n",
    "from sklearn.pipeline import Pipeline\n",
    "from sklearn.model_selection import cross_validate, GridSearchCV\n",
    "\n",
    "# Import modeling libraries from scikit-learn\n",
    "import sklearn.ensemble as ensemble\n",
    "import sklearn.linear_model as linear_model\n",
    "import sklearn.naive_bayes as naive_bayes\n",
    "import sklearn.neighbors as neighbors\n",
    "import sklearn.svm as svm\n",
    "import sklearn.tree as tree\n",
    "\n",
    "# Other library imports\n",
    "import en_core_web_sm\n",
    "import spacy\n",
    "from collections import Counter\n",
    "from textwrap import wrap\n",
    "\n",
    "# Import model evaluation metrics from scikit-learn\n",
    "import sklearn.metrics as metrics\n",
    "\n",
    "# Enable interactive visualizations in Jupyter\n",
    "import ipywidgets as widgets\n",
    "from ipywidgets import interact, interact_manual\n",
    "\n",
    "# Suppress unwarranted warnings\n",
    "import warnings\n",
    "warnings.filterwarnings(\"ignore\")\n"
   ]
  },
  {
   "attachments": {},
   "cell_type": "markdown",
   "metadata": {},
   "source": [
    "## 1.5 <a id=\"loading_data\"><strong>Loading Data</strong></a>\n",
    "To begin importing our data, we will first ensure that both the raw data and notebook file are located in the same directory on our local system. We can then use the following code to load the training data sets into our notebook. If the files are not located in the same directory, we will need to specify the file path on our machine. It is good practice to view the loaded data after it has been imported to ensure it has been properly loaded. The data will be saved in two separate data frames, one for training and testing and the other for exploratory data analysis.\n",
    "\n",
    "[Table of Contents](#contents)"
   ]
  },
  {
   "cell_type": "code",
   "execution_count": 120,
   "metadata": {},
   "outputs": [
    {
     "data": {
      "text/html": [
       "<div>\n",
       "<style scoped>\n",
       "    .dataframe tbody tr th:only-of-type {\n",
       "        vertical-align: middle;\n",
       "    }\n",
       "\n",
       "    .dataframe tbody tr th {\n",
       "        vertical-align: top;\n",
       "    }\n",
       "\n",
       "    .dataframe thead th {\n",
       "        text-align: right;\n",
       "    }\n",
       "</style>\n",
       "<table border=\"1\" class=\"dataframe\">\n",
       "  <thead>\n",
       "    <tr style=\"text-align: right;\">\n",
       "      <th></th>\n",
       "      <th>doi</th>\n",
       "      <th>text_id</th>\n",
       "      <th>text</th>\n",
       "      <th>labels_negative</th>\n",
       "      <th>labels_positive</th>\n",
       "      <th>agreement</th>\n",
       "      <th>id</th>\n",
       "    </tr>\n",
       "  </thead>\n",
       "  <tbody>\n",
       "    <tr>\n",
       "      <th>0</th>\n",
       "      <td>10.1787/9789264204256-4-en</td>\n",
       "      <td>eb6faaeb2810029e3a2b9edf4b3d80e8</td>\n",
       "      <td>Nearly 3 out of 10 adults in these countries p...</td>\n",
       "      <td>1</td>\n",
       "      <td>4</td>\n",
       "      <td>0.6</td>\n",
       "      <td>1</td>\n",
       "    </tr>\n",
       "    <tr>\n",
       "      <th>1</th>\n",
       "      <td>10.1787/9789264167865-7-en</td>\n",
       "      <td>fa7fa2ce7b03d60101073df216c05713</td>\n",
       "      <td>As urban areas become denser and rely more on ...</td>\n",
       "      <td>0</td>\n",
       "      <td>4</td>\n",
       "      <td>1.0</td>\n",
       "      <td>2</td>\n",
       "    </tr>\n",
       "    <tr>\n",
       "      <th>2</th>\n",
       "      <td>10.18356/ab2e0473-en</td>\n",
       "      <td>fa8afb153838b92b0e9d78b375689fde</td>\n",
       "      <td>Women who work outside their homes need to pro...</td>\n",
       "      <td>0</td>\n",
       "      <td>9</td>\n",
       "      <td>1.0</td>\n",
       "      <td>3</td>\n",
       "    </tr>\n",
       "    <tr>\n",
       "      <th>3</th>\n",
       "      <td>10.18356/faf8a648-en</td>\n",
       "      <td>e86113bf51a0aed83b8d3e3ad0bf385d</td>\n",
       "      <td>The key governance bodies of this systemic res...</td>\n",
       "      <td>3</td>\n",
       "      <td>3</td>\n",
       "      <td>0.0</td>\n",
       "      <td>4</td>\n",
       "    </tr>\n",
       "    <tr>\n",
       "      <th>4</th>\n",
       "      <td>10.18356/f3e7d816-en</td>\n",
       "      <td>34a60596f64e0723734228a27440a9e9</td>\n",
       "      <td>In terms of policies, the change of focus from...</td>\n",
       "      <td>0</td>\n",
       "      <td>3</td>\n",
       "      <td>1.0</td>\n",
       "      <td>5</td>\n",
       "    </tr>\n",
       "  </tbody>\n",
       "</table>\n",
       "</div>"
      ],
      "text/plain": [
       "                          doi                           text_id  \\\n",
       "0  10.1787/9789264204256-4-en  eb6faaeb2810029e3a2b9edf4b3d80e8   \n",
       "1  10.1787/9789264167865-7-en  fa7fa2ce7b03d60101073df216c05713   \n",
       "2        10.18356/ab2e0473-en  fa8afb153838b92b0e9d78b375689fde   \n",
       "3        10.18356/faf8a648-en  e86113bf51a0aed83b8d3e3ad0bf385d   \n",
       "4        10.18356/f3e7d816-en  34a60596f64e0723734228a27440a9e9   \n",
       "\n",
       "                                                text  labels_negative  \\\n",
       "0  Nearly 3 out of 10 adults in these countries p...                1   \n",
       "1  As urban areas become denser and rely more on ...                0   \n",
       "2  Women who work outside their homes need to pro...                0   \n",
       "3  The key governance bodies of this systemic res...                3   \n",
       "4  In terms of policies, the change of focus from...                0   \n",
       "\n",
       "   labels_positive  agreement  id  \n",
       "0                4        0.6   1  \n",
       "1                4        1.0   2  \n",
       "2                9        1.0   3  \n",
       "3                3        0.0   4  \n",
       "4                3        1.0   5  "
      ]
     },
     "execution_count": 120,
     "metadata": {},
     "output_type": "execute_result"
    }
   ],
   "source": [
    "# Load train data into dataframes\n",
    "train = pd.read_csv('data/train.csv')\n",
    "test = pd.read_csv(\"data/test.csv\")\n",
    "\n",
    "# Check that data has been properly loaded\n",
    "train.head()\n",
    "test.head()\n"
   ]
  },
  {
   "attachments": {},
   "cell_type": "markdown",
   "metadata": {},
   "source": [
    "<a id=three2></a>\n",
    "\n",
    "#### 1.5.2 <strong>Check the \"Shape\" of the data-sets</strong></a>\n",
    "The shape of both datasets indicates that the data has been divided into two sets. The shape also shows that the training dataset has eight columns, while the test dataset has seven. Our model is designed to predict the missing column in the test dataset, which can be identified as the \"SDG\" column after examining both datasets. By looking for the absent column in the test dataset, we can determine which column our model is intended to forecast."
   ]
  },
  {
   "cell_type": "code",
   "execution_count": 121,
   "metadata": {},
   "outputs": [
    {
     "name": "stdout",
     "output_type": "stream",
     "text": [
      "(25944, 8)\n",
      "(6487, 7)\n",
      "Index(['doi', 'text_id', 'text', 'sdg', 'labels_negative', 'labels_positive',\n",
      "       'agreement', 'id'],\n",
      "      dtype='object')\n",
      "Index(['doi', 'text_id', 'text', 'labels_negative', 'labels_positive',\n",
      "       'agreement', 'id'],\n",
      "      dtype='object')\n"
     ]
    }
   ],
   "source": [
    "# Check shape of train and test dataframes\n",
    "print(train.shape)\n",
    "print(test.shape)\n",
    "\n",
    "# Check column names of train and test dataframes\n",
    "print(train.columns)\n",
    "print(test.columns)"
   ]
  },
  {
   "cell_type": "markdown",
   "metadata": {},
   "source": [
    "<a id=four1></a>\n",
    "\n",
    "#### 1.5.3 <strong>Dataset summary</strong></a>\n",
    "\n",
    "It is important to identify the columns that have null entries as null values can affect the performance of our model. The \"isnull\" function shows the number of null values that are contained in each column of the dataset. This data set is relatively clean \n",
    "Pandas dataframe.info() function is used to get a concise summary of the dataframe"
   ]
  },
  {
   "cell_type": "code",
   "execution_count": 122,
   "metadata": {},
   "outputs": [],
   "source": [
    "df_train = train\n",
    "df_test = test"
   ]
  },
  {
   "cell_type": "code",
   "execution_count": 123,
   "metadata": {},
   "outputs": [],
   "source": [
    "def summary(df):\n",
    "    \"\"\"\n",
    "    Prints summary information and number of missing values for each column in the given dataframe.\n",
    "    \n",
    "    Parameters:\n",
    "    df (pandas.DataFrame): The dataframe to summarize.\n",
    "    \"\"\"\n",
    "    # Print summary information\n",
    "    print(df.info())\n",
    "    \n",
    "    # Print number of missing values for each column\n",
    "    print(\"\\nMissing values:\")\n",
    "    print(df.isna().sum())\n"
   ]
  },
  {
   "cell_type": "code",
   "execution_count": 124,
   "metadata": {},
   "outputs": [
    {
     "name": "stdout",
     "output_type": "stream",
     "text": [
      "<class 'pandas.core.frame.DataFrame'>\n",
      "RangeIndex: 25944 entries, 0 to 25943\n",
      "Data columns (total 8 columns):\n",
      " #   Column           Non-Null Count  Dtype  \n",
      "---  ------           --------------  -----  \n",
      " 0   doi              25944 non-null  object \n",
      " 1   text_id          25944 non-null  object \n",
      " 2   text             25944 non-null  object \n",
      " 3   sdg              25944 non-null  int64  \n",
      " 4   labels_negative  25944 non-null  int64  \n",
      " 5   labels_positive  25944 non-null  int64  \n",
      " 6   agreement        25944 non-null  float64\n",
      " 7   id               25944 non-null  int64  \n",
      "dtypes: float64(1), int64(4), object(3)\n",
      "memory usage: 1.6+ MB\n",
      "None\n",
      "\n",
      "Missing values:\n",
      "doi                0\n",
      "text_id            0\n",
      "text               0\n",
      "sdg                0\n",
      "labels_negative    0\n",
      "labels_positive    0\n",
      "agreement          0\n",
      "id                 0\n",
      "dtype: int64\n",
      "<class 'pandas.core.frame.DataFrame'>\n",
      "RangeIndex: 6487 entries, 0 to 6486\n",
      "Data columns (total 7 columns):\n",
      " #   Column           Non-Null Count  Dtype  \n",
      "---  ------           --------------  -----  \n",
      " 0   doi              6487 non-null   object \n",
      " 1   text_id          6487 non-null   object \n",
      " 2   text             6487 non-null   object \n",
      " 3   labels_negative  6487 non-null   int64  \n",
      " 4   labels_positive  6487 non-null   int64  \n",
      " 5   agreement        6487 non-null   float64\n",
      " 6   id               6487 non-null   int64  \n",
      "dtypes: float64(1), int64(3), object(3)\n",
      "memory usage: 354.9+ KB\n",
      "None\n",
      "\n",
      "Missing values:\n",
      "doi                0\n",
      "text_id            0\n",
      "text               0\n",
      "labels_negative    0\n",
      "labels_positive    0\n",
      "agreement          0\n",
      "id                 0\n",
      "dtype: int64\n"
     ]
    }
   ],
   "source": [
    "# Print summary information and missing values for train dataframe\n",
    "summary(df_train)\n",
    "\n",
    "# Print summary information and missing values for test dataframe\n",
    "summary(df_test)"
   ]
  },
  {
   "cell_type": "markdown",
   "metadata": {},
   "source": [
    "## 1.6 <a id=\"comet\"><strong>Initialize Comet</strong></a>\n",
    "[Table of Contents](#contents)"
   ]
  },
  {
   "cell_type": "code",
   "execution_count": 125,
   "metadata": {},
   "outputs": [],
   "source": [
    "#importing comet for tracking\n",
    "from comet_ml import Experiment"
   ]
  },
  {
   "cell_type": "code",
   "execution_count": 126,
   "metadata": {},
   "outputs": [
    {
     "name": "stderr",
     "output_type": "stream",
     "text": [
      "COMET WARNING: Comet has disabled auto-logging functionality as it has been imported after the following ML modules: tensorboard, keras, torch, sklearn, tensorflow. Metrics and hyperparameters can still be logged using comet_ml.log_metrics() and comet_ml.log_parameters()\n",
      "COMET INFO: ---------------------------\n",
      "COMET INFO: Comet.ml Experiment Summary\n",
      "COMET INFO: ---------------------------\n",
      "COMET INFO:   Data:\n",
      "COMET INFO:     display_summary_level : 1\n",
      "COMET INFO:     url                   : https://www.comet.com/kojosbk/sustainable-development-goals-sdgs-classifier/766ad25d19d6403ba8847ba0f3907187\n",
      "COMET INFO:   Uploads:\n",
      "COMET INFO:     environment details      : 1\n",
      "COMET INFO:     filename                 : 1\n",
      "COMET INFO:     git metadata             : 1\n",
      "COMET INFO:     git-patch (uncompressed) : 1 (1.36 MB)\n",
      "COMET INFO:     installed packages       : 1\n",
      "COMET INFO:     notebook                 : 1\n",
      "COMET INFO:     source_code              : 1\n",
      "COMET INFO: ---------------------------\n",
      "COMET WARNING: Comet has disabled auto-logging functionality as it has been imported after the following ML modules: tensorboard, keras, torch, sklearn, tensorflow. Metrics and hyperparameters can still be logged using comet_ml.log_metrics() and comet_ml.log_parameters()\n",
      "COMET WARNING: As you are running in a Jupyter environment, you will need to call `experiment.end()` when finished to ensure all metrics and code are logged before exiting.\n",
      "COMET INFO: Experiment is live on comet.ml https://www.comet.com/kojosbk/sustainable-development-goals-sdgs-classifier/e410174bfb454c9fbfc9709993a5ec85\n",
      "\n"
     ]
    }
   ],
   "source": [
    "# Setting the API key (saved as environment variable)\n",
    "#initialize experiment for Comet\n",
    "experiment = Experiment(\n",
    "    api_key=\"bEFY9Hn1QccermEDT6aTyQMOA\",\n",
    "    project_name=\"sustainable-development-goals-sdgs-classifier\",\n",
    "    workspace=\"kojosbk\",\n",
    ")\n"
   ]
  },
  {
   "cell_type": "markdown",
   "metadata": {},
   "source": [
    "# 2 <a id=\"preprocessing\"><strong>DATA PREPROCESSING</strong></a>\n",
    "[Table of Contents](#contents)\n",
    "\n",
    "In this phase, we'll proab into  the data, as well as filter out the most relevant information..\n",
    " \n",
    "## 2.1 <a id=\"cumulative\"><strong>Cumulative Probability Over Agreement Scores</strong></a>\n",
    "[Table of Contents](#contents)\n"
   ]
  },
  {
   "cell_type": "code",
   "execution_count": 127,
   "metadata": {},
   "outputs": [
    {
     "name": "stdout",
     "output_type": "stream",
     "text": [
      "Shape: (40, 2)\n"
     ]
    },
    {
     "data": {
      "text/html": [
       "<div>\n",
       "<style scoped>\n",
       "    .dataframe tbody tr th:only-of-type {\n",
       "        vertical-align: middle;\n",
       "    }\n",
       "\n",
       "    .dataframe tbody tr th {\n",
       "        vertical-align: top;\n",
       "    }\n",
       "\n",
       "    .dataframe thead th {\n",
       "        text-align: right;\n",
       "    }\n",
       "</style>\n",
       "<table border=\"1\" class=\"dataframe\">\n",
       "  <thead>\n",
       "    <tr style=\"text-align: right;\">\n",
       "      <th></th>\n",
       "      <th>agreement</th>\n",
       "      <th>p_sum</th>\n",
       "    </tr>\n",
       "  </thead>\n",
       "  <tbody>\n",
       "    <tr>\n",
       "      <th>0</th>\n",
       "      <td>0.000000</td>\n",
       "      <td>0.023936</td>\n",
       "    </tr>\n",
       "    <tr>\n",
       "      <th>1</th>\n",
       "      <td>0.053719</td>\n",
       "      <td>0.023975</td>\n",
       "    </tr>\n",
       "    <tr>\n",
       "      <th>2</th>\n",
       "      <td>0.075180</td>\n",
       "      <td>0.024013</td>\n",
       "    </tr>\n",
       "    <tr>\n",
       "      <th>3</th>\n",
       "      <td>0.090909</td>\n",
       "      <td>0.024283</td>\n",
       "    </tr>\n",
       "    <tr>\n",
       "      <th>4</th>\n",
       "      <td>0.111111</td>\n",
       "      <td>0.074237</td>\n",
       "    </tr>\n",
       "  </tbody>\n",
       "</table>\n",
       "</div>"
      ],
      "text/plain": [
       "   agreement     p_sum\n",
       "0   0.000000  0.023936\n",
       "1   0.053719  0.023975\n",
       "2   0.075180  0.024013\n",
       "3   0.090909  0.024283\n",
       "4   0.111111  0.074237"
      ]
     },
     "metadata": {},
     "output_type": "display_data"
    }
   ],
   "source": [
    "# Calculate cumulative probability of agreement scores\n",
    "train_lambda = df_train['agreement'].value_counts(normalize=True).sort_index().cumsum().to_frame(name='p_sum')\n",
    "train_lambda.reset_index(inplace=True)\n",
    "train_lambda.rename({'index': 'agreement'}, axis=1, inplace=True)\n",
    "\n",
    "print('Shape:', train_lambda.shape)\n",
    "display(train_lambda.head())"
   ]
  },
  {
   "cell_type": "code",
   "execution_count": 128,
   "metadata": {},
   "outputs": [
    {
     "data": {
      "application/vnd.plotly.v1+json": {
       "config": {
        "plotlyServerURL": "https://plot.ly"
       },
       "data": [
        {
         "hovertemplate": "Agreement score: %{x:.2f}<br>Cumulative probability: %{y:.2f}",
         "legendgroup": "",
         "line": {
          "color": "#1f77b4",
          "dash": "solid"
         },
         "marker": {
          "symbol": "circle"
         },
         "mode": "markers+lines",
         "name": "",
         "orientation": "v",
         "showlegend": false,
         "type": "scatter",
         "x": [
          0,
          0.0537190082644628,
          0.0751802265705458,
          0.0909090909090909,
          0.1111111111111111,
          0.1428571428571428,
          0.1666666666666666,
          0.2,
          0.2307692307692307,
          0.25,
          0.2727272727272727,
          0.3333333333333333,
          0.4,
          0.4285714285714285,
          0.4545454545454545,
          0.4639175257731959,
          0.4666666666666667,
          0.5,
          0.5384615384615384,
          0.5555555555555556,
          0.5714285714285714,
          0.6,
          0.6363636363636364,
          0.6404040404040404,
          0.6666666666666666,
          0.6926188068756319,
          0.7142857142857143,
          0.75,
          0.7777777777777778,
          0.8,
          0.8181818181818182,
          0.8260869565217391,
          0.8333333333333334,
          0.8461538461538461,
          0.870236869207003,
          0.875,
          0.8766700924974307,
          0.8839103869653768,
          0.9444444444444444,
          1
         ],
         "xaxis": "x",
         "y": [
          0.023936170212765957,
          0.023974714770274436,
          0.024013259327782914,
          0.024283071230342273,
          0.07423681776133209,
          0.07581714461917977,
          0.07593277829170521,
          0.08564600678384211,
          0.0856845513413506,
          0.08857539315448658,
          0.08892229417206289,
          0.2625269811902559,
          0.26499383287079864,
          0.26722941720629045,
          0.2674992291088498,
          0.2675377736663583,
          0.26761486278137525,
          0.3191489361702127,
          0.31926456984273816,
          0.4023666358310206,
          0.4024437249460376,
          0.41890225100215844,
          0.4194418748072772,
          0.41948041936478564,
          0.4386756090040086,
          0.43871415356151705,
          0.44241443108233114,
          0.44846592661116247,
          0.5702281837804501,
          0.5742368177613321,
          0.5749691643539931,
          0.5750077089115017,
          0.575431699044095,
          0.5754702436016035,
          0.575508788159112,
          0.5755473327166205,
          0.575585877274129,
          0.5756244218316375,
          0.575662966389146,
          1.0000000000000002
         ],
         "yaxis": "y"
        }
       ],
       "layout": {
        "legend": {
         "tracegroupgap": 0
        },
        "template": {
         "data": {
          "bar": [
           {
            "error_x": {
             "color": "#2a3f5f"
            },
            "error_y": {
             "color": "#2a3f5f"
            },
            "marker": {
             "line": {
              "color": "#E5ECF6",
              "width": 0.5
             },
             "pattern": {
              "fillmode": "overlay",
              "size": 10,
              "solidity": 0.2
             }
            },
            "type": "bar"
           }
          ],
          "barpolar": [
           {
            "marker": {
             "line": {
              "color": "#E5ECF6",
              "width": 0.5
             },
             "pattern": {
              "fillmode": "overlay",
              "size": 10,
              "solidity": 0.2
             }
            },
            "type": "barpolar"
           }
          ],
          "carpet": [
           {
            "aaxis": {
             "endlinecolor": "#2a3f5f",
             "gridcolor": "white",
             "linecolor": "white",
             "minorgridcolor": "white",
             "startlinecolor": "#2a3f5f"
            },
            "baxis": {
             "endlinecolor": "#2a3f5f",
             "gridcolor": "white",
             "linecolor": "white",
             "minorgridcolor": "white",
             "startlinecolor": "#2a3f5f"
            },
            "type": "carpet"
           }
          ],
          "choropleth": [
           {
            "colorbar": {
             "outlinewidth": 0,
             "ticks": ""
            },
            "type": "choropleth"
           }
          ],
          "contour": [
           {
            "colorbar": {
             "outlinewidth": 0,
             "ticks": ""
            },
            "colorscale": [
             [
              0,
              "#0d0887"
             ],
             [
              0.1111111111111111,
              "#46039f"
             ],
             [
              0.2222222222222222,
              "#7201a8"
             ],
             [
              0.3333333333333333,
              "#9c179e"
             ],
             [
              0.4444444444444444,
              "#bd3786"
             ],
             [
              0.5555555555555556,
              "#d8576b"
             ],
             [
              0.6666666666666666,
              "#ed7953"
             ],
             [
              0.7777777777777778,
              "#fb9f3a"
             ],
             [
              0.8888888888888888,
              "#fdca26"
             ],
             [
              1,
              "#f0f921"
             ]
            ],
            "type": "contour"
           }
          ],
          "contourcarpet": [
           {
            "colorbar": {
             "outlinewidth": 0,
             "ticks": ""
            },
            "type": "contourcarpet"
           }
          ],
          "heatmap": [
           {
            "colorbar": {
             "outlinewidth": 0,
             "ticks": ""
            },
            "colorscale": [
             [
              0,
              "#0d0887"
             ],
             [
              0.1111111111111111,
              "#46039f"
             ],
             [
              0.2222222222222222,
              "#7201a8"
             ],
             [
              0.3333333333333333,
              "#9c179e"
             ],
             [
              0.4444444444444444,
              "#bd3786"
             ],
             [
              0.5555555555555556,
              "#d8576b"
             ],
             [
              0.6666666666666666,
              "#ed7953"
             ],
             [
              0.7777777777777778,
              "#fb9f3a"
             ],
             [
              0.8888888888888888,
              "#fdca26"
             ],
             [
              1,
              "#f0f921"
             ]
            ],
            "type": "heatmap"
           }
          ],
          "heatmapgl": [
           {
            "colorbar": {
             "outlinewidth": 0,
             "ticks": ""
            },
            "colorscale": [
             [
              0,
              "#0d0887"
             ],
             [
              0.1111111111111111,
              "#46039f"
             ],
             [
              0.2222222222222222,
              "#7201a8"
             ],
             [
              0.3333333333333333,
              "#9c179e"
             ],
             [
              0.4444444444444444,
              "#bd3786"
             ],
             [
              0.5555555555555556,
              "#d8576b"
             ],
             [
              0.6666666666666666,
              "#ed7953"
             ],
             [
              0.7777777777777778,
              "#fb9f3a"
             ],
             [
              0.8888888888888888,
              "#fdca26"
             ],
             [
              1,
              "#f0f921"
             ]
            ],
            "type": "heatmapgl"
           }
          ],
          "histogram": [
           {
            "marker": {
             "pattern": {
              "fillmode": "overlay",
              "size": 10,
              "solidity": 0.2
             }
            },
            "type": "histogram"
           }
          ],
          "histogram2d": [
           {
            "colorbar": {
             "outlinewidth": 0,
             "ticks": ""
            },
            "colorscale": [
             [
              0,
              "#0d0887"
             ],
             [
              0.1111111111111111,
              "#46039f"
             ],
             [
              0.2222222222222222,
              "#7201a8"
             ],
             [
              0.3333333333333333,
              "#9c179e"
             ],
             [
              0.4444444444444444,
              "#bd3786"
             ],
             [
              0.5555555555555556,
              "#d8576b"
             ],
             [
              0.6666666666666666,
              "#ed7953"
             ],
             [
              0.7777777777777778,
              "#fb9f3a"
             ],
             [
              0.8888888888888888,
              "#fdca26"
             ],
             [
              1,
              "#f0f921"
             ]
            ],
            "type": "histogram2d"
           }
          ],
          "histogram2dcontour": [
           {
            "colorbar": {
             "outlinewidth": 0,
             "ticks": ""
            },
            "colorscale": [
             [
              0,
              "#0d0887"
             ],
             [
              0.1111111111111111,
              "#46039f"
             ],
             [
              0.2222222222222222,
              "#7201a8"
             ],
             [
              0.3333333333333333,
              "#9c179e"
             ],
             [
              0.4444444444444444,
              "#bd3786"
             ],
             [
              0.5555555555555556,
              "#d8576b"
             ],
             [
              0.6666666666666666,
              "#ed7953"
             ],
             [
              0.7777777777777778,
              "#fb9f3a"
             ],
             [
              0.8888888888888888,
              "#fdca26"
             ],
             [
              1,
              "#f0f921"
             ]
            ],
            "type": "histogram2dcontour"
           }
          ],
          "mesh3d": [
           {
            "colorbar": {
             "outlinewidth": 0,
             "ticks": ""
            },
            "type": "mesh3d"
           }
          ],
          "parcoords": [
           {
            "line": {
             "colorbar": {
              "outlinewidth": 0,
              "ticks": ""
             }
            },
            "type": "parcoords"
           }
          ],
          "pie": [
           {
            "automargin": true,
            "type": "pie"
           }
          ],
          "scatter": [
           {
            "marker": {
             "colorbar": {
              "outlinewidth": 0,
              "ticks": ""
             }
            },
            "type": "scatter"
           }
          ],
          "scatter3d": [
           {
            "line": {
             "colorbar": {
              "outlinewidth": 0,
              "ticks": ""
             }
            },
            "marker": {
             "colorbar": {
              "outlinewidth": 0,
              "ticks": ""
             }
            },
            "type": "scatter3d"
           }
          ],
          "scattercarpet": [
           {
            "marker": {
             "colorbar": {
              "outlinewidth": 0,
              "ticks": ""
             }
            },
            "type": "scattercarpet"
           }
          ],
          "scattergeo": [
           {
            "marker": {
             "colorbar": {
              "outlinewidth": 0,
              "ticks": ""
             }
            },
            "type": "scattergeo"
           }
          ],
          "scattergl": [
           {
            "marker": {
             "colorbar": {
              "outlinewidth": 0,
              "ticks": ""
             }
            },
            "type": "scattergl"
           }
          ],
          "scattermapbox": [
           {
            "marker": {
             "colorbar": {
              "outlinewidth": 0,
              "ticks": ""
             }
            },
            "type": "scattermapbox"
           }
          ],
          "scatterpolar": [
           {
            "marker": {
             "colorbar": {
              "outlinewidth": 0,
              "ticks": ""
             }
            },
            "type": "scatterpolar"
           }
          ],
          "scatterpolargl": [
           {
            "marker": {
             "colorbar": {
              "outlinewidth": 0,
              "ticks": ""
             }
            },
            "type": "scatterpolargl"
           }
          ],
          "scatterternary": [
           {
            "marker": {
             "colorbar": {
              "outlinewidth": 0,
              "ticks": ""
             }
            },
            "type": "scatterternary"
           }
          ],
          "surface": [
           {
            "colorbar": {
             "outlinewidth": 0,
             "ticks": ""
            },
            "colorscale": [
             [
              0,
              "#0d0887"
             ],
             [
              0.1111111111111111,
              "#46039f"
             ],
             [
              0.2222222222222222,
              "#7201a8"
             ],
             [
              0.3333333333333333,
              "#9c179e"
             ],
             [
              0.4444444444444444,
              "#bd3786"
             ],
             [
              0.5555555555555556,
              "#d8576b"
             ],
             [
              0.6666666666666666,
              "#ed7953"
             ],
             [
              0.7777777777777778,
              "#fb9f3a"
             ],
             [
              0.8888888888888888,
              "#fdca26"
             ],
             [
              1,
              "#f0f921"
             ]
            ],
            "type": "surface"
           }
          ],
          "table": [
           {
            "cells": {
             "fill": {
              "color": "#EBF0F8"
             },
             "line": {
              "color": "white"
             }
            },
            "header": {
             "fill": {
              "color": "#C8D4E3"
             },
             "line": {
              "color": "white"
             }
            },
            "type": "table"
           }
          ]
         },
         "layout": {
          "annotationdefaults": {
           "arrowcolor": "#2a3f5f",
           "arrowhead": 0,
           "arrowwidth": 1
          },
          "autotypenumbers": "strict",
          "coloraxis": {
           "colorbar": {
            "outlinewidth": 0,
            "ticks": ""
           }
          },
          "colorscale": {
           "diverging": [
            [
             0,
             "#8e0152"
            ],
            [
             0.1,
             "#c51b7d"
            ],
            [
             0.2,
             "#de77ae"
            ],
            [
             0.3,
             "#f1b6da"
            ],
            [
             0.4,
             "#fde0ef"
            ],
            [
             0.5,
             "#f7f7f7"
            ],
            [
             0.6,
             "#e6f5d0"
            ],
            [
             0.7,
             "#b8e186"
            ],
            [
             0.8,
             "#7fbc41"
            ],
            [
             0.9,
             "#4d9221"
            ],
            [
             1,
             "#276419"
            ]
           ],
           "sequential": [
            [
             0,
             "#0d0887"
            ],
            [
             0.1111111111111111,
             "#46039f"
            ],
            [
             0.2222222222222222,
             "#7201a8"
            ],
            [
             0.3333333333333333,
             "#9c179e"
            ],
            [
             0.4444444444444444,
             "#bd3786"
            ],
            [
             0.5555555555555556,
             "#d8576b"
            ],
            [
             0.6666666666666666,
             "#ed7953"
            ],
            [
             0.7777777777777778,
             "#fb9f3a"
            ],
            [
             0.8888888888888888,
             "#fdca26"
            ],
            [
             1,
             "#f0f921"
            ]
           ],
           "sequentialminus": [
            [
             0,
             "#0d0887"
            ],
            [
             0.1111111111111111,
             "#46039f"
            ],
            [
             0.2222222222222222,
             "#7201a8"
            ],
            [
             0.3333333333333333,
             "#9c179e"
            ],
            [
             0.4444444444444444,
             "#bd3786"
            ],
            [
             0.5555555555555556,
             "#d8576b"
            ],
            [
             0.6666666666666666,
             "#ed7953"
            ],
            [
             0.7777777777777778,
             "#fb9f3a"
            ],
            [
             0.8888888888888888,
             "#fdca26"
            ],
            [
             1,
             "#f0f921"
            ]
           ]
          },
          "colorway": [
           "#636efa",
           "#EF553B",
           "#00cc96",
           "#ab63fa",
           "#FFA15A",
           "#19d3f3",
           "#FF6692",
           "#B6E880",
           "#FF97FF",
           "#FECB52"
          ],
          "font": {
           "color": "#2a3f5f"
          },
          "geo": {
           "bgcolor": "white",
           "lakecolor": "white",
           "landcolor": "#E5ECF6",
           "showlakes": true,
           "showland": true,
           "subunitcolor": "white"
          },
          "hoverlabel": {
           "align": "left"
          },
          "hovermode": "closest",
          "mapbox": {
           "style": "light"
          },
          "paper_bgcolor": "white",
          "plot_bgcolor": "#E5ECF6",
          "polar": {
           "angularaxis": {
            "gridcolor": "white",
            "linecolor": "white",
            "ticks": ""
           },
           "bgcolor": "#E5ECF6",
           "radialaxis": {
            "gridcolor": "white",
            "linecolor": "white",
            "ticks": ""
           }
          },
          "scene": {
           "xaxis": {
            "backgroundcolor": "#E5ECF6",
            "gridcolor": "white",
            "gridwidth": 2,
            "linecolor": "white",
            "showbackground": true,
            "ticks": "",
            "zerolinecolor": "white"
           },
           "yaxis": {
            "backgroundcolor": "#E5ECF6",
            "gridcolor": "white",
            "gridwidth": 2,
            "linecolor": "white",
            "showbackground": true,
            "ticks": "",
            "zerolinecolor": "white"
           },
           "zaxis": {
            "backgroundcolor": "#E5ECF6",
            "gridcolor": "white",
            "gridwidth": 2,
            "linecolor": "white",
            "showbackground": true,
            "ticks": "",
            "zerolinecolor": "white"
           }
          },
          "shapedefaults": {
           "line": {
            "color": "#2a3f5f"
           }
          },
          "ternary": {
           "aaxis": {
            "gridcolor": "white",
            "linecolor": "white",
            "ticks": ""
           },
           "baxis": {
            "gridcolor": "white",
            "linecolor": "white",
            "ticks": ""
           },
           "bgcolor": "#E5ECF6",
           "caxis": {
            "gridcolor": "white",
            "linecolor": "white",
            "ticks": ""
           }
          },
          "title": {
           "x": 0.05
          },
          "xaxis": {
           "automargin": true,
           "gridcolor": "white",
           "linecolor": "white",
           "ticks": "",
           "title": {
            "standoff": 15
           },
           "zerolinecolor": "white",
           "zerolinewidth": 2
          },
          "yaxis": {
           "automargin": true,
           "gridcolor": "white",
           "linecolor": "white",
           "ticks": "",
           "title": {
            "standoff": 15
           },
           "zerolinecolor": "white",
           "zerolinewidth": 2
          }
         }
        },
        "title": {
         "text": "Figure 1. Cumulative Distribution Function of the Agreement Score"
        },
        "xaxis": {
         "anchor": "y",
         "domain": [
          0,
          1
         ],
         "dtick": 0.1,
         "title": {
          "text": "Agreement Score"
         }
        },
        "yaxis": {
         "anchor": "x",
         "domain": [
          0,
          1
         ],
         "dtick": 0.25,
         "title": {
          "text": "Cumulative Probability"
         }
        }
       }
      }
     },
     "metadata": {},
     "output_type": "display_data"
    }
   ],
   "source": [
    "# Visualize cumulative probability of agreement scores\n",
    "fig = px.line(\n",
    "    data_frame=train_lambda,\n",
    "    x='agreement',\n",
    "    y='p_sum',\n",
    "    markers=True,\n",
    "    labels={\n",
    "        'agreement': 'Agreement Score',\n",
    "        'p_sum': 'Cumulative Probability'\n",
    "    },\n",
    "    color_discrete_sequence=['#1f77b4'],\n",
    "    title='Figure 1. Cumulative Distribution Function of the Agreement Score'\n",
    ")\n",
    "\n",
    "fig.update_traces(hovertemplate='Agreement score: %{x:.2f}<br>Cumulative probability: %{y:.2f}')\n",
    "fig.update_layout(\n",
    "    xaxis={'dtick': 0.1},\n",
    "    yaxis={'dtick': 0.25}\n",
    ")\n",
    "fig.show()\n"
   ]
  },
  {
   "cell_type": "code",
   "execution_count": 129,
   "metadata": {},
   "outputs": [
    {
     "name": "stdout",
     "output_type": "stream",
     "text": [
      "Shape before: (25944, 8)\n",
      "Shape after : (10370, 8)\n"
     ]
    }
   ],
   "source": [
    "def sdg_selector(df):\n",
    "    \"\"\"\n",
    "    Filters rows of a Pandas DataFrame based on the values in the 'agreement' and 'labels_positive' columns.\n",
    "    Only keeps rows where 'agreement' is at least 0.94 and 'labels_positive' is greater than 'labels_negative'.\n",
    "    \n",
    "    Parameters:\n",
    "    df (pandas.DataFrame): The dataframe to filter.\n",
    "    \"\"\"\n",
    "    print('Shape before:', df.shape)\n",
    "    df = df.query('agreement >= 0.94 and labels_positive > labels_negative').copy()\n",
    "    print('Shape after :', df.shape)\n",
    "    \n",
    "# Apply function to train data\n",
    "sdg_selector(df_train)\n"
   ]
  },
  {
   "cell_type": "code",
   "execution_count": 130,
   "metadata": {},
   "outputs": [
    {
     "name": "stdout",
     "output_type": "stream",
     "text": [
      "Shape: (15, 3)\n"
     ]
    },
    {
     "data": {
      "text/html": [
       "<div>\n",
       "<style scoped>\n",
       "    .dataframe tbody tr th:only-of-type {\n",
       "        vertical-align: middle;\n",
       "    }\n",
       "\n",
       "    .dataframe tbody tr th {\n",
       "        vertical-align: top;\n",
       "    }\n",
       "\n",
       "    .dataframe thead th {\n",
       "        text-align: right;\n",
       "    }\n",
       "</style>\n",
       "<table border=\"1\" class=\"dataframe\">\n",
       "  <thead>\n",
       "    <tr style=\"text-align: right;\">\n",
       "      <th></th>\n",
       "      <th>sdg</th>\n",
       "      <th>count</th>\n",
       "      <th>share</th>\n",
       "    </tr>\n",
       "  </thead>\n",
       "  <tbody>\n",
       "    <tr>\n",
       "      <th>0</th>\n",
       "      <td>1</td>\n",
       "      <td>685</td>\n",
       "      <td>6.221617</td>\n",
       "    </tr>\n",
       "    <tr>\n",
       "      <th>1</th>\n",
       "      <td>2</td>\n",
       "      <td>535</td>\n",
       "      <td>4.859219</td>\n",
       "    </tr>\n",
       "    <tr>\n",
       "      <th>2</th>\n",
       "      <td>3</td>\n",
       "      <td>1199</td>\n",
       "      <td>10.890100</td>\n",
       "    </tr>\n",
       "    <tr>\n",
       "      <th>3</th>\n",
       "      <td>4</td>\n",
       "      <td>1390</td>\n",
       "      <td>12.624886</td>\n",
       "    </tr>\n",
       "    <tr>\n",
       "      <th>4</th>\n",
       "      <td>5</td>\n",
       "      <td>1512</td>\n",
       "      <td>13.732970</td>\n",
       "    </tr>\n",
       "  </tbody>\n",
       "</table>\n",
       "</div>"
      ],
      "text/plain": [
       "   sdg  count      share\n",
       "0    1    685   6.221617\n",
       "1    2    535   4.859219\n",
       "2    3   1199  10.890100\n",
       "3    4   1390  12.624886\n",
       "4    5   1512  13.732970"
      ]
     },
     "metadata": {},
     "output_type": "display_data"
    }
   ],
   "source": [
    "# Create dataframe showing distribution of texts (agreement > 0.94) across SDGs\n",
    "train_lambda = df_train.query('agreement >= 0.94').groupby('sdg', as_index=False).agg(count=('text_id', 'count'))\n",
    "train_lambda['share'] = train_lambda['count'].divide(train_lambda['count'].sum()).multiply(100)\n",
    "print('Shape:', train_lambda.shape)\n",
    "display(train_lambda.head())\n"
   ]
  },
  {
   "cell_type": "code",
   "execution_count": 131,
   "metadata": {},
   "outputs": [
    {
     "data": {
      "application/vnd.plotly.v1+json": {
       "config": {
        "plotlyServerURL": "https://plot.ly"
       },
       "data": [
        {
         "alignmentgroup": "True",
         "hovertemplate": "SDG %{x}<br>Count: %{y}",
         "legendgroup": "",
         "marker": {
          "color": "#1f77b4",
          "pattern": {
           "shape": ""
          }
         },
         "name": "",
         "offsetgroup": "",
         "orientation": "v",
         "showlegend": false,
         "textposition": "auto",
         "type": "bar",
         "x": [
          1,
          2,
          3,
          4,
          5,
          6,
          7,
          8,
          9,
          10,
          11,
          12,
          13,
          14,
          15
         ],
         "xaxis": "x",
         "y": [
          1084,
          775,
          1533,
          2013,
          2236,
          1223,
          1629,
          740,
          546,
          403,
          1068,
          203,
          934,
          652,
          464
         ],
         "yaxis": "y"
        }
       ],
       "layout": {
        "barmode": "relative",
        "legend": {
         "tracegroupgap": 0
        },
        "template": {
         "data": {
          "bar": [
           {
            "error_x": {
             "color": "#2a3f5f"
            },
            "error_y": {
             "color": "#2a3f5f"
            },
            "marker": {
             "line": {
              "color": "#E5ECF6",
              "width": 0.5
             },
             "pattern": {
              "fillmode": "overlay",
              "size": 10,
              "solidity": 0.2
             }
            },
            "type": "bar"
           }
          ],
          "barpolar": [
           {
            "marker": {
             "line": {
              "color": "#E5ECF6",
              "width": 0.5
             },
             "pattern": {
              "fillmode": "overlay",
              "size": 10,
              "solidity": 0.2
             }
            },
            "type": "barpolar"
           }
          ],
          "carpet": [
           {
            "aaxis": {
             "endlinecolor": "#2a3f5f",
             "gridcolor": "white",
             "linecolor": "white",
             "minorgridcolor": "white",
             "startlinecolor": "#2a3f5f"
            },
            "baxis": {
             "endlinecolor": "#2a3f5f",
             "gridcolor": "white",
             "linecolor": "white",
             "minorgridcolor": "white",
             "startlinecolor": "#2a3f5f"
            },
            "type": "carpet"
           }
          ],
          "choropleth": [
           {
            "colorbar": {
             "outlinewidth": 0,
             "ticks": ""
            },
            "type": "choropleth"
           }
          ],
          "contour": [
           {
            "colorbar": {
             "outlinewidth": 0,
             "ticks": ""
            },
            "colorscale": [
             [
              0,
              "#0d0887"
             ],
             [
              0.1111111111111111,
              "#46039f"
             ],
             [
              0.2222222222222222,
              "#7201a8"
             ],
             [
              0.3333333333333333,
              "#9c179e"
             ],
             [
              0.4444444444444444,
              "#bd3786"
             ],
             [
              0.5555555555555556,
              "#d8576b"
             ],
             [
              0.6666666666666666,
              "#ed7953"
             ],
             [
              0.7777777777777778,
              "#fb9f3a"
             ],
             [
              0.8888888888888888,
              "#fdca26"
             ],
             [
              1,
              "#f0f921"
             ]
            ],
            "type": "contour"
           }
          ],
          "contourcarpet": [
           {
            "colorbar": {
             "outlinewidth": 0,
             "ticks": ""
            },
            "type": "contourcarpet"
           }
          ],
          "heatmap": [
           {
            "colorbar": {
             "outlinewidth": 0,
             "ticks": ""
            },
            "colorscale": [
             [
              0,
              "#0d0887"
             ],
             [
              0.1111111111111111,
              "#46039f"
             ],
             [
              0.2222222222222222,
              "#7201a8"
             ],
             [
              0.3333333333333333,
              "#9c179e"
             ],
             [
              0.4444444444444444,
              "#bd3786"
             ],
             [
              0.5555555555555556,
              "#d8576b"
             ],
             [
              0.6666666666666666,
              "#ed7953"
             ],
             [
              0.7777777777777778,
              "#fb9f3a"
             ],
             [
              0.8888888888888888,
              "#fdca26"
             ],
             [
              1,
              "#f0f921"
             ]
            ],
            "type": "heatmap"
           }
          ],
          "heatmapgl": [
           {
            "colorbar": {
             "outlinewidth": 0,
             "ticks": ""
            },
            "colorscale": [
             [
              0,
              "#0d0887"
             ],
             [
              0.1111111111111111,
              "#46039f"
             ],
             [
              0.2222222222222222,
              "#7201a8"
             ],
             [
              0.3333333333333333,
              "#9c179e"
             ],
             [
              0.4444444444444444,
              "#bd3786"
             ],
             [
              0.5555555555555556,
              "#d8576b"
             ],
             [
              0.6666666666666666,
              "#ed7953"
             ],
             [
              0.7777777777777778,
              "#fb9f3a"
             ],
             [
              0.8888888888888888,
              "#fdca26"
             ],
             [
              1,
              "#f0f921"
             ]
            ],
            "type": "heatmapgl"
           }
          ],
          "histogram": [
           {
            "marker": {
             "pattern": {
              "fillmode": "overlay",
              "size": 10,
              "solidity": 0.2
             }
            },
            "type": "histogram"
           }
          ],
          "histogram2d": [
           {
            "colorbar": {
             "outlinewidth": 0,
             "ticks": ""
            },
            "colorscale": [
             [
              0,
              "#0d0887"
             ],
             [
              0.1111111111111111,
              "#46039f"
             ],
             [
              0.2222222222222222,
              "#7201a8"
             ],
             [
              0.3333333333333333,
              "#9c179e"
             ],
             [
              0.4444444444444444,
              "#bd3786"
             ],
             [
              0.5555555555555556,
              "#d8576b"
             ],
             [
              0.6666666666666666,
              "#ed7953"
             ],
             [
              0.7777777777777778,
              "#fb9f3a"
             ],
             [
              0.8888888888888888,
              "#fdca26"
             ],
             [
              1,
              "#f0f921"
             ]
            ],
            "type": "histogram2d"
           }
          ],
          "histogram2dcontour": [
           {
            "colorbar": {
             "outlinewidth": 0,
             "ticks": ""
            },
            "colorscale": [
             [
              0,
              "#0d0887"
             ],
             [
              0.1111111111111111,
              "#46039f"
             ],
             [
              0.2222222222222222,
              "#7201a8"
             ],
             [
              0.3333333333333333,
              "#9c179e"
             ],
             [
              0.4444444444444444,
              "#bd3786"
             ],
             [
              0.5555555555555556,
              "#d8576b"
             ],
             [
              0.6666666666666666,
              "#ed7953"
             ],
             [
              0.7777777777777778,
              "#fb9f3a"
             ],
             [
              0.8888888888888888,
              "#fdca26"
             ],
             [
              1,
              "#f0f921"
             ]
            ],
            "type": "histogram2dcontour"
           }
          ],
          "mesh3d": [
           {
            "colorbar": {
             "outlinewidth": 0,
             "ticks": ""
            },
            "type": "mesh3d"
           }
          ],
          "parcoords": [
           {
            "line": {
             "colorbar": {
              "outlinewidth": 0,
              "ticks": ""
             }
            },
            "type": "parcoords"
           }
          ],
          "pie": [
           {
            "automargin": true,
            "type": "pie"
           }
          ],
          "scatter": [
           {
            "marker": {
             "colorbar": {
              "outlinewidth": 0,
              "ticks": ""
             }
            },
            "type": "scatter"
           }
          ],
          "scatter3d": [
           {
            "line": {
             "colorbar": {
              "outlinewidth": 0,
              "ticks": ""
             }
            },
            "marker": {
             "colorbar": {
              "outlinewidth": 0,
              "ticks": ""
             }
            },
            "type": "scatter3d"
           }
          ],
          "scattercarpet": [
           {
            "marker": {
             "colorbar": {
              "outlinewidth": 0,
              "ticks": ""
             }
            },
            "type": "scattercarpet"
           }
          ],
          "scattergeo": [
           {
            "marker": {
             "colorbar": {
              "outlinewidth": 0,
              "ticks": ""
             }
            },
            "type": "scattergeo"
           }
          ],
          "scattergl": [
           {
            "marker": {
             "colorbar": {
              "outlinewidth": 0,
              "ticks": ""
             }
            },
            "type": "scattergl"
           }
          ],
          "scattermapbox": [
           {
            "marker": {
             "colorbar": {
              "outlinewidth": 0,
              "ticks": ""
             }
            },
            "type": "scattermapbox"
           }
          ],
          "scatterpolar": [
           {
            "marker": {
             "colorbar": {
              "outlinewidth": 0,
              "ticks": ""
             }
            },
            "type": "scatterpolar"
           }
          ],
          "scatterpolargl": [
           {
            "marker": {
             "colorbar": {
              "outlinewidth": 0,
              "ticks": ""
             }
            },
            "type": "scatterpolargl"
           }
          ],
          "scatterternary": [
           {
            "marker": {
             "colorbar": {
              "outlinewidth": 0,
              "ticks": ""
             }
            },
            "type": "scatterternary"
           }
          ],
          "surface": [
           {
            "colorbar": {
             "outlinewidth": 0,
             "ticks": ""
            },
            "colorscale": [
             [
              0,
              "#0d0887"
             ],
             [
              0.1111111111111111,
              "#46039f"
             ],
             [
              0.2222222222222222,
              "#7201a8"
             ],
             [
              0.3333333333333333,
              "#9c179e"
             ],
             [
              0.4444444444444444,
              "#bd3786"
             ],
             [
              0.5555555555555556,
              "#d8576b"
             ],
             [
              0.6666666666666666,
              "#ed7953"
             ],
             [
              0.7777777777777778,
              "#fb9f3a"
             ],
             [
              0.8888888888888888,
              "#fdca26"
             ],
             [
              1,
              "#f0f921"
             ]
            ],
            "type": "surface"
           }
          ],
          "table": [
           {
            "cells": {
             "fill": {
              "color": "#EBF0F8"
             },
             "line": {
              "color": "white"
             }
            },
            "header": {
             "fill": {
              "color": "#C8D4E3"
             },
             "line": {
              "color": "white"
             }
            },
            "type": "table"
           }
          ]
         },
         "layout": {
          "annotationdefaults": {
           "arrowcolor": "#2a3f5f",
           "arrowhead": 0,
           "arrowwidth": 1
          },
          "autotypenumbers": "strict",
          "coloraxis": {
           "colorbar": {
            "outlinewidth": 0,
            "ticks": ""
           }
          },
          "colorscale": {
           "diverging": [
            [
             0,
             "#8e0152"
            ],
            [
             0.1,
             "#c51b7d"
            ],
            [
             0.2,
             "#de77ae"
            ],
            [
             0.3,
             "#f1b6da"
            ],
            [
             0.4,
             "#fde0ef"
            ],
            [
             0.5,
             "#f7f7f7"
            ],
            [
             0.6,
             "#e6f5d0"
            ],
            [
             0.7,
             "#b8e186"
            ],
            [
             0.8,
             "#7fbc41"
            ],
            [
             0.9,
             "#4d9221"
            ],
            [
             1,
             "#276419"
            ]
           ],
           "sequential": [
            [
             0,
             "#0d0887"
            ],
            [
             0.1111111111111111,
             "#46039f"
            ],
            [
             0.2222222222222222,
             "#7201a8"
            ],
            [
             0.3333333333333333,
             "#9c179e"
            ],
            [
             0.4444444444444444,
             "#bd3786"
            ],
            [
             0.5555555555555556,
             "#d8576b"
            ],
            [
             0.6666666666666666,
             "#ed7953"
            ],
            [
             0.7777777777777778,
             "#fb9f3a"
            ],
            [
             0.8888888888888888,
             "#fdca26"
            ],
            [
             1,
             "#f0f921"
            ]
           ],
           "sequentialminus": [
            [
             0,
             "#0d0887"
            ],
            [
             0.1111111111111111,
             "#46039f"
            ],
            [
             0.2222222222222222,
             "#7201a8"
            ],
            [
             0.3333333333333333,
             "#9c179e"
            ],
            [
             0.4444444444444444,
             "#bd3786"
            ],
            [
             0.5555555555555556,
             "#d8576b"
            ],
            [
             0.6666666666666666,
             "#ed7953"
            ],
            [
             0.7777777777777778,
             "#fb9f3a"
            ],
            [
             0.8888888888888888,
             "#fdca26"
            ],
            [
             1,
             "#f0f921"
            ]
           ]
          },
          "colorway": [
           "#636efa",
           "#EF553B",
           "#00cc96",
           "#ab63fa",
           "#FFA15A",
           "#19d3f3",
           "#FF6692",
           "#B6E880",
           "#FF97FF",
           "#FECB52"
          ],
          "font": {
           "color": "#2a3f5f"
          },
          "geo": {
           "bgcolor": "white",
           "lakecolor": "white",
           "landcolor": "#E5ECF6",
           "showlakes": true,
           "showland": true,
           "subunitcolor": "white"
          },
          "hoverlabel": {
           "align": "left"
          },
          "hovermode": "closest",
          "mapbox": {
           "style": "light"
          },
          "paper_bgcolor": "white",
          "plot_bgcolor": "#E5ECF6",
          "polar": {
           "angularaxis": {
            "gridcolor": "white",
            "linecolor": "white",
            "ticks": ""
           },
           "bgcolor": "#E5ECF6",
           "radialaxis": {
            "gridcolor": "white",
            "linecolor": "white",
            "ticks": ""
           }
          },
          "scene": {
           "xaxis": {
            "backgroundcolor": "#E5ECF6",
            "gridcolor": "white",
            "gridwidth": 2,
            "linecolor": "white",
            "showbackground": true,
            "ticks": "",
            "zerolinecolor": "white"
           },
           "yaxis": {
            "backgroundcolor": "#E5ECF6",
            "gridcolor": "white",
            "gridwidth": 2,
            "linecolor": "white",
            "showbackground": true,
            "ticks": "",
            "zerolinecolor": "white"
           },
           "zaxis": {
            "backgroundcolor": "#E5ECF6",
            "gridcolor": "white",
            "gridwidth": 2,
            "linecolor": "white",
            "showbackground": true,
            "ticks": "",
            "zerolinecolor": "white"
           }
          },
          "shapedefaults": {
           "line": {
            "color": "#2a3f5f"
           }
          },
          "ternary": {
           "aaxis": {
            "gridcolor": "white",
            "linecolor": "white",
            "ticks": ""
           },
           "baxis": {
            "gridcolor": "white",
            "linecolor": "white",
            "ticks": ""
           },
           "bgcolor": "#E5ECF6",
           "caxis": {
            "gridcolor": "white",
            "linecolor": "white",
            "ticks": ""
           }
          },
          "title": {
           "x": 0.05
          },
          "xaxis": {
           "automargin": true,
           "gridcolor": "white",
           "linecolor": "white",
           "ticks": "",
           "title": {
            "standoff": 15
           },
           "zerolinecolor": "white",
           "zerolinewidth": 2
          },
          "yaxis": {
           "automargin": true,
           "gridcolor": "white",
           "linecolor": "white",
           "ticks": "",
           "title": {
            "standoff": 15
           },
           "zerolinecolor": "white",
           "zerolinewidth": 2
          }
         }
        },
        "title": {
         "text": "Figure 2. Distribution of Texts (Agreement > 0.6) over SDGs"
        },
        "xaxis": {
         "anchor": "y",
         "domain": [
          0,
          1
         ],
         "title": {
          "text": "SDG"
         },
         "type": "category"
        },
        "yaxis": {
         "anchor": "x",
         "domain": [
          0,
          1
         ],
         "title": {
          "text": "Count"
         }
        }
       }
      }
     },
     "metadata": {},
     "output_type": "display_data"
    }
   ],
   "source": [
    "# Plot bar chart of distribution of texts (agreement > 0.6) across SDGs\n",
    "fig = px.bar(\n",
    "    data_frame=df_train.query('agreement >= 0.6').groupby('sdg', as_index=False).agg(count=('text_id', 'count')),\n",
    "    x='sdg',\n",
    "    y='count',\n",
    "    labels={\n",
    "        'sdg': 'SDG',\n",
    "        'count': 'Count'\n",
    "    },\n",
    "    color_discrete_sequence=['#1f77b4'],\n",
    "    title='Figure 2. Distribution of Texts (Agreement > 0.6) over SDGs'\n",
    ")\n",
    "\n",
    "fig.update_traces(hovertemplate='SDG %{x}<br>Count: %{y}')\n",
    "fig.update_layout(xaxis={'type': 'category'})\n",
    "fig.show()\n"
   ]
  },
  {
   "cell_type": "markdown",
   "metadata": {},
   "source": [
    "#### Due to the presence of a non numerical column in our datasets, some preprocessing processes must be performed, including:\n",
    "\n",
    "\n",
    ">* letter casing :Converting all letters to upper case or lower case is called letter casing.\n",
    ">* Tokenization :Tokenizing refers to the process of converting texts to tokens. Words separated by spaces in a text are referred to as tokens.\n",
    ">* Noise removal: Unwanted characters such as HTML tags, punctuation marks, special characters, white spaces, and so on are removed.\n",
    ">* Stopwords should be removed because they don't contribute anything to the machine learning model. The nltk library can specify a list of stopwords, or it can be tailored to a particular company.\n",
    ">* Lemmatization: the process of reducing a word's several forms to a single form, such as converting \"builds,\" \"building,\" or \"built\" to the lemma.\n",
    "\n",
    "---"
   ]
  },
  {
   "cell_type": "markdown",
   "metadata": {},
   "source": [
    "## 2.2 <a id=\"removing_links\"><strong>Cleaning the data</strong></a>\n",
    "[Table of Contents](#contents)"
   ]
  },
  {
   "cell_type": "code",
   "execution_count": 132,
   "metadata": {},
   "outputs": [],
   "source": [
    "#removing links\n",
    "train['text'] = train['text'].str.replace('http\\S+|www.\\S+', '', case=False)\n",
    "train['text'] = train['text'].str.replace(r's*https?://S+(s+|$)', ' ',case=False).str.strip()\n",
    "test['text'] = test['text'].str.replace('http\\S+|www.\\S+', '', case=False)\n",
    "test['text'] = test['text'].str.replace(r's*https?://S+(s+|$)', ' ',case=False).str.strip()"
   ]
  },
  {
   "cell_type": "code",
   "execution_count": 133,
   "metadata": {},
   "outputs": [],
   "source": [
    "def preprocess(text):\n",
    "    \"\"\"\n",
    "    This function takes in a string of text, removes URL hyperlinks, stopwords,\n",
    "    punctuation noises, contractions, and lemmatizes the text. It returns a list\n",
    "    of lemmatized and cleaned words.\n",
    "    \"\"\"\n",
    "    # Initialize tokenizer and lemmatizer\n",
    "    tokenizer = TreebankWordTokenizer()\n",
    "    lemmatizer = WordNetLemmatizer()\n",
    "    stopwords_list = stopwords.words(\"english\")\n",
    "    point_noise = string.punctuation + \"0123456789\"\n",
    "\n",
    "    # Remove @mentions, '#' symbols, and \"RT\" from text\n",
    "    clean_text = re.sub(r\"@[a-zA-Z0-9\\_\\w]+\", \"\", text)\n",
    "    clean_text = re.sub(r\"#[a-zA-Z0-9]+\", \"\", clean_text)\n",
    "    clean_text = re.sub(r\"RT\", \"\", clean_text)\n",
    "\n",
    "    # Expand contractions\n",
    "    clean_text = re.sub(r\"won\\'t\", \"will not\", clean_text)\n",
    "    clean_text = re.sub(r\"can\\'t\", \"can not\", clean_text)\n",
    "    clean_text = re.sub(r\"also\", \"\", clean_text)\n",
    "    clean_text = re.sub(r\"n\\'t\", \" not\", clean_text)\n",
    "    clean_text = re.sub(r\"\\'re\", \" are\", clean_text)\n",
    "    clean_text = re.sub(r\"\\'s\", \" is\", clean_text)\n",
    "    clean_text = re.sub(r\"\\'d\", \" would\", clean_text)\n",
    "    clean_text = re.sub(r\"\\'ll\", \" will\", clean_text)\n",
    "    clean_text = re.sub(r\"\\'t\", \" not\", clean_text)\n",
    "    clean_text = re.sub(r\"\\'ve\", \" have\", clean_text)\n",
    "    clean_text = re.sub(r\"\\'m\", \" am\", clean_text)\n",
    "\n",
    "    # Remove punctuations and numbers\n",
    "    clean_text = \"\".join(word for word in clean_text if word not in point_noise)\n",
    "\n",
    "    # Lowercase text\n",
    "    clean_text = clean_text.lower()\n",
    "\n",
    "    # Remove non-ASCII characters\n",
    "    clean_text = \"\".join(word for word in clean_text if ord(word) < 128)\n",
    "\n",
    "    # Tokenize text\n",
    "    tokens = tokenizer.tokenize(clean_text)\n",
    "\n",
    "    # Lemmatize and remove stopwords\n",
    "    lemmas = [lemmatizer.lemmatize(word) for word in tokens if word not in stopwords_list]\n",
    "\n",
    "    # Remove words with length less than 2\n",
    "    clean_words = [word for word in lemmas if len(word) >= 2]\n",
    "\n",
    "    return clean_words\n"
   ]
  },
  {
   "cell_type": "code",
   "execution_count": 134,
   "metadata": {},
   "outputs": [],
   "source": [
    "# Count the number of words in each message\n",
    "train[\"Num Words\"] = train[\"text\"].apply(lambda s: len(s.split(\" \")))"
   ]
  },
  {
   "cell_type": "code",
   "execution_count": 135,
   "metadata": {},
   "outputs": [],
   "source": [
    "# Apply the preprocess function to the text columns in both the train and test data\n",
    "train[\"text\"] = train[\"text\"].apply(preprocess)\n",
    "test[\"text\"] = test[\"text\"].apply(preprocess)\n"
   ]
  },
  {
   "cell_type": "code",
   "execution_count": 136,
   "metadata": {},
   "outputs": [
    {
     "data": {
      "text/html": [
       "<div>\n",
       "<style scoped>\n",
       "    .dataframe tbody tr th:only-of-type {\n",
       "        vertical-align: middle;\n",
       "    }\n",
       "\n",
       "    .dataframe tbody tr th {\n",
       "        vertical-align: top;\n",
       "    }\n",
       "\n",
       "    .dataframe thead th {\n",
       "        text-align: right;\n",
       "    }\n",
       "</style>\n",
       "<table border=\"1\" class=\"dataframe\">\n",
       "  <thead>\n",
       "    <tr style=\"text-align: right;\">\n",
       "      <th></th>\n",
       "      <th>doi</th>\n",
       "      <th>text_id</th>\n",
       "      <th>text</th>\n",
       "      <th>sdg</th>\n",
       "      <th>labels_negative</th>\n",
       "      <th>labels_positive</th>\n",
       "      <th>agreement</th>\n",
       "      <th>id</th>\n",
       "      <th>Num Words</th>\n",
       "    </tr>\n",
       "  </thead>\n",
       "  <tbody>\n",
       "    <tr>\n",
       "      <th>0</th>\n",
       "      <td>10.18356/5950d914-en</td>\n",
       "      <td>bf7763beb5ad7a16764d1b7fa87ab018</td>\n",
       "      <td>[indicator, target, data, available, globally,...</td>\n",
       "      <td>9</td>\n",
       "      <td>4</td>\n",
       "      <td>5</td>\n",
       "      <td>0.111111</td>\n",
       "      <td>1</td>\n",
       "      <td>86</td>\n",
       "    </tr>\n",
       "    <tr>\n",
       "      <th>1</th>\n",
       "      <td>10.18356/5950d914-en</td>\n",
       "      <td>b6415a528064b85fdde4b4c61239ed3a</td>\n",
       "      <td>[manufacturing, value, added, percentage, gdp,...</td>\n",
       "      <td>9</td>\n",
       "      <td>0</td>\n",
       "      <td>3</td>\n",
       "      <td>1.000000</td>\n",
       "      <td>2</td>\n",
       "      <td>119</td>\n",
       "    </tr>\n",
       "    <tr>\n",
       "      <th>2</th>\n",
       "      <td>10.18356/31959a6d-en</td>\n",
       "      <td>29127def7e81b999b87c8e887a4fe882</td>\n",
       "      <td>[share, share, question, volume, gender, polit...</td>\n",
       "      <td>5</td>\n",
       "      <td>2</td>\n",
       "      <td>7</td>\n",
       "      <td>0.555556</td>\n",
       "      <td>3</td>\n",
       "      <td>54</td>\n",
       "    </tr>\n",
       "    <tr>\n",
       "      <th>3</th>\n",
       "      <td>10.1787/eco/surveys-cze-2014-6-en</td>\n",
       "      <td>459db322b9e44630320fda76783e0f69</td>\n",
       "      <td>[parent, work, without, losing, entitlement, p...</td>\n",
       "      <td>4</td>\n",
       "      <td>2</td>\n",
       "      <td>2</td>\n",
       "      <td>0.000000</td>\n",
       "      <td>4</td>\n",
       "      <td>100</td>\n",
       "    </tr>\n",
       "    <tr>\n",
       "      <th>4</th>\n",
       "      <td>10.1787/9789264119536-11-en</td>\n",
       "      <td>8b7d8c6c605fe9695d08ab03d601e0e9</td>\n",
       "      <td>[question, considerable, policy, relevance, ex...</td>\n",
       "      <td>10</td>\n",
       "      <td>1</td>\n",
       "      <td>4</td>\n",
       "      <td>0.600000</td>\n",
       "      <td>5</td>\n",
       "      <td>112</td>\n",
       "    </tr>\n",
       "  </tbody>\n",
       "</table>\n",
       "</div>"
      ],
      "text/plain": [
       "                                 doi                           text_id  \\\n",
       "0               10.18356/5950d914-en  bf7763beb5ad7a16764d1b7fa87ab018   \n",
       "1               10.18356/5950d914-en  b6415a528064b85fdde4b4c61239ed3a   \n",
       "2               10.18356/31959a6d-en  29127def7e81b999b87c8e887a4fe882   \n",
       "3  10.1787/eco/surveys-cze-2014-6-en  459db322b9e44630320fda76783e0f69   \n",
       "4        10.1787/9789264119536-11-en  8b7d8c6c605fe9695d08ab03d601e0e9   \n",
       "\n",
       "                                                text  sdg  labels_negative  \\\n",
       "0  [indicator, target, data, available, globally,...    9                4   \n",
       "1  [manufacturing, value, added, percentage, gdp,...    9                0   \n",
       "2  [share, share, question, volume, gender, polit...    5                2   \n",
       "3  [parent, work, without, losing, entitlement, p...    4                2   \n",
       "4  [question, considerable, policy, relevance, ex...   10                1   \n",
       "\n",
       "   labels_positive  agreement  id  Num Words  \n",
       "0                5   0.111111   1         86  \n",
       "1                3   1.000000   2        119  \n",
       "2                7   0.555556   3         54  \n",
       "3                2   0.000000   4        100  \n",
       "4                4   0.600000   5        112  "
      ]
     },
     "execution_count": 136,
     "metadata": {},
     "output_type": "execute_result"
    }
   ],
   "source": [
    "#Viewing cleaned data\n",
    "train.head()"
   ]
  },
  {
   "cell_type": "markdown",
   "metadata": {},
   "source": [
    "# 3 <a id=\"EDA\"><strong>EXPLORATORY DATA ANALYSIS</strong></a>\n",
    "\n",
    " We'll use a range of strategies in this part to maximize specific insights into our dataset, uncover underlying structure, extract relevant Information, find outliers and anomalies, and establish the optimum estimation parameters. In other words, we want to go deeper into our dataset in order to learn more about its behavior!\n",
    "\n",
    "[Table of Contents](#contents)"
   ]
  },
  {
   "cell_type": "markdown",
   "metadata": {},
   "source": [
    "## 3.2 <a id=\"visualisation of the Relivant Sdg text data\"><strong>Visualisation of the Relivant Sdg text data</strong></a>\n",
    "[Table of Contents](#contents)\n",
    "\n",
    "* Separate Datframes of Text for each SDG "
   ]
  },
  {
   "cell_type": "code",
   "execution_count": 137,
   "metadata": {},
   "outputs": [
    {
     "name": "stdout",
     "output_type": "stream",
     "text": [
      "See distribution of messages per SDG:\n"
     ]
    },
    {
     "data": {
      "text/html": [
       "<style type=\"text/css\">\n",
       "#T_66b65_row0_col0 {\n",
       "  background-color: #d1d2e7;\n",
       "  color: #000000;\n",
       "}\n",
       "#T_66b65_row0_col1, #T_66b65_row13_col0 {\n",
       "  background-color: #3f007d;\n",
       "  color: #f1f1f1;\n",
       "}\n",
       "#T_66b65_row1_col0 {\n",
       "  background-color: #e0e0ee;\n",
       "  color: #000000;\n",
       "}\n",
       "#T_66b65_row1_col1, #T_66b65_row8_col0 {\n",
       "  background-color: #572c92;\n",
       "  color: #f1f1f1;\n",
       "}\n",
       "#T_66b65_row2_col0 {\n",
       "  background-color: #afaed4;\n",
       "  color: #000000;\n",
       "}\n",
       "#T_66b65_row2_col1 {\n",
       "  background-color: #7567af;\n",
       "  color: #f1f1f1;\n",
       "}\n",
       "#T_66b65_row3_col0 {\n",
       "  background-color: #c0c1de;\n",
       "  color: #000000;\n",
       "}\n",
       "#T_66b65_row3_col1 {\n",
       "  background-color: #8380bb;\n",
       "  color: #f1f1f1;\n",
       "}\n",
       "#T_66b65_row4_col0, #T_66b65_row14_col1 {\n",
       "  background-color: #fcfbfd;\n",
       "  color: #000000;\n",
       "}\n",
       "#T_66b65_row4_col1 {\n",
       "  background-color: #8885be;\n",
       "  color: #f1f1f1;\n",
       "}\n",
       "#T_66b65_row5_col0 {\n",
       "  background-color: #ecebf4;\n",
       "  color: #000000;\n",
       "}\n",
       "#T_66b65_row5_col1, #T_66b65_row11_col0 {\n",
       "  background-color: #8d89c0;\n",
       "  color: #f1f1f1;\n",
       "}\n",
       "#T_66b65_row6_col0 {\n",
       "  background-color: #f5f3f8;\n",
       "  color: #000000;\n",
       "}\n",
       "#T_66b65_row6_col1 {\n",
       "  background-color: #9a96c6;\n",
       "  color: #f1f1f1;\n",
       "}\n",
       "#T_66b65_row7_col0 {\n",
       "  background-color: #705eaa;\n",
       "  color: #f1f1f1;\n",
       "}\n",
       "#T_66b65_row7_col1 {\n",
       "  background-color: #a6a3cd;\n",
       "  color: #f1f1f1;\n",
       "}\n",
       "#T_66b65_row8_col1 {\n",
       "  background-color: #aeadd3;\n",
       "  color: #000000;\n",
       "}\n",
       "#T_66b65_row9_col0 {\n",
       "  background-color: #9e9ac8;\n",
       "  color: #f1f1f1;\n",
       "}\n",
       "#T_66b65_row9_col1 {\n",
       "  background-color: #d4d4e8;\n",
       "  color: #000000;\n",
       "}\n",
       "#T_66b65_row10_col0 {\n",
       "  background-color: #4b1687;\n",
       "  color: #f1f1f1;\n",
       "}\n",
       "#T_66b65_row10_col1 {\n",
       "  background-color: #e6e5f1;\n",
       "  color: #000000;\n",
       "}\n",
       "#T_66b65_row11_col1 {\n",
       "  background-color: #e9e8f2;\n",
       "  color: #000000;\n",
       "}\n",
       "#T_66b65_row12_col0 {\n",
       "  background-color: #7d77b7;\n",
       "  color: #f1f1f1;\n",
       "}\n",
       "#T_66b65_row12_col1 {\n",
       "  background-color: #eae9f3;\n",
       "  color: #000000;\n",
       "}\n",
       "#T_66b65_row13_col1 {\n",
       "  background-color: #eeecf4;\n",
       "  color: #000000;\n",
       "}\n",
       "#T_66b65_row14_col0 {\n",
       "  background-color: #63449d;\n",
       "  color: #f1f1f1;\n",
       "}\n",
       "</style>\n",
       "<table id=\"T_66b65\">\n",
       "  <thead>\n",
       "    <tr>\n",
       "      <th class=\"blank level0\" >&nbsp;</th>\n",
       "      <th id=\"T_66b65_level0_col0\" class=\"col_heading level0 col0\" >sdg</th>\n",
       "      <th id=\"T_66b65_level0_col1\" class=\"col_heading level0 col1\" >text</th>\n",
       "    </tr>\n",
       "  </thead>\n",
       "  <tbody>\n",
       "    <tr>\n",
       "      <th id=\"T_66b65_level0_row0\" class=\"row_heading level0 row0\" >4</th>\n",
       "      <td id=\"T_66b65_row0_col0\" class=\"data row0 col0\" >5</td>\n",
       "      <td id=\"T_66b65_row0_col1\" class=\"data row0 col1\" >3438</td>\n",
       "    </tr>\n",
       "    <tr>\n",
       "      <th id=\"T_66b65_level0_row1\" class=\"row_heading level0 row1\" >3</th>\n",
       "      <td id=\"T_66b65_row1_col0\" class=\"data row1 col0\" >4</td>\n",
       "      <td id=\"T_66b65_row1_col1\" class=\"data row1 col1\" >2999</td>\n",
       "    </tr>\n",
       "    <tr>\n",
       "      <th id=\"T_66b65_level0_row2\" class=\"row_heading level0 row2\" >6</th>\n",
       "      <td id=\"T_66b65_row2_col0\" class=\"data row2 col0\" >7</td>\n",
       "      <td id=\"T_66b65_row2_col1\" class=\"data row2 col1\" >2473</td>\n",
       "    </tr>\n",
       "    <tr>\n",
       "      <th id=\"T_66b65_level0_row3\" class=\"row_heading level0 row3\" >5</th>\n",
       "      <td id=\"T_66b65_row3_col0\" class=\"data row3 col0\" >6</td>\n",
       "      <td id=\"T_66b65_row3_col1\" class=\"data row3 col1\" >2247</td>\n",
       "    </tr>\n",
       "    <tr>\n",
       "      <th id=\"T_66b65_level0_row4\" class=\"row_heading level0 row4\" >0</th>\n",
       "      <td id=\"T_66b65_row4_col0\" class=\"data row4 col0\" >1</td>\n",
       "      <td id=\"T_66b65_row4_col1\" class=\"data row4 col1\" >2190</td>\n",
       "    </tr>\n",
       "    <tr>\n",
       "      <th id=\"T_66b65_level0_row5\" class=\"row_heading level0 row5\" >2</th>\n",
       "      <td id=\"T_66b65_row5_col0\" class=\"data row5 col0\" >3</td>\n",
       "      <td id=\"T_66b65_row5_col1\" class=\"data row5 col1\" >2132</td>\n",
       "    </tr>\n",
       "    <tr>\n",
       "      <th id=\"T_66b65_level0_row6\" class=\"row_heading level0 row6\" >1</th>\n",
       "      <td id=\"T_66b65_row6_col0\" class=\"data row6 col0\" >2</td>\n",
       "      <td id=\"T_66b65_row6_col1\" class=\"data row6 col1\" >1963</td>\n",
       "    </tr>\n",
       "    <tr>\n",
       "      <th id=\"T_66b65_level0_row7\" class=\"row_heading level0 row7\" >10</th>\n",
       "      <td id=\"T_66b65_row7_col0\" class=\"data row7 col0\" >11</td>\n",
       "      <td id=\"T_66b65_row7_col1\" class=\"data row7 col1\" >1798</td>\n",
       "    </tr>\n",
       "    <tr>\n",
       "      <th id=\"T_66b65_level0_row8\" class=\"row_heading level0 row8\" >12</th>\n",
       "      <td id=\"T_66b65_row8_col0\" class=\"data row8 col0\" >13</td>\n",
       "      <td id=\"T_66b65_row8_col1\" class=\"data row8 col1\" >1695</td>\n",
       "    </tr>\n",
       "    <tr>\n",
       "      <th id=\"T_66b65_level0_row9\" class=\"row_heading level0 row9\" >7</th>\n",
       "      <td id=\"T_66b65_row9_col0\" class=\"data row9 col0\" >8</td>\n",
       "      <td id=\"T_66b65_row9_col1\" class=\"data row9 col1\" >1218</td>\n",
       "    </tr>\n",
       "    <tr>\n",
       "      <th id=\"T_66b65_level0_row10\" class=\"row_heading level0 row10\" >13</th>\n",
       "      <td id=\"T_66b65_row10_col0\" class=\"data row10 col0\" >14</td>\n",
       "      <td id=\"T_66b65_row10_col1\" class=\"data row10 col1\" >917</td>\n",
       "    </tr>\n",
       "    <tr>\n",
       "      <th id=\"T_66b65_level0_row11\" class=\"row_heading level0 row11\" >8</th>\n",
       "      <td id=\"T_66b65_row11_col0\" class=\"data row11 col0\" >9</td>\n",
       "      <td id=\"T_66b65_row11_col1\" class=\"data row11 col1\" >873</td>\n",
       "    </tr>\n",
       "    <tr>\n",
       "      <th id=\"T_66b65_level0_row12\" class=\"row_heading level0 row12\" >9</th>\n",
       "      <td id=\"T_66b65_row12_col0\" class=\"data row12 col0\" >10</td>\n",
       "      <td id=\"T_66b65_row12_col1\" class=\"data row12 col1\" >843</td>\n",
       "    </tr>\n",
       "    <tr>\n",
       "      <th id=\"T_66b65_level0_row13\" class=\"row_heading level0 row13\" >14</th>\n",
       "      <td id=\"T_66b65_row13_col0\" class=\"data row13 col0\" >15</td>\n",
       "      <td id=\"T_66b65_row13_col1\" class=\"data row13 col1\" >785</td>\n",
       "    </tr>\n",
       "    <tr>\n",
       "      <th id=\"T_66b65_level0_row14\" class=\"row_heading level0 row14\" >11</th>\n",
       "      <td id=\"T_66b65_row14_col0\" class=\"data row14 col0\" >12</td>\n",
       "      <td id=\"T_66b65_row14_col1\" class=\"data row14 col1\" >373</td>\n",
       "    </tr>\n",
       "  </tbody>\n",
       "</table>\n"
      ],
      "text/plain": [
       "<pandas.io.formats.style.Styler at 0x26d67358910>"
      ]
     },
     "execution_count": 137,
     "metadata": {},
     "output_type": "execute_result"
    }
   ],
   "source": [
    "# Print the distribution of messages per SDG\n",
    "print(\"See distribution of messages per SDG:\")\n",
    "count = train.groupby(\"sdg\").count()[\"text\"].reset_index().sort_values(by=\"text\", ascending=False)\n",
    "count.style.background_gradient(cmap=\"Purples\")\n"
   ]
  },
  {
   "cell_type": "code",
   "execution_count": 138,
   "metadata": {},
   "outputs": [
    {
     "data": {
      "text/html": [
       "<div>\n",
       "<style scoped>\n",
       "    .dataframe tbody tr th:only-of-type {\n",
       "        vertical-align: middle;\n",
       "    }\n",
       "\n",
       "    .dataframe tbody tr th {\n",
       "        vertical-align: top;\n",
       "    }\n",
       "\n",
       "    .dataframe thead th {\n",
       "        text-align: right;\n",
       "    }\n",
       "</style>\n",
       "<table border=\"1\" class=\"dataframe\">\n",
       "  <thead>\n",
       "    <tr style=\"text-align: right;\">\n",
       "      <th></th>\n",
       "      <th>doi</th>\n",
       "      <th>text_id</th>\n",
       "      <th>text</th>\n",
       "      <th>sdg</th>\n",
       "      <th>labels_negative</th>\n",
       "      <th>labels_positive</th>\n",
       "      <th>agreement</th>\n",
       "      <th>id</th>\n",
       "      <th>Num Words</th>\n",
       "      <th>SDG Labels</th>\n",
       "    </tr>\n",
       "  </thead>\n",
       "  <tbody>\n",
       "    <tr>\n",
       "      <th>0</th>\n",
       "      <td>10.18356/5950d914-en</td>\n",
       "      <td>bf7763beb5ad7a16764d1b7fa87ab018</td>\n",
       "      <td>[indicator, target, data, available, globally,...</td>\n",
       "      <td>9</td>\n",
       "      <td>4</td>\n",
       "      <td>5</td>\n",
       "      <td>0.111111</td>\n",
       "      <td>1</td>\n",
       "      <td>86</td>\n",
       "      <td>Industry, Innovation and Infrustructure</td>\n",
       "    </tr>\n",
       "  </tbody>\n",
       "</table>\n",
       "</div>"
      ],
      "text/plain": [
       "                    doi                           text_id  \\\n",
       "0  10.18356/5950d914-en  bf7763beb5ad7a16764d1b7fa87ab018   \n",
       "\n",
       "                                                text  sdg  labels_negative  \\\n",
       "0  [indicator, target, data, available, globally,...    9                4   \n",
       "\n",
       "   labels_positive  agreement  id  Num Words  \\\n",
       "0                5   0.111111   1         86   \n",
       "\n",
       "                                SDG Labels  \n",
       "0  Industry, Innovation and Infrustructure  "
      ]
     },
     "execution_count": 138,
     "metadata": {},
     "output_type": "execute_result"
    }
   ],
   "source": [
    "def map_sdg_labels(df):\n",
    "    \"\"\"Map the target variable names to their code for better understanding.\"\"\"\n",
    "    sdg_labels = {\n",
    "        1: \"No poverty\",\n",
    "        2: \"Zero Hunger\",\n",
    "        3: \"Good Health and well-being\",\n",
    "        4: \"Quality Education\",\n",
    "        5: \"Gender equality\",\n",
    "        6: \"Clean water and sanitation\",\n",
    "        7: \"Affordable and clean energy\",\n",
    "        8: \"Decent work and economic growth\",\n",
    "        9: \"Industry, Innovation and Infrustructure\",\n",
    "        10: \"Reduced Inequality\",\n",
    "        11: \"Sustainable cites and communities\",\n",
    "        12: \"Responsible consumption and production\",\n",
    "        13: \"Climate Action\",\n",
    "        14: \"Life below water\",\n",
    "        15: \"Life on land\",\n",
    "        16: \"Peace , Justice and strong institutions\",\n",
    "        17: \"Partnership for the goals\",\n",
    "    }\n",
    "    df[\"SDG Labels\"] = df[\"sdg\"].map(sdg_labels)\n",
    "\n",
    "# Map the target variable names to their code\n",
    "map_sdg_labels(train)\n",
    "\n",
    "# Confirm the dataset\n",
    "train.head(1)\n",
    "\n"
   ]
  },
  {
   "cell_type": "code",
   "execution_count": 139,
   "metadata": {},
   "outputs": [
    {
     "name": "stdout",
     "output_type": "stream",
     "text": [
      "See distribution of messages per SDG:\n"
     ]
    },
    {
     "data": {
      "text/html": [
       "<style type=\"text/css\">\n",
       "#T_e6daa_row0_col1 {\n",
       "  background-color: #3f007d;\n",
       "  color: #f1f1f1;\n",
       "}\n",
       "#T_e6daa_row1_col1 {\n",
       "  background-color: #572c92;\n",
       "  color: #f1f1f1;\n",
       "}\n",
       "#T_e6daa_row2_col1 {\n",
       "  background-color: #7567af;\n",
       "  color: #f1f1f1;\n",
       "}\n",
       "#T_e6daa_row3_col1 {\n",
       "  background-color: #8380bb;\n",
       "  color: #f1f1f1;\n",
       "}\n",
       "#T_e6daa_row4_col1 {\n",
       "  background-color: #8885be;\n",
       "  color: #f1f1f1;\n",
       "}\n",
       "#T_e6daa_row5_col1 {\n",
       "  background-color: #8d89c0;\n",
       "  color: #f1f1f1;\n",
       "}\n",
       "#T_e6daa_row6_col1 {\n",
       "  background-color: #9a96c6;\n",
       "  color: #f1f1f1;\n",
       "}\n",
       "#T_e6daa_row7_col1 {\n",
       "  background-color: #a6a3cd;\n",
       "  color: #f1f1f1;\n",
       "}\n",
       "#T_e6daa_row8_col1 {\n",
       "  background-color: #aeadd3;\n",
       "  color: #000000;\n",
       "}\n",
       "#T_e6daa_row9_col1 {\n",
       "  background-color: #d4d4e8;\n",
       "  color: #000000;\n",
       "}\n",
       "#T_e6daa_row10_col1 {\n",
       "  background-color: #e6e5f1;\n",
       "  color: #000000;\n",
       "}\n",
       "#T_e6daa_row11_col1 {\n",
       "  background-color: #e9e8f2;\n",
       "  color: #000000;\n",
       "}\n",
       "#T_e6daa_row12_col1 {\n",
       "  background-color: #eae9f3;\n",
       "  color: #000000;\n",
       "}\n",
       "#T_e6daa_row13_col1 {\n",
       "  background-color: #eeecf4;\n",
       "  color: #000000;\n",
       "}\n",
       "#T_e6daa_row14_col1 {\n",
       "  background-color: #fcfbfd;\n",
       "  color: #000000;\n",
       "}\n",
       "</style>\n",
       "<table id=\"T_e6daa\">\n",
       "  <thead>\n",
       "    <tr>\n",
       "      <th class=\"blank level0\" >&nbsp;</th>\n",
       "      <th id=\"T_e6daa_level0_col0\" class=\"col_heading level0 col0\" >SDG Labels</th>\n",
       "      <th id=\"T_e6daa_level0_col1\" class=\"col_heading level0 col1\" >text</th>\n",
       "    </tr>\n",
       "  </thead>\n",
       "  <tbody>\n",
       "    <tr>\n",
       "      <th id=\"T_e6daa_level0_row0\" class=\"row_heading level0 row0\" >4</th>\n",
       "      <td id=\"T_e6daa_row0_col0\" class=\"data row0 col0\" >Gender equality</td>\n",
       "      <td id=\"T_e6daa_row0_col1\" class=\"data row0 col1\" >3438</td>\n",
       "    </tr>\n",
       "    <tr>\n",
       "      <th id=\"T_e6daa_level0_row1\" class=\"row_heading level0 row1\" >10</th>\n",
       "      <td id=\"T_e6daa_row1_col0\" class=\"data row1 col0\" >Quality Education</td>\n",
       "      <td id=\"T_e6daa_row1_col1\" class=\"data row1 col1\" >2999</td>\n",
       "    </tr>\n",
       "    <tr>\n",
       "      <th id=\"T_e6daa_level0_row2\" class=\"row_heading level0 row2\" >0</th>\n",
       "      <td id=\"T_e6daa_row2_col0\" class=\"data row2 col0\" >Affordable and clean energy</td>\n",
       "      <td id=\"T_e6daa_row2_col1\" class=\"data row2 col1\" >2473</td>\n",
       "    </tr>\n",
       "    <tr>\n",
       "      <th id=\"T_e6daa_level0_row3\" class=\"row_heading level0 row3\" >1</th>\n",
       "      <td id=\"T_e6daa_row3_col0\" class=\"data row3 col0\" >Clean water and sanitation</td>\n",
       "      <td id=\"T_e6daa_row3_col1\" class=\"data row3 col1\" >2247</td>\n",
       "    </tr>\n",
       "    <tr>\n",
       "      <th id=\"T_e6daa_level0_row4\" class=\"row_heading level0 row4\" >9</th>\n",
       "      <td id=\"T_e6daa_row4_col0\" class=\"data row4 col0\" >No poverty</td>\n",
       "      <td id=\"T_e6daa_row4_col1\" class=\"data row4 col1\" >2190</td>\n",
       "    </tr>\n",
       "    <tr>\n",
       "      <th id=\"T_e6daa_level0_row5\" class=\"row_heading level0 row5\" >5</th>\n",
       "      <td id=\"T_e6daa_row5_col0\" class=\"data row5 col0\" >Good Health and well-being</td>\n",
       "      <td id=\"T_e6daa_row5_col1\" class=\"data row5 col1\" >2132</td>\n",
       "    </tr>\n",
       "    <tr>\n",
       "      <th id=\"T_e6daa_level0_row6\" class=\"row_heading level0 row6\" >14</th>\n",
       "      <td id=\"T_e6daa_row6_col0\" class=\"data row6 col0\" >Zero Hunger</td>\n",
       "      <td id=\"T_e6daa_row6_col1\" class=\"data row6 col1\" >1963</td>\n",
       "    </tr>\n",
       "    <tr>\n",
       "      <th id=\"T_e6daa_level0_row7\" class=\"row_heading level0 row7\" >13</th>\n",
       "      <td id=\"T_e6daa_row7_col0\" class=\"data row7 col0\" >Sustainable cites and communities</td>\n",
       "      <td id=\"T_e6daa_row7_col1\" class=\"data row7 col1\" >1798</td>\n",
       "    </tr>\n",
       "    <tr>\n",
       "      <th id=\"T_e6daa_level0_row8\" class=\"row_heading level0 row8\" >2</th>\n",
       "      <td id=\"T_e6daa_row8_col0\" class=\"data row8 col0\" >Climate Action</td>\n",
       "      <td id=\"T_e6daa_row8_col1\" class=\"data row8 col1\" >1695</td>\n",
       "    </tr>\n",
       "    <tr>\n",
       "      <th id=\"T_e6daa_level0_row9\" class=\"row_heading level0 row9\" >3</th>\n",
       "      <td id=\"T_e6daa_row9_col0\" class=\"data row9 col0\" >Decent work and economic growth</td>\n",
       "      <td id=\"T_e6daa_row9_col1\" class=\"data row9 col1\" >1218</td>\n",
       "    </tr>\n",
       "    <tr>\n",
       "      <th id=\"T_e6daa_level0_row10\" class=\"row_heading level0 row10\" >7</th>\n",
       "      <td id=\"T_e6daa_row10_col0\" class=\"data row10 col0\" >Life below water</td>\n",
       "      <td id=\"T_e6daa_row10_col1\" class=\"data row10 col1\" >917</td>\n",
       "    </tr>\n",
       "    <tr>\n",
       "      <th id=\"T_e6daa_level0_row11\" class=\"row_heading level0 row11\" >6</th>\n",
       "      <td id=\"T_e6daa_row11_col0\" class=\"data row11 col0\" >Industry, Innovation and Infrustructure</td>\n",
       "      <td id=\"T_e6daa_row11_col1\" class=\"data row11 col1\" >873</td>\n",
       "    </tr>\n",
       "    <tr>\n",
       "      <th id=\"T_e6daa_level0_row12\" class=\"row_heading level0 row12\" >11</th>\n",
       "      <td id=\"T_e6daa_row12_col0\" class=\"data row12 col0\" >Reduced Inequality</td>\n",
       "      <td id=\"T_e6daa_row12_col1\" class=\"data row12 col1\" >843</td>\n",
       "    </tr>\n",
       "    <tr>\n",
       "      <th id=\"T_e6daa_level0_row13\" class=\"row_heading level0 row13\" >8</th>\n",
       "      <td id=\"T_e6daa_row13_col0\" class=\"data row13 col0\" >Life on land</td>\n",
       "      <td id=\"T_e6daa_row13_col1\" class=\"data row13 col1\" >785</td>\n",
       "    </tr>\n",
       "    <tr>\n",
       "      <th id=\"T_e6daa_level0_row14\" class=\"row_heading level0 row14\" >12</th>\n",
       "      <td id=\"T_e6daa_row14_col0\" class=\"data row14 col0\" >Responsible consumption and production</td>\n",
       "      <td id=\"T_e6daa_row14_col1\" class=\"data row14 col1\" >373</td>\n",
       "    </tr>\n",
       "  </tbody>\n",
       "</table>\n"
      ],
      "text/plain": [
       "<pandas.io.formats.style.Styler at 0x26d6735af80>"
      ]
     },
     "execution_count": 139,
     "metadata": {},
     "output_type": "execute_result"
    }
   ],
   "source": [
    "# Print the distribution of messages per SDG label\n",
    "print(\"See distribution of messages per SDG:\")\n",
    "count = train.groupby(\"SDG Labels\").count()[\"text\"].reset_index().sort_values(by=\"text\", ascending=False)\n",
    "count.style.background_gradient(cmap=\"Purples\")\n"
   ]
  },
  {
   "cell_type": "code",
   "execution_count": 140,
   "metadata": {},
   "outputs": [
    {
     "data": {
      "application/vnd.plotly.v1+json": {
       "config": {
        "plotlyServerURL": "https://plot.ly"
       },
       "data": [
        {
         "alignmentgroup": "True",
         "hovertemplate": "SDG Labels=%{x}<br>text=%{marker.color}<extra></extra>",
         "legendgroup": "",
         "marker": {
          "color": [
           3438,
           2999,
           2473,
           2247,
           2190,
           2132,
           1963,
           1798,
           1695,
           1218,
           917,
           873,
           843,
           785,
           373
          ],
          "coloraxis": "coloraxis",
          "pattern": {
           "shape": ""
          }
         },
         "name": "",
         "offsetgroup": "",
         "orientation": "v",
         "showlegend": false,
         "textposition": "auto",
         "type": "bar",
         "x": [
          "Gender equality",
          "Quality Education",
          "Affordable and clean energy",
          "Clean water and sanitation",
          "No poverty",
          "Good Health and well-being",
          "Zero Hunger",
          "Sustainable cites and communities",
          "Climate Action",
          "Decent work and economic growth",
          "Life below water",
          "Industry, Innovation and Infrustructure",
          "Reduced Inequality",
          "Life on land",
          "Responsible consumption and production"
         ],
         "xaxis": "x",
         "y": [
          3438,
          2999,
          2473,
          2247,
          2190,
          2132,
          1963,
          1798,
          1695,
          1218,
          917,
          873,
          843,
          785,
          373
         ],
         "yaxis": "y"
        }
       ],
       "layout": {
        "barmode": "relative",
        "coloraxis": {
         "colorbar": {
          "title": {
           "text": "text"
          }
         },
         "colorscale": [
          [
           0,
           "#0d0887"
          ],
          [
           0.1111111111111111,
           "#46039f"
          ],
          [
           0.2222222222222222,
           "#7201a8"
          ],
          [
           0.3333333333333333,
           "#9c179e"
          ],
          [
           0.4444444444444444,
           "#bd3786"
          ],
          [
           0.5555555555555556,
           "#d8576b"
          ],
          [
           0.6666666666666666,
           "#ed7953"
          ],
          [
           0.7777777777777778,
           "#fb9f3a"
          ],
          [
           0.8888888888888888,
           "#fdca26"
          ],
          [
           1,
           "#f0f921"
          ]
         ]
        },
        "legend": {
         "tracegroupgap": 0
        },
        "template": {
         "data": {
          "bar": [
           {
            "error_x": {
             "color": "#2a3f5f"
            },
            "error_y": {
             "color": "#2a3f5f"
            },
            "marker": {
             "line": {
              "color": "white",
              "width": 0.5
             },
             "pattern": {
              "fillmode": "overlay",
              "size": 10,
              "solidity": 0.2
             }
            },
            "type": "bar"
           }
          ],
          "barpolar": [
           {
            "marker": {
             "line": {
              "color": "white",
              "width": 0.5
             },
             "pattern": {
              "fillmode": "overlay",
              "size": 10,
              "solidity": 0.2
             }
            },
            "type": "barpolar"
           }
          ],
          "carpet": [
           {
            "aaxis": {
             "endlinecolor": "#2a3f5f",
             "gridcolor": "#C8D4E3",
             "linecolor": "#C8D4E3",
             "minorgridcolor": "#C8D4E3",
             "startlinecolor": "#2a3f5f"
            },
            "baxis": {
             "endlinecolor": "#2a3f5f",
             "gridcolor": "#C8D4E3",
             "linecolor": "#C8D4E3",
             "minorgridcolor": "#C8D4E3",
             "startlinecolor": "#2a3f5f"
            },
            "type": "carpet"
           }
          ],
          "choropleth": [
           {
            "colorbar": {
             "outlinewidth": 0,
             "ticks": ""
            },
            "type": "choropleth"
           }
          ],
          "contour": [
           {
            "colorbar": {
             "outlinewidth": 0,
             "ticks": ""
            },
            "colorscale": [
             [
              0,
              "#0d0887"
             ],
             [
              0.1111111111111111,
              "#46039f"
             ],
             [
              0.2222222222222222,
              "#7201a8"
             ],
             [
              0.3333333333333333,
              "#9c179e"
             ],
             [
              0.4444444444444444,
              "#bd3786"
             ],
             [
              0.5555555555555556,
              "#d8576b"
             ],
             [
              0.6666666666666666,
              "#ed7953"
             ],
             [
              0.7777777777777778,
              "#fb9f3a"
             ],
             [
              0.8888888888888888,
              "#fdca26"
             ],
             [
              1,
              "#f0f921"
             ]
            ],
            "type": "contour"
           }
          ],
          "contourcarpet": [
           {
            "colorbar": {
             "outlinewidth": 0,
             "ticks": ""
            },
            "type": "contourcarpet"
           }
          ],
          "heatmap": [
           {
            "colorbar": {
             "outlinewidth": 0,
             "ticks": ""
            },
            "colorscale": [
             [
              0,
              "#0d0887"
             ],
             [
              0.1111111111111111,
              "#46039f"
             ],
             [
              0.2222222222222222,
              "#7201a8"
             ],
             [
              0.3333333333333333,
              "#9c179e"
             ],
             [
              0.4444444444444444,
              "#bd3786"
             ],
             [
              0.5555555555555556,
              "#d8576b"
             ],
             [
              0.6666666666666666,
              "#ed7953"
             ],
             [
              0.7777777777777778,
              "#fb9f3a"
             ],
             [
              0.8888888888888888,
              "#fdca26"
             ],
             [
              1,
              "#f0f921"
             ]
            ],
            "type": "heatmap"
           }
          ],
          "heatmapgl": [
           {
            "colorbar": {
             "outlinewidth": 0,
             "ticks": ""
            },
            "colorscale": [
             [
              0,
              "#0d0887"
             ],
             [
              0.1111111111111111,
              "#46039f"
             ],
             [
              0.2222222222222222,
              "#7201a8"
             ],
             [
              0.3333333333333333,
              "#9c179e"
             ],
             [
              0.4444444444444444,
              "#bd3786"
             ],
             [
              0.5555555555555556,
              "#d8576b"
             ],
             [
              0.6666666666666666,
              "#ed7953"
             ],
             [
              0.7777777777777778,
              "#fb9f3a"
             ],
             [
              0.8888888888888888,
              "#fdca26"
             ],
             [
              1,
              "#f0f921"
             ]
            ],
            "type": "heatmapgl"
           }
          ],
          "histogram": [
           {
            "marker": {
             "pattern": {
              "fillmode": "overlay",
              "size": 10,
              "solidity": 0.2
             }
            },
            "type": "histogram"
           }
          ],
          "histogram2d": [
           {
            "colorbar": {
             "outlinewidth": 0,
             "ticks": ""
            },
            "colorscale": [
             [
              0,
              "#0d0887"
             ],
             [
              0.1111111111111111,
              "#46039f"
             ],
             [
              0.2222222222222222,
              "#7201a8"
             ],
             [
              0.3333333333333333,
              "#9c179e"
             ],
             [
              0.4444444444444444,
              "#bd3786"
             ],
             [
              0.5555555555555556,
              "#d8576b"
             ],
             [
              0.6666666666666666,
              "#ed7953"
             ],
             [
              0.7777777777777778,
              "#fb9f3a"
             ],
             [
              0.8888888888888888,
              "#fdca26"
             ],
             [
              1,
              "#f0f921"
             ]
            ],
            "type": "histogram2d"
           }
          ],
          "histogram2dcontour": [
           {
            "colorbar": {
             "outlinewidth": 0,
             "ticks": ""
            },
            "colorscale": [
             [
              0,
              "#0d0887"
             ],
             [
              0.1111111111111111,
              "#46039f"
             ],
             [
              0.2222222222222222,
              "#7201a8"
             ],
             [
              0.3333333333333333,
              "#9c179e"
             ],
             [
              0.4444444444444444,
              "#bd3786"
             ],
             [
              0.5555555555555556,
              "#d8576b"
             ],
             [
              0.6666666666666666,
              "#ed7953"
             ],
             [
              0.7777777777777778,
              "#fb9f3a"
             ],
             [
              0.8888888888888888,
              "#fdca26"
             ],
             [
              1,
              "#f0f921"
             ]
            ],
            "type": "histogram2dcontour"
           }
          ],
          "mesh3d": [
           {
            "colorbar": {
             "outlinewidth": 0,
             "ticks": ""
            },
            "type": "mesh3d"
           }
          ],
          "parcoords": [
           {
            "line": {
             "colorbar": {
              "outlinewidth": 0,
              "ticks": ""
             }
            },
            "type": "parcoords"
           }
          ],
          "pie": [
           {
            "automargin": true,
            "type": "pie"
           }
          ],
          "scatter": [
           {
            "marker": {
             "colorbar": {
              "outlinewidth": 0,
              "ticks": ""
             }
            },
            "type": "scatter"
           }
          ],
          "scatter3d": [
           {
            "line": {
             "colorbar": {
              "outlinewidth": 0,
              "ticks": ""
             }
            },
            "marker": {
             "colorbar": {
              "outlinewidth": 0,
              "ticks": ""
             }
            },
            "type": "scatter3d"
           }
          ],
          "scattercarpet": [
           {
            "marker": {
             "colorbar": {
              "outlinewidth": 0,
              "ticks": ""
             }
            },
            "type": "scattercarpet"
           }
          ],
          "scattergeo": [
           {
            "marker": {
             "colorbar": {
              "outlinewidth": 0,
              "ticks": ""
             }
            },
            "type": "scattergeo"
           }
          ],
          "scattergl": [
           {
            "marker": {
             "colorbar": {
              "outlinewidth": 0,
              "ticks": ""
             }
            },
            "type": "scattergl"
           }
          ],
          "scattermapbox": [
           {
            "marker": {
             "colorbar": {
              "outlinewidth": 0,
              "ticks": ""
             }
            },
            "type": "scattermapbox"
           }
          ],
          "scatterpolar": [
           {
            "marker": {
             "colorbar": {
              "outlinewidth": 0,
              "ticks": ""
             }
            },
            "type": "scatterpolar"
           }
          ],
          "scatterpolargl": [
           {
            "marker": {
             "colorbar": {
              "outlinewidth": 0,
              "ticks": ""
             }
            },
            "type": "scatterpolargl"
           }
          ],
          "scatterternary": [
           {
            "marker": {
             "colorbar": {
              "outlinewidth": 0,
              "ticks": ""
             }
            },
            "type": "scatterternary"
           }
          ],
          "surface": [
           {
            "colorbar": {
             "outlinewidth": 0,
             "ticks": ""
            },
            "colorscale": [
             [
              0,
              "#0d0887"
             ],
             [
              0.1111111111111111,
              "#46039f"
             ],
             [
              0.2222222222222222,
              "#7201a8"
             ],
             [
              0.3333333333333333,
              "#9c179e"
             ],
             [
              0.4444444444444444,
              "#bd3786"
             ],
             [
              0.5555555555555556,
              "#d8576b"
             ],
             [
              0.6666666666666666,
              "#ed7953"
             ],
             [
              0.7777777777777778,
              "#fb9f3a"
             ],
             [
              0.8888888888888888,
              "#fdca26"
             ],
             [
              1,
              "#f0f921"
             ]
            ],
            "type": "surface"
           }
          ],
          "table": [
           {
            "cells": {
             "fill": {
              "color": "#EBF0F8"
             },
             "line": {
              "color": "white"
             }
            },
            "header": {
             "fill": {
              "color": "#C8D4E3"
             },
             "line": {
              "color": "white"
             }
            },
            "type": "table"
           }
          ]
         },
         "layout": {
          "annotationdefaults": {
           "arrowcolor": "#2a3f5f",
           "arrowhead": 0,
           "arrowwidth": 1
          },
          "autotypenumbers": "strict",
          "coloraxis": {
           "colorbar": {
            "outlinewidth": 0,
            "ticks": ""
           }
          },
          "colorscale": {
           "diverging": [
            [
             0,
             "#8e0152"
            ],
            [
             0.1,
             "#c51b7d"
            ],
            [
             0.2,
             "#de77ae"
            ],
            [
             0.3,
             "#f1b6da"
            ],
            [
             0.4,
             "#fde0ef"
            ],
            [
             0.5,
             "#f7f7f7"
            ],
            [
             0.6,
             "#e6f5d0"
            ],
            [
             0.7,
             "#b8e186"
            ],
            [
             0.8,
             "#7fbc41"
            ],
            [
             0.9,
             "#4d9221"
            ],
            [
             1,
             "#276419"
            ]
           ],
           "sequential": [
            [
             0,
             "#0d0887"
            ],
            [
             0.1111111111111111,
             "#46039f"
            ],
            [
             0.2222222222222222,
             "#7201a8"
            ],
            [
             0.3333333333333333,
             "#9c179e"
            ],
            [
             0.4444444444444444,
             "#bd3786"
            ],
            [
             0.5555555555555556,
             "#d8576b"
            ],
            [
             0.6666666666666666,
             "#ed7953"
            ],
            [
             0.7777777777777778,
             "#fb9f3a"
            ],
            [
             0.8888888888888888,
             "#fdca26"
            ],
            [
             1,
             "#f0f921"
            ]
           ],
           "sequentialminus": [
            [
             0,
             "#0d0887"
            ],
            [
             0.1111111111111111,
             "#46039f"
            ],
            [
             0.2222222222222222,
             "#7201a8"
            ],
            [
             0.3333333333333333,
             "#9c179e"
            ],
            [
             0.4444444444444444,
             "#bd3786"
            ],
            [
             0.5555555555555556,
             "#d8576b"
            ],
            [
             0.6666666666666666,
             "#ed7953"
            ],
            [
             0.7777777777777778,
             "#fb9f3a"
            ],
            [
             0.8888888888888888,
             "#fdca26"
            ],
            [
             1,
             "#f0f921"
            ]
           ]
          },
          "colorway": [
           "#636efa",
           "#EF553B",
           "#00cc96",
           "#ab63fa",
           "#FFA15A",
           "#19d3f3",
           "#FF6692",
           "#B6E880",
           "#FF97FF",
           "#FECB52"
          ],
          "font": {
           "color": "#2a3f5f"
          },
          "geo": {
           "bgcolor": "white",
           "lakecolor": "white",
           "landcolor": "white",
           "showlakes": true,
           "showland": true,
           "subunitcolor": "#C8D4E3"
          },
          "hoverlabel": {
           "align": "left"
          },
          "hovermode": "closest",
          "mapbox": {
           "style": "light"
          },
          "paper_bgcolor": "white",
          "plot_bgcolor": "white",
          "polar": {
           "angularaxis": {
            "gridcolor": "#EBF0F8",
            "linecolor": "#EBF0F8",
            "ticks": ""
           },
           "bgcolor": "white",
           "radialaxis": {
            "gridcolor": "#EBF0F8",
            "linecolor": "#EBF0F8",
            "ticks": ""
           }
          },
          "scene": {
           "xaxis": {
            "backgroundcolor": "white",
            "gridcolor": "#DFE8F3",
            "gridwidth": 2,
            "linecolor": "#EBF0F8",
            "showbackground": true,
            "ticks": "",
            "zerolinecolor": "#EBF0F8"
           },
           "yaxis": {
            "backgroundcolor": "white",
            "gridcolor": "#DFE8F3",
            "gridwidth": 2,
            "linecolor": "#EBF0F8",
            "showbackground": true,
            "ticks": "",
            "zerolinecolor": "#EBF0F8"
           },
           "zaxis": {
            "backgroundcolor": "white",
            "gridcolor": "#DFE8F3",
            "gridwidth": 2,
            "linecolor": "#EBF0F8",
            "showbackground": true,
            "ticks": "",
            "zerolinecolor": "#EBF0F8"
           }
          },
          "shapedefaults": {
           "line": {
            "color": "#2a3f5f"
           }
          },
          "ternary": {
           "aaxis": {
            "gridcolor": "#DFE8F3",
            "linecolor": "#A2B1C6",
            "ticks": ""
           },
           "baxis": {
            "gridcolor": "#DFE8F3",
            "linecolor": "#A2B1C6",
            "ticks": ""
           },
           "bgcolor": "white",
           "caxis": {
            "gridcolor": "#DFE8F3",
            "linecolor": "#A2B1C6",
            "ticks": ""
           }
          },
          "title": {
           "x": 0.05
          },
          "xaxis": {
           "automargin": true,
           "gridcolor": "#EBF0F8",
           "linecolor": "#EBF0F8",
           "ticks": "",
           "title": {
            "standoff": 15
           },
           "zerolinecolor": "#EBF0F8",
           "zerolinewidth": 2
          },
          "yaxis": {
           "automargin": true,
           "gridcolor": "#EBF0F8",
           "linecolor": "#EBF0F8",
           "ticks": "",
           "title": {
            "standoff": 15
           },
           "zerolinecolor": "#EBF0F8",
           "zerolinewidth": 2
          }
         }
        },
        "title": {
         "text": "Top SDG in the Text column"
        },
        "xaxis": {
         "anchor": "y",
         "categoryorder": "total ascending",
         "domain": [
          0,
          1
         ],
         "title": {
          "text": "SDG Labels"
         }
        },
        "yaxis": {
         "anchor": "x",
         "domain": [
          0,
          1
         ],
         "title": {
          "text": "text"
         }
        }
       }
      }
     },
     "metadata": {},
     "output_type": "display_data"
    }
   ],
   "source": [
    "# Create a bar plot of the SDG labels and text data\n",
    "fig = px.bar(\n",
    "    count,\n",
    "    x=\"SDG Labels\",\n",
    "    y=\"text\",\n",
    "    color=\"text\",\n",
    "    title=\"Top SDG in the Text column\",\n",
    "    template=\"plotly_white\",\n",
    "    labels={\"ngram\": \"Bigram\", \"count\": \"text\"},\n",
    ").update_xaxes(categoryorder=\"total ascending\")\n",
    "fig.show()\n"
   ]
  },
  {
   "attachments": {},
   "cell_type": "markdown",
   "metadata": {},
   "source": [
    "### Observations\n",
    "\n",
    ">* It can be clearly seen that __Gender equality__ has the most text of all the SDGs. This means that more Documents have been written and published on gender equality, suggesting that Gender Equality is a pressing issue.\n",
    ">* This is closely followed by Quality Education and Affordable and Clean Energy.\n",
    ">* At the other end, Responsible consumption and production has the least number of text, implying that it is the least documented and researched SDG.\n",
    ">. Also, Life on land, Reduced Inequality, Industry, Innovation and Infrastructure, and Life below water all have less than 1000 text. These are all important part of the SDGs but less documents have been written on them\n",
    ">*  Gender equality,quality education and affordable and clean energy has the highest number of text.\n",
    ">*  Responsible consumption and production has the lowest number of text.\n",
    ">*  A glance look at the data gives an overview of how the text data is distributed among the various SDGs"
   ]
  },
  {
   "cell_type": "markdown",
   "metadata": {},
   "source": [
    "## 3.3 <a id=\"countries\"><strong>Countries Involved in Sustainable Development Goals (SDG)</strong></a>\n",
    "[Table of Contents](#contents)"
   ]
  },
  {
   "attachments": {},
   "cell_type": "markdown",
   "metadata": {},
   "source": [
    "As part of our exploration, we sought to identify the countries involved in the Sustainable Development Goals (SDGs) from our text data. To do this, we defined a list of countries and used the cleaning_country function to extract the countries mentioned in the texts. We then used the country_plot function to create a plot visualizing the frequency with which these countries appeared in relation to a given SDG. This allowed us to gain insight into the countries that are actively participating in the pursuit of the SDGs."
   ]
  },
  {
   "cell_type": "code",
   "execution_count": 141,
   "metadata": {},
   "outputs": [],
   "source": [
    "# Create a map of SDG labels to their corresponding codes\n",
    "sdg_map = {\n",
    "    \"No poverty\": 1,\n",
    "    \"Zero Hunger\": 2,\n",
    "    \"Good Health and well-being\": 3,\n",
    "    \"Quality Education\": 4,\n",
    "    \"Gender equality\": 5,\n",
    "    \"Clean water and sanitation\": 6,\n",
    "    \"Affordable and clean energy\": 7,\n",
    "    \"Industry, Innovation and Infrustructure\": 9,\n",
    "    \"Decent work and economic growth\": 8,\n",
    "    \"Reduced Inequality\": 10,\n",
    "    \"Climate Action\": 13,\n",
    "    \"Sustainable cites and communities\": 11,\n",
    "    \"Responsible consumption and production\": 12,\n",
    "    \"Life below water\": 14,\n",
    "    \"Life on land\": 15,\n",
    "}\n",
    "\n",
    "# Make a copy of the train data\n",
    "train_train = train.copy()\n",
    "\n",
    "# Convert the 'text' column from a list of words to a single string\n",
    "train_train[\"text\"] = train_train[\"text\"].apply(lambda x: \" \".join([str(i) for i in x]))\n"
   ]
  },
  {
   "cell_type": "code",
   "execution_count": 142,
   "metadata": {},
   "outputs": [],
   "source": [
    "# Create a list of country names\n",
    "country_list = []\n",
    "for country in pycountry.countries:\n",
    "    country_list.append(country.name)\n"
   ]
  },
  {
   "cell_type": "code",
   "execution_count": 143,
   "metadata": {},
   "outputs": [],
   "source": [
    "# Convert the country names to lowercase\n",
    "country_list = [country.lower() for country in country_list]\n"
   ]
  },
  {
   "cell_type": "code",
   "execution_count": 144,
   "metadata": {},
   "outputs": [],
   "source": [
    "def extract_country(text: str) -> str:\n",
    "    \"\"\"\n",
    "    Extract a country from the text and return it.\n",
    "    \"\"\"\n",
    "    # Remove punctuation and split the text into words\n",
    "    rem_punct = re.sub(r\"[^a-zA-Z ]\", \"\", text)\n",
    "    word_split = rem_punct.lower().split()\n",
    "\n",
    "    # Create a set of country names and extract a country from the text\n",
    "    country_set = set(country_list)\n",
    "    country_ext = \" \".join([t for t in word_split if t in country_set])\n",
    "\n",
    "    return country_ext\n",
    "\n",
    "\n",
    "# Extract the country from the 'text' column in the train_train DataFrame\n",
    "train_train[\"country\"] = train_train[\"text\"].apply(extract_country)\n"
   ]
  },
  {
   "cell_type": "code",
   "execution_count": 145,
   "metadata": {
    "scrolled": false
   },
   "outputs": [],
   "source": [
    "def plot_countries_by_sdg(sdg_map: dict):\n",
    "    \"\"\"\n",
    "    Plot a bar chart of the frequency of countries involved in Sustainable Development Goals (SDG) for each SDG.\n",
    "    \"\"\"\n",
    "    # Create a slider widget to select the number of countries to display\n",
    "    slider = widgets.IntSlider(value=10, min=1, max=20, step=1)\n",
    "\n",
    "    @interact_manual\n",
    "    def select(frequency=slider, sdg=sdg_map.keys()):\n",
    "        # Select the 'country' column for the selected SDG\n",
    "        country_sdg = train_train[train_train[\"sdg\"] == sdg_map[sdg]][\"country\"]\n",
    "\n",
    "        # Count the frequency of each country and select the top N countries\n",
    "        train = country_sdg.value_counts().to_frame().iloc[1:frequency]\n",
    "\n",
    "        # Create a bar chart of the frequency of each country\n",
    "        fig = px.bar(\n",
    "            train,\n",
    "            x=train.index,\n",
    "            y=\"country\",\n",
    "            labels={\"index\": \"Country\", \"country\": \"Count\"},\n",
    "            title=f\"Bar chart of countries contributing to the {sdg} SDG\",\n",
    "        )\n",
    "        fig.show()\n",
    "\n"
   ]
  },
  {
   "cell_type": "code",
   "execution_count": 146,
   "metadata": {},
   "outputs": [
    {
     "data": {
      "application/vnd.jupyter.widget-view+json": {
       "model_id": "364af630213b45ceb7d541fcdb76bf51",
       "version_major": 2,
       "version_minor": 0
      },
      "text/plain": [
       "interactive(children=(IntSlider(value=10, description='frequency', max=20, min=1), Dropdown(description='sdg',…"
      ]
     },
     "metadata": {},
     "output_type": "display_data"
    }
   ],
   "source": [
    "plot_countries_by_sdg(sdg_map)"
   ]
  },
  {
   "cell_type": "markdown",
   "metadata": {},
   "source": [
    "### Observations\n",
    "\n",
    ">* The following countries are heavly involved in the SDGs assigned to them\n",
    ">>*  SDG 1: Brazil & India\n",
    ">>*  SDG 2: Kazakhstan & Brazil\n",
    ">>*  SDG 3: Sweden & Australia\n",
    ">>*  SDG 4: Malaysia & Chile\n",
    ">>*  SDG 5: Mexico & Slovakia\n",
    ">>*  SDG 6: China & India\n",
    ">>*  SDG 7: Poland & China\n",
    ">>*  SDG 8: Japan & China\n",
    ">>*  SDG 9: China & Brazil\n",
    ">>*  SDG 10: Ethiopia & Australia\n",
    ">>*  SDG 11: Kazakhstan & Mexico\n",
    ">>*  SDG 12: Jamaica & Japan\n",
    ">>*  SDG 13: Norway & Canada\n",
    ">>*  SDG 14: Brazil & Poland\n",
    ">>*  SDG 15: Jamaca & Japan"
   ]
  },
  {
   "cell_type": "markdown",
   "metadata": {},
   "source": [
    "## 3.4 <a id=\"text_analysis\"><strong>Text Analysis</strong></a>\n",
    "[Table of Contents](#contents)\n",
    "\n",
    "* Separate Datframes of Text for each SDG \n",
    "\n",
    "\n",
    "From here, we'll delve further into our text, looking into each term and its frequency of occurrence individually."
   ]
  },
  {
   "cell_type": "markdown",
   "metadata": {},
   "source": [
    "#### 3.4.1 <a id=\"most_frequent_words\"><strong>Most Frequent Words</strong></a>\n",
    "[Table of Contents](#contents)"
   ]
  },
  {
   "cell_type": "code",
   "execution_count": 147,
   "metadata": {},
   "outputs": [],
   "source": [
    "from collections import Counter\n",
    "from typing import List, Tuple\n",
    "\n",
    "def find_most_frequent_words(train: pd.DataFrame) -> List[Tuple[str, int]]:\n",
    "    \"\"\"\n",
    "    Find the most frequently used words in the 'text' column of the train DataFrame.\n",
    "    \"\"\"\n",
    "    # Create a counter to count the frequency of each word\n",
    "    cnt = Counter()\n",
    "    for message in train[\"text\"].values:\n",
    "        for word in message:\n",
    "            cnt[word] += 1\n",
    "    \n",
    "    # Return the 5 most frequent words\n",
    "    return cnt.most_common(5)\n",
    "\n",
    "# Find the most frequent words in the train data\n",
    "most_frequent_words = find_most_frequent_words(train)\n"
   ]
  },
  {
   "cell_type": "code",
   "execution_count": 148,
   "metadata": {},
   "outputs": [
    {
     "data": {
      "image/png": "[encoded data removed]",
      "text/plain": [
       "<Figure size 2160x720 with 1 Axes>"
      ]
     },
     "metadata": {},
     "output_type": "display_data"
    }
   ],
   "source": [
    "def plot_wordcloud(words: List[List[str]]) -> None:\n",
    "    \"\"\"\n",
    "    Plot a wordcloud of the most common words in the given list of lists of words.\n",
    "    \"\"\"\n",
    "    # Flatten the list of lists of words into a single list of words\n",
    "    all_words = [word for wordlist in words for word in wordlist]\n",
    "\n",
    "    # Count the frequency of each word\n",
    "    most_common = Counter(all_words).most_common(10000)\n",
    "\n",
    "    # Create a wordcloud from the most common words\n",
    "    wordcloud = WordCloud(width=700, height=700, background_color=\"black\").generate(str(most_common))\n",
    "\n",
    "    # Plot the wordcloud\n",
    "    fig = plt.figure(figsize=(30, 10), facecolor=\"white\")\n",
    "    plt.imshow(wordcloud, interpolation=\"bilinear\")\n",
    "    plt.axis(\"off\")\n",
    "    plt.tight_layout(pad=0)\n",
    "    plt.show()\n",
    "\n",
    "# Plot the wordcloud of the most common words in the 'text' column of the train data\n",
    "plot_wordcloud(train[\"text\"])\n"
   ]
  },
  {
   "cell_type": "markdown",
   "metadata": {},
   "source": [
    "### Observations\n",
    "\n",
    ">* The top three words are __Policy, Country and Woman__. The frequency of these words means that a lot of the same information/documents are being written by large audiences.\n",
    ">* It is no surprise that __Woman__ is one of the most frequent word considering that __SDG 5 (Gender Equality)__ has the most number of text. This further goes to show how much work and research are being done to achieve this goal."
   ]
  },
  {
   "cell_type": "code",
   "execution_count": 149,
   "metadata": {},
   "outputs": [
    {
     "data": {
      "text/html": [
       "<div>\n",
       "<style scoped>\n",
       "    .dataframe tbody tr th:only-of-type {\n",
       "        vertical-align: middle;\n",
       "    }\n",
       "\n",
       "    .dataframe tbody tr th {\n",
       "        vertical-align: top;\n",
       "    }\n",
       "\n",
       "    .dataframe thead th {\n",
       "        text-align: right;\n",
       "    }\n",
       "</style>\n",
       "<table border=\"1\" class=\"dataframe\">\n",
       "  <thead>\n",
       "    <tr style=\"text-align: right;\">\n",
       "      <th></th>\n",
       "      <th>doi</th>\n",
       "      <th>text_id</th>\n",
       "      <th>text</th>\n",
       "      <th>sdg</th>\n",
       "      <th>labels_negative</th>\n",
       "      <th>labels_positive</th>\n",
       "      <th>agreement</th>\n",
       "      <th>id</th>\n",
       "      <th>Num Words</th>\n",
       "      <th>SDG Labels</th>\n",
       "      <th>text_length</th>\n",
       "    </tr>\n",
       "  </thead>\n",
       "  <tbody>\n",
       "    <tr>\n",
       "      <th>0</th>\n",
       "      <td>10.18356/5950d914-en</td>\n",
       "      <td>bf7763beb5ad7a16764d1b7fa87ab018</td>\n",
       "      <td>[indicator, target, data, available, globally,...</td>\n",
       "      <td>9</td>\n",
       "      <td>4</td>\n",
       "      <td>5</td>\n",
       "      <td>0.111111</td>\n",
       "      <td>1</td>\n",
       "      <td>86</td>\n",
       "      <td>Industry, Innovation and Infrustructure</td>\n",
       "      <td>47</td>\n",
       "    </tr>\n",
       "  </tbody>\n",
       "</table>\n",
       "</div>"
      ],
      "text/plain": [
       "                    doi                           text_id  \\\n",
       "0  10.18356/5950d914-en  bf7763beb5ad7a16764d1b7fa87ab018   \n",
       "\n",
       "                                                text  sdg  labels_negative  \\\n",
       "0  [indicator, target, data, available, globally,...    9                4   \n",
       "\n",
       "   labels_positive  agreement  id  Num Words  \\\n",
       "0                5   0.111111   1         86   \n",
       "\n",
       "                                SDG Labels  text_length  \n",
       "0  Industry, Innovation and Infrustructure           47  "
      ]
     },
     "execution_count": 149,
     "metadata": {},
     "output_type": "execute_result"
    }
   ],
   "source": [
    "# Add a 'text_length' column to the train DataFrame with the length of each message in the 'text' column\n",
    "train[\"text_length\"] = train[\"text\"].apply(len)\n",
    "\n",
    "# Print the first row of the train DataFrame to confirm that the 'text_length' column has been added\n",
    "train.head(1)\n"
   ]
  },
  {
   "cell_type": "code",
   "execution_count": 150,
   "metadata": {},
   "outputs": [
    {
     "data": {
      "image/png": "[encoded data removed]",
      "text/plain": [
       "<Figure size 720x360 with 1 Axes>"
      ]
     },
     "metadata": {},
     "output_type": "display_data"
    }
   ],
   "source": [
    "# Set the figure size and color palette for the boxplot\n",
    "sns.set(rc={\"figure.figsize\": (10, 5)})\n",
    "color = \"indigo\"\n",
    "\n",
    "# Create a boxplot of the 'text_length' column for each SDG class\n",
    "ax = sns.boxplot(x=\"SDG Labels\", y=\"text_length\", data=train, width=0.9, color=color)\n",
    "\n",
    "# Set the axis labels and title\n",
    "ax.set(xlabel=\"SDG class\", ylabel=\"Length of the message\")\n",
    "\n",
    "# Rotate the x-tick labels to improve readability\n",
    "plt.xticks(rotation=90)\n",
    "plt.title(\"Message length for each SDG class\")\n",
    "\n",
    "# Show the plot\n",
    "plt.show()\n"
   ]
  },
  {
   "cell_type": "markdown",
   "metadata": {},
   "source": [
    "### Observations\n",
    "\n",
    ">* The above display shows the __lenght__ of text for each __SDG Label__.\n",
    ">* There is a significant disparity in SDG groups.\n",
    ">* Only the upper  of the various SDGs have outliers."
   ]
  },
  {
   "cell_type": "code",
   "execution_count": 151,
   "metadata": {},
   "outputs": [
    {
     "data": {
      "image/png": "[encoded data removed]",
      "text/plain": [
       "<Figure size 720x360 with 1 Axes>"
      ]
     },
     "metadata": {},
     "output_type": "display_data"
    }
   ],
   "source": [
    "# Group the train DataFrame by the 'SDG_Labels' column and sum the values in the 'Num_Words' column\n",
    "max_words = train.groupby(\"SDG Labels\")[\"Num Words\"].sum()\n",
    "\n",
    "# Sort the max_words Series by the 'Num_Words' values in descending order\n",
    "max_words = max_words.sort_values(ascending=False)\n",
    "\n",
    "# Get the top 10 SDGs by number of words\n",
    "top_10_sdgs = max_words.head(10)\n",
    "\n",
    "# Plot a bar chart of the top 10 SDGs\n",
    "top_10_sdgs.plot.bar(rot=90)\n",
    "plt.xlabel(\"Name\")\n",
    "plt.ylabel(\"No. of words\")\n",
    "plt.title(\"The SDG with the the most number of words\")\n",
    "plt.show()\n"
   ]
  },
  {
   "cell_type": "markdown",
   "metadata": {},
   "source": [
    "### Observations\n",
    "\n",
    ">* This graphs gives a distribution of the content of each SDG by way of Number of words in each content related to an SDG\n",
    ">* As we can see from the graph above **Gender equality** has the mosted worded content"
   ]
  },
  {
   "cell_type": "markdown",
   "metadata": {},
   "source": [
    "## 3.5 <a id=\"class_balance\"><strong>Class Balance</strong></a>\n",
    "[Table of Contents](#contents)"
   ]
  },
  {
   "cell_type": "markdown",
   "metadata": {},
   "source": [
    "### 3.5.1 <a id=\"class_balance\"><strong>Working with balanced data</strong></a>\n",
    "[Table of Contents](#contents)"
   ]
  },
  {
   "cell_type": "code",
   "execution_count": 152,
   "metadata": {},
   "outputs": [
    {
     "data": {
      "image/png": "[encoded data removed]",
      "text/plain": [
       "<Figure size 720x360 with 1 Axes>"
      ]
     },
     "metadata": {},
     "output_type": "display_data"
    }
   ],
   "source": [
    "# Plot a bar chart of the distribution of the 'sdg' column in the train DataFrame\n",
    "train[\"sdg\"].value_counts().plot(kind=\"bar\")\n",
    "plt.ylabel(\"Frequency\")\n",
    "plt.xlabel(\"sdg\")\n",
    "plt.show()\n"
   ]
  },
  {
   "attachments": {},
   "cell_type": "markdown",
   "metadata": {},
   "source": [
    "The distribution plot above reveals that the class distribution is highly imbalanced, with wide variations in the frequency of each class. The most supported SDG is \"Gender equality,\" represented by the label \"5,\" while \"Responsible consumption and production,\" represented by the label \"12,\" has the least support. This indicates that there is a significant disparity in the level of attention and resources dedicated to different SDGs."
   ]
  },
  {
   "cell_type": "markdown",
   "metadata": {},
   "source": [
    "#### Dealing with data imbalance "
   ]
  },
  {
   "cell_type": "markdown",
   "metadata": {},
   "source": [
    "To deal with data imbalance and avoid bias predictions from the models we will build later on, we employed the resampling (Upsampling and Downsampling) method. "
   ]
  },
  {
   "cell_type": "code",
   "execution_count": 153,
   "metadata": {},
   "outputs": [],
   "source": [
    "# Convert the 'text' column in the train DataFrame from a list of words to a string of words separated by spaces\n",
    "train[\"text\"] = train[\"text\"].apply(lambda x: \" \".join([str(i) for i in x]))\n"
   ]
  },
  {
   "cell_type": "code",
   "execution_count": 154,
   "metadata": {},
   "outputs": [],
   "source": [
    "# Convert the 'text' column in the test DataFrame from a list of words to a string of words separated by spaces\n",
    "test[\"text\"] = test[\"text\"].apply(lambda x: \" \".join([str(i) for i in x]))\n"
   ]
  },
  {
   "cell_type": "code",
   "execution_count": 155,
   "metadata": {},
   "outputs": [
    {
     "name": "stdout",
     "output_type": "stream",
     "text": [
      "dual-sampling:\n"
     ]
    },
    {
     "data": {
      "text/html": [
       "<div>\n",
       "<style scoped>\n",
       "    .dataframe tbody tr th:only-of-type {\n",
       "        vertical-align: middle;\n",
       "    }\n",
       "\n",
       "    .dataframe tbody tr th {\n",
       "        vertical-align: top;\n",
       "    }\n",
       "\n",
       "    .dataframe thead th {\n",
       "        text-align: right;\n",
       "    }\n",
       "</style>\n",
       "<table border=\"1\" class=\"dataframe\">\n",
       "  <thead>\n",
       "    <tr style=\"text-align: right;\">\n",
       "      <th></th>\n",
       "      <th>doi</th>\n",
       "      <th>text_id</th>\n",
       "      <th>text</th>\n",
       "      <th>sdg</th>\n",
       "      <th>labels_negative</th>\n",
       "      <th>labels_positive</th>\n",
       "      <th>agreement</th>\n",
       "      <th>id</th>\n",
       "      <th>Num Words</th>\n",
       "      <th>SDG Labels</th>\n",
       "      <th>text_length</th>\n",
       "    </tr>\n",
       "  </thead>\n",
       "  <tbody>\n",
       "    <tr>\n",
       "      <th>14751</th>\n",
       "      <td>10.1787/729bf864-en</td>\n",
       "      <td>09e3c40de70f76a6473fa44714bd476b</td>\n",
       "      <td>lack readily identifiable realisable value ass...</td>\n",
       "      <td>8</td>\n",
       "      <td>0</td>\n",
       "      <td>3</td>\n",
       "      <td>1.0</td>\n",
       "      <td>14752</td>\n",
       "      <td>97</td>\n",
       "      <td>Decent work and economic growth</td>\n",
       "      <td>60</td>\n",
       "    </tr>\n",
       "  </tbody>\n",
       "</table>\n",
       "</div>"
      ],
      "text/plain": [
       "                       doi                           text_id  \\\n",
       "14751  10.1787/729bf864-en  09e3c40de70f76a6473fa44714bd476b   \n",
       "\n",
       "                                                    text  sdg  \\\n",
       "14751  lack readily identifiable realisable value ass...    8   \n",
       "\n",
       "       labels_negative  labels_positive  agreement     id  Num Words  \\\n",
       "14751                0                3        1.0  14752         97   \n",
       "\n",
       "                            SDG Labels  text_length  \n",
       "14751  Decent work and economic growth           60  "
      ]
     },
     "metadata": {},
     "output_type": "display_data"
    },
    {
     "name": "stdout",
     "output_type": "stream",
     "text": [
      "Class with their new resampled sizes\n"
     ]
    },
    {
     "data": {
      "image/png": "[encoded data removed]",
      "text/plain": [
       "<Figure size 720x360 with 1 Axes>"
      ]
     },
     "metadata": {},
     "output_type": "display_data"
    }
   ],
   "source": [
    "class_size = 3438 # setting an average or fixed size for each category in 'sdg'\n",
    "dd = train.sdg.value_counts() # getting category name and their size\n",
    "appended_data = [] # creating an empty list to append all category after resampling\n",
    "\n",
    "# Creating a for-loop to resample and append to a list\n",
    "for index, size in dd.items():\n",
    "    if size < class_size: # setting condition to check if it's downsampling or otherwise\n",
    "        temp_pd = resample(train[train['sdg']==index],\n",
    "                          replace=True, # sample with replacement\n",
    "                          n_samples=class_size, # match number in majority class\n",
    "                          random_state=27)\n",
    "    else:\n",
    "        temp_pd = resample(train[train['sdg']==index],\n",
    "                          replace=False, # sample with replacement (no need to duplicate observations)\n",
    "                          n_samples=class_size, # match number in minority class\n",
    "                          random_state=27)\n",
    "# Appending each category after resampling\n",
    "    appended_data.append(temp_pd)\n",
    "\n",
    "# Creating a new dataframe and viewing\n",
    "train_train_sampled = pd.concat(appended_data, axis=0)\n",
    "print('dual-sampling:')\n",
    "display(train_train_sampled.sample(1))\n",
    "print('Class with their new resampled sizes')\n",
    "# print(train_train_sampled.sdg.value_counts())\n",
    "\n",
    "# ploting the old and new graph frequency\n",
    "ax = train.sdg.value_counts().plot(kind='bar')\n",
    "train_train_sampled.sdg.value_counts().plot(kind='bar', title='Count (target)', \n",
    "                                               ax=ax,color='orange', alpha=0.5)\n",
    "plt.xticks(range(len(dd)),dd.index)\n",
    "plt.ylabel(\"# of observations\")\n",
    "plt.legend(['original','resampled'])\n",
    "plt.show()"
   ]
  },
  {
   "cell_type": "code",
   "execution_count": 156,
   "metadata": {},
   "outputs": [],
   "source": [
    "# # Working with resampled data\n",
    "train = train_train_sampled"
   ]
  },
  {
   "cell_type": "markdown",
   "metadata": {},
   "source": [
    "## 3.6 <a id=\"feature_engineering\"><strong>Feature Engineering</strong></a>\n",
    "[Table of Contents](#contents)"
   ]
  },
  {
   "cell_type": "markdown",
   "metadata": {},
   "source": [
    "### 3.6.1 Vectorization"
   ]
  },
  {
   "cell_type": "markdown",
   "metadata": {},
   "source": [
    "At this point,we are using **CountVectorizer** function to convert the cleaned text to numerical entries in a matrix form"
   ]
  },
  {
   "cell_type": "code",
   "execution_count": 157,
   "metadata": {},
   "outputs": [],
   "source": [
    "from sklearn.feature_extraction.text import CountVectorizer\n",
    "\n",
    "def convert_to_features(data, max_features=8000):\n",
    "    \"\"\"Converts the words in a dataset into features using a CountVectorizer.\n",
    "    \n",
    "    Parameters:\n",
    "        data (pandas Series): A series containing the text data.\n",
    "        max_features (int, optional): The maximum number of features to keep. Default is 8000.\n",
    "        \n",
    "    Returns:\n",
    "        scipy sparse matrix: The feature matrix.\n",
    "    \"\"\"\n",
    "    vectorizer = CountVectorizer(analyzer=\"word\", max_features=max_features)\n",
    "    features = vectorizer.fit_transform(data)\n",
    "    return features\n",
    "\n",
    "# Example usage\n",
    "features = convert_to_features(train[\"text\"])\n"
   ]
  },
  {
   "cell_type": "markdown",
   "metadata": {},
   "source": [
    "we set the maximum feature to random number 8000 by discretion and to have a faster training of our model<br><br>"
   ]
  },
  {
   "cell_type": "code",
   "execution_count": 158,
   "metadata": {},
   "outputs": [
    {
     "name": "stdout",
     "output_type": "stream",
     "text": [
      "Our new vectorized features have 51570 rows and 8000 features\n"
     ]
    }
   ],
   "source": [
    "from scipy.sparse import csr_matrix\n",
    "\n",
    "def transform_text_to_features(data, vectorizer):\n",
    "    \"\"\"Transforms text data into numerical features using a vectorizer.\n",
    "    \n",
    "    Parameters:\n",
    "        data (pandas Series): A series containing the text data.\n",
    "        vectorizer (CountVectorizer): The vectorizer to use for transforming the text data.\n",
    "        \n",
    "    Returns:\n",
    "        numpy array: The feature matrix.\n",
    "    \"\"\"\n",
    "    reviews_vect = vectorizer.fit_transform(data)\n",
    "    features = reviews_vect.toarray()\n",
    "    return features\n",
    "\n",
    "vectorizer = CountVectorizer(analyzer=\"word\", max_features=8000)\n",
    "train_data_features = transform_text_to_features(train[\"text\"], vectorizer)\n",
    "print(f\"Our new vectorized features have {train_data_features.shape[0]} rows and {train_data_features.shape[1]} features\")\n"
   ]
  },
  {
   "cell_type": "code",
   "execution_count": 159,
   "metadata": {},
   "outputs": [],
   "source": [
    "# Converting the word of the all text into features using 'vectorizer' object created earlier\n",
    "reviews_vect_test = vectorizer.transform(test['text'])"
   ]
  },
  {
   "cell_type": "code",
   "execution_count": 160,
   "metadata": {},
   "outputs": [
    {
     "data": {
      "text/plain": [
       "(6487, 8000)"
      ]
     },
     "execution_count": 160,
     "metadata": {},
     "output_type": "execute_result"
    }
   ],
   "source": [
    "# converting into a numpy array\n",
    "test_data_features = reviews_vect_test.toarray() # for fast fitting of our dataset\n",
    "test_data_features.shape # checking to be sure is the same size with our 'train' dataset"
   ]
  },
  {
   "cell_type": "code",
   "execution_count": 161,
   "metadata": {},
   "outputs": [
    {
     "data": {
      "text/html": [
       "<div>\n",
       "<style scoped>\n",
       "    .dataframe tbody tr th:only-of-type {\n",
       "        vertical-align: middle;\n",
       "    }\n",
       "\n",
       "    .dataframe tbody tr th {\n",
       "        vertical-align: top;\n",
       "    }\n",
       "\n",
       "    .dataframe thead th {\n",
       "        text-align: right;\n",
       "    }\n",
       "</style>\n",
       "<table border=\"1\" class=\"dataframe\">\n",
       "  <thead>\n",
       "    <tr style=\"text-align: right;\">\n",
       "      <th></th>\n",
       "      <th>doi</th>\n",
       "      <th>text_id</th>\n",
       "      <th>text</th>\n",
       "      <th>labels_negative</th>\n",
       "      <th>labels_positive</th>\n",
       "      <th>agreement</th>\n",
       "      <th>id</th>\n",
       "    </tr>\n",
       "  </thead>\n",
       "  <tbody>\n",
       "    <tr>\n",
       "      <th>3817</th>\n",
       "      <td>10.18356/0e7e4f09-en</td>\n",
       "      <td>5a8a677115283c2972e43987ab59d160</td>\n",
       "      <td>although value generated first sale fish produ...</td>\n",
       "      <td>0</td>\n",
       "      <td>9</td>\n",
       "      <td>1.0</td>\n",
       "      <td>3818</td>\n",
       "    </tr>\n",
       "  </tbody>\n",
       "</table>\n",
       "</div>"
      ],
      "text/plain": [
       "                       doi                           text_id  \\\n",
       "3817  10.18356/0e7e4f09-en  5a8a677115283c2972e43987ab59d160   \n",
       "\n",
       "                                                   text  labels_negative  \\\n",
       "3817  although value generated first sale fish produ...                0   \n",
       "\n",
       "      labels_positive  agreement    id  \n",
       "3817                9        1.0  3818  "
      ]
     },
     "execution_count": 161,
     "metadata": {},
     "output_type": "execute_result"
    }
   ],
   "source": [
    "#  Double checking our dataframe was modified rightly\n",
    "test.sample(1)"
   ]
  },
  {
   "cell_type": "markdown",
   "metadata": {},
   "source": [
    "<a id=\"six\"></a>\n",
    "# 4 <a id=\"model\"><strong>Classification Models</strong></a>\n",
    "[Table of Contents](#contents)\n",
    "<a class=\"anchor\" id=\"1.1\"></a>\n",
    "<a href=#cont>Back to Table of Contents</a>\n",
    "\n",
    "---\n",
    "    \n",
    "| ⚡ Description: Classification Models ⚡ |\n",
    "| :--------------------------- |\n",
    "| In this section, we'll look at different models, try to explain them, and learn about their benefits and drawbacks. |\n",
    "\n",
    "---\n",
    "\n",
    "*  Logistic Regression\n",
    "*  Decision Tree Classifier\n",
    "*  Naives Bayes\n",
    "*  K-Neighbors Classifier\n",
    "\n",
    "\n"
   ]
  },
  {
   "cell_type": "markdown",
   "metadata": {},
   "source": [
    "<a id=\"six\"></a>\n",
    "## 4.1 <a id=\"def_variables\"><strong>Defining the Independent (X) and Dependent Variables (y)</strong></a>\n",
    "[Table of Contents](#contents)"
   ]
  },
  {
   "cell_type": "code",
   "execution_count": 164,
   "metadata": {},
   "outputs": [],
   "source": [
    "# Set the target variable to the 'sdg' column of the train dataframe\n",
    "y = np.array(train['sdg'])\n",
    "\n",
    "# Set the feature matrix to the train_data_features variable\n",
    "X = train_data_features"
   ]
  },
  {
   "cell_type": "markdown",
   "metadata": {},
   "source": [
    "### 4.1.1 Spliting into Train and validation set"
   ]
  },
  {
   "cell_type": "markdown",
   "metadata": {},
   "source": [
    "Here, the train data set is divided into train and validation data set. The validation set size is 20% of the total records and it will be used in model evaluation."
   ]
  },
  {
   "cell_type": "code",
   "execution_count": 165,
   "metadata": {},
   "outputs": [],
   "source": [
    "# split the target ad features into train and test\n",
    "X_train, X_test, y_train, y_test = train_test_split(X, y, test_size=0.3, random_state=10)"
   ]
  },
  {
   "cell_type": "markdown",
   "metadata": {},
   "source": [
    "Splitting of the dataset into train and validation dataset, so that we can train and also see the performance of the model on unseen dataset"
   ]
  },
  {
   "cell_type": "markdown",
   "metadata": {},
   "source": [
    "## 4.2 <a id=\"modelpreprocessing\"><strong>Model Preprocessing</strong></a>\n",
    "[Table of Contents](#contents)"
   ]
  },
  {
   "cell_type": "markdown",
   "metadata": {},
   "source": [
    "### 4.2.1 Defining Function for Building Models"
   ]
  },
  {
   "cell_type": "markdown",
   "metadata": {},
   "source": [
    "The function implements a machine learning moded with the use of the train_test_split concept. The function calculates various metrics to check for underfitting or overfitting and most importantly the performance of the model being executed."
   ]
  },
  {
   "cell_type": "code",
   "execution_count": 167,
   "metadata": {},
   "outputs": [],
   "source": [
    "sdgLables = {'No poverty': 1, 'Zero Hunger': 2, 'Good Health and well-being': 3, 'Quality Education': 4, 'Gender equality': 5, 'Clean water and sanitation': 6, 'Affordable and clean energy': 7, 'Industry, Innovation and Infrustructure': 9,\n",
    "            'Decent work and economic growth': 8, 'Reduced Inequality': 10, 'Climate Action': 13, 'Sustainable cites and communities': 11, 'Responsible consumption and production': 12, 'life below water': 14, 'Life on land': 15}\n"
   ]
  },
  {
   "cell_type": "code",
   "execution_count": 168,
   "metadata": {},
   "outputs": [],
   "source": [
    "# careating a function to fit the model and calculate various metrics\n",
    "def modelling(model, X_train=X_train, X_test=X_test, y_train=y_train, y_test=y_test):\n",
    "    \n",
    "    model.fit(X_train, y_train)\n",
    "    pred_train = model.predict(X_train)\n",
    "    pred_valid = model.predict(X_test)\n",
    "    \n",
    "# calculating the metrics\n",
    "    f1_train = f1_score(y_train, pred_train, average='weighted')\n",
    "    f1_test = f1_score(y_test, pred_valid,  average='weighted')\n",
    "    cm = confusion_matrix(y_test, pred_valid)\n",
    "    # sdgLables = {v: k for k, v in sdgLables.items()}\n",
    "    cr = classification_report(y_test, pred_valid, target_names=sdgLables, output_dict=True)\n",
    "    \n",
    "# creating a dataframe for 'confusion matrix' and 'classification report'\n",
    "    cm_train = pd.DataFrame(cm, index = sdgLables, columns = sdgLables)\n",
    "    cr_train = pd.DataFrame(cr)\n",
    "    \n",
    "    print('Confusion Matrix')\n",
    "    display(cm_train)\n",
    "    print('Classification Report')\n",
    "    display(cr_train)\n",
    "    \n",
    "# plotting the confusion matrix using heatmap\n",
    "    plt.figure(figsize=(10,5))\n",
    "    sns.heatmap(cm_train, annot=True)\n",
    "    plt.title('Confusion Matrix')\n",
    "    plt.ylabel('Actal Values')\n",
    "    plt.xlabel('Predicted Values')\n",
    "    plt.show()\n",
    "    \n",
    "    print(f'Train accuracy(f1) is: {round(f1_train, 3)} and Validation accuracy(f1) is {round(f1_test, 3)}')\n",
    "    return cm_train, cr_train, cm # returning metrics\n"
   ]
  },
  {
   "cell_type": "markdown",
   "metadata": {},
   "source": [
    "## 4.3 <a id=\"buildingmodels\"><strong>Building Models</strong></a>\n",
    "[Table of Contents](#contents)\n",
    "\n",
    "\n",
    "We will now apply the modelling function so as to build our classification models."
   ]
  },
  {
   "cell_type": "markdown",
   "metadata": {},
   "source": [
    "### 4.3.1 <a id=\"lrc\"><strong>Logistic Regression Classifier</strong></a>\n",
    "[Table of Contents](#contents)"
   ]
  },
  {
   "cell_type": "markdown",
   "metadata": {},
   "source": [
    "Logistics regression is a predictive analytics model that is used to describe data and explain the relationship between one dependent binary variable and one or more nominal, ordinal, interval or ratio-level independent variables.Sometimes, it can also be applied to a dependent variable that is multi-classed (ie have more than 2 variables). The model was adopted because it is a classification algorithm and suited our use case as well."
   ]
  },
  {
   "cell_type": "code",
   "execution_count": 171,
   "metadata": {
    "scrolled": false
   },
   "outputs": [
    {
     "ename": "NameError",
     "evalue": "name 'f1_score' is not defined",
     "output_type": "error",
     "traceback": [
      "\u001b[1;31m---------------------------------------------------------------------------\u001b[0m",
      "\u001b[1;31mNameError\u001b[0m                                 Traceback (most recent call last)",
      "\u001b[1;32mC:\\Users\\SILAS_~1\\AppData\\Local\\Temp/ipykernel_17832/20408593.py\u001b[0m in \u001b[0;36m<cell line: 7>\u001b[1;34m()\u001b[0m\n\u001b[0;32m      5\u001b[0m \u001b[1;33m\u001b[0m\u001b[0m\n\u001b[0;32m      6\u001b[0m \u001b[1;31m# fitting and predictiion by calling the 'modelling' fuction\u001b[0m\u001b[1;33m\u001b[0m\u001b[1;33m\u001b[0m\u001b[0m\n\u001b[1;32m----> 7\u001b[1;33m \u001b[0mcm_train_logit\u001b[0m\u001b[1;33m,\u001b[0m \u001b[0mcr_train_logit\u001b[0m\u001b[1;33m,\u001b[0m \u001b[0mcm_logit\u001b[0m \u001b[1;33m=\u001b[0m \u001b[0mmodelling\u001b[0m\u001b[1;33m(\u001b[0m\u001b[0mlm\u001b[0m\u001b[1;33m)\u001b[0m\u001b[1;33m\u001b[0m\u001b[1;33m\u001b[0m\u001b[0m\n\u001b[0m",
      "\u001b[1;32mC:\\Users\\SILAS_~1\\AppData\\Local\\Temp/ipykernel_17832/1217481446.py\u001b[0m in \u001b[0;36mmodelling\u001b[1;34m(model, X_train, X_test, y_train, y_test)\u001b[0m\n\u001b[0;32m      7\u001b[0m \u001b[1;33m\u001b[0m\u001b[0m\n\u001b[0;32m      8\u001b[0m \u001b[1;31m# calculating the metrics\u001b[0m\u001b[1;33m\u001b[0m\u001b[1;33m\u001b[0m\u001b[0m\n\u001b[1;32m----> 9\u001b[1;33m     \u001b[0mf1_train\u001b[0m \u001b[1;33m=\u001b[0m \u001b[0mf1_score\u001b[0m\u001b[1;33m(\u001b[0m\u001b[0my_train\u001b[0m\u001b[1;33m,\u001b[0m \u001b[0mpred_train\u001b[0m\u001b[1;33m,\u001b[0m \u001b[0maverage\u001b[0m\u001b[1;33m=\u001b[0m\u001b[1;34m'weighted'\u001b[0m\u001b[1;33m)\u001b[0m\u001b[1;33m\u001b[0m\u001b[1;33m\u001b[0m\u001b[0m\n\u001b[0m\u001b[0;32m     10\u001b[0m     \u001b[0mf1_test\u001b[0m \u001b[1;33m=\u001b[0m \u001b[0mf1_score\u001b[0m\u001b[1;33m(\u001b[0m\u001b[0my_test\u001b[0m\u001b[1;33m,\u001b[0m \u001b[0mpred_valid\u001b[0m\u001b[1;33m,\u001b[0m  \u001b[0maverage\u001b[0m\u001b[1;33m=\u001b[0m\u001b[1;34m'weighted'\u001b[0m\u001b[1;33m)\u001b[0m\u001b[1;33m\u001b[0m\u001b[1;33m\u001b[0m\u001b[0m\n\u001b[0;32m     11\u001b[0m     \u001b[0mcm\u001b[0m \u001b[1;33m=\u001b[0m \u001b[0mconfusion_matrix\u001b[0m\u001b[1;33m(\u001b[0m\u001b[0my_test\u001b[0m\u001b[1;33m,\u001b[0m \u001b[0mpred_valid\u001b[0m\u001b[1;33m)\u001b[0m\u001b[1;33m\u001b[0m\u001b[1;33m\u001b[0m\u001b[0m\n",
      "\u001b[1;31mNameError\u001b[0m: name 'f1_score' is not defined"
     ]
    }
   ],
   "source": [
    "from sklearn.linear_model import LogisticRegression\n",
    "\n",
    "# create logistic regression model instance\n",
    "lm = LogisticRegression(C=2, solver='liblinear')\n",
    "\n",
    "# fitting and predictiion by calling the 'modelling' fuction \n",
    "cm_train_logit, cr_train_logit, cm_logit = modelling(lm)"
   ]
  },
  {
   "cell_type": "markdown",
   "metadata": {},
   "source": [
    "From the confusion matrix we can see that the model did well at predicting the `Gender equality`. Therefore, we have more correctly predicted `Gender equality` sdg than others with an accuracy of `92%`\n",
    "\n",
    "* Generally the model is overfitting having an accuracy score of `99%` in training vs `92%` while predicting unseen dataset\n"
   ]
  },
  {
   "cell_type": "code",
   "execution_count": 110,
   "metadata": {},
   "outputs": [],
   "source": [
    "# Create dictionaries for the data we want to log on comet\n",
    "\n",
    "# Dictionary of model parameters\n",
    "params = {\n",
    "    \"random_state\": 10,  # Random state for reproducibility\n",
    "    \"model_type\": \"lm\"  # Model type\n",
    "}\n",
    "\n",
    "# Dictionary of evaluation metrics\n",
    "metrics = {\n",
    "    \"f1\": cr_train_logit.loc['f1-score', 'weighted avg'],  # F1 score\n",
    "    \"precision\": cr_train_logit.loc['precision', 'weighted avg'],  # Precision\n",
    "    \"recall\": cr_train_logit.loc['recall', 'weighted avg']  # Recall\n",
    "}\n"
   ]
  },
  {
   "cell_type": "code",
   "execution_count": 111,
   "metadata": {},
   "outputs": [
    {
     "data": {
      "text/plain": [
       "{'web': 'https://www.comet.com/api/asset/download?assetId=3dd974e07f9d403ab7c1d262351dca1e&experimentKey=099c5b2182ab4eec8102611621d21267',\n",
       " 'api': 'https://www.comet.com/api/rest/v2/experiment/asset/get-asset?assetId=3dd974e07f9d403ab7c1d262351dca1e&experimentKey=099c5b2182ab4eec8102611621d21267',\n",
       " 'assetId': '3dd974e07f9d403ab7c1d262351dca1e'}"
      ]
     },
     "execution_count": 111,
     "metadata": {},
     "output_type": "execute_result"
    }
   ],
   "source": [
    "# Log our parameters and results on comet\n",
    "experiment.log_parameters(params)\n",
    "experiment.log_metrics(metrics)\n",
    "experiment.log_confusion_matrix(matrix=cm_logit)"
   ]
  },
  {
   "cell_type": "markdown",
   "metadata": {},
   "source": [
    "### 4.3.2 <a id=\"dtc\"><strong>Decision Tree Classifier</strong></a>\n",
    "[Table of Contents](#contents)"
   ]
  },
  {
   "cell_type": "markdown",
   "metadata": {},
   "source": [
    "Decision Tree is a Supervised learning technique that can be used for both classification and Regression problems, but mostly it is preferred for solving Classification problems. It is a tree-structured classifier, where internal nodes represent the features of a dataset, branches represent the decision rules and each leaf node represents the outcome. In order to make prediction, the algorithm simply asks a question, and based on the answer (Yes/No), it further split the tree into subtrees till it get to the final outcome."
   ]
  },
  {
   "cell_type": "code",
   "execution_count": 176,
   "metadata": {},
   "outputs": [],
   "source": [
    "from sklearn.tree import DecisionTreeClassifier\n",
    "from sklearn.ensemble import BaggingClassifier\n",
    "\n",
    "\n",
    "#Inintiate Decision tree\n",
    "dt=DecisionTreeClassifier(random_state=1)\n",
    "\n",
    "#initiate a BaggingClassifier called bc consisting of 50 trees\n",
    "bc=BaggingClassifier(base_estimator=dt, n_estimators=50, random_state=1, n_jobs=-1)"
   ]
  },
  {
   "cell_type": "code",
   "execution_count": 178,
   "metadata": {},
   "outputs": [],
   "source": [
    "cm_train_dt, cr_train_dt, cm_dt = modelling(dt)"
   ]
  },
  {
   "cell_type": "markdown",
   "metadata": {},
   "source": [
    "From our result, the model performed poorly on unseen data. With the train data, an accuracy score of `100%` was recorded but on the test data, we have an accuracy score of `88.9%` which depicts overfitting. "
   ]
  },
  {
   "cell_type": "markdown",
   "metadata": {},
   "source": [
    "### Using pipeline"
   ]
  },
  {
   "cell_type": "markdown",
   "metadata": {},
   "source": [
    "Moving forward to build the rest of our model, we employed techiques like `Pipeline` and `GridsearchCV`.\n",
    "\n",
    "**Pipeline**\n",
    "\n",
    "A machine learning pipeline is useful for coordinating the input and output of data into a machine learning model. A machine learning pipeline is an entire system that coordinates the input of data into and output from a machine learning model (or set of multiple models). Raw data input, features, outputs, machine learning model and model parameters, and prediction outputs are all covered.\n",
    "\n",
    "Here, a machine learning pipeline is employed to easy feature extraction from our text data. The pipeline employed executes the following steps in chronological order to extract these features and make predictions. \n",
    "They include:\n",
    "\n",
    "* Count Vectorization: The CountVectorizer tool in Scikit-learn is used to turn a group of text documents into a vector of term/token counts. Additionally, it enables text data to be pre-processed before being turned into a vector form. Its capabilities turn it into a very versatile feature representation module for text.\n",
    "&emsp;\n",
    "\n",
    "\n",
    "* TF-ID Transformer: With TF-ID transformer, a count matrix is transformed into a normalised tf or tf-itrain representation. To reduce the impact of tokens that appear often in a corpus, tf-itrain is used in place of the raw frequencies of occurrence of a token in a specific document \n",
    "\n",
    "\n",
    "\n",
    "* Model: This represents the adopted Machine Learning model\n",
    "\n",
    "\n",
    "**GridsearchCV**\n",
    "\n",
    "GridSearchCV is the process of performing hyperparameter tuning in order to determine the optimal values for a given model. The performance of a model significantly depends on the value of hyperparameters and there is no way to know in advance the best values for hyperparameters. So ideally, we need to try all possible values to know the optimal values. That is why we employ GridSearchCV to automate the tuning of hyperparameters."
   ]
  },
  {
   "cell_type": "markdown",
   "metadata": {},
   "source": [
    "### 4.3.3 <a id=\"nbc\"><strong>Naive Bayes Classifier</strong></a>\n",
    "[Table of Contents](#contents)"
   ]
  },
  {
   "cell_type": "markdown",
   "metadata": {},
   "source": [
    "Mostly employed in Natural Language Processing, the Multinomial Naive Bayes algorithm is a probabilistic learning technique (NLP). The method, which guesses the tag of a text such as an email or newspaper article, is based on the Bayes theorem. For a given sample, it determines the probabilities of each tag, and then outputs the tag with the highest probability.\n",
    "\n",
    "The Naive Bayes classifier is a collection of many methods, all of which are based on the idea that each feature being classified is independent of every other feature. The existence or absence of one feature has no bearing on the other feature's existence or absence"
   ]
  },
  {
   "cell_type": "code",
   "execution_count": 179,
   "metadata": {},
   "outputs": [],
   "source": [
    "# split the target and features into train and test\n",
    "x_train, x_valid, y_train, y_valid = train_test_split(train['text'], train.sdg, test_size=0.3, random_state=10)"
   ]
  },
  {
   "cell_type": "markdown",
   "metadata": {},
   "source": [
    "Here, we split our dataset again into `Train` and `Validation` set for the purpose of fitting the data into our pipeline"
   ]
  },
  {
   "cell_type": "markdown",
   "metadata": {},
   "source": [
    "##### Building a pipeline to be more concise"
   ]
  },
  {
   "cell_type": "code",
   "execution_count": 180,
   "metadata": {},
   "outputs": [
    {
     "data": {
      "text/html": [
       "<div>\n",
       "<style scoped>\n",
       "    .dataframe tbody tr th:only-of-type {\n",
       "        vertical-align: middle;\n",
       "    }\n",
       "\n",
       "    .dataframe tbody tr th {\n",
       "        vertical-align: top;\n",
       "    }\n",
       "\n",
       "    .dataframe thead th {\n",
       "        text-align: right;\n",
       "    }\n",
       "</style>\n",
       "<table border=\"1\" class=\"dataframe\">\n",
       "  <thead>\n",
       "    <tr style=\"text-align: right;\">\n",
       "      <th></th>\n",
       "      <th>fit_time</th>\n",
       "      <th>score_time</th>\n",
       "      <th>test_score</th>\n",
       "      <th>train_score</th>\n",
       "    </tr>\n",
       "  </thead>\n",
       "  <tbody>\n",
       "    <tr>\n",
       "      <th>0</th>\n",
       "      <td>3.379314</td>\n",
       "      <td>0.677657</td>\n",
       "      <td>0.828195</td>\n",
       "      <td>0.864408</td>\n",
       "    </tr>\n",
       "    <tr>\n",
       "      <th>1</th>\n",
       "      <td>2.971035</td>\n",
       "      <td>0.622963</td>\n",
       "      <td>0.826062</td>\n",
       "      <td>0.860117</td>\n",
       "    </tr>\n",
       "    <tr>\n",
       "      <th>2</th>\n",
       "      <td>2.835997</td>\n",
       "      <td>0.550250</td>\n",
       "      <td>0.819760</td>\n",
       "      <td>0.863268</td>\n",
       "    </tr>\n",
       "    <tr>\n",
       "      <th>3</th>\n",
       "      <td>2.498003</td>\n",
       "      <td>0.783999</td>\n",
       "      <td>0.818402</td>\n",
       "      <td>0.863438</td>\n",
       "    </tr>\n",
       "    <tr>\n",
       "      <th>4</th>\n",
       "      <td>2.359995</td>\n",
       "      <td>0.599002</td>\n",
       "      <td>0.816172</td>\n",
       "      <td>0.864068</td>\n",
       "    </tr>\n",
       "  </tbody>\n",
       "</table>\n",
       "</div>"
      ],
      "text/plain": [
       "   fit_time  score_time  test_score  train_score\n",
       "0  3.379314    0.677657    0.828195     0.864408\n",
       "1  2.971035    0.622963    0.826062     0.860117\n",
       "2  2.835997    0.550250    0.819760     0.863268\n",
       "3  2.498003    0.783999    0.818402     0.863438\n",
       "4  2.359995    0.599002    0.816172     0.864068"
      ]
     },
     "execution_count": 180,
     "metadata": {},
     "output_type": "execute_result"
    }
   ],
   "source": [
    "from sklearn.pipeline import Pipeline\n",
    "from sklearn.naive_bayes import MultinomialNB\n",
    "from sklearn.feature_extraction.text import CountVectorizer\n",
    "from sklearn.feature_extraction.text import TfidfTransformer\n",
    "from sklearn.model_selection import cross_validate\n",
    "import pandas as pd\n",
    "\n",
    "# Create the pipeline with CountVectorizer, TfidfTransformer, and MultinomialNB\n",
    "text_clf = Pipeline([\n",
    "    ('vect', CountVectorizer()),\n",
    "    ('tfidf', TfidfTransformer()),\n",
    "    ('clf', MultinomialNB()),\n",
    "])\n",
    "\n",
    "# Use cross validation to evaluate the model\n",
    "scores = cross_validate(text_clf, train['text'], train.sdg, return_train_score=True)\n",
    "\n",
    "# Display the scores in a DataFrame\n",
    "pd.DataFrame(scores)\n"
   ]
  },
  {
   "cell_type": "markdown",
   "metadata": {},
   "source": [
    "The model seem to be under performing and overfitting at the same time\n",
    "- Using GridsearchCV we can find the best hyper-parameters"
   ]
  },
  {
   "cell_type": "code",
   "execution_count": 181,
   "metadata": {},
   "outputs": [
    {
     "name": "stdout",
     "output_type": "stream",
     "text": [
      "The best accuracy is: 0.9259536564598114\n",
      "{'clf__alpha': 0.01, 'clf__fit_prior': True, 'vect__ngram_range': (1, 2)}\n"
     ]
    },
    {
     "data": {
      "text/html": [
       "<div>\n",
       "<style scoped>\n",
       "    .dataframe tbody tr th:only-of-type {\n",
       "        vertical-align: middle;\n",
       "    }\n",
       "\n",
       "    .dataframe tbody tr th {\n",
       "        vertical-align: top;\n",
       "    }\n",
       "\n",
       "    .dataframe thead th {\n",
       "        text-align: right;\n",
       "    }\n",
       "</style>\n",
       "<table border=\"1\" class=\"dataframe\">\n",
       "  <thead>\n",
       "    <tr style=\"text-align: right;\">\n",
       "      <th></th>\n",
       "      <th>No poverty</th>\n",
       "      <th>Zero Hunger</th>\n",
       "      <th>Good Health and well-being</th>\n",
       "      <th>Quality Education</th>\n",
       "      <th>Gender equality</th>\n",
       "      <th>Clean water and sanitation</th>\n",
       "      <th>Affordable and clean energy</th>\n",
       "      <th>Industry, Innovation and Infrustructure</th>\n",
       "      <th>Decent work and economic growth</th>\n",
       "      <th>Reduced Inequality</th>\n",
       "      <th>Climate Action</th>\n",
       "      <th>Sustainable cites and communities</th>\n",
       "      <th>Responsible consumption and production</th>\n",
       "      <th>life below water</th>\n",
       "      <th>Life on land</th>\n",
       "    </tr>\n",
       "  </thead>\n",
       "  <tbody>\n",
       "    <tr>\n",
       "      <th>No poverty</th>\n",
       "      <td>866</td>\n",
       "      <td>11</td>\n",
       "      <td>3</td>\n",
       "      <td>7</td>\n",
       "      <td>44</td>\n",
       "      <td>1</td>\n",
       "      <td>4</td>\n",
       "      <td>11</td>\n",
       "      <td>2</td>\n",
       "      <td>16</td>\n",
       "      <td>6</td>\n",
       "      <td>0</td>\n",
       "      <td>2</td>\n",
       "      <td>0</td>\n",
       "      <td>0</td>\n",
       "    </tr>\n",
       "    <tr>\n",
       "      <th>Zero Hunger</th>\n",
       "      <td>26</td>\n",
       "      <td>937</td>\n",
       "      <td>1</td>\n",
       "      <td>4</td>\n",
       "      <td>1</td>\n",
       "      <td>14</td>\n",
       "      <td>7</td>\n",
       "      <td>0</td>\n",
       "      <td>3</td>\n",
       "      <td>6</td>\n",
       "      <td>4</td>\n",
       "      <td>0</td>\n",
       "      <td>11</td>\n",
       "      <td>3</td>\n",
       "      <td>3</td>\n",
       "    </tr>\n",
       "    <tr>\n",
       "      <th>Good Health and well-being</th>\n",
       "      <td>6</td>\n",
       "      <td>0</td>\n",
       "      <td>986</td>\n",
       "      <td>3</td>\n",
       "      <td>12</td>\n",
       "      <td>2</td>\n",
       "      <td>0</td>\n",
       "      <td>1</td>\n",
       "      <td>1</td>\n",
       "      <td>1</td>\n",
       "      <td>3</td>\n",
       "      <td>0</td>\n",
       "      <td>2</td>\n",
       "      <td>0</td>\n",
       "      <td>0</td>\n",
       "    </tr>\n",
       "    <tr>\n",
       "      <th>Quality Education</th>\n",
       "      <td>13</td>\n",
       "      <td>0</td>\n",
       "      <td>1</td>\n",
       "      <td>975</td>\n",
       "      <td>18</td>\n",
       "      <td>2</td>\n",
       "      <td>3</td>\n",
       "      <td>14</td>\n",
       "      <td>2</td>\n",
       "      <td>6</td>\n",
       "      <td>4</td>\n",
       "      <td>1</td>\n",
       "      <td>2</td>\n",
       "      <td>2</td>\n",
       "      <td>0</td>\n",
       "    </tr>\n",
       "    <tr>\n",
       "      <th>Gender equality</th>\n",
       "      <td>44</td>\n",
       "      <td>8</td>\n",
       "      <td>17</td>\n",
       "      <td>20</td>\n",
       "      <td>897</td>\n",
       "      <td>3</td>\n",
       "      <td>7</td>\n",
       "      <td>22</td>\n",
       "      <td>5</td>\n",
       "      <td>14</td>\n",
       "      <td>4</td>\n",
       "      <td>1</td>\n",
       "      <td>8</td>\n",
       "      <td>0</td>\n",
       "      <td>0</td>\n",
       "    </tr>\n",
       "    <tr>\n",
       "      <th>Clean water and sanitation</th>\n",
       "      <td>4</td>\n",
       "      <td>16</td>\n",
       "      <td>0</td>\n",
       "      <td>4</td>\n",
       "      <td>11</td>\n",
       "      <td>939</td>\n",
       "      <td>16</td>\n",
       "      <td>0</td>\n",
       "      <td>3</td>\n",
       "      <td>1</td>\n",
       "      <td>12</td>\n",
       "      <td>2</td>\n",
       "      <td>16</td>\n",
       "      <td>2</td>\n",
       "      <td>9</td>\n",
       "    </tr>\n",
       "    <tr>\n",
       "      <th>Affordable and clean energy</th>\n",
       "      <td>4</td>\n",
       "      <td>5</td>\n",
       "      <td>0</td>\n",
       "      <td>7</td>\n",
       "      <td>5</td>\n",
       "      <td>16</td>\n",
       "      <td>950</td>\n",
       "      <td>1</td>\n",
       "      <td>6</td>\n",
       "      <td>1</td>\n",
       "      <td>10</td>\n",
       "      <td>2</td>\n",
       "      <td>10</td>\n",
       "      <td>0</td>\n",
       "      <td>4</td>\n",
       "    </tr>\n",
       "    <tr>\n",
       "      <th>Industry, Innovation and Infrustructure</th>\n",
       "      <td>4</td>\n",
       "      <td>6</td>\n",
       "      <td>4</td>\n",
       "      <td>8</td>\n",
       "      <td>23</td>\n",
       "      <td>0</td>\n",
       "      <td>5</td>\n",
       "      <td>972</td>\n",
       "      <td>6</td>\n",
       "      <td>4</td>\n",
       "      <td>6</td>\n",
       "      <td>0</td>\n",
       "      <td>0</td>\n",
       "      <td>0</td>\n",
       "      <td>2</td>\n",
       "    </tr>\n",
       "    <tr>\n",
       "      <th>Decent work and economic growth</th>\n",
       "      <td>1</td>\n",
       "      <td>10</td>\n",
       "      <td>2</td>\n",
       "      <td>0</td>\n",
       "      <td>0</td>\n",
       "      <td>4</td>\n",
       "      <td>7</td>\n",
       "      <td>1</td>\n",
       "      <td>1059</td>\n",
       "      <td>0</td>\n",
       "      <td>3</td>\n",
       "      <td>0</td>\n",
       "      <td>2</td>\n",
       "      <td>0</td>\n",
       "      <td>0</td>\n",
       "    </tr>\n",
       "    <tr>\n",
       "      <th>Reduced Inequality</th>\n",
       "      <td>6</td>\n",
       "      <td>1</td>\n",
       "      <td>1</td>\n",
       "      <td>2</td>\n",
       "      <td>2</td>\n",
       "      <td>0</td>\n",
       "      <td>2</td>\n",
       "      <td>5</td>\n",
       "      <td>3</td>\n",
       "      <td>1017</td>\n",
       "      <td>0</td>\n",
       "      <td>0</td>\n",
       "      <td>0</td>\n",
       "      <td>0</td>\n",
       "      <td>0</td>\n",
       "    </tr>\n",
       "    <tr>\n",
       "      <th>Climate Action</th>\n",
       "      <td>10</td>\n",
       "      <td>4</td>\n",
       "      <td>4</td>\n",
       "      <td>10</td>\n",
       "      <td>14</td>\n",
       "      <td>15</td>\n",
       "      <td>5</td>\n",
       "      <td>8</td>\n",
       "      <td>5</td>\n",
       "      <td>4</td>\n",
       "      <td>920</td>\n",
       "      <td>0</td>\n",
       "      <td>11</td>\n",
       "      <td>0</td>\n",
       "      <td>1</td>\n",
       "    </tr>\n",
       "    <tr>\n",
       "      <th>Sustainable cites and communities</th>\n",
       "      <td>0</td>\n",
       "      <td>0</td>\n",
       "      <td>0</td>\n",
       "      <td>0</td>\n",
       "      <td>0</td>\n",
       "      <td>0</td>\n",
       "      <td>0</td>\n",
       "      <td>0</td>\n",
       "      <td>0</td>\n",
       "      <td>0</td>\n",
       "      <td>0</td>\n",
       "      <td>1013</td>\n",
       "      <td>0</td>\n",
       "      <td>0</td>\n",
       "      <td>0</td>\n",
       "    </tr>\n",
       "    <tr>\n",
       "      <th>Responsible consumption and production</th>\n",
       "      <td>3</td>\n",
       "      <td>5</td>\n",
       "      <td>0</td>\n",
       "      <td>2</td>\n",
       "      <td>10</td>\n",
       "      <td>8</td>\n",
       "      <td>24</td>\n",
       "      <td>1</td>\n",
       "      <td>4</td>\n",
       "      <td>0</td>\n",
       "      <td>3</td>\n",
       "      <td>0</td>\n",
       "      <td>975</td>\n",
       "      <td>3</td>\n",
       "      <td>1</td>\n",
       "    </tr>\n",
       "    <tr>\n",
       "      <th>life below water</th>\n",
       "      <td>0</td>\n",
       "      <td>4</td>\n",
       "      <td>0</td>\n",
       "      <td>1</td>\n",
       "      <td>0</td>\n",
       "      <td>2</td>\n",
       "      <td>0</td>\n",
       "      <td>0</td>\n",
       "      <td>0</td>\n",
       "      <td>0</td>\n",
       "      <td>0</td>\n",
       "      <td>0</td>\n",
       "      <td>3</td>\n",
       "      <td>1013</td>\n",
       "      <td>5</td>\n",
       "    </tr>\n",
       "    <tr>\n",
       "      <th>Life on land</th>\n",
       "      <td>0</td>\n",
       "      <td>10</td>\n",
       "      <td>0</td>\n",
       "      <td>0</td>\n",
       "      <td>1</td>\n",
       "      <td>1</td>\n",
       "      <td>4</td>\n",
       "      <td>0</td>\n",
       "      <td>0</td>\n",
       "      <td>0</td>\n",
       "      <td>1</td>\n",
       "      <td>0</td>\n",
       "      <td>5</td>\n",
       "      <td>0</td>\n",
       "      <td>1031</td>\n",
       "    </tr>\n",
       "  </tbody>\n",
       "</table>\n",
       "</div>"
      ],
      "text/plain": [
       "                                         No poverty  Zero Hunger  \\\n",
       "No poverty                                      866           11   \n",
       "Zero Hunger                                      26          937   \n",
       "Good Health and well-being                        6            0   \n",
       "Quality Education                                13            0   \n",
       "Gender equality                                  44            8   \n",
       "Clean water and sanitation                        4           16   \n",
       "Affordable and clean energy                       4            5   \n",
       "Industry, Innovation and Infrustructure           4            6   \n",
       "Decent work and economic growth                   1           10   \n",
       "Reduced Inequality                                6            1   \n",
       "Climate Action                                   10            4   \n",
       "Sustainable cites and communities                 0            0   \n",
       "Responsible consumption and production            3            5   \n",
       "life below water                                  0            4   \n",
       "Life on land                                      0           10   \n",
       "\n",
       "                                         Good Health and well-being  \\\n",
       "No poverty                                                        3   \n",
       "Zero Hunger                                                       1   \n",
       "Good Health and well-being                                      986   \n",
       "Quality Education                                                 1   \n",
       "Gender equality                                                  17   \n",
       "Clean water and sanitation                                        0   \n",
       "Affordable and clean energy                                       0   \n",
       "Industry, Innovation and Infrustructure                           4   \n",
       "Decent work and economic growth                                   2   \n",
       "Reduced Inequality                                                1   \n",
       "Climate Action                                                    4   \n",
       "Sustainable cites and communities                                 0   \n",
       "Responsible consumption and production                            0   \n",
       "life below water                                                  0   \n",
       "Life on land                                                      0   \n",
       "\n",
       "                                         Quality Education  Gender equality  \\\n",
       "No poverty                                               7               44   \n",
       "Zero Hunger                                              4                1   \n",
       "Good Health and well-being                               3               12   \n",
       "Quality Education                                      975               18   \n",
       "Gender equality                                         20              897   \n",
       "Clean water and sanitation                               4               11   \n",
       "Affordable and clean energy                              7                5   \n",
       "Industry, Innovation and Infrustructure                  8               23   \n",
       "Decent work and economic growth                          0                0   \n",
       "Reduced Inequality                                       2                2   \n",
       "Climate Action                                          10               14   \n",
       "Sustainable cites and communities                        0                0   \n",
       "Responsible consumption and production                   2               10   \n",
       "life below water                                         1                0   \n",
       "Life on land                                             0                1   \n",
       "\n",
       "                                         Clean water and sanitation  \\\n",
       "No poverty                                                        1   \n",
       "Zero Hunger                                                      14   \n",
       "Good Health and well-being                                        2   \n",
       "Quality Education                                                 2   \n",
       "Gender equality                                                   3   \n",
       "Clean water and sanitation                                      939   \n",
       "Affordable and clean energy                                      16   \n",
       "Industry, Innovation and Infrustructure                           0   \n",
       "Decent work and economic growth                                   4   \n",
       "Reduced Inequality                                                0   \n",
       "Climate Action                                                   15   \n",
       "Sustainable cites and communities                                 0   \n",
       "Responsible consumption and production                            8   \n",
       "life below water                                                  2   \n",
       "Life on land                                                      1   \n",
       "\n",
       "                                         Affordable and clean energy  \\\n",
       "No poverty                                                         4   \n",
       "Zero Hunger                                                        7   \n",
       "Good Health and well-being                                         0   \n",
       "Quality Education                                                  3   \n",
       "Gender equality                                                    7   \n",
       "Clean water and sanitation                                        16   \n",
       "Affordable and clean energy                                      950   \n",
       "Industry, Innovation and Infrustructure                            5   \n",
       "Decent work and economic growth                                    7   \n",
       "Reduced Inequality                                                 2   \n",
       "Climate Action                                                     5   \n",
       "Sustainable cites and communities                                  0   \n",
       "Responsible consumption and production                            24   \n",
       "life below water                                                   0   \n",
       "Life on land                                                       4   \n",
       "\n",
       "                                         Industry, Innovation and Infrustructure  \\\n",
       "No poverty                                                                    11   \n",
       "Zero Hunger                                                                    0   \n",
       "Good Health and well-being                                                     1   \n",
       "Quality Education                                                             14   \n",
       "Gender equality                                                               22   \n",
       "Clean water and sanitation                                                     0   \n",
       "Affordable and clean energy                                                    1   \n",
       "Industry, Innovation and Infrustructure                                      972   \n",
       "Decent work and economic growth                                                1   \n",
       "Reduced Inequality                                                             5   \n",
       "Climate Action                                                                 8   \n",
       "Sustainable cites and communities                                              0   \n",
       "Responsible consumption and production                                         1   \n",
       "life below water                                                               0   \n",
       "Life on land                                                                   0   \n",
       "\n",
       "                                         Decent work and economic growth  \\\n",
       "No poverty                                                             2   \n",
       "Zero Hunger                                                            3   \n",
       "Good Health and well-being                                             1   \n",
       "Quality Education                                                      2   \n",
       "Gender equality                                                        5   \n",
       "Clean water and sanitation                                             3   \n",
       "Affordable and clean energy                                            6   \n",
       "Industry, Innovation and Infrustructure                                6   \n",
       "Decent work and economic growth                                     1059   \n",
       "Reduced Inequality                                                     3   \n",
       "Climate Action                                                         5   \n",
       "Sustainable cites and communities                                      0   \n",
       "Responsible consumption and production                                 4   \n",
       "life below water                                                       0   \n",
       "Life on land                                                           0   \n",
       "\n",
       "                                         Reduced Inequality  Climate Action  \\\n",
       "No poverty                                               16               6   \n",
       "Zero Hunger                                               6               4   \n",
       "Good Health and well-being                                1               3   \n",
       "Quality Education                                         6               4   \n",
       "Gender equality                                          14               4   \n",
       "Clean water and sanitation                                1              12   \n",
       "Affordable and clean energy                               1              10   \n",
       "Industry, Innovation and Infrustructure                   4               6   \n",
       "Decent work and economic growth                           0               3   \n",
       "Reduced Inequality                                     1017               0   \n",
       "Climate Action                                            4             920   \n",
       "Sustainable cites and communities                         0               0   \n",
       "Responsible consumption and production                    0               3   \n",
       "life below water                                          0               0   \n",
       "Life on land                                              0               1   \n",
       "\n",
       "                                         Sustainable cites and communities  \\\n",
       "No poverty                                                               0   \n",
       "Zero Hunger                                                              0   \n",
       "Good Health and well-being                                               0   \n",
       "Quality Education                                                        1   \n",
       "Gender equality                                                          1   \n",
       "Clean water and sanitation                                               2   \n",
       "Affordable and clean energy                                              2   \n",
       "Industry, Innovation and Infrustructure                                  0   \n",
       "Decent work and economic growth                                          0   \n",
       "Reduced Inequality                                                       0   \n",
       "Climate Action                                                           0   \n",
       "Sustainable cites and communities                                     1013   \n",
       "Responsible consumption and production                                   0   \n",
       "life below water                                                         0   \n",
       "Life on land                                                             0   \n",
       "\n",
       "                                         Responsible consumption and production  \\\n",
       "No poverty                                                                    2   \n",
       "Zero Hunger                                                                  11   \n",
       "Good Health and well-being                                                    2   \n",
       "Quality Education                                                             2   \n",
       "Gender equality                                                               8   \n",
       "Clean water and sanitation                                                   16   \n",
       "Affordable and clean energy                                                  10   \n",
       "Industry, Innovation and Infrustructure                                       0   \n",
       "Decent work and economic growth                                               2   \n",
       "Reduced Inequality                                                            0   \n",
       "Climate Action                                                               11   \n",
       "Sustainable cites and communities                                             0   \n",
       "Responsible consumption and production                                      975   \n",
       "life below water                                                              3   \n",
       "Life on land                                                                  5   \n",
       "\n",
       "                                         life below water  Life on land  \n",
       "No poverty                                              0             0  \n",
       "Zero Hunger                                             3             3  \n",
       "Good Health and well-being                              0             0  \n",
       "Quality Education                                       2             0  \n",
       "Gender equality                                         0             0  \n",
       "Clean water and sanitation                              2             9  \n",
       "Affordable and clean energy                             0             4  \n",
       "Industry, Innovation and Infrustructure                 0             2  \n",
       "Decent work and economic growth                         0             0  \n",
       "Reduced Inequality                                      0             0  \n",
       "Climate Action                                          0             1  \n",
       "Sustainable cites and communities                       0             0  \n",
       "Responsible consumption and production                  3             1  \n",
       "life below water                                     1013             5  \n",
       "Life on land                                            0          1031  "
      ]
     },
     "execution_count": 181,
     "metadata": {},
     "output_type": "execute_result"
    }
   ],
   "source": [
    "from sklearn.model_selection import GridSearchCV\n",
    "from sklearn.metrics import confusion_matrix\n",
    "import pandas as pd\n",
    "\n",
    "# Define the parameter grid for the grid search\n",
    "parameters = {\n",
    "    'vect__ngram_range': [(1, 1), (1, 2), (2, 2)],\n",
    "    'clf__alpha': (1e-2, 1e-3),\n",
    "    'clf__fit_prior': (True, False)\n",
    "}\n",
    "\n",
    "# Create the grid search object and fit it to the data\n",
    "nb_clf = GridSearchCV(text_clf, parameters, n_jobs=-1)\n",
    "nb_clf.fit(x_train, y_train)\n",
    "\n",
    "# Print the best accuracy and the best parameters\n",
    "print('The best accuracy is:', nb_clf.best_score_)\n",
    "print(nb_clf.best_params_)\n",
    "\n",
    "# Make predictions on the validation set\n",
    "predicts = nb_clf.predict(x_valid)\n",
    "\n",
    "# Display the confusion matrix\n",
    "cm = confusion_matrix(y_valid, predicts)\n",
    "pd.DataFrame(cm, index=sdgLables, columns=sdgLables)\n"
   ]
  },
  {
   "cell_type": "markdown",
   "metadata": {},
   "source": [
    "Using our split dataset so we can train on seen data and validate our model with the unseen dataset"
   ]
  },
  {
   "cell_type": "code",
   "execution_count": 182,
   "metadata": {},
   "outputs": [
    {
     "data": {
      "text/plain": [
       "{'web': 'https://www.comet.com/api/asset/download?assetId=0bbc10f86a174873a2890ce51b981de0&experimentKey=e410174bfb454c9fbfc9709993a5ec85',\n",
       " 'api': 'https://www.comet.com/api/rest/v2/experiment/asset/get-asset?assetId=0bbc10f86a174873a2890ce51b981de0&experimentKey=e410174bfb454c9fbfc9709993a5ec85',\n",
       " 'assetId': '0bbc10f86a174873a2890ce51b981de0'}"
      ]
     },
     "execution_count": 182,
     "metadata": {},
     "output_type": "execute_result"
    }
   ],
   "source": [
    "# Create dictionaries for the data we want to log\n",
    "params = nb_clf.best_params_\n",
    "metrics = {\"f1\": nb_clf.best_score_}\n",
    "\n",
    "# Log our parameters and results\n",
    "experiment.log_parameters(params)\n",
    "experiment.log_metrics(metrics)\n",
    "experiment.log_confusion_matrix(matrix=cm)"
   ]
  },
  {
   "cell_type": "markdown",
   "metadata": {},
   "source": [
    "### 4.3.4 <a id=\"knc\"><strong>K-Neighbors Classifier</strong></a>\n",
    "[Table of Contents](#contents)"
   ]
  },
  {
   "cell_type": "markdown",
   "metadata": {},
   "source": [
    "Building a pipeline to be more concise"
   ]
  },
  {
   "cell_type": "markdown",
   "metadata": {},
   "source": [
    "<script src=\"https://github.com/kojosbk/RentingProject/blob/main/rent_in_Ghana%20copy.ipynb\"></script>"
   ]
  },
  {
   "cell_type": "code",
   "execution_count": 183,
   "metadata": {
    "scrolled": true
   },
   "outputs": [
    {
     "data": {
      "text/html": [
       "<div>\n",
       "<style scoped>\n",
       "    .dataframe tbody tr th:only-of-type {\n",
       "        vertical-align: middle;\n",
       "    }\n",
       "\n",
       "    .dataframe tbody tr th {\n",
       "        vertical-align: top;\n",
       "    }\n",
       "\n",
       "    .dataframe thead th {\n",
       "        text-align: right;\n",
       "    }\n",
       "</style>\n",
       "<table border=\"1\" class=\"dataframe\">\n",
       "  <thead>\n",
       "    <tr style=\"text-align: right;\">\n",
       "      <th></th>\n",
       "      <th>fit_time</th>\n",
       "      <th>score_time</th>\n",
       "      <th>test_score</th>\n",
       "      <th>train_score</th>\n",
       "    </tr>\n",
       "  </thead>\n",
       "  <tbody>\n",
       "    <tr>\n",
       "      <th>0</th>\n",
       "      <td>2.948859</td>\n",
       "      <td>23.962734</td>\n",
       "      <td>0.817627</td>\n",
       "      <td>0.895676</td>\n",
       "    </tr>\n",
       "    <tr>\n",
       "      <th>1</th>\n",
       "      <td>2.368773</td>\n",
       "      <td>23.432563</td>\n",
       "      <td>0.821505</td>\n",
       "      <td>0.894609</td>\n",
       "    </tr>\n",
       "    <tr>\n",
       "      <th>2</th>\n",
       "      <td>2.386037</td>\n",
       "      <td>21.505371</td>\n",
       "      <td>0.823250</td>\n",
       "      <td>0.891919</td>\n",
       "    </tr>\n",
       "    <tr>\n",
       "      <th>3</th>\n",
       "      <td>2.461779</td>\n",
       "      <td>22.023122</td>\n",
       "      <td>0.817627</td>\n",
       "      <td>0.894924</td>\n",
       "    </tr>\n",
       "    <tr>\n",
       "      <th>4</th>\n",
       "      <td>2.373981</td>\n",
       "      <td>21.862202</td>\n",
       "      <td>0.801532</td>\n",
       "      <td>0.892646</td>\n",
       "    </tr>\n",
       "  </tbody>\n",
       "</table>\n",
       "</div>"
      ],
      "text/plain": [
       "   fit_time  score_time  test_score  train_score\n",
       "0  2.948859   23.962734    0.817627     0.895676\n",
       "1  2.368773   23.432563    0.821505     0.894609\n",
       "2  2.386037   21.505371    0.823250     0.891919\n",
       "3  2.461779   22.023122    0.817627     0.894924\n",
       "4  2.373981   21.862202    0.801532     0.892646"
      ]
     },
     "execution_count": 183,
     "metadata": {},
     "output_type": "execute_result"
    }
   ],
   "source": [
    "from sklearn.pipeline import Pipeline\n",
    "from sklearn.neighbors import KNeighborsClassifier\n",
    "from sklearn.feature_extraction.text import CountVectorizer\n",
    "from sklearn.feature_extraction.text import TfidfTransformer\n",
    "from sklearn.model_selection import cross_validate\n",
    "import pandas as pd\n",
    "\n",
    "# Create the pipeline with CountVectorizer, TfidfTransformer, and KNeighborsClassifier\n",
    "knc_clf = Pipeline([\n",
    "    ('vect', CountVectorizer()),\n",
    "    ('tfitrain', TfidfTransformer()),\n",
    "    ('clf', KNeighborsClassifier()),\n",
    "])\n",
    "\n",
    "# Use cross validation to evaluate the model\n",
    "scores = cross_validate(knc_clf, train['text'], train.sdg, return_train_score=True)\n",
    "\n",
    "# Display the scores in a DataFrame\n",
    "pd.DataFrame(scores)\n"
   ]
  },
  {
   "cell_type": "markdown",
   "metadata": {},
   "source": [
    "The model seem to be under performing and overfitting at the same time\n",
    "- Using GridsearchCV we can find the best hyper-parameters"
   ]
  },
  {
   "cell_type": "code",
   "execution_count": 184,
   "metadata": {},
   "outputs": [
    {
     "name": "stdout",
     "output_type": "stream",
     "text": [
      "The best accuracy is: 0.8965345028642867\n",
      "{'clf__n_neighbors': 1, 'vect__ngram_range': (1, 1)}\n"
     ]
    },
    {
     "data": {
      "text/html": [
       "<div>\n",
       "<style scoped>\n",
       "    .dataframe tbody tr th:only-of-type {\n",
       "        vertical-align: middle;\n",
       "    }\n",
       "\n",
       "    .dataframe tbody tr th {\n",
       "        vertical-align: top;\n",
       "    }\n",
       "\n",
       "    .dataframe thead th {\n",
       "        text-align: right;\n",
       "    }\n",
       "</style>\n",
       "<table border=\"1\" class=\"dataframe\">\n",
       "  <thead>\n",
       "    <tr style=\"text-align: right;\">\n",
       "      <th></th>\n",
       "      <th>No poverty</th>\n",
       "      <th>Zero Hunger</th>\n",
       "      <th>Good Health and well-being</th>\n",
       "      <th>Quality Education</th>\n",
       "      <th>Gender equality</th>\n",
       "      <th>Clean water and sanitation</th>\n",
       "      <th>Affordable and clean energy</th>\n",
       "      <th>Industry, Innovation and Infrustructure</th>\n",
       "      <th>Decent work and economic growth</th>\n",
       "      <th>Reduced Inequality</th>\n",
       "      <th>Climate Action</th>\n",
       "      <th>Sustainable cites and communities</th>\n",
       "      <th>Responsible consumption and production</th>\n",
       "      <th>life below water</th>\n",
       "      <th>Life on land</th>\n",
       "    </tr>\n",
       "  </thead>\n",
       "  <tbody>\n",
       "    <tr>\n",
       "      <th>No poverty</th>\n",
       "      <td>851</td>\n",
       "      <td>12</td>\n",
       "      <td>5</td>\n",
       "      <td>12</td>\n",
       "      <td>42</td>\n",
       "      <td>1</td>\n",
       "      <td>7</td>\n",
       "      <td>13</td>\n",
       "      <td>1</td>\n",
       "      <td>15</td>\n",
       "      <td>5</td>\n",
       "      <td>0</td>\n",
       "      <td>5</td>\n",
       "      <td>0</td>\n",
       "      <td>4</td>\n",
       "    </tr>\n",
       "    <tr>\n",
       "      <th>Zero Hunger</th>\n",
       "      <td>14</td>\n",
       "      <td>913</td>\n",
       "      <td>9</td>\n",
       "      <td>0</td>\n",
       "      <td>8</td>\n",
       "      <td>15</td>\n",
       "      <td>5</td>\n",
       "      <td>9</td>\n",
       "      <td>9</td>\n",
       "      <td>6</td>\n",
       "      <td>2</td>\n",
       "      <td>0</td>\n",
       "      <td>15</td>\n",
       "      <td>9</td>\n",
       "      <td>6</td>\n",
       "    </tr>\n",
       "    <tr>\n",
       "      <th>Good Health and well-being</th>\n",
       "      <td>17</td>\n",
       "      <td>7</td>\n",
       "      <td>956</td>\n",
       "      <td>7</td>\n",
       "      <td>5</td>\n",
       "      <td>0</td>\n",
       "      <td>3</td>\n",
       "      <td>7</td>\n",
       "      <td>0</td>\n",
       "      <td>3</td>\n",
       "      <td>4</td>\n",
       "      <td>0</td>\n",
       "      <td>4</td>\n",
       "      <td>1</td>\n",
       "      <td>3</td>\n",
       "    </tr>\n",
       "    <tr>\n",
       "      <th>Quality Education</th>\n",
       "      <td>8</td>\n",
       "      <td>3</td>\n",
       "      <td>7</td>\n",
       "      <td>936</td>\n",
       "      <td>24</td>\n",
       "      <td>5</td>\n",
       "      <td>4</td>\n",
       "      <td>17</td>\n",
       "      <td>13</td>\n",
       "      <td>6</td>\n",
       "      <td>4</td>\n",
       "      <td>5</td>\n",
       "      <td>7</td>\n",
       "      <td>2</td>\n",
       "      <td>2</td>\n",
       "    </tr>\n",
       "    <tr>\n",
       "      <th>Gender equality</th>\n",
       "      <td>50</td>\n",
       "      <td>18</td>\n",
       "      <td>28</td>\n",
       "      <td>32</td>\n",
       "      <td>798</td>\n",
       "      <td>5</td>\n",
       "      <td>8</td>\n",
       "      <td>44</td>\n",
       "      <td>11</td>\n",
       "      <td>23</td>\n",
       "      <td>7</td>\n",
       "      <td>0</td>\n",
       "      <td>16</td>\n",
       "      <td>2</td>\n",
       "      <td>8</td>\n",
       "    </tr>\n",
       "    <tr>\n",
       "      <th>Clean water and sanitation</th>\n",
       "      <td>8</td>\n",
       "      <td>15</td>\n",
       "      <td>4</td>\n",
       "      <td>5</td>\n",
       "      <td>7</td>\n",
       "      <td>921</td>\n",
       "      <td>23</td>\n",
       "      <td>5</td>\n",
       "      <td>5</td>\n",
       "      <td>1</td>\n",
       "      <td>8</td>\n",
       "      <td>1</td>\n",
       "      <td>11</td>\n",
       "      <td>5</td>\n",
       "      <td>16</td>\n",
       "    </tr>\n",
       "    <tr>\n",
       "      <th>Affordable and clean energy</th>\n",
       "      <td>5</td>\n",
       "      <td>19</td>\n",
       "      <td>2</td>\n",
       "      <td>10</td>\n",
       "      <td>7</td>\n",
       "      <td>9</td>\n",
       "      <td>911</td>\n",
       "      <td>6</td>\n",
       "      <td>7</td>\n",
       "      <td>8</td>\n",
       "      <td>13</td>\n",
       "      <td>1</td>\n",
       "      <td>15</td>\n",
       "      <td>3</td>\n",
       "      <td>5</td>\n",
       "    </tr>\n",
       "    <tr>\n",
       "      <th>Industry, Innovation and Infrustructure</th>\n",
       "      <td>7</td>\n",
       "      <td>1</td>\n",
       "      <td>11</td>\n",
       "      <td>5</td>\n",
       "      <td>20</td>\n",
       "      <td>2</td>\n",
       "      <td>2</td>\n",
       "      <td>968</td>\n",
       "      <td>3</td>\n",
       "      <td>8</td>\n",
       "      <td>4</td>\n",
       "      <td>3</td>\n",
       "      <td>1</td>\n",
       "      <td>2</td>\n",
       "      <td>3</td>\n",
       "    </tr>\n",
       "    <tr>\n",
       "      <th>Decent work and economic growth</th>\n",
       "      <td>2</td>\n",
       "      <td>11</td>\n",
       "      <td>0</td>\n",
       "      <td>0</td>\n",
       "      <td>3</td>\n",
       "      <td>4</td>\n",
       "      <td>9</td>\n",
       "      <td>0</td>\n",
       "      <td>1044</td>\n",
       "      <td>2</td>\n",
       "      <td>5</td>\n",
       "      <td>3</td>\n",
       "      <td>6</td>\n",
       "      <td>0</td>\n",
       "      <td>0</td>\n",
       "    </tr>\n",
       "    <tr>\n",
       "      <th>Reduced Inequality</th>\n",
       "      <td>5</td>\n",
       "      <td>0</td>\n",
       "      <td>0</td>\n",
       "      <td>5</td>\n",
       "      <td>4</td>\n",
       "      <td>0</td>\n",
       "      <td>2</td>\n",
       "      <td>8</td>\n",
       "      <td>0</td>\n",
       "      <td>1011</td>\n",
       "      <td>0</td>\n",
       "      <td>0</td>\n",
       "      <td>4</td>\n",
       "      <td>0</td>\n",
       "      <td>0</td>\n",
       "    </tr>\n",
       "    <tr>\n",
       "      <th>Climate Action</th>\n",
       "      <td>3</td>\n",
       "      <td>13</td>\n",
       "      <td>3</td>\n",
       "      <td>13</td>\n",
       "      <td>8</td>\n",
       "      <td>15</td>\n",
       "      <td>12</td>\n",
       "      <td>8</td>\n",
       "      <td>9</td>\n",
       "      <td>2</td>\n",
       "      <td>913</td>\n",
       "      <td>0</td>\n",
       "      <td>7</td>\n",
       "      <td>2</td>\n",
       "      <td>3</td>\n",
       "    </tr>\n",
       "    <tr>\n",
       "      <th>Sustainable cites and communities</th>\n",
       "      <td>0</td>\n",
       "      <td>0</td>\n",
       "      <td>0</td>\n",
       "      <td>0</td>\n",
       "      <td>0</td>\n",
       "      <td>0</td>\n",
       "      <td>0</td>\n",
       "      <td>0</td>\n",
       "      <td>0</td>\n",
       "      <td>0</td>\n",
       "      <td>0</td>\n",
       "      <td>1013</td>\n",
       "      <td>0</td>\n",
       "      <td>0</td>\n",
       "      <td>0</td>\n",
       "    </tr>\n",
       "    <tr>\n",
       "      <th>Responsible consumption and production</th>\n",
       "      <td>7</td>\n",
       "      <td>6</td>\n",
       "      <td>2</td>\n",
       "      <td>4</td>\n",
       "      <td>4</td>\n",
       "      <td>7</td>\n",
       "      <td>19</td>\n",
       "      <td>8</td>\n",
       "      <td>0</td>\n",
       "      <td>1</td>\n",
       "      <td>1</td>\n",
       "      <td>2</td>\n",
       "      <td>972</td>\n",
       "      <td>3</td>\n",
       "      <td>3</td>\n",
       "    </tr>\n",
       "    <tr>\n",
       "      <th>life below water</th>\n",
       "      <td>0</td>\n",
       "      <td>2</td>\n",
       "      <td>0</td>\n",
       "      <td>0</td>\n",
       "      <td>0</td>\n",
       "      <td>3</td>\n",
       "      <td>3</td>\n",
       "      <td>0</td>\n",
       "      <td>0</td>\n",
       "      <td>0</td>\n",
       "      <td>0</td>\n",
       "      <td>0</td>\n",
       "      <td>0</td>\n",
       "      <td>1018</td>\n",
       "      <td>2</td>\n",
       "    </tr>\n",
       "    <tr>\n",
       "      <th>Life on land</th>\n",
       "      <td>4</td>\n",
       "      <td>11</td>\n",
       "      <td>0</td>\n",
       "      <td>0</td>\n",
       "      <td>2</td>\n",
       "      <td>6</td>\n",
       "      <td>0</td>\n",
       "      <td>0</td>\n",
       "      <td>0</td>\n",
       "      <td>0</td>\n",
       "      <td>1</td>\n",
       "      <td>0</td>\n",
       "      <td>1</td>\n",
       "      <td>1</td>\n",
       "      <td>1027</td>\n",
       "    </tr>\n",
       "  </tbody>\n",
       "</table>\n",
       "</div>"
      ],
      "text/plain": [
       "                                         No poverty  Zero Hunger  \\\n",
       "No poverty                                      851           12   \n",
       "Zero Hunger                                      14          913   \n",
       "Good Health and well-being                       17            7   \n",
       "Quality Education                                 8            3   \n",
       "Gender equality                                  50           18   \n",
       "Clean water and sanitation                        8           15   \n",
       "Affordable and clean energy                       5           19   \n",
       "Industry, Innovation and Infrustructure           7            1   \n",
       "Decent work and economic growth                   2           11   \n",
       "Reduced Inequality                                5            0   \n",
       "Climate Action                                    3           13   \n",
       "Sustainable cites and communities                 0            0   \n",
       "Responsible consumption and production            7            6   \n",
       "life below water                                  0            2   \n",
       "Life on land                                      4           11   \n",
       "\n",
       "                                         Good Health and well-being  \\\n",
       "No poverty                                                        5   \n",
       "Zero Hunger                                                       9   \n",
       "Good Health and well-being                                      956   \n",
       "Quality Education                                                 7   \n",
       "Gender equality                                                  28   \n",
       "Clean water and sanitation                                        4   \n",
       "Affordable and clean energy                                       2   \n",
       "Industry, Innovation and Infrustructure                          11   \n",
       "Decent work and economic growth                                   0   \n",
       "Reduced Inequality                                                0   \n",
       "Climate Action                                                    3   \n",
       "Sustainable cites and communities                                 0   \n",
       "Responsible consumption and production                            2   \n",
       "life below water                                                  0   \n",
       "Life on land                                                      0   \n",
       "\n",
       "                                         Quality Education  Gender equality  \\\n",
       "No poverty                                              12               42   \n",
       "Zero Hunger                                              0                8   \n",
       "Good Health and well-being                               7                5   \n",
       "Quality Education                                      936               24   \n",
       "Gender equality                                         32              798   \n",
       "Clean water and sanitation                               5                7   \n",
       "Affordable and clean energy                             10                7   \n",
       "Industry, Innovation and Infrustructure                  5               20   \n",
       "Decent work and economic growth                          0                3   \n",
       "Reduced Inequality                                       5                4   \n",
       "Climate Action                                          13                8   \n",
       "Sustainable cites and communities                        0                0   \n",
       "Responsible consumption and production                   4                4   \n",
       "life below water                                         0                0   \n",
       "Life on land                                             0                2   \n",
       "\n",
       "                                         Clean water and sanitation  \\\n",
       "No poverty                                                        1   \n",
       "Zero Hunger                                                      15   \n",
       "Good Health and well-being                                        0   \n",
       "Quality Education                                                 5   \n",
       "Gender equality                                                   5   \n",
       "Clean water and sanitation                                      921   \n",
       "Affordable and clean energy                                       9   \n",
       "Industry, Innovation and Infrustructure                           2   \n",
       "Decent work and economic growth                                   4   \n",
       "Reduced Inequality                                                0   \n",
       "Climate Action                                                   15   \n",
       "Sustainable cites and communities                                 0   \n",
       "Responsible consumption and production                            7   \n",
       "life below water                                                  3   \n",
       "Life on land                                                      6   \n",
       "\n",
       "                                         Affordable and clean energy  \\\n",
       "No poverty                                                         7   \n",
       "Zero Hunger                                                        5   \n",
       "Good Health and well-being                                         3   \n",
       "Quality Education                                                  4   \n",
       "Gender equality                                                    8   \n",
       "Clean water and sanitation                                        23   \n",
       "Affordable and clean energy                                      911   \n",
       "Industry, Innovation and Infrustructure                            2   \n",
       "Decent work and economic growth                                    9   \n",
       "Reduced Inequality                                                 2   \n",
       "Climate Action                                                    12   \n",
       "Sustainable cites and communities                                  0   \n",
       "Responsible consumption and production                            19   \n",
       "life below water                                                   3   \n",
       "Life on land                                                       0   \n",
       "\n",
       "                                         Industry, Innovation and Infrustructure  \\\n",
       "No poverty                                                                    13   \n",
       "Zero Hunger                                                                    9   \n",
       "Good Health and well-being                                                     7   \n",
       "Quality Education                                                             17   \n",
       "Gender equality                                                               44   \n",
       "Clean water and sanitation                                                     5   \n",
       "Affordable and clean energy                                                    6   \n",
       "Industry, Innovation and Infrustructure                                      968   \n",
       "Decent work and economic growth                                                0   \n",
       "Reduced Inequality                                                             8   \n",
       "Climate Action                                                                 8   \n",
       "Sustainable cites and communities                                              0   \n",
       "Responsible consumption and production                                         8   \n",
       "life below water                                                               0   \n",
       "Life on land                                                                   0   \n",
       "\n",
       "                                         Decent work and economic growth  \\\n",
       "No poverty                                                             1   \n",
       "Zero Hunger                                                            9   \n",
       "Good Health and well-being                                             0   \n",
       "Quality Education                                                     13   \n",
       "Gender equality                                                       11   \n",
       "Clean water and sanitation                                             5   \n",
       "Affordable and clean energy                                            7   \n",
       "Industry, Innovation and Infrustructure                                3   \n",
       "Decent work and economic growth                                     1044   \n",
       "Reduced Inequality                                                     0   \n",
       "Climate Action                                                         9   \n",
       "Sustainable cites and communities                                      0   \n",
       "Responsible consumption and production                                 0   \n",
       "life below water                                                       0   \n",
       "Life on land                                                           0   \n",
       "\n",
       "                                         Reduced Inequality  Climate Action  \\\n",
       "No poverty                                               15               5   \n",
       "Zero Hunger                                               6               2   \n",
       "Good Health and well-being                                3               4   \n",
       "Quality Education                                         6               4   \n",
       "Gender equality                                          23               7   \n",
       "Clean water and sanitation                                1               8   \n",
       "Affordable and clean energy                               8              13   \n",
       "Industry, Innovation and Infrustructure                   8               4   \n",
       "Decent work and economic growth                           2               5   \n",
       "Reduced Inequality                                     1011               0   \n",
       "Climate Action                                            2             913   \n",
       "Sustainable cites and communities                         0               0   \n",
       "Responsible consumption and production                    1               1   \n",
       "life below water                                          0               0   \n",
       "Life on land                                              0               1   \n",
       "\n",
       "                                         Sustainable cites and communities  \\\n",
       "No poverty                                                               0   \n",
       "Zero Hunger                                                              0   \n",
       "Good Health and well-being                                               0   \n",
       "Quality Education                                                        5   \n",
       "Gender equality                                                          0   \n",
       "Clean water and sanitation                                               1   \n",
       "Affordable and clean energy                                              1   \n",
       "Industry, Innovation and Infrustructure                                  3   \n",
       "Decent work and economic growth                                          3   \n",
       "Reduced Inequality                                                       0   \n",
       "Climate Action                                                           0   \n",
       "Sustainable cites and communities                                     1013   \n",
       "Responsible consumption and production                                   2   \n",
       "life below water                                                         0   \n",
       "Life on land                                                             0   \n",
       "\n",
       "                                         Responsible consumption and production  \\\n",
       "No poverty                                                                    5   \n",
       "Zero Hunger                                                                  15   \n",
       "Good Health and well-being                                                    4   \n",
       "Quality Education                                                             7   \n",
       "Gender equality                                                              16   \n",
       "Clean water and sanitation                                                   11   \n",
       "Affordable and clean energy                                                  15   \n",
       "Industry, Innovation and Infrustructure                                       1   \n",
       "Decent work and economic growth                                               6   \n",
       "Reduced Inequality                                                            4   \n",
       "Climate Action                                                                7   \n",
       "Sustainable cites and communities                                             0   \n",
       "Responsible consumption and production                                      972   \n",
       "life below water                                                              0   \n",
       "Life on land                                                                  1   \n",
       "\n",
       "                                         life below water  Life on land  \n",
       "No poverty                                              0             4  \n",
       "Zero Hunger                                             9             6  \n",
       "Good Health and well-being                              1             3  \n",
       "Quality Education                                       2             2  \n",
       "Gender equality                                         2             8  \n",
       "Clean water and sanitation                              5            16  \n",
       "Affordable and clean energy                             3             5  \n",
       "Industry, Innovation and Infrustructure                 2             3  \n",
       "Decent work and economic growth                         0             0  \n",
       "Reduced Inequality                                      0             0  \n",
       "Climate Action                                          2             3  \n",
       "Sustainable cites and communities                       0             0  \n",
       "Responsible consumption and production                  3             3  \n",
       "life below water                                     1018             2  \n",
       "Life on land                                            1          1027  "
      ]
     },
     "execution_count": 184,
     "metadata": {},
     "output_type": "execute_result"
    }
   ],
   "source": [
    "from sklearn.model_selection import GridSearchCV\n",
    "from sklearn.metrics import confusion_matrix\n",
    "import pandas as pd\n",
    "\n",
    "# Define the parameter grid for the grid search\n",
    "parameters = {\n",
    "    'vect__ngram_range': [(1, 1), (1, 2)],\n",
    "    'clf__n_neighbors': (1, 31)\n",
    "}\n",
    "\n",
    "# Create the grid search object and fit it to the data\n",
    "knn_clf = GridSearchCV(knc_clf, parameters, n_jobs=-1)\n",
    "knn_clf.fit(x_train, y_train)\n",
    "\n",
    "# Print the best accuracy and the best parameters\n",
    "print(f'The best accuracy is: {knn_clf.best_score_}')\n",
    "print(knn_clf.best_params_)\n",
    "\n",
    "# Make predictions on the validation set\n",
    "predicts = knn_clf.predict(x_valid)\n",
    "\n",
    "# Display the confusion matrix\n",
    "cm = confusion_matrix(y_valid, predicts)\n",
    "pd.DataFrame(cm, index=sdgLables, columns=sdgLables)\n"
   ]
  },
  {
   "cell_type": "code",
   "execution_count": 185,
   "metadata": {},
   "outputs": [
    {
     "data": {
      "text/plain": [
       "{'web': 'https://www.comet.com/api/asset/download?assetId=77455e4a85094e18b9a3d67f449f96a6&experimentKey=e410174bfb454c9fbfc9709993a5ec85',\n",
       " 'api': 'https://www.comet.com/api/rest/v2/experiment/asset/get-asset?assetId=77455e4a85094e18b9a3d67f449f96a6&experimentKey=e410174bfb454c9fbfc9709993a5ec85',\n",
       " 'assetId': '77455e4a85094e18b9a3d67f449f96a6'}"
      ]
     },
     "execution_count": 185,
     "metadata": {},
     "output_type": "execute_result"
    }
   ],
   "source": [
    "# Create dictionaries for the data we want to log\n",
    "\n",
    "params = knn_clf.best_params_\n",
    "metrics = {\"f1\": knn_clf.best_score_}\n",
    "\n",
    "# Log our parameters and results\n",
    "experiment.log_parameters(params)\n",
    "experiment.log_metrics(metrics)\n",
    "experiment.log_confusion_matrix(matrix=cm)"
   ]
  },
  {
   "cell_type": "markdown",
   "metadata": {},
   "source": [
    "The above cells are used to log/commit our model to comet "
   ]
  },
  {
   "cell_type": "markdown",
   "metadata": {},
   "source": [
    "## 4.4 <a id=\"modelperformance\"><strong>Model Performance</strong></a>\n",
    "[Table of Contents](#contents)"
   ]
  },
  {
   "cell_type": "markdown",
   "metadata": {},
   "source": [
    "In order to evaluate how well our models have performed, we employed the following classification metrics:\n",
    "\n",
    "* **1. Accuracy**\n",
    "\n",
    "Accuracy simply measures how often the classifier correctly predicts. We can define accuracy as the ratio of the number of correct predictions and the total number of predictions.\n",
    "\n",
    "* **2. Precision**\n",
    "\n",
    "Precision explains how many of the correctly predicted cases actually turned out to be positive. Precision is useful in the cases where False Positive is a higher concern than False Negatives.\n",
    "\n",
    "* **3. Recall**\n",
    "\n",
    "Recall explains how many of the actual positive cases we were able to predict correctly with our model. It is a useful metric in cases where False Negative is of higher concern than False Positive.\n",
    "\n",
    "* **4. F1-Score**\n",
    "\n",
    "It gives a combined idea about Precision and Recall metrics.F1 Score is the harmonic mean of precision and recall."
   ]
  },
  {
   "cell_type": "code",
   "execution_count": 186,
   "metadata": {},
   "outputs": [],
   "source": [
    "from sklearn import metrics"
   ]
  },
  {
   "cell_type": "code",
   "execution_count": 187,
   "metadata": {},
   "outputs": [],
   "source": [
    "# Make predictions with each model\n",
    "lm_preds = lm.predict(X_test) # LogisticRegression\n",
    "nb_clf_preds = nb_clf.predict(x_valid) # Naive Bayes\n",
    "knn_clf_preds = knn_clf.predict(x_valid) # K-Neighbors Classifier\n",
    "dt_preds = dt.predict(X_test) # Decision Tree Classifier\n"
   ]
  },
  {
   "cell_type": "code",
   "execution_count": 188,
   "metadata": {},
   "outputs": [],
   "source": [
    "# Create a mapping of models to their prediction arrays\n",
    "metrics_dict = {\n",
    "    \"LogisticRegression\": lm_preds, \n",
    "    \"Naive Bayes\": nb_clf_preds, \n",
    "    \"K-Neighbors Classifier\": knn_clf_preds,\n",
    "    \"Decision Tree Classifier\": dt_preds\n",
    "}\n",
    "\n",
    "# Initialize a list to store the metrics temporarily\n",
    "metrics_list = []\n"
   ]
  },
  {
   "cell_type": "code",
   "execution_count": 189,
   "metadata": {},
   "outputs": [],
   "source": [
    "from sklearn import metrics\n",
    "import pandas as pd\n",
    "\n",
    "# Initialize a list to store the metrics temporarily\n",
    "metrics_list = []\n",
    "\n",
    "# Iterate through the dictionary to calculate the metrics for each model\n",
    "for name, prediction in metrics_dict.items():\n",
    "    f1_score = metrics.f1_score(y_valid, prediction, average=\"weighted\")  \n",
    "    precision = metrics.precision_score(y_valid, prediction, average=\"weighted\")\n",
    "    recall = metrics.recall_score(y_valid, prediction, average=\"weighted\")\n",
    "    metrics_list.append([name, f1_score, precision, recall])\n",
    "\n",
    "# Create a DataFrame from the metrics list\n",
    "perf_train = pd.DataFrame(metrics_list, columns=[\"Classifier\", \"F1_score\", \"Precision\", \"Recall\"])\n",
    "\n",
    "# Set the index to the Classifier column\n",
    "perf_train.set_index(\"Classifier\", inplace=True)\n"
   ]
  },
  {
   "cell_type": "code",
   "execution_count": 190,
   "metadata": {},
   "outputs": [
    {
     "data": {
      "text/html": [
       "<div>\n",
       "<style scoped>\n",
       "    .dataframe tbody tr th:only-of-type {\n",
       "        vertical-align: middle;\n",
       "    }\n",
       "\n",
       "    .dataframe tbody tr th {\n",
       "        vertical-align: top;\n",
       "    }\n",
       "\n",
       "    .dataframe thead th {\n",
       "        text-align: right;\n",
       "    }\n",
       "</style>\n",
       "<table border=\"1\" class=\"dataframe\">\n",
       "  <thead>\n",
       "    <tr style=\"text-align: right;\">\n",
       "      <th></th>\n",
       "      <th>F1_score</th>\n",
       "      <th>Precision</th>\n",
       "      <th>Recall</th>\n",
       "    </tr>\n",
       "    <tr>\n",
       "      <th>Classifier</th>\n",
       "      <th></th>\n",
       "      <th></th>\n",
       "      <th></th>\n",
       "    </tr>\n",
       "  </thead>\n",
       "  <tbody>\n",
       "    <tr>\n",
       "      <th>Naive Bayes</th>\n",
       "      <td>0.940392</td>\n",
       "      <td>0.940426</td>\n",
       "      <td>0.940469</td>\n",
       "    </tr>\n",
       "    <tr>\n",
       "      <th>LogisticRegression</th>\n",
       "      <td>0.924470</td>\n",
       "      <td>0.924481</td>\n",
       "      <td>0.924956</td>\n",
       "    </tr>\n",
       "    <tr>\n",
       "      <th>K-Neighbors Classifier</th>\n",
       "      <td>0.920602</td>\n",
       "      <td>0.920719</td>\n",
       "      <td>0.921207</td>\n",
       "    </tr>\n",
       "    <tr>\n",
       "      <th>Decision Tree Classifier</th>\n",
       "      <td>0.889392</td>\n",
       "      <td>0.889529</td>\n",
       "      <td>0.890828</td>\n",
       "    </tr>\n",
       "  </tbody>\n",
       "</table>\n",
       "</div>"
      ],
      "text/plain": [
       "                          F1_score  Precision    Recall\n",
       "Classifier                                             \n",
       "Naive Bayes               0.940392   0.940426  0.940469\n",
       "LogisticRegression        0.924470   0.924481  0.924956\n",
       "K-Neighbors Classifier    0.920602   0.920719  0.921207\n",
       "Decision Tree Classifier  0.889392   0.889529  0.890828"
      ]
     },
     "execution_count": 190,
     "metadata": {},
     "output_type": "execute_result"
    }
   ],
   "source": [
    "# Sort the DataFrame by the F1_score column in descending order\n",
    "perf_train = perf_train.sort_values(by=['F1_score'], ascending=False)\n",
    "\n",
    "# Display the DataFrame\n",
    "perf_train\n"
   ]
  },
  {
   "cell_type": "code",
   "execution_count": 191,
   "metadata": {},
   "outputs": [
    {
     "data": {
      "text/plain": [
       "<AxesSubplot:xlabel='Classifier'>"
      ]
     },
     "execution_count": 191,
     "metadata": {},
     "output_type": "execute_result"
    },
    {
     "data": {
      "image/png": "[encoded data removed]",
      "text/plain": [
       "<Figure size 1080x432 with 1 Axes>"
      ]
     },
     "metadata": {},
     "output_type": "display_data"
    }
   ],
   "source": [
    "# Plot the metrics in a bar chart\n",
    "perf_train.plot(kind=\"bar\", figsize=(15, 6))\n"
   ]
  },
  {
   "cell_type": "markdown",
   "metadata": {},
   "source": [
    "All the Classification metrics point to `Naive Bayes` as the better Model\n"
   ]
  },
  {
   "cell_type": "markdown",
   "metadata": {},
   "source": [
    "#### predicting our `test` DataSet with the best model"
   ]
  },
  {
   "cell_type": "code",
   "execution_count": 192,
   "metadata": {},
   "outputs": [],
   "source": [
    "# Make predictions on the test set using the fitted Naive Bayes model\n",
    "pred_test = nb_clf.predict(test['text'])\n"
   ]
  },
  {
   "cell_type": "code",
   "execution_count": 193,
   "metadata": {},
   "outputs": [],
   "source": [
    "# Save the test predictions to a CSV file\n",
    "output = pd.DataFrame({'id': test.id, 'sdg': pred_test})\n",
    "output.to_csv('Team A1.csv', index=False)\n"
   ]
  },
  {
   "cell_type": "code",
   "execution_count": 194,
   "metadata": {},
   "outputs": [
    {
     "name": "stderr",
     "output_type": "stream",
     "text": [
      "COMET INFO: ---------------------------\n",
      "COMET INFO: Comet.ml Experiment Summary\n",
      "COMET INFO: ---------------------------\n",
      "COMET INFO:   Data:\n",
      "COMET INFO:     display_summary_level : 1\n",
      "COMET INFO:     url                   : https://www.comet.com/kojosbk/sustainable-development-goals-sdgs-classifier/e410174bfb454c9fbfc9709993a5ec85\n",
      "COMET INFO:   Metrics [count] (min, max):\n",
      "COMET INFO:     f1 [2] : (0.8965345028642867, 0.9259536564598114)\n",
      "COMET INFO:   Parameters:\n",
      "COMET INFO:     clf__alpha        : 0.01\n",
      "COMET INFO:     clf__fit_prior    : True\n",
      "COMET INFO:     clf__n_neighbors  : 1\n",
      "COMET INFO:     vect__ngram_range : (1, 1)\n",
      "COMET INFO:   Uploads:\n",
      "COMET INFO:     confusion-matrix         : 2\n",
      "COMET INFO:     environment details      : 1\n",
      "COMET INFO:     filename                 : 1\n",
      "COMET INFO:     git metadata             : 1\n",
      "COMET INFO:     git-patch (uncompressed) : 1 (1.32 MB)\n",
      "COMET INFO:     installed packages       : 1\n",
      "COMET INFO:     notebook                 : 1\n",
      "COMET INFO:     source_code              : 1\n",
      "COMET INFO: ---------------------------\n",
      "COMET WARNING: Comet has disabled auto-logging functionality as it has been imported after the following ML modules: tensorboard, keras, torch, sklearn, tensorflow. Metrics and hyperparameters can still be logged using comet_ml.log_metrics() and comet_ml.log_parameters()\n",
      "COMET INFO: Uploading metrics, params, and assets to Comet before program termination (may take several seconds)\n",
      "COMET INFO: The Python SDK has 3600 seconds to finish before aborting...\n",
      "COMET INFO: Waiting for completion of the file uploads (may take several seconds)\n",
      "COMET INFO: The Python SDK has 10800 seconds to finish before aborting...\n",
      "COMET INFO: Still uploading 2 file(s), remaining 57.36 KB/1.18 MB\n"
     ]
    }
   ],
   "source": [
    "experiment.end()"
   ]
  },
  {
   "cell_type": "markdown",
   "metadata": {},
   "source": [
    "# 5.0 <a id=\"Conclusion/Recommendation\"><strong>CONCLUSION AND RECOMMENDATION</strong></a>\n",
    "[Table of Contents](#contents)\n",
    "\n",
    "In this project, the team created a Multi-label text classification Machine Learning Model to enhance text labeling, which will save time for UN and UNEP experts and increase the effectiveness of labeling documents to related SDGs, particularly for fields that are outside the experts' purview and may be overlooked.\n",
    "\n",
    "- SDG monitoring is necessary to track progress and identify barriers to achieving common goals."
   ]
  },
  {
   "cell_type": "markdown",
   "metadata": {},
   "source": [
    "## 5.1 <a id=\"Conclusion\"><strong>Conclusion</strong></a>\n",
    "[Table of Contents](#contents)\n",
    "- The UN should think about asking governments, academic institutions, private, and public entities to conduct more research and write more documents on SDGs with very little text in order to improve the success and progress of those SDGs with low focus. This is because achieving high levels of attention in some goals while having less in others is not ideal."
   ]
  },
  {
   "cell_type": "markdown",
   "metadata": {},
   "source": [
    "## 5.2 <a id=\"Recommendation\"><strong>Recommendation</strong></a>\n",
    "[Table of Contents](#contents)\n",
    "\n",
    "- The UN should think about asking governments, academic institutions, private, and public entities to conduct more research and write more documents on SDGs with very little text in order to improve the success and progress of those SDGs with low focus. This is because achieving high levels of attention in some goals while having less in others is not ideal."
   ]
  },
  {
   "cell_type": "markdown",
   "metadata": {},
   "source": [
    "# 6.0 <a id=\"reference\"><strong>REFERENCES</strong></a>\n",
    "[Table of Contents](#contents)"
   ]
  }
 ],
 "metadata": {
  "kernelspec": {
   "display_name": "Python 3 (ipykernel)",
   "language": "python",
   "name": "python3"
  },
  "language_info": {
   "codemirror_mode": {
    "name": "ipython",
    "version": 3
   },
   "file_extension": ".py",
   "mimetype": "text/x-python",
   "name": "python",
   "nbconvert_exporter": "python",
   "pygments_lexer": "ipython3",
   "version": "3.10.0"
  },
  "vscode": {
   "interpreter": {
    "hash": "320c1f05b41b6296d6cdeadbc8f37198b22e160db062b16d8b8cc9d95c25d782"
   }
  }
 },
 "nbformat": 4,
 "nbformat_minor": 2
}
