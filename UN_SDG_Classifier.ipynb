{
 "cells": [
  {
   "cell_type": "markdown",
   "metadata": {},
   "source": [
    "# **Sustainable Development Goals (SDGs) Classifier**\n",
    "\n",
    "![](https://www.idsa.in/system/files/sdg-un-banner.jpg)\n",
    "\n",
    "# <a id=\"contents\">Table of Contents</a><br>\n",
    "1. [**Introduction**](#introduction)\n",
    "  > 1.1 [**Problem Statement**](#problem_statement) <br>\n",
    "    1.2 [**Project Objectives**](#project_objective) <br>\n",
    "    1.3 [**Definition of Data Features**](#data)<br>\n",
    "    1.4 [**Importing Libraries**](#importing_libraries)<br>\n",
    "    1.5 [**Loading Data**](#loading_data) <br>\n",
    "    1.6 [**Initialize Comet**](#comet) <br>\n",
    "    \n",
    "2. [**Data Preprocessing**](#preprocessing)\n",
    ">   2.1 [**Removing Links**](#removing_links)<br>\n",
    "\n",
    "3. [**Exploratory Data Analysis**](#EDA) <br>\n",
    ">   3.1 [**Most Frequent Words**](#most_frequent_words)<br>\n",
    "    3.2 [**Visualisation**](#visualisation)<br>\n",
    "    3.3 [**Text Analysis**](#text_analysis)<br>\n",
    "    3.4 [**Class Balance**](#class_balance)<br>\n",
    "    3.5 [**Feature Engineering**](#feature_engineering)<br>\n",
    "   \n",
    "4. [**Modeling**](#model) <br>\n",
    "    4.1 [**Model Training**](#modeltraining) <br>\n",
    "    > 4.1.1. [**Model 1**](#model1) <br>\n",
    "     4.1.2. [**Model 2**](#model2) <br>\n",
    "     4.1.3. [**Model 3**](#model3) <br>\n",
    "     \n",
    "    4.2 [**Mertics Evaluation**](#merticsevaluation) <br>\n",
    "    \n",
    "5. [**Conclusion and Recommendation**](#Conclusion/Recommendation) <br>\n",
    "   > 5.1 [**Conclusion**](#Conclusion) <br>\n",
    "     5.2 [**Recommendation**](#Recommendation) <br><br>\n",
    "\n",
    "6. [**References**](#reference) <br>\n",
    "\n"
   ]
  },
  {
   "cell_type": "markdown",
   "metadata": {},
   "source": [
    "# 1 <a id=\"introduction\"><strong>INTRODUCTION</strong></a>\n",
    "[Table of Contents](#contents)<br>"
   ]
  },
  {
   "cell_type": "markdown",
   "metadata": {},
   "source": [
    "The Sustainable Development Goals (SDGs) were established in 2015 as a blueprint for peace and prosperity for people and the planet, now and into the future. The SDGs must be monitored in order to gauge development and challenges to achieving such common objectives. Teams from the United Nations evaluate streams of SDG-related papers created by governments, academia, business, and public bodies to determine how well each SDG is progressing.\n",
    "Although UNEP has experts in many domains that can help in evaluating streams of SDG-related papers, connections to the SDGs outside of their areas of expertise may be missed.\n",
    "so for that reason we , members of team A have been tasked to build an NLP module that would help identify SDGs based on articles fed to the module"
   ]
  },
  {
   "cell_type": "markdown",
   "metadata": {},
   "source": [
    "\n",
    "## 1.1 <a id=\"problem_statement\"><strong>Problem Statement</strong></a>\n",
    "[Table of Contents](#contents)<br>"
   ]
  },
  {
   "cell_type": "markdown",
   "metadata": {},
   "source": [
    "\n",
    "## 1.2 <a id=\"project_objective\"><strong>Project Objectives</strong></a>\n",
    "[Table of Contents](#contents)<br>"
   ]
  },
  {
   "cell_type": "markdown",
   "metadata": {},
   "source": [
    "* Clean the dataset so that it may be utilized for model development.\n",
    "\n",
    "* Create a variety of models to identify the various SDGs.\n",
    "\n",
    "* Using the provided Test Data, assess the model's accuracy in making predictions.\n",
    "\n",
    "* Pick the best model for categorizing SDG articles."
   ]
  },
  {
   "cell_type": "markdown",
   "metadata": {},
   "source": [
    "## 1.3 <a id=\"data\"><strong>Definition of Data Features</strong></a>\n",
    "[Table of Contents](#contents)<br>"
   ]
  },
  {
   "cell_type": "markdown",
   "metadata": {},
   "source": [
    "#### I. Data Source\n",
    "The Sustainable Development Goals (SDGs) Community Dataset (OSDG-CD) is the end product of hundreds of volunteers' efforts on the OSDG Community Platform to advance our understanding of the SDGs (OSDG-CP). It includes hundreds of text snippets that community volunteers labeled with regard to the SDGs.\n",
    "\n",
    "#### I. Goal Description\n",
    "1. End poverty in all its forms everywhere\n",
    "2. End hunger, achieve food security and improved nutrition and promote sustainable agriculture\n",
    "3. Ensure healthy lives and promote well-being for all at all ages\n",
    "4. Ensure inclusive and equitable quality education and promote lifelong learning opportunities for all\n",
    "5. Achieve gender equality and empower all women and girls\n",
    "6. Ensure availability and sustainable management of water and sanitation for all\n",
    "7. Ensure access to affordable, reliable, sustainable and modern energy for all\n",
    "8. Promote sustained, inclusive and sustainable economic growth, full and productive employment and decent work for all\n",
    "9. Build resilient infrastructure, promote inclusive and sustainable industrialization and foster innovation\n",
    "10. Reduce inequality within and among countries\n",
    "11. Make cities and human settlements inclusive, safe, resilient and sustainable\n",
    "12. Ensure sustainable consumption and production patterns\n",
    "13. Take urgent action to combat climate change and its impacts\n",
    "14. Conserve and sustainably use the oceans, seas and marine resources for sustainable development\n",
    "15. Protect, restore and promote sustainable use of terrestrial ecosystems, sustainably manage forests, combat desertification, and halt and reverse land degradation and halt biodiversity loss\n",
    "16. Promote peaceful and inclusive societies for sustainable development, provide access to justice for all and build effective, accountable and inclusive institutions at all levels\n",
    "17. Strengthen the means of implementation and revitalize the Global Partnership for Sustainable Development\n",
    "\n",
    "\n",
    "\n",
    "#### II. Column Definitions\n",
    "The OSDG-CD dataset is provided in a .csv format. It is a flat tabular dataset that contains the following columns:\n",
    "\n",
    "* doi : Digital Object Identifier of the original document\n",
    "* text_id : unique text identifier;\n",
    "* text : text excerpt from the document;\n",
    "* sdg : the SDG the text is validated against;\n",
    "* labels_negative : the number of volunteers who rejected the suggested SDG label;\n",
    "* labels_positive : the number of volunteers who accepted the suggested SDG label;\n",
    "* agreement : agreement score based on the formula described <a href=\"https://github.com/osdg-ai/osdg-data\"> Here</a>"
   ]
  },
  {
   "cell_type": "markdown",
   "metadata": {},
   "source": [
    " ## 1.4  <a id=\"importing_libraries\"><strong>Importing Libraries</strong></a>\n",
    "[Table of Contents](#contents)<br>"
   ]
  },
  {
   "cell_type": "code",
   "execution_count": 1,
   "metadata": {},
   "outputs": [],
   "source": [
    "# importing basic and fundamental libaries\n",
    "import numpy as np\n",
    "from scipy import stats\n",
    "import pandas as pd\n",
    "import string\n",
    "import re\n",
    "import pickle\n",
    "import pycountry\n",
    "\n",
    "# imports for data visualisation\n",
    "import matplotlib.pyplot as plt\n",
    "import seaborn as sns\n",
    "%matplotlib inline\n",
    "from textblob import TextBlob\n",
    "from nltk.probability import FreqDist\n",
    "from wordcloud import WordCloud, ImageColorGenerator #Pip install wordcloud\n",
    "import plotly.express as px\n",
    "import plotly.graph_objects as go\n",
    "from wordcloud import WordCloud\n",
    "\n",
    "# libraries for NLP\n",
    "import nltk\n",
    "from nltk import SnowballStemmer, PorterStemmer, LancasterStemmer\n",
    "from nltk.stem import WordNetLemmatizer\n",
    "from sklearn.feature_extraction.text import TfidfVectorizer\n",
    "from nltk.corpus import stopwords, wordnet\n",
    "from nltk.tokenize import word_tokenize\n",
    "from nltk.tokenize import TreebankWordTokenizer\n",
    "\n",
    "# importing libraries for utility from sklearn\n",
    "from sklearn.model_selection import train_test_split\n",
    "from sklearn.feature_extraction.text import CountVectorizer\n",
    "from sklearn.preprocessing import MinMaxScaler\n",
    "from sklearn.utils import resample\n",
    "from sklearn.pipeline import Pipeline\n",
    "from sklearn.model_selection import cross_validate\n",
    "from sklearn.feature_extraction.text import TfidfTransformer\n",
    "from sklearn.model_selection import GridSearchCV\n",
    "\n",
    "# importing libraries for modelling form sklearn\n",
    "from sklearn.ensemble import RandomForestClassifier\n",
    "from sklearn.linear_model import LogisticRegression\n",
    "from sklearn.naive_bayes import MultinomialNB\n",
    "from sklearn.neighbors import KNeighborsClassifier\n",
    "from sklearn.svm import SVC\n",
    "from sklearn.tree import DecisionTreeClassifier\n",
    "from sklearn.ensemble import BaggingClassifier\n",
    "\n",
    "# imports for other libraires\n",
    "import pickle\n",
    "import en_core_web_sm\n",
    "import spacy\n",
    "from collections import Counter\n",
    "from textwrap import wrap\n",
    "\n",
    "# libraries to check model metrics from sklearn\n",
    "from sklearn.metrics import confusion_matrix, f1_score, classification_report,accuracy_score\n",
    "\n",
    "# Enable interactive visualisations in Jupyter\n",
    "from ipywidgets import interact, interact_manual, widgets\n",
    "import plotly.express as px\n",
    "\n",
    "# Suppressing unnwarranted warnings\n",
    "import warnings\n",
    "warnings.filterwarnings(\"ignore\")"
   ]
  },
  {
   "cell_type": "markdown",
   "metadata": {},
   "source": [
    "## 1.5 <a id=\"loading_data\"><strong>Loading Data</strong></a>\n",
    "[Table of Contents](#contents)"
   ]
  },
  {
   "cell_type": "code",
   "execution_count": 2,
   "metadata": {},
   "outputs": [],
   "source": [
    "# Importing the train & test data sets\n",
    "train = pd.read_csv('data/train.csv')\n",
    "test = pd.read_csv('data/test.csv')\n",
    "\n",
    "# EDA Datasets\n",
    "train_eda = pd.read_csv('data/train.csv')\n",
    "test_eda = pd.read_csv('data/test.csv')\n"
   ]
  },
  {
   "cell_type": "code",
   "execution_count": 3,
   "metadata": {},
   "outputs": [
    {
     "data": {
      "text/html": [
       "<div>\n",
       "<style scoped>\n",
       "    .dataframe tbody tr th:only-of-type {\n",
       "        vertical-align: middle;\n",
       "    }\n",
       "\n",
       "    .dataframe tbody tr th {\n",
       "        vertical-align: top;\n",
       "    }\n",
       "\n",
       "    .dataframe thead th {\n",
       "        text-align: right;\n",
       "    }\n",
       "</style>\n",
       "<table border=\"1\" class=\"dataframe\">\n",
       "  <thead>\n",
       "    <tr style=\"text-align: right;\">\n",
       "      <th></th>\n",
       "      <th>doi</th>\n",
       "      <th>text_id</th>\n",
       "      <th>text</th>\n",
       "      <th>sdg</th>\n",
       "      <th>labels_negative</th>\n",
       "      <th>labels_positive</th>\n",
       "      <th>agreement</th>\n",
       "      <th>id</th>\n",
       "    </tr>\n",
       "  </thead>\n",
       "  <tbody>\n",
       "    <tr>\n",
       "      <th>0</th>\n",
       "      <td>10.18356/5950d914-en</td>\n",
       "      <td>bf7763beb5ad7a16764d1b7fa87ab018</td>\n",
       "      <td>Indicators for targets 9.b and 9.c have data a...</td>\n",
       "      <td>9</td>\n",
       "      <td>4</td>\n",
       "      <td>5</td>\n",
       "      <td>0.111111</td>\n",
       "      <td>1</td>\n",
       "    </tr>\n",
       "    <tr>\n",
       "      <th>1</th>\n",
       "      <td>10.18356/5950d914-en</td>\n",
       "      <td>b6415a528064b85fdde4b4c61239ed3a</td>\n",
       "      <td>Manufacturing value added as a percentage of G...</td>\n",
       "      <td>9</td>\n",
       "      <td>0</td>\n",
       "      <td>3</td>\n",
       "      <td>1.000000</td>\n",
       "      <td>2</td>\n",
       "    </tr>\n",
       "    <tr>\n",
       "      <th>2</th>\n",
       "      <td>10.18356/31959a6d-en</td>\n",
       "      <td>29127def7e81b999b87c8e887a4fe882</td>\n",
       "      <td>To Share or Not to Share: That is the Question...</td>\n",
       "      <td>5</td>\n",
       "      <td>2</td>\n",
       "      <td>7</td>\n",
       "      <td>0.555556</td>\n",
       "      <td>3</td>\n",
       "    </tr>\n",
       "    <tr>\n",
       "      <th>3</th>\n",
       "      <td>10.1787/eco/surveys-cze-2014-6-en</td>\n",
       "      <td>459db322b9e44630320fda76783e0f69</td>\n",
       "      <td>As of 2004, parents can work without losing th...</td>\n",
       "      <td>4</td>\n",
       "      <td>2</td>\n",
       "      <td>2</td>\n",
       "      <td>0.000000</td>\n",
       "      <td>4</td>\n",
       "    </tr>\n",
       "    <tr>\n",
       "      <th>4</th>\n",
       "      <td>10.1787/9789264119536-11-en</td>\n",
       "      <td>8b7d8c6c605fe9695d08ab03d601e0e9</td>\n",
       "      <td>A question of considerable policy relevance is...</td>\n",
       "      <td>10</td>\n",
       "      <td>1</td>\n",
       "      <td>4</td>\n",
       "      <td>0.600000</td>\n",
       "      <td>5</td>\n",
       "    </tr>\n",
       "  </tbody>\n",
       "</table>\n",
       "</div>"
      ],
      "text/plain": [
       "                                 doi                           text_id  \\\n",
       "0               10.18356/5950d914-en  bf7763beb5ad7a16764d1b7fa87ab018   \n",
       "1               10.18356/5950d914-en  b6415a528064b85fdde4b4c61239ed3a   \n",
       "2               10.18356/31959a6d-en  29127def7e81b999b87c8e887a4fe882   \n",
       "3  10.1787/eco/surveys-cze-2014-6-en  459db322b9e44630320fda76783e0f69   \n",
       "4        10.1787/9789264119536-11-en  8b7d8c6c605fe9695d08ab03d601e0e9   \n",
       "\n",
       "                                                text  sdg  labels_negative  \\\n",
       "0  Indicators for targets 9.b and 9.c have data a...    9                4   \n",
       "1  Manufacturing value added as a percentage of G...    9                0   \n",
       "2  To Share or Not to Share: That is the Question...    5                2   \n",
       "3  As of 2004, parents can work without losing th...    4                2   \n",
       "4  A question of considerable policy relevance is...   10                1   \n",
       "\n",
       "   labels_positive  agreement  id  \n",
       "0                5   0.111111   1  \n",
       "1                3   1.000000   2  \n",
       "2                7   0.555556   3  \n",
       "3                2   0.000000   4  \n",
       "4                4   0.600000   5  "
      ]
     },
     "execution_count": 3,
     "metadata": {},
     "output_type": "execute_result"
    }
   ],
   "source": [
    "train.head()"
   ]
  },
  {
   "cell_type": "markdown",
   "metadata": {},
   "source": [
    "<a id=three1></a>\n",
    "\n",
    "#### 1.5.1 <strong>Set Pandas to enable viewing of all columns</strong></a>\n",
    "Due to the length of th content of the text column, pandas cannot display all of them at once by default. While doing EDA and data cleansing, we will need to see all of the columns. When the dataframe is presented, the code below allows us to see the whole set of columns in our data collection. "
   ]
  },
  {
   "cell_type": "code",
   "execution_count": 4,
   "metadata": {},
   "outputs": [],
   "source": [
    "# # Set option to display all columns\n",
    "# pd.set_option('display.max_colwidth', None)"
   ]
  },
  {
   "cell_type": "markdown",
   "metadata": {},
   "source": [
    "<a id=three2></a>\n",
    "\n",
    "#### 1.5.2 <strong>Check the \"Shape\" of the data-sets</strong></a>\n",
    "As demonstrated by the shape of both datasets, the data has been separated into two sets. The form also shows that the training data set has eight columns, but the test data set has seven . Our model is designed to forecast the column that is not present in the test set. We can look for that specific item by looking for the missing entity (Column) in the test data set. After looking at both datasets, the column may be identified as the SDG column."
   ]
  },
  {
   "cell_type": "code",
   "execution_count": 5,
   "metadata": {},
   "outputs": [
    {
     "data": {
      "text/plain": [
       "((25944, 8), (6487, 7))"
      ]
     },
     "execution_count": 5,
     "metadata": {},
     "output_type": "execute_result"
    }
   ],
   "source": [
    "#Checking the shape of the data sets\n",
    "train.shape, test.shape"
   ]
  },
  {
   "cell_type": "code",
   "execution_count": 6,
   "metadata": {},
   "outputs": [
    {
     "data": {
      "text/plain": [
       "(Index(['doi', 'text_id', 'text', 'sdg', 'labels_negative', 'labels_positive',\n",
       "        'agreement', 'id'],\n",
       "       dtype='object'),\n",
       " Index(['doi', 'text_id', 'text', 'labels_negative', 'labels_positive',\n",
       "        'agreement', 'id'],\n",
       "       dtype='object'))"
      ]
     },
     "execution_count": 6,
     "metadata": {},
     "output_type": "execute_result"
    }
   ],
   "source": [
    "#Checking the columns of the data set\n",
    "train_eda.columns, test_eda.columns"
   ]
  },
  {
   "cell_type": "markdown",
   "metadata": {},
   "source": [
    "<a id=four1></a>\n",
    "\n",
    "#### 1.5.3 <strong>Dataset summary</strong></a>\n",
    "\n",
    "It is important to identify the columns that have null entries as null values can affect the performance of our model. The \"isnull\" function shows the number of null values that are contained in each column of the dataset. This data set is relatively clean \n",
    "Pandas dataframe.info() function is used to get a concise summary of the dataframe"
   ]
  },
  {
   "cell_type": "code",
   "execution_count": 7,
   "metadata": {},
   "outputs": [],
   "source": [
    "def Summary(df):\n",
    "    i = df.info()\n",
    "    print (\"NUL Values\")\n",
    "    n = df.isna().sum()\n",
    "    return i,n"
   ]
  },
  {
   "cell_type": "code",
   "execution_count": 8,
   "metadata": {},
   "outputs": [
    {
     "name": "stdout",
     "output_type": "stream",
     "text": [
      "<class 'pandas.core.frame.DataFrame'>\n",
      "RangeIndex: 25944 entries, 0 to 25943\n",
      "Data columns (total 8 columns):\n",
      " #   Column           Non-Null Count  Dtype  \n",
      "---  ------           --------------  -----  \n",
      " 0   doi              25944 non-null  object \n",
      " 1   text_id          25944 non-null  object \n",
      " 2   text             25944 non-null  object \n",
      " 3   sdg              25944 non-null  int64  \n",
      " 4   labels_negative  25944 non-null  int64  \n",
      " 5   labels_positive  25944 non-null  int64  \n",
      " 6   agreement        25944 non-null  float64\n",
      " 7   id               25944 non-null  int64  \n",
      "dtypes: float64(1), int64(4), object(3)\n",
      "memory usage: 1.6+ MB\n",
      "NUL Values\n"
     ]
    },
    {
     "data": {
      "text/plain": [
       "(None,\n",
       " doi                0\n",
       " text_id            0\n",
       " text               0\n",
       " sdg                0\n",
       " labels_negative    0\n",
       " labels_positive    0\n",
       " agreement          0\n",
       " id                 0\n",
       " dtype: int64)"
      ]
     },
     "execution_count": 8,
     "metadata": {},
     "output_type": "execute_result"
    }
   ],
   "source": [
    "Summary(train)"
   ]
  },
  {
   "cell_type": "markdown",
   "metadata": {},
   "source": [
    "## 1.6 <a id=\"comet\"><strong>Initialize Comet</strong></a>\n",
    "[Table of Contents](#contents)"
   ]
  },
  {
   "cell_type": "code",
   "execution_count": 9,
   "id": "9c072c42",
   "metadata": {},
   "outputs": [],
   "source": [
    "#importing comet for tracking\n",
    "from comet_ml import Experiment"
   ]
  },
  {
   "cell_type": "code",
   "execution_count": 10,
   "id": "8f8a77cc",
   "metadata": {},
   "outputs": [
    {
     "name": "stderr",
     "output_type": "stream",
     "text": [
      "COMET WARNING: Comet has disabled auto-logging functionality as it has been imported after the following ML modules: keras, tensorboard, tensorflow, sklearn. Metrics and hyperparameters can still be logged using comet_ml.log_metrics() and comet_ml.log_parameters()\n",
      "COMET WARNING: As you are running in a Jupyter environment, you will need to call `experiment.end()` when finished to ensure all metrics and code are logged before exiting.\n",
      "COMET INFO: Experiment is live on comet.ml https://www.comet.com/kojosbk/sustainable-development-goals-sdgs-classifier/f7de8d0aee214588a6ddb57c120b54ab\n",
      "\n"
     ]
    }
   ],
   "source": [
    "# Setting the API key (saved as environment variable)\n",
    "#initialize experiment for Comet\n",
    "experiment = Experiment(\n",
    "    api_key=\"bEFY9Hn1QccermEDT6aTyQMOA\",\n",
    "    project_name=\"sustainable-development-goals-sdgs-classifier\",\n",
    "    workspace=\"kojosbk\",\n",
    ")\n"
   ]
  },
  {
   "cell_type": "markdown",
   "metadata": {},
   "source": [
    "# 2 <a id=\"preprocessing\"><strong>DATA PREPROCESSING</strong></a>\n",
    "[Table of Contents](#contents)"
   ]
  },
  {
   "cell_type": "code",
   "execution_count": 11,
   "metadata": {},
   "outputs": [
    {
     "name": "stdout",
     "output_type": "stream",
     "text": [
      "Shape: (40, 2)\n"
     ]
    },
    {
     "data": {
      "text/html": [
       "<div>\n",
       "<style scoped>\n",
       "    .dataframe tbody tr th:only-of-type {\n",
       "        vertical-align: middle;\n",
       "    }\n",
       "\n",
       "    .dataframe tbody tr th {\n",
       "        vertical-align: top;\n",
       "    }\n",
       "\n",
       "    .dataframe thead th {\n",
       "        text-align: right;\n",
       "    }\n",
       "</style>\n",
       "<table border=\"1\" class=\"dataframe\">\n",
       "  <thead>\n",
       "    <tr style=\"text-align: right;\">\n",
       "      <th></th>\n",
       "      <th>agreement</th>\n",
       "      <th>p_sum</th>\n",
       "    </tr>\n",
       "  </thead>\n",
       "  <tbody>\n",
       "    <tr>\n",
       "      <th>0</th>\n",
       "      <td>0.000000</td>\n",
       "      <td>0.023936</td>\n",
       "    </tr>\n",
       "    <tr>\n",
       "      <th>1</th>\n",
       "      <td>0.053719</td>\n",
       "      <td>0.023975</td>\n",
       "    </tr>\n",
       "    <tr>\n",
       "      <th>2</th>\n",
       "      <td>0.075180</td>\n",
       "      <td>0.024013</td>\n",
       "    </tr>\n",
       "    <tr>\n",
       "      <th>3</th>\n",
       "      <td>0.090909</td>\n",
       "      <td>0.024283</td>\n",
       "    </tr>\n",
       "    <tr>\n",
       "      <th>4</th>\n",
       "      <td>0.111111</td>\n",
       "      <td>0.074237</td>\n",
       "    </tr>\n",
       "  </tbody>\n",
       "</table>\n",
       "</div>"
      ],
      "text/plain": [
       "   agreement     p_sum\n",
       "0   0.000000  0.023936\n",
       "1   0.053719  0.023975\n",
       "2   0.075180  0.024013\n",
       "3   0.090909  0.024283\n",
       "4   0.111111  0.074237"
      ]
     },
     "metadata": {},
     "output_type": "display_data"
    }
   ],
   "source": [
    "# calculating cumulative probability over agreement scores\n",
    "df_lambda = train['agreement'].value_counts(normalize = True).sort_index().cumsum().to_frame(name = 'p_sum')\n",
    "df_lambda.reset_index(inplace = True)\n",
    "df_lambda.rename({'index': 'agreement'}, axis = 1, inplace = True)\n",
    "\n",
    "print('Shape:', df_lambda.shape)\n",
    "display(df_lambda.head())"
   ]
  },
  {
   "cell_type": "code",
   "execution_count": 12,
   "metadata": {},
   "outputs": [
    {
     "data": {
      "application/vnd.plotly.v1+json": {
       "config": {
        "plotlyServerURL": "https://plot.ly"
       },
       "data": [
        {
         "hovertemplate": "Agreement score: %{x:.2f}<br>Cumulative probability: %{y:.2f}",
         "legendgroup": "",
         "line": {
          "color": "#1f77b4",
          "dash": "solid"
         },
         "marker": {
          "symbol": "circle"
         },
         "mode": "markers+lines",
         "name": "",
         "orientation": "v",
         "showlegend": false,
         "type": "scatter",
         "x": [
          0,
          0.0537190082644628,
          0.0751802265705458,
          0.0909090909090909,
          0.1111111111111111,
          0.1428571428571428,
          0.1666666666666666,
          0.2,
          0.2307692307692307,
          0.25,
          0.2727272727272727,
          0.3333333333333333,
          0.4,
          0.4285714285714285,
          0.4545454545454545,
          0.4639175257731959,
          0.4666666666666667,
          0.5,
          0.5384615384615384,
          0.5555555555555556,
          0.5714285714285714,
          0.6,
          0.6363636363636364,
          0.6404040404040404,
          0.6666666666666666,
          0.6926188068756319,
          0.7142857142857143,
          0.75,
          0.7777777777777778,
          0.8,
          0.8181818181818182,
          0.8260869565217391,
          0.8333333333333334,
          0.8461538461538461,
          0.870236869207003,
          0.875,
          0.8766700924974307,
          0.8839103869653768,
          0.9444444444444444,
          1
         ],
         "xaxis": "x",
         "y": [
          0.023936170212765957,
          0.023974714770274436,
          0.024013259327782914,
          0.024283071230342273,
          0.07423681776133209,
          0.07581714461917977,
          0.07593277829170521,
          0.08564600678384211,
          0.0856845513413506,
          0.08857539315448658,
          0.08892229417206289,
          0.2625269811902559,
          0.26499383287079864,
          0.26722941720629045,
          0.2674992291088498,
          0.2675377736663583,
          0.26761486278137525,
          0.3191489361702127,
          0.31926456984273816,
          0.4023666358310206,
          0.4024437249460376,
          0.41890225100215844,
          0.4194418748072772,
          0.41948041936478564,
          0.4386756090040086,
          0.43871415356151705,
          0.44241443108233114,
          0.44846592661116247,
          0.5702281837804501,
          0.5742368177613321,
          0.5749691643539931,
          0.5750077089115017,
          0.575431699044095,
          0.5754702436016035,
          0.575508788159112,
          0.5755473327166205,
          0.575585877274129,
          0.5756244218316375,
          0.575662966389146,
          1.0000000000000002
         ],
         "yaxis": "y"
        }
       ],
       "layout": {
        "legend": {
         "tracegroupgap": 0
        },
        "template": {
         "data": {
          "bar": [
           {
            "error_x": {
             "color": "#2a3f5f"
            },
            "error_y": {
             "color": "#2a3f5f"
            },
            "marker": {
             "line": {
              "color": "#E5ECF6",
              "width": 0.5
             },
             "pattern": {
              "fillmode": "overlay",
              "size": 10,
              "solidity": 0.2
             }
            },
            "type": "bar"
           }
          ],
          "barpolar": [
           {
            "marker": {
             "line": {
              "color": "#E5ECF6",
              "width": 0.5
             },
             "pattern": {
              "fillmode": "overlay",
              "size": 10,
              "solidity": 0.2
             }
            },
            "type": "barpolar"
           }
          ],
          "carpet": [
           {
            "aaxis": {
             "endlinecolor": "#2a3f5f",
             "gridcolor": "white",
             "linecolor": "white",
             "minorgridcolor": "white",
             "startlinecolor": "#2a3f5f"
            },
            "baxis": {
             "endlinecolor": "#2a3f5f",
             "gridcolor": "white",
             "linecolor": "white",
             "minorgridcolor": "white",
             "startlinecolor": "#2a3f5f"
            },
            "type": "carpet"
           }
          ],
          "choropleth": [
           {
            "colorbar": {
             "outlinewidth": 0,
             "ticks": ""
            },
            "type": "choropleth"
           }
          ],
          "contour": [
           {
            "colorbar": {
             "outlinewidth": 0,
             "ticks": ""
            },
            "colorscale": [
             [
              0,
              "#0d0887"
             ],
             [
              0.1111111111111111,
              "#46039f"
             ],
             [
              0.2222222222222222,
              "#7201a8"
             ],
             [
              0.3333333333333333,
              "#9c179e"
             ],
             [
              0.4444444444444444,
              "#bd3786"
             ],
             [
              0.5555555555555556,
              "#d8576b"
             ],
             [
              0.6666666666666666,
              "#ed7953"
             ],
             [
              0.7777777777777778,
              "#fb9f3a"
             ],
             [
              0.8888888888888888,
              "#fdca26"
             ],
             [
              1,
              "#f0f921"
             ]
            ],
            "type": "contour"
           }
          ],
          "contourcarpet": [
           {
            "colorbar": {
             "outlinewidth": 0,
             "ticks": ""
            },
            "type": "contourcarpet"
           }
          ],
          "heatmap": [
           {
            "colorbar": {
             "outlinewidth": 0,
             "ticks": ""
            },
            "colorscale": [
             [
              0,
              "#0d0887"
             ],
             [
              0.1111111111111111,
              "#46039f"
             ],
             [
              0.2222222222222222,
              "#7201a8"
             ],
             [
              0.3333333333333333,
              "#9c179e"
             ],
             [
              0.4444444444444444,
              "#bd3786"
             ],
             [
              0.5555555555555556,
              "#d8576b"
             ],
             [
              0.6666666666666666,
              "#ed7953"
             ],
             [
              0.7777777777777778,
              "#fb9f3a"
             ],
             [
              0.8888888888888888,
              "#fdca26"
             ],
             [
              1,
              "#f0f921"
             ]
            ],
            "type": "heatmap"
           }
          ],
          "heatmapgl": [
           {
            "colorbar": {
             "outlinewidth": 0,
             "ticks": ""
            },
            "colorscale": [
             [
              0,
              "#0d0887"
             ],
             [
              0.1111111111111111,
              "#46039f"
             ],
             [
              0.2222222222222222,
              "#7201a8"
             ],
             [
              0.3333333333333333,
              "#9c179e"
             ],
             [
              0.4444444444444444,
              "#bd3786"
             ],
             [
              0.5555555555555556,
              "#d8576b"
             ],
             [
              0.6666666666666666,
              "#ed7953"
             ],
             [
              0.7777777777777778,
              "#fb9f3a"
             ],
             [
              0.8888888888888888,
              "#fdca26"
             ],
             [
              1,
              "#f0f921"
             ]
            ],
            "type": "heatmapgl"
           }
          ],
          "histogram": [
           {
            "marker": {
             "pattern": {
              "fillmode": "overlay",
              "size": 10,
              "solidity": 0.2
             }
            },
            "type": "histogram"
           }
          ],
          "histogram2d": [
           {
            "colorbar": {
             "outlinewidth": 0,
             "ticks": ""
            },
            "colorscale": [
             [
              0,
              "#0d0887"
             ],
             [
              0.1111111111111111,
              "#46039f"
             ],
             [
              0.2222222222222222,
              "#7201a8"
             ],
             [
              0.3333333333333333,
              "#9c179e"
             ],
             [
              0.4444444444444444,
              "#bd3786"
             ],
             [
              0.5555555555555556,
              "#d8576b"
             ],
             [
              0.6666666666666666,
              "#ed7953"
             ],
             [
              0.7777777777777778,
              "#fb9f3a"
             ],
             [
              0.8888888888888888,
              "#fdca26"
             ],
             [
              1,
              "#f0f921"
             ]
            ],
            "type": "histogram2d"
           }
          ],
          "histogram2dcontour": [
           {
            "colorbar": {
             "outlinewidth": 0,
             "ticks": ""
            },
            "colorscale": [
             [
              0,
              "#0d0887"
             ],
             [
              0.1111111111111111,
              "#46039f"
             ],
             [
              0.2222222222222222,
              "#7201a8"
             ],
             [
              0.3333333333333333,
              "#9c179e"
             ],
             [
              0.4444444444444444,
              "#bd3786"
             ],
             [
              0.5555555555555556,
              "#d8576b"
             ],
             [
              0.6666666666666666,
              "#ed7953"
             ],
             [
              0.7777777777777778,
              "#fb9f3a"
             ],
             [
              0.8888888888888888,
              "#fdca26"
             ],
             [
              1,
              "#f0f921"
             ]
            ],
            "type": "histogram2dcontour"
           }
          ],
          "mesh3d": [
           {
            "colorbar": {
             "outlinewidth": 0,
             "ticks": ""
            },
            "type": "mesh3d"
           }
          ],
          "parcoords": [
           {
            "line": {
             "colorbar": {
              "outlinewidth": 0,
              "ticks": ""
             }
            },
            "type": "parcoords"
           }
          ],
          "pie": [
           {
            "automargin": true,
            "type": "pie"
           }
          ],
          "scatter": [
           {
            "marker": {
             "colorbar": {
              "outlinewidth": 0,
              "ticks": ""
             }
            },
            "type": "scatter"
           }
          ],
          "scatter3d": [
           {
            "line": {
             "colorbar": {
              "outlinewidth": 0,
              "ticks": ""
             }
            },
            "marker": {
             "colorbar": {
              "outlinewidth": 0,
              "ticks": ""
             }
            },
            "type": "scatter3d"
           }
          ],
          "scattercarpet": [
           {
            "marker": {
             "colorbar": {
              "outlinewidth": 0,
              "ticks": ""
             }
            },
            "type": "scattercarpet"
           }
          ],
          "scattergeo": [
           {
            "marker": {
             "colorbar": {
              "outlinewidth": 0,
              "ticks": ""
             }
            },
            "type": "scattergeo"
           }
          ],
          "scattergl": [
           {
            "marker": {
             "colorbar": {
              "outlinewidth": 0,
              "ticks": ""
             }
            },
            "type": "scattergl"
           }
          ],
          "scattermapbox": [
           {
            "marker": {
             "colorbar": {
              "outlinewidth": 0,
              "ticks": ""
             }
            },
            "type": "scattermapbox"
           }
          ],
          "scatterpolar": [
           {
            "marker": {
             "colorbar": {
              "outlinewidth": 0,
              "ticks": ""
             }
            },
            "type": "scatterpolar"
           }
          ],
          "scatterpolargl": [
           {
            "marker": {
             "colorbar": {
              "outlinewidth": 0,
              "ticks": ""
             }
            },
            "type": "scatterpolargl"
           }
          ],
          "scatterternary": [
           {
            "marker": {
             "colorbar": {
              "outlinewidth": 0,
              "ticks": ""
             }
            },
            "type": "scatterternary"
           }
          ],
          "surface": [
           {
            "colorbar": {
             "outlinewidth": 0,
             "ticks": ""
            },
            "colorscale": [
             [
              0,
              "#0d0887"
             ],
             [
              0.1111111111111111,
              "#46039f"
             ],
             [
              0.2222222222222222,
              "#7201a8"
             ],
             [
              0.3333333333333333,
              "#9c179e"
             ],
             [
              0.4444444444444444,
              "#bd3786"
             ],
             [
              0.5555555555555556,
              "#d8576b"
             ],
             [
              0.6666666666666666,
              "#ed7953"
             ],
             [
              0.7777777777777778,
              "#fb9f3a"
             ],
             [
              0.8888888888888888,
              "#fdca26"
             ],
             [
              1,
              "#f0f921"
             ]
            ],
            "type": "surface"
           }
          ],
          "table": [
           {
            "cells": {
             "fill": {
              "color": "#EBF0F8"
             },
             "line": {
              "color": "white"
             }
            },
            "header": {
             "fill": {
              "color": "#C8D4E3"
             },
             "line": {
              "color": "white"
             }
            },
            "type": "table"
           }
          ]
         },
         "layout": {
          "annotationdefaults": {
           "arrowcolor": "#2a3f5f",
           "arrowhead": 0,
           "arrowwidth": 1
          },
          "autotypenumbers": "strict",
          "coloraxis": {
           "colorbar": {
            "outlinewidth": 0,
            "ticks": ""
           }
          },
          "colorscale": {
           "diverging": [
            [
             0,
             "#8e0152"
            ],
            [
             0.1,
             "#c51b7d"
            ],
            [
             0.2,
             "#de77ae"
            ],
            [
             0.3,
             "#f1b6da"
            ],
            [
             0.4,
             "#fde0ef"
            ],
            [
             0.5,
             "#f7f7f7"
            ],
            [
             0.6,
             "#e6f5d0"
            ],
            [
             0.7,
             "#b8e186"
            ],
            [
             0.8,
             "#7fbc41"
            ],
            [
             0.9,
             "#4d9221"
            ],
            [
             1,
             "#276419"
            ]
           ],
           "sequential": [
            [
             0,
             "#0d0887"
            ],
            [
             0.1111111111111111,
             "#46039f"
            ],
            [
             0.2222222222222222,
             "#7201a8"
            ],
            [
             0.3333333333333333,
             "#9c179e"
            ],
            [
             0.4444444444444444,
             "#bd3786"
            ],
            [
             0.5555555555555556,
             "#d8576b"
            ],
            [
             0.6666666666666666,
             "#ed7953"
            ],
            [
             0.7777777777777778,
             "#fb9f3a"
            ],
            [
             0.8888888888888888,
             "#fdca26"
            ],
            [
             1,
             "#f0f921"
            ]
           ],
           "sequentialminus": [
            [
             0,
             "#0d0887"
            ],
            [
             0.1111111111111111,
             "#46039f"
            ],
            [
             0.2222222222222222,
             "#7201a8"
            ],
            [
             0.3333333333333333,
             "#9c179e"
            ],
            [
             0.4444444444444444,
             "#bd3786"
            ],
            [
             0.5555555555555556,
             "#d8576b"
            ],
            [
             0.6666666666666666,
             "#ed7953"
            ],
            [
             0.7777777777777778,
             "#fb9f3a"
            ],
            [
             0.8888888888888888,
             "#fdca26"
            ],
            [
             1,
             "#f0f921"
            ]
           ]
          },
          "colorway": [
           "#636efa",
           "#EF553B",
           "#00cc96",
           "#ab63fa",
           "#FFA15A",
           "#19d3f3",
           "#FF6692",
           "#B6E880",
           "#FF97FF",
           "#FECB52"
          ],
          "font": {
           "color": "#2a3f5f"
          },
          "geo": {
           "bgcolor": "white",
           "lakecolor": "white",
           "landcolor": "#E5ECF6",
           "showlakes": true,
           "showland": true,
           "subunitcolor": "white"
          },
          "hoverlabel": {
           "align": "left"
          },
          "hovermode": "closest",
          "mapbox": {
           "style": "light"
          },
          "paper_bgcolor": "white",
          "plot_bgcolor": "#E5ECF6",
          "polar": {
           "angularaxis": {
            "gridcolor": "white",
            "linecolor": "white",
            "ticks": ""
           },
           "bgcolor": "#E5ECF6",
           "radialaxis": {
            "gridcolor": "white",
            "linecolor": "white",
            "ticks": ""
           }
          },
          "scene": {
           "xaxis": {
            "backgroundcolor": "#E5ECF6",
            "gridcolor": "white",
            "gridwidth": 2,
            "linecolor": "white",
            "showbackground": true,
            "ticks": "",
            "zerolinecolor": "white"
           },
           "yaxis": {
            "backgroundcolor": "#E5ECF6",
            "gridcolor": "white",
            "gridwidth": 2,
            "linecolor": "white",
            "showbackground": true,
            "ticks": "",
            "zerolinecolor": "white"
           },
           "zaxis": {
            "backgroundcolor": "#E5ECF6",
            "gridcolor": "white",
            "gridwidth": 2,
            "linecolor": "white",
            "showbackground": true,
            "ticks": "",
            "zerolinecolor": "white"
           }
          },
          "shapedefaults": {
           "line": {
            "color": "#2a3f5f"
           }
          },
          "ternary": {
           "aaxis": {
            "gridcolor": "white",
            "linecolor": "white",
            "ticks": ""
           },
           "baxis": {
            "gridcolor": "white",
            "linecolor": "white",
            "ticks": ""
           },
           "bgcolor": "#E5ECF6",
           "caxis": {
            "gridcolor": "white",
            "linecolor": "white",
            "ticks": ""
           }
          },
          "title": {
           "x": 0.05
          },
          "xaxis": {
           "automargin": true,
           "gridcolor": "white",
           "linecolor": "white",
           "ticks": "",
           "title": {
            "standoff": 15
           },
           "zerolinecolor": "white",
           "zerolinewidth": 2
          },
          "yaxis": {
           "automargin": true,
           "gridcolor": "white",
           "linecolor": "white",
           "ticks": "",
           "title": {
            "standoff": 15
           },
           "zerolinecolor": "white",
           "zerolinewidth": 2
          }
         }
        },
        "title": {
         "text": "Figure 1. Cumulative Distribution Function of the Agreement Score"
        },
        "xaxis": {
         "anchor": "y",
         "domain": [
          0,
          1
         ],
         "dtick": 0.1,
         "title": {
          "text": "Agreement Score"
         }
        },
        "yaxis": {
         "anchor": "x",
         "domain": [
          0,
          1
         ],
         "dtick": 0.25,
         "title": {
          "text": "Cumulative Probrability"
         }
        }
       }
      }
     },
     "metadata": {},
     "output_type": "display_data"
    }
   ],
   "source": [
    "fig = px.line(\n",
    "    data_frame = df_lambda,\n",
    "    x = 'agreement',\n",
    "    y = 'p_sum',\n",
    "    markers = True,\n",
    "    labels = {\n",
    "        'agreement': 'Agreement Score',\n",
    "        'p_sum': 'Cumulative Probrability'\n",
    "    },\n",
    "    color_discrete_sequence = ['#1f77b4'],\n",
    "    title = 'Figure 1. Cumulative Distribution Function of the Agreement Score'\n",
    ")\n",
    "\n",
    "fig.update_traces(hovertemplate = 'Agreement score: %{x:.2f}<br>Cumulative probability: %{y:.2f}')\n",
    "fig.update_layout(\n",
    "    xaxis = {'dtick': 0.1},\n",
    "    yaxis = {'dtick': 0.25}\n",
    ")\n",
    "fig.show()"
   ]
  },
  {
   "cell_type": "code",
   "execution_count": 13,
   "metadata": {},
   "outputs": [],
   "source": [
    "# keeping only the texts whose suggested sdg labels is accepted and the agreement score is at least .94\n",
    "def sdg_selector(train):\n",
    "    print('Shape before:', train.shape)\n",
    "    train = train.query('agreement >= .94 and labels_positive > labels_negative').copy()\n",
    "    print('Shape after :', train.shape)\n",
    "    # display(train.head(1))\n",
    "\n"
   ]
  },
  {
   "cell_type": "code",
   "execution_count": 14,
   "metadata": {},
   "outputs": [
    {
     "name": "stdout",
     "output_type": "stream",
     "text": [
      "Shape before: (25944, 8)\n",
      "Shape after : (10370, 8)\n"
     ]
    }
   ],
   "source": [
    "sdg_selector(train)"
   ]
  },
  {
   "cell_type": "code",
   "execution_count": 15,
   "metadata": {},
   "outputs": [
    {
     "name": "stdout",
     "output_type": "stream",
     "text": [
      "Shape: (15, 3)\n"
     ]
    },
    {
     "data": {
      "text/html": [
       "<div>\n",
       "<style scoped>\n",
       "    .dataframe tbody tr th:only-of-type {\n",
       "        vertical-align: middle;\n",
       "    }\n",
       "\n",
       "    .dataframe tbody tr th {\n",
       "        vertical-align: top;\n",
       "    }\n",
       "\n",
       "    .dataframe thead th {\n",
       "        text-align: right;\n",
       "    }\n",
       "</style>\n",
       "<table border=\"1\" class=\"dataframe\">\n",
       "  <thead>\n",
       "    <tr style=\"text-align: right;\">\n",
       "      <th></th>\n",
       "      <th>sdg</th>\n",
       "      <th>count</th>\n",
       "      <th>share</th>\n",
       "    </tr>\n",
       "  </thead>\n",
       "  <tbody>\n",
       "    <tr>\n",
       "      <th>0</th>\n",
       "      <td>1</td>\n",
       "      <td>2190</td>\n",
       "      <td>8.441258</td>\n",
       "    </tr>\n",
       "    <tr>\n",
       "      <th>1</th>\n",
       "      <td>2</td>\n",
       "      <td>1963</td>\n",
       "      <td>7.566297</td>\n",
       "    </tr>\n",
       "    <tr>\n",
       "      <th>2</th>\n",
       "      <td>3</td>\n",
       "      <td>2132</td>\n",
       "      <td>8.217700</td>\n",
       "    </tr>\n",
       "    <tr>\n",
       "      <th>3</th>\n",
       "      <td>4</td>\n",
       "      <td>2999</td>\n",
       "      <td>11.559513</td>\n",
       "    </tr>\n",
       "    <tr>\n",
       "      <th>4</th>\n",
       "      <td>5</td>\n",
       "      <td>3438</td>\n",
       "      <td>13.251619</td>\n",
       "    </tr>\n",
       "  </tbody>\n",
       "</table>\n",
       "</div>"
      ],
      "text/plain": [
       "   sdg  count      share\n",
       "0    1   2190   8.441258\n",
       "1    2   1963   7.566297\n",
       "2    3   2132   8.217700\n",
       "3    4   2999  11.559513\n",
       "4    5   3438  13.251619"
      ]
     },
     "metadata": {},
     "output_type": "display_data"
    }
   ],
   "source": [
    "df_lambda = train.groupby('sdg', as_index = False).agg(count = ('text_id', 'count'))\n",
    "df_lambda['share'] = df_lambda['count'].divide(df_lambda['count'].sum()).multiply(100)\n",
    "print('Shape:', df_lambda.shape)\n",
    "display(df_lambda.head())"
   ]
  },
  {
   "cell_type": "code",
   "execution_count": 16,
   "metadata": {},
   "outputs": [
    {
     "data": {
      "application/vnd.plotly.v1+json": {
       "config": {
        "plotlyServerURL": "https://plot.ly"
       },
       "data": [
        {
         "alignmentgroup": "True",
         "customdata": [
          [
           8.441258094357076
          ],
          [
           7.566296638914586
          ],
          [
           8.217699660807893
          ],
          [
           11.559512796793092
          ],
          [
           13.251618871415355
          ],
          [
           8.660962072155412
          ],
          [
           9.532069071847054
          ],
          [
           4.69472710453284
          ],
          [
           3.364939870490287
          ],
          [
           3.249306197964848
          ],
          [
           6.930311440024668
          ],
          [
           1.4377119950662967
          ],
          [
           6.533302497687327
          ],
          [
           3.534535923527598
          ],
          [
           3.0257477644156645
          ]
         ],
         "hovertemplate": "SDG %{x}<br>Count: %{y}<br>Share: %{customdata:.2f}%",
         "legendgroup": "",
         "marker": {
          "color": "#1f77b4",
          "pattern": {
           "shape": ""
          }
         },
         "name": "",
         "offsetgroup": "",
         "orientation": "v",
         "showlegend": false,
         "textposition": "auto",
         "type": "bar",
         "x": [
          1,
          2,
          3,
          4,
          5,
          6,
          7,
          8,
          9,
          10,
          11,
          12,
          13,
          14,
          15
         ],
         "xaxis": "x",
         "y": [
          2190,
          1963,
          2132,
          2999,
          3438,
          2247,
          2473,
          1218,
          873,
          843,
          1798,
          373,
          1695,
          917,
          785
         ],
         "yaxis": "y"
        }
       ],
       "layout": {
        "barmode": "relative",
        "legend": {
         "tracegroupgap": 0
        },
        "template": {
         "data": {
          "bar": [
           {
            "error_x": {
             "color": "#2a3f5f"
            },
            "error_y": {
             "color": "#2a3f5f"
            },
            "marker": {
             "line": {
              "color": "#E5ECF6",
              "width": 0.5
             },
             "pattern": {
              "fillmode": "overlay",
              "size": 10,
              "solidity": 0.2
             }
            },
            "type": "bar"
           }
          ],
          "barpolar": [
           {
            "marker": {
             "line": {
              "color": "#E5ECF6",
              "width": 0.5
             },
             "pattern": {
              "fillmode": "overlay",
              "size": 10,
              "solidity": 0.2
             }
            },
            "type": "barpolar"
           }
          ],
          "carpet": [
           {
            "aaxis": {
             "endlinecolor": "#2a3f5f",
             "gridcolor": "white",
             "linecolor": "white",
             "minorgridcolor": "white",
             "startlinecolor": "#2a3f5f"
            },
            "baxis": {
             "endlinecolor": "#2a3f5f",
             "gridcolor": "white",
             "linecolor": "white",
             "minorgridcolor": "white",
             "startlinecolor": "#2a3f5f"
            },
            "type": "carpet"
           }
          ],
          "choropleth": [
           {
            "colorbar": {
             "outlinewidth": 0,
             "ticks": ""
            },
            "type": "choropleth"
           }
          ],
          "contour": [
           {
            "colorbar": {
             "outlinewidth": 0,
             "ticks": ""
            },
            "colorscale": [
             [
              0,
              "#0d0887"
             ],
             [
              0.1111111111111111,
              "#46039f"
             ],
             [
              0.2222222222222222,
              "#7201a8"
             ],
             [
              0.3333333333333333,
              "#9c179e"
             ],
             [
              0.4444444444444444,
              "#bd3786"
             ],
             [
              0.5555555555555556,
              "#d8576b"
             ],
             [
              0.6666666666666666,
              "#ed7953"
             ],
             [
              0.7777777777777778,
              "#fb9f3a"
             ],
             [
              0.8888888888888888,
              "#fdca26"
             ],
             [
              1,
              "#f0f921"
             ]
            ],
            "type": "contour"
           }
          ],
          "contourcarpet": [
           {
            "colorbar": {
             "outlinewidth": 0,
             "ticks": ""
            },
            "type": "contourcarpet"
           }
          ],
          "heatmap": [
           {
            "colorbar": {
             "outlinewidth": 0,
             "ticks": ""
            },
            "colorscale": [
             [
              0,
              "#0d0887"
             ],
             [
              0.1111111111111111,
              "#46039f"
             ],
             [
              0.2222222222222222,
              "#7201a8"
             ],
             [
              0.3333333333333333,
              "#9c179e"
             ],
             [
              0.4444444444444444,
              "#bd3786"
             ],
             [
              0.5555555555555556,
              "#d8576b"
             ],
             [
              0.6666666666666666,
              "#ed7953"
             ],
             [
              0.7777777777777778,
              "#fb9f3a"
             ],
             [
              0.8888888888888888,
              "#fdca26"
             ],
             [
              1,
              "#f0f921"
             ]
            ],
            "type": "heatmap"
           }
          ],
          "heatmapgl": [
           {
            "colorbar": {
             "outlinewidth": 0,
             "ticks": ""
            },
            "colorscale": [
             [
              0,
              "#0d0887"
             ],
             [
              0.1111111111111111,
              "#46039f"
             ],
             [
              0.2222222222222222,
              "#7201a8"
             ],
             [
              0.3333333333333333,
              "#9c179e"
             ],
             [
              0.4444444444444444,
              "#bd3786"
             ],
             [
              0.5555555555555556,
              "#d8576b"
             ],
             [
              0.6666666666666666,
              "#ed7953"
             ],
             [
              0.7777777777777778,
              "#fb9f3a"
             ],
             [
              0.8888888888888888,
              "#fdca26"
             ],
             [
              1,
              "#f0f921"
             ]
            ],
            "type": "heatmapgl"
           }
          ],
          "histogram": [
           {
            "marker": {
             "pattern": {
              "fillmode": "overlay",
              "size": 10,
              "solidity": 0.2
             }
            },
            "type": "histogram"
           }
          ],
          "histogram2d": [
           {
            "colorbar": {
             "outlinewidth": 0,
             "ticks": ""
            },
            "colorscale": [
             [
              0,
              "#0d0887"
             ],
             [
              0.1111111111111111,
              "#46039f"
             ],
             [
              0.2222222222222222,
              "#7201a8"
             ],
             [
              0.3333333333333333,
              "#9c179e"
             ],
             [
              0.4444444444444444,
              "#bd3786"
             ],
             [
              0.5555555555555556,
              "#d8576b"
             ],
             [
              0.6666666666666666,
              "#ed7953"
             ],
             [
              0.7777777777777778,
              "#fb9f3a"
             ],
             [
              0.8888888888888888,
              "#fdca26"
             ],
             [
              1,
              "#f0f921"
             ]
            ],
            "type": "histogram2d"
           }
          ],
          "histogram2dcontour": [
           {
            "colorbar": {
             "outlinewidth": 0,
             "ticks": ""
            },
            "colorscale": [
             [
              0,
              "#0d0887"
             ],
             [
              0.1111111111111111,
              "#46039f"
             ],
             [
              0.2222222222222222,
              "#7201a8"
             ],
             [
              0.3333333333333333,
              "#9c179e"
             ],
             [
              0.4444444444444444,
              "#bd3786"
             ],
             [
              0.5555555555555556,
              "#d8576b"
             ],
             [
              0.6666666666666666,
              "#ed7953"
             ],
             [
              0.7777777777777778,
              "#fb9f3a"
             ],
             [
              0.8888888888888888,
              "#fdca26"
             ],
             [
              1,
              "#f0f921"
             ]
            ],
            "type": "histogram2dcontour"
           }
          ],
          "mesh3d": [
           {
            "colorbar": {
             "outlinewidth": 0,
             "ticks": ""
            },
            "type": "mesh3d"
           }
          ],
          "parcoords": [
           {
            "line": {
             "colorbar": {
              "outlinewidth": 0,
              "ticks": ""
             }
            },
            "type": "parcoords"
           }
          ],
          "pie": [
           {
            "automargin": true,
            "type": "pie"
           }
          ],
          "scatter": [
           {
            "marker": {
             "colorbar": {
              "outlinewidth": 0,
              "ticks": ""
             }
            },
            "type": "scatter"
           }
          ],
          "scatter3d": [
           {
            "line": {
             "colorbar": {
              "outlinewidth": 0,
              "ticks": ""
             }
            },
            "marker": {
             "colorbar": {
              "outlinewidth": 0,
              "ticks": ""
             }
            },
            "type": "scatter3d"
           }
          ],
          "scattercarpet": [
           {
            "marker": {
             "colorbar": {
              "outlinewidth": 0,
              "ticks": ""
             }
            },
            "type": "scattercarpet"
           }
          ],
          "scattergeo": [
           {
            "marker": {
             "colorbar": {
              "outlinewidth": 0,
              "ticks": ""
             }
            },
            "type": "scattergeo"
           }
          ],
          "scattergl": [
           {
            "marker": {
             "colorbar": {
              "outlinewidth": 0,
              "ticks": ""
             }
            },
            "type": "scattergl"
           }
          ],
          "scattermapbox": [
           {
            "marker": {
             "colorbar": {
              "outlinewidth": 0,
              "ticks": ""
             }
            },
            "type": "scattermapbox"
           }
          ],
          "scatterpolar": [
           {
            "marker": {
             "colorbar": {
              "outlinewidth": 0,
              "ticks": ""
             }
            },
            "type": "scatterpolar"
           }
          ],
          "scatterpolargl": [
           {
            "marker": {
             "colorbar": {
              "outlinewidth": 0,
              "ticks": ""
             }
            },
            "type": "scatterpolargl"
           }
          ],
          "scatterternary": [
           {
            "marker": {
             "colorbar": {
              "outlinewidth": 0,
              "ticks": ""
             }
            },
            "type": "scatterternary"
           }
          ],
          "surface": [
           {
            "colorbar": {
             "outlinewidth": 0,
             "ticks": ""
            },
            "colorscale": [
             [
              0,
              "#0d0887"
             ],
             [
              0.1111111111111111,
              "#46039f"
             ],
             [
              0.2222222222222222,
              "#7201a8"
             ],
             [
              0.3333333333333333,
              "#9c179e"
             ],
             [
              0.4444444444444444,
              "#bd3786"
             ],
             [
              0.5555555555555556,
              "#d8576b"
             ],
             [
              0.6666666666666666,
              "#ed7953"
             ],
             [
              0.7777777777777778,
              "#fb9f3a"
             ],
             [
              0.8888888888888888,
              "#fdca26"
             ],
             [
              1,
              "#f0f921"
             ]
            ],
            "type": "surface"
           }
          ],
          "table": [
           {
            "cells": {
             "fill": {
              "color": "#EBF0F8"
             },
             "line": {
              "color": "white"
             }
            },
            "header": {
             "fill": {
              "color": "#C8D4E3"
             },
             "line": {
              "color": "white"
             }
            },
            "type": "table"
           }
          ]
         },
         "layout": {
          "annotationdefaults": {
           "arrowcolor": "#2a3f5f",
           "arrowhead": 0,
           "arrowwidth": 1
          },
          "autotypenumbers": "strict",
          "coloraxis": {
           "colorbar": {
            "outlinewidth": 0,
            "ticks": ""
           }
          },
          "colorscale": {
           "diverging": [
            [
             0,
             "#8e0152"
            ],
            [
             0.1,
             "#c51b7d"
            ],
            [
             0.2,
             "#de77ae"
            ],
            [
             0.3,
             "#f1b6da"
            ],
            [
             0.4,
             "#fde0ef"
            ],
            [
             0.5,
             "#f7f7f7"
            ],
            [
             0.6,
             "#e6f5d0"
            ],
            [
             0.7,
             "#b8e186"
            ],
            [
             0.8,
             "#7fbc41"
            ],
            [
             0.9,
             "#4d9221"
            ],
            [
             1,
             "#276419"
            ]
           ],
           "sequential": [
            [
             0,
             "#0d0887"
            ],
            [
             0.1111111111111111,
             "#46039f"
            ],
            [
             0.2222222222222222,
             "#7201a8"
            ],
            [
             0.3333333333333333,
             "#9c179e"
            ],
            [
             0.4444444444444444,
             "#bd3786"
            ],
            [
             0.5555555555555556,
             "#d8576b"
            ],
            [
             0.6666666666666666,
             "#ed7953"
            ],
            [
             0.7777777777777778,
             "#fb9f3a"
            ],
            [
             0.8888888888888888,
             "#fdca26"
            ],
            [
             1,
             "#f0f921"
            ]
           ],
           "sequentialminus": [
            [
             0,
             "#0d0887"
            ],
            [
             0.1111111111111111,
             "#46039f"
            ],
            [
             0.2222222222222222,
             "#7201a8"
            ],
            [
             0.3333333333333333,
             "#9c179e"
            ],
            [
             0.4444444444444444,
             "#bd3786"
            ],
            [
             0.5555555555555556,
             "#d8576b"
            ],
            [
             0.6666666666666666,
             "#ed7953"
            ],
            [
             0.7777777777777778,
             "#fb9f3a"
            ],
            [
             0.8888888888888888,
             "#fdca26"
            ],
            [
             1,
             "#f0f921"
            ]
           ]
          },
          "colorway": [
           "#636efa",
           "#EF553B",
           "#00cc96",
           "#ab63fa",
           "#FFA15A",
           "#19d3f3",
           "#FF6692",
           "#B6E880",
           "#FF97FF",
           "#FECB52"
          ],
          "font": {
           "color": "#2a3f5f"
          },
          "geo": {
           "bgcolor": "white",
           "lakecolor": "white",
           "landcolor": "#E5ECF6",
           "showlakes": true,
           "showland": true,
           "subunitcolor": "white"
          },
          "hoverlabel": {
           "align": "left"
          },
          "hovermode": "closest",
          "mapbox": {
           "style": "light"
          },
          "paper_bgcolor": "white",
          "plot_bgcolor": "#E5ECF6",
          "polar": {
           "angularaxis": {
            "gridcolor": "white",
            "linecolor": "white",
            "ticks": ""
           },
           "bgcolor": "#E5ECF6",
           "radialaxis": {
            "gridcolor": "white",
            "linecolor": "white",
            "ticks": ""
           }
          },
          "scene": {
           "xaxis": {
            "backgroundcolor": "#E5ECF6",
            "gridcolor": "white",
            "gridwidth": 2,
            "linecolor": "white",
            "showbackground": true,
            "ticks": "",
            "zerolinecolor": "white"
           },
           "yaxis": {
            "backgroundcolor": "#E5ECF6",
            "gridcolor": "white",
            "gridwidth": 2,
            "linecolor": "white",
            "showbackground": true,
            "ticks": "",
            "zerolinecolor": "white"
           },
           "zaxis": {
            "backgroundcolor": "#E5ECF6",
            "gridcolor": "white",
            "gridwidth": 2,
            "linecolor": "white",
            "showbackground": true,
            "ticks": "",
            "zerolinecolor": "white"
           }
          },
          "shapedefaults": {
           "line": {
            "color": "#2a3f5f"
           }
          },
          "ternary": {
           "aaxis": {
            "gridcolor": "white",
            "linecolor": "white",
            "ticks": ""
           },
           "baxis": {
            "gridcolor": "white",
            "linecolor": "white",
            "ticks": ""
           },
           "bgcolor": "#E5ECF6",
           "caxis": {
            "gridcolor": "white",
            "linecolor": "white",
            "ticks": ""
           }
          },
          "title": {
           "x": 0.05
          },
          "xaxis": {
           "automargin": true,
           "gridcolor": "white",
           "linecolor": "white",
           "ticks": "",
           "title": {
            "standoff": 15
           },
           "zerolinecolor": "white",
           "zerolinewidth": 2
          },
          "yaxis": {
           "automargin": true,
           "gridcolor": "white",
           "linecolor": "white",
           "ticks": "",
           "title": {
            "standoff": 15
           },
           "zerolinecolor": "white",
           "zerolinewidth": 2
          }
         }
        },
        "title": {
         "text": "Figure 2. Distribution of Texts (Agreement >.6) over SDGs"
        },
        "xaxis": {
         "anchor": "y",
         "domain": [
          0,
          1
         ],
         "title": {
          "text": "SDG"
         },
         "type": "category"
        },
        "yaxis": {
         "anchor": "x",
         "domain": [
          0,
          1
         ],
         "title": {
          "text": "Count"
         }
        }
       }
      }
     },
     "metadata": {},
     "output_type": "display_data"
    }
   ],
   "source": [
    "fig = px.bar(\n",
    "    data_frame = df_lambda,\n",
    "    x = 'sdg',\n",
    "    y = 'count',\n",
    "    custom_data = ['share'],\n",
    "    labels = {\n",
    "        'sdg': 'SDG',\n",
    "        'count': 'Count'\n",
    "    },\n",
    "    color_discrete_sequence = ['#1f77b4'],\n",
    "    title = 'Figure 2. Distribution of Texts (Agreement >.6) over SDGs'\n",
    ")\n",
    "\n",
    "fig.update_traces(hovertemplate = 'SDG %{x}<br>Count: %{y}<br>Share: %{customdata:.2f}%')\n",
    "fig.update_layout(xaxis = {'type': 'category'})\n",
    "fig.show()"
   ]
  },
  {
   "cell_type": "markdown",
   "metadata": {},
   "source": [
    "#### Due to the presence of a non numerical column in our datasets, some preprocessing processes must be performed, including:\n",
    "\n",
    "\n",
    "* letter casing :Converting all letters to upper case or lower case is called letter casing.\n",
    "\n",
    "* Tokenization :Tokenizing refers to the process of converting texts to tokens. Words separated by spaces in a text are referred to as tokens.\n",
    "\n",
    "* Noise removal: Unwanted characters such as HTML tags, punctuation marks, special characters, white spaces, and so on are removed.\n",
    "\n",
    "* Stopwords should be removed because they don't contribute anything to the machine learning model. The nltk library can specify a list of stopwords, or it can be tailored to a particular company.\n",
    "\n",
    "* Lemmatization: the process of reducing a word's several forms to a single form, such as converting \"builds,\" \"building,\" or \"built\" to the lemma.\n",
    "\n",
    "---"
   ]
  },
  {
   "cell_type": "markdown",
   "metadata": {},
   "source": [
    "## 2.1 <a id=\"removing_links\"><strong>Removing Links</strong></a>\n",
    "[Table of Contents](#contents)"
   ]
  },
  {
   "cell_type": "code",
   "execution_count": 17,
   "metadata": {},
   "outputs": [],
   "source": [
    "#removing links\n",
    "train['text'] = train['text'].str.replace('http\\S+|www.\\S+', '', case=False)\n",
    "train['text'] = train['text'].str.replace(r's*https?://S+(s+|$)', ' ',case=False).str.strip()\n",
    "test['text'] = test['text'].str.replace('http\\S+|www.\\S+', '', case=False)\n",
    "test['text'] = test['text'].str.replace(r's*https?://S+(s+|$)', ' ',case=False).str.strip()"
   ]
  },
  {
   "cell_type": "code",
   "execution_count": 18,
   "metadata": {},
   "outputs": [],
   "source": [
    "def preprocess(text):\n",
    "    \"\"\"This function takes in pandas dataframe, removes URL hyperlinks, stopwords, punctuation noises,contractions and lemmatize the text.\"\"\"\n",
    "\n",
    "    tokenizer = TreebankWordTokenizer() \n",
    "    lemmatizer = WordNetLemmatizer()\n",
    "    stopwords_list = stopwords.words('english')\n",
    "    point_noise = string.punctuation + '0123456789'\n",
    "    \n",
    "    cleanText = re.sub(r'@[a-zA-Z0-9\\_\\w]+', '', text)#Remove @mentions\n",
    "    cleanText = re.sub(r'#[a-zA-Z0-9]+', '', cleanText) #Remove '#' symbols\n",
    "    cleanText = re.sub(r'RT', '', cleanText)#Remove RT from text\n",
    "    #Panding Contractions\n",
    "    # specific\n",
    "    cleanText = re.sub(r\"won\\'t\", \"will not\", cleanText)\n",
    "    cleanText = re.sub(r\"can\\'t\", \"can not\", cleanText)\n",
    "    cleanText = re.sub(r\"also\", \"\", cleanText)\n",
    "    #Panding Contractions\n",
    "    # general\n",
    "    cleanText = re.sub(r\"n\\'t\", \" not\", cleanText)\n",
    "    cleanText = re.sub(r\"\\'re\", \" are\", cleanText)\n",
    "    cleanText = re.sub(r\"\\'s\", \" is\", cleanText)\n",
    "    cleanText = re.sub(r\"\\'d\", \" would\", cleanText)\n",
    "    cleanText = re.sub(r\"\\'ll\", \" will\", cleanText)\n",
    "    cleanText = re.sub(r\"\\'t\", \" not\", cleanText)\n",
    "    cleanText = re.sub(r\"\\'ve\", \" have\", cleanText)\n",
    "    cleanText = re.sub(r\"\\'m\", \" am\", cleanText)\n",
    "    cleanText = ''.join([word for word in cleanText if word not in point_noise]) #Removing punctuations and numbers.\n",
    "    cleanText = cleanText.lower() #Lowering case\n",
    "    cleanText = \"\".join(word for word in cleanText if ord(word)<128) #Removing NonAscii\n",
    "    cleanText = tokenizer.tokenize(cleanText) #Coverting each words to tokens\n",
    "    cleanText = [lemmatizer.lemmatize(word) for word in cleanText if word not in stopwords_list] #Lemmatizing and removing stopwords\n",
    "    cleanText = [word for word in cleanText if len(word) >= 2]\n",
    "    # cleanText = ' '.join(cleanText)\n",
    "    #return cleanText\n",
    "    return cleanText"
   ]
  },
  {
   "cell_type": "code",
   "execution_count": 19,
   "metadata": {},
   "outputs": [],
   "source": [
    "#applying the preprocess function\n",
    "train[\"text\"]=train[\"text\"].apply(preprocess)\n"
   ]
  },
  {
   "cell_type": "code",
   "execution_count": 20,
   "metadata": {},
   "outputs": [],
   "source": [
    "test[\"text\"]=test[\"text\"].apply(preprocess)"
   ]
  },
  {
   "cell_type": "code",
   "execution_count": 21,
   "metadata": {},
   "outputs": [
    {
     "data": {
      "text/html": [
       "<div>\n",
       "<style scoped>\n",
       "    .dataframe tbody tr th:only-of-type {\n",
       "        vertical-align: middle;\n",
       "    }\n",
       "\n",
       "    .dataframe tbody tr th {\n",
       "        vertical-align: top;\n",
       "    }\n",
       "\n",
       "    .dataframe thead th {\n",
       "        text-align: right;\n",
       "    }\n",
       "</style>\n",
       "<table border=\"1\" class=\"dataframe\">\n",
       "  <thead>\n",
       "    <tr style=\"text-align: right;\">\n",
       "      <th></th>\n",
       "      <th>doi</th>\n",
       "      <th>text_id</th>\n",
       "      <th>text</th>\n",
       "      <th>sdg</th>\n",
       "      <th>labels_negative</th>\n",
       "      <th>labels_positive</th>\n",
       "      <th>agreement</th>\n",
       "      <th>id</th>\n",
       "    </tr>\n",
       "  </thead>\n",
       "  <tbody>\n",
       "    <tr>\n",
       "      <th>0</th>\n",
       "      <td>10.18356/5950d914-en</td>\n",
       "      <td>bf7763beb5ad7a16764d1b7fa87ab018</td>\n",
       "      <td>[indicator, target, data, available, globally,...</td>\n",
       "      <td>9</td>\n",
       "      <td>4</td>\n",
       "      <td>5</td>\n",
       "      <td>0.111111</td>\n",
       "      <td>1</td>\n",
       "    </tr>\n",
       "  </tbody>\n",
       "</table>\n",
       "</div>"
      ],
      "text/plain": [
       "                    doi                           text_id  \\\n",
       "0  10.18356/5950d914-en  bf7763beb5ad7a16764d1b7fa87ab018   \n",
       "\n",
       "                                                text  sdg  labels_negative  \\\n",
       "0  [indicator, target, data, available, globally,...    9                4   \n",
       "\n",
       "   labels_positive  agreement  id  \n",
       "0                5   0.111111   1  "
      ]
     },
     "execution_count": 21,
     "metadata": {},
     "output_type": "execute_result"
    }
   ],
   "source": [
    "train.head()"
   ]
  },
  {
   "cell_type": "markdown",
   "metadata": {},
   "source": [
    "# 3 <a id=\"EDA\"><strong>EXPLORATORY DATA ANALYSIS</strong></a>\n",
    "[Table of Contents](#contents)"
   ]
  },
  {
   "cell_type": "markdown",
   "metadata": {},
   "source": [
    "## 3.1 <a id=\"most_frequent_words\"><strong>Most Frequent Words</strong></a>\n",
    "[Table of Contents](#contents)"
   ]
  },
  {
   "cell_type": "code",
   "execution_count": 22,
   "metadata": {},
   "outputs": [
    {
     "data": {
      "text/plain": [
       "[('country', 11043),\n",
       " ('policy', 6583),\n",
       " ('woman', 5843),\n",
       " ('development', 5827),\n",
       " ('water', 5423)]"
      ]
     },
     "execution_count": 22,
     "metadata": {},
     "output_type": "execute_result"
    }
   ],
   "source": [
    "cnt = Counter()\n",
    "for message in train['text'].values:\n",
    "    for word in message:\n",
    "        cnt[word] += 1\n",
    "        \n",
    "cnt.most_common(5)"
   ]
  },
  {
   "cell_type": "markdown",
   "metadata": {},
   "source": [
    "## 3.2 <a id=\"visualisation\"><strong>Visualisation</strong></a>\n",
    "[Table of Contents](#contents)\n",
    "\n",
    "* Separate Datframes of Text for each SDG "
   ]
  },
  {
   "cell_type": "code",
   "execution_count": 23,
   "metadata": {},
   "outputs": [
    {
     "name": "stdout",
     "output_type": "stream",
     "text": [
      "See distribution of messages per SDG : \n"
     ]
    },
    {
     "data": {
      "text/html": [
       "<style type=\"text/css\">\n",
       "#T_94647_row0_col0 {\n",
       "  background-color: #d1d2e7;\n",
       "  color: #000000;\n",
       "}\n",
       "#T_94647_row0_col1, #T_94647_row13_col0 {\n",
       "  background-color: #3f007d;\n",
       "  color: #f1f1f1;\n",
       "}\n",
       "#T_94647_row1_col0 {\n",
       "  background-color: #e0e0ee;\n",
       "  color: #000000;\n",
       "}\n",
       "#T_94647_row1_col1, #T_94647_row8_col0 {\n",
       "  background-color: #572c92;\n",
       "  color: #f1f1f1;\n",
       "}\n",
       "#T_94647_row2_col0 {\n",
       "  background-color: #afaed4;\n",
       "  color: #000000;\n",
       "}\n",
       "#T_94647_row2_col1 {\n",
       "  background-color: #7567af;\n",
       "  color: #f1f1f1;\n",
       "}\n",
       "#T_94647_row3_col0 {\n",
       "  background-color: #c0c1de;\n",
       "  color: #000000;\n",
       "}\n",
       "#T_94647_row3_col1 {\n",
       "  background-color: #8380bb;\n",
       "  color: #f1f1f1;\n",
       "}\n",
       "#T_94647_row4_col0, #T_94647_row14_col1 {\n",
       "  background-color: #fcfbfd;\n",
       "  color: #000000;\n",
       "}\n",
       "#T_94647_row4_col1 {\n",
       "  background-color: #8885be;\n",
       "  color: #f1f1f1;\n",
       "}\n",
       "#T_94647_row5_col0 {\n",
       "  background-color: #ecebf4;\n",
       "  color: #000000;\n",
       "}\n",
       "#T_94647_row5_col1, #T_94647_row11_col0 {\n",
       "  background-color: #8d89c0;\n",
       "  color: #f1f1f1;\n",
       "}\n",
       "#T_94647_row6_col0 {\n",
       "  background-color: #f5f3f8;\n",
       "  color: #000000;\n",
       "}\n",
       "#T_94647_row6_col1 {\n",
       "  background-color: #9a96c6;\n",
       "  color: #f1f1f1;\n",
       "}\n",
       "#T_94647_row7_col0 {\n",
       "  background-color: #705eaa;\n",
       "  color: #f1f1f1;\n",
       "}\n",
       "#T_94647_row7_col1 {\n",
       "  background-color: #a6a3cd;\n",
       "  color: #f1f1f1;\n",
       "}\n",
       "#T_94647_row8_col1 {\n",
       "  background-color: #aeadd3;\n",
       "  color: #000000;\n",
       "}\n",
       "#T_94647_row9_col0 {\n",
       "  background-color: #9e9ac8;\n",
       "  color: #f1f1f1;\n",
       "}\n",
       "#T_94647_row9_col1 {\n",
       "  background-color: #d4d4e8;\n",
       "  color: #000000;\n",
       "}\n",
       "#T_94647_row10_col0 {\n",
       "  background-color: #4b1687;\n",
       "  color: #f1f1f1;\n",
       "}\n",
       "#T_94647_row10_col1 {\n",
       "  background-color: #e6e5f1;\n",
       "  color: #000000;\n",
       "}\n",
       "#T_94647_row11_col1 {\n",
       "  background-color: #e9e8f2;\n",
       "  color: #000000;\n",
       "}\n",
       "#T_94647_row12_col0 {\n",
       "  background-color: #7d77b7;\n",
       "  color: #f1f1f1;\n",
       "}\n",
       "#T_94647_row12_col1 {\n",
       "  background-color: #eae9f3;\n",
       "  color: #000000;\n",
       "}\n",
       "#T_94647_row13_col1 {\n",
       "  background-color: #eeecf4;\n",
       "  color: #000000;\n",
       "}\n",
       "#T_94647_row14_col0 {\n",
       "  background-color: #63449d;\n",
       "  color: #f1f1f1;\n",
       "}\n",
       "</style>\n",
       "<table id=\"T_94647\">\n",
       "  <thead>\n",
       "    <tr>\n",
       "      <th class=\"blank level0\" >&nbsp;</th>\n",
       "      <th id=\"T_94647_level0_col0\" class=\"col_heading level0 col0\" >sdg</th>\n",
       "      <th id=\"T_94647_level0_col1\" class=\"col_heading level0 col1\" >text</th>\n",
       "    </tr>\n",
       "  </thead>\n",
       "  <tbody>\n",
       "    <tr>\n",
       "      <th id=\"T_94647_level0_row0\" class=\"row_heading level0 row0\" >4</th>\n",
       "      <td id=\"T_94647_row0_col0\" class=\"data row0 col0\" >5</td>\n",
       "      <td id=\"T_94647_row0_col1\" class=\"data row0 col1\" >3438</td>\n",
       "    </tr>\n",
       "    <tr>\n",
       "      <th id=\"T_94647_level0_row1\" class=\"row_heading level0 row1\" >3</th>\n",
       "      <td id=\"T_94647_row1_col0\" class=\"data row1 col0\" >4</td>\n",
       "      <td id=\"T_94647_row1_col1\" class=\"data row1 col1\" >2999</td>\n",
       "    </tr>\n",
       "    <tr>\n",
       "      <th id=\"T_94647_level0_row2\" class=\"row_heading level0 row2\" >6</th>\n",
       "      <td id=\"T_94647_row2_col0\" class=\"data row2 col0\" >7</td>\n",
       "      <td id=\"T_94647_row2_col1\" class=\"data row2 col1\" >2473</td>\n",
       "    </tr>\n",
       "    <tr>\n",
       "      <th id=\"T_94647_level0_row3\" class=\"row_heading level0 row3\" >5</th>\n",
       "      <td id=\"T_94647_row3_col0\" class=\"data row3 col0\" >6</td>\n",
       "      <td id=\"T_94647_row3_col1\" class=\"data row3 col1\" >2247</td>\n",
       "    </tr>\n",
       "    <tr>\n",
       "      <th id=\"T_94647_level0_row4\" class=\"row_heading level0 row4\" >0</th>\n",
       "      <td id=\"T_94647_row4_col0\" class=\"data row4 col0\" >1</td>\n",
       "      <td id=\"T_94647_row4_col1\" class=\"data row4 col1\" >2190</td>\n",
       "    </tr>\n",
       "    <tr>\n",
       "      <th id=\"T_94647_level0_row5\" class=\"row_heading level0 row5\" >2</th>\n",
       "      <td id=\"T_94647_row5_col0\" class=\"data row5 col0\" >3</td>\n",
       "      <td id=\"T_94647_row5_col1\" class=\"data row5 col1\" >2132</td>\n",
       "    </tr>\n",
       "    <tr>\n",
       "      <th id=\"T_94647_level0_row6\" class=\"row_heading level0 row6\" >1</th>\n",
       "      <td id=\"T_94647_row6_col0\" class=\"data row6 col0\" >2</td>\n",
       "      <td id=\"T_94647_row6_col1\" class=\"data row6 col1\" >1963</td>\n",
       "    </tr>\n",
       "    <tr>\n",
       "      <th id=\"T_94647_level0_row7\" class=\"row_heading level0 row7\" >10</th>\n",
       "      <td id=\"T_94647_row7_col0\" class=\"data row7 col0\" >11</td>\n",
       "      <td id=\"T_94647_row7_col1\" class=\"data row7 col1\" >1798</td>\n",
       "    </tr>\n",
       "    <tr>\n",
       "      <th id=\"T_94647_level0_row8\" class=\"row_heading level0 row8\" >12</th>\n",
       "      <td id=\"T_94647_row8_col0\" class=\"data row8 col0\" >13</td>\n",
       "      <td id=\"T_94647_row8_col1\" class=\"data row8 col1\" >1695</td>\n",
       "    </tr>\n",
       "    <tr>\n",
       "      <th id=\"T_94647_level0_row9\" class=\"row_heading level0 row9\" >7</th>\n",
       "      <td id=\"T_94647_row9_col0\" class=\"data row9 col0\" >8</td>\n",
       "      <td id=\"T_94647_row9_col1\" class=\"data row9 col1\" >1218</td>\n",
       "    </tr>\n",
       "    <tr>\n",
       "      <th id=\"T_94647_level0_row10\" class=\"row_heading level0 row10\" >13</th>\n",
       "      <td id=\"T_94647_row10_col0\" class=\"data row10 col0\" >14</td>\n",
       "      <td id=\"T_94647_row10_col1\" class=\"data row10 col1\" >917</td>\n",
       "    </tr>\n",
       "    <tr>\n",
       "      <th id=\"T_94647_level0_row11\" class=\"row_heading level0 row11\" >8</th>\n",
       "      <td id=\"T_94647_row11_col0\" class=\"data row11 col0\" >9</td>\n",
       "      <td id=\"T_94647_row11_col1\" class=\"data row11 col1\" >873</td>\n",
       "    </tr>\n",
       "    <tr>\n",
       "      <th id=\"T_94647_level0_row12\" class=\"row_heading level0 row12\" >9</th>\n",
       "      <td id=\"T_94647_row12_col0\" class=\"data row12 col0\" >10</td>\n",
       "      <td id=\"T_94647_row12_col1\" class=\"data row12 col1\" >843</td>\n",
       "    </tr>\n",
       "    <tr>\n",
       "      <th id=\"T_94647_level0_row13\" class=\"row_heading level0 row13\" >14</th>\n",
       "      <td id=\"T_94647_row13_col0\" class=\"data row13 col0\" >15</td>\n",
       "      <td id=\"T_94647_row13_col1\" class=\"data row13 col1\" >785</td>\n",
       "    </tr>\n",
       "    <tr>\n",
       "      <th id=\"T_94647_level0_row14\" class=\"row_heading level0 row14\" >11</th>\n",
       "      <td id=\"T_94647_row14_col0\" class=\"data row14 col0\" >12</td>\n",
       "      <td id=\"T_94647_row14_col1\" class=\"data row14 col1\" >373</td>\n",
       "    </tr>\n",
       "  </tbody>\n",
       "</table>\n"
      ],
      "text/plain": [
       "<pandas.io.formats.style.Styler at 0x1832af31750>"
      ]
     },
     "execution_count": 23,
     "metadata": {},
     "output_type": "execute_result"
    }
   ],
   "source": [
    "print(\"See distribution of messages per SDG : \")\n",
    "count = train.groupby(\"sdg\").count()[\"text\"].reset_index().sort_values(by=\"text\", ascending=False)\n",
    "count.style.background_gradient(cmap=\"Purples\")"
   ]
  },
  {
   "cell_type": "code",
   "execution_count": 24,
   "metadata": {},
   "outputs": [
    {
     "data": {
      "text/html": [
       "<div>\n",
       "<style scoped>\n",
       "    .dataframe tbody tr th:only-of-type {\n",
       "        vertical-align: middle;\n",
       "    }\n",
       "\n",
       "    .dataframe tbody tr th {\n",
       "        vertical-align: top;\n",
       "    }\n",
       "\n",
       "    .dataframe thead th {\n",
       "        text-align: right;\n",
       "    }\n",
       "</style>\n",
       "<table border=\"1\" class=\"dataframe\">\n",
       "  <thead>\n",
       "    <tr style=\"text-align: right;\">\n",
       "      <th></th>\n",
       "      <th>doi</th>\n",
       "      <th>text_id</th>\n",
       "      <th>text</th>\n",
       "      <th>sdg</th>\n",
       "      <th>labels_negative</th>\n",
       "      <th>labels_positive</th>\n",
       "      <th>agreement</th>\n",
       "      <th>id</th>\n",
       "      <th>SDG_Labels</th>\n",
       "    </tr>\n",
       "  </thead>\n",
       "  <tbody>\n",
       "    <tr>\n",
       "      <th>0</th>\n",
       "      <td>10.18356/5950d914-en</td>\n",
       "      <td>bf7763beb5ad7a16764d1b7fa87ab018</td>\n",
       "      <td>[indicator, target, data, available, globally,...</td>\n",
       "      <td>9</td>\n",
       "      <td>4</td>\n",
       "      <td>5</td>\n",
       "      <td>0.111111</td>\n",
       "      <td>1</td>\n",
       "      <td>Industry, Innovation and Infrustructure</td>\n",
       "    </tr>\n",
       "  </tbody>\n",
       "</table>\n",
       "</div>"
      ],
      "text/plain": [
       "                    doi                           text_id  \\\n",
       "0  10.18356/5950d914-en  bf7763beb5ad7a16764d1b7fa87ab018   \n",
       "\n",
       "                                                text  sdg  labels_negative  \\\n",
       "0  [indicator, target, data, available, globally,...    9                4   \n",
       "\n",
       "   labels_positive  agreement  id                               SDG_Labels  \n",
       "0                5   0.111111   1  Industry, Innovation and Infrustructure  "
      ]
     },
     "execution_count": 24,
     "metadata": {},
     "output_type": "execute_result"
    }
   ],
   "source": [
    "# Map the target variable name to their code for better understanding\n",
    "sdgLables = {1: \"No poverty\", 2: \"Zero Hunger\", 3: \"Good Health and well-being\", 4: \"Quality Education\", 5: \"Gender equality\", 6: \"Clean water and sanitation\", 7: \"Affordable and clean energy\", 9: \"Industry, Innovation and Infrustructure\", 8: \"Decent work and economic growth\",\n",
    "             10: \"Reduced Inequality\", 13: \"Climate Action\", 11: \"Sustainable cites and communities\", 12: \"Responsible consumption and production\", 14: \"life below water\", 15: \"Life on land\", 16: \"Peace , Justice and strong institutions\", 17: \"Partnership for the goals\"}\n",
    "train['SDG_Labels'] = train['sdg'].map(sdgLables)\n",
    "\n",
    "# Confirm the dataset\n",
    "train.head(1)\n"
   ]
  },
  {
   "cell_type": "code",
   "execution_count": 25,
   "metadata": {},
   "outputs": [
    {
     "name": "stdout",
     "output_type": "stream",
     "text": [
      "See distribution of messages per sdg : \n"
     ]
    },
    {
     "data": {
      "text/html": [
       "<style type=\"text/css\">\n",
       "#T_62ba3_row0_col1 {\n",
       "  background-color: #3f007d;\n",
       "  color: #f1f1f1;\n",
       "}\n",
       "#T_62ba3_row1_col1 {\n",
       "  background-color: #572c92;\n",
       "  color: #f1f1f1;\n",
       "}\n",
       "#T_62ba3_row2_col1 {\n",
       "  background-color: #7567af;\n",
       "  color: #f1f1f1;\n",
       "}\n",
       "#T_62ba3_row3_col1 {\n",
       "  background-color: #8380bb;\n",
       "  color: #f1f1f1;\n",
       "}\n",
       "#T_62ba3_row4_col1 {\n",
       "  background-color: #8885be;\n",
       "  color: #f1f1f1;\n",
       "}\n",
       "#T_62ba3_row5_col1 {\n",
       "  background-color: #8d89c0;\n",
       "  color: #f1f1f1;\n",
       "}\n",
       "#T_62ba3_row6_col1 {\n",
       "  background-color: #9a96c6;\n",
       "  color: #f1f1f1;\n",
       "}\n",
       "#T_62ba3_row7_col1 {\n",
       "  background-color: #a6a3cd;\n",
       "  color: #f1f1f1;\n",
       "}\n",
       "#T_62ba3_row8_col1 {\n",
       "  background-color: #aeadd3;\n",
       "  color: #000000;\n",
       "}\n",
       "#T_62ba3_row9_col1 {\n",
       "  background-color: #d4d4e8;\n",
       "  color: #000000;\n",
       "}\n",
       "#T_62ba3_row10_col1 {\n",
       "  background-color: #e6e5f1;\n",
       "  color: #000000;\n",
       "}\n",
       "#T_62ba3_row11_col1 {\n",
       "  background-color: #e9e8f2;\n",
       "  color: #000000;\n",
       "}\n",
       "#T_62ba3_row12_col1 {\n",
       "  background-color: #eae9f3;\n",
       "  color: #000000;\n",
       "}\n",
       "#T_62ba3_row13_col1 {\n",
       "  background-color: #eeecf4;\n",
       "  color: #000000;\n",
       "}\n",
       "#T_62ba3_row14_col1 {\n",
       "  background-color: #fcfbfd;\n",
       "  color: #000000;\n",
       "}\n",
       "</style>\n",
       "<table id=\"T_62ba3\">\n",
       "  <thead>\n",
       "    <tr>\n",
       "      <th class=\"blank level0\" >&nbsp;</th>\n",
       "      <th id=\"T_62ba3_level0_col0\" class=\"col_heading level0 col0\" >SDG_Labels</th>\n",
       "      <th id=\"T_62ba3_level0_col1\" class=\"col_heading level0 col1\" >text</th>\n",
       "    </tr>\n",
       "  </thead>\n",
       "  <tbody>\n",
       "    <tr>\n",
       "      <th id=\"T_62ba3_level0_row0\" class=\"row_heading level0 row0\" >4</th>\n",
       "      <td id=\"T_62ba3_row0_col0\" class=\"data row0 col0\" >Gender equality</td>\n",
       "      <td id=\"T_62ba3_row0_col1\" class=\"data row0 col1\" >3438</td>\n",
       "    </tr>\n",
       "    <tr>\n",
       "      <th id=\"T_62ba3_level0_row1\" class=\"row_heading level0 row1\" >9</th>\n",
       "      <td id=\"T_62ba3_row1_col0\" class=\"data row1 col0\" >Quality Education</td>\n",
       "      <td id=\"T_62ba3_row1_col1\" class=\"data row1 col1\" >2999</td>\n",
       "    </tr>\n",
       "    <tr>\n",
       "      <th id=\"T_62ba3_level0_row2\" class=\"row_heading level0 row2\" >0</th>\n",
       "      <td id=\"T_62ba3_row2_col0\" class=\"data row2 col0\" >Affordable and clean energy</td>\n",
       "      <td id=\"T_62ba3_row2_col1\" class=\"data row2 col1\" >2473</td>\n",
       "    </tr>\n",
       "    <tr>\n",
       "      <th id=\"T_62ba3_level0_row3\" class=\"row_heading level0 row3\" >1</th>\n",
       "      <td id=\"T_62ba3_row3_col0\" class=\"data row3 col0\" >Clean water and sanitation</td>\n",
       "      <td id=\"T_62ba3_row3_col1\" class=\"data row3 col1\" >2247</td>\n",
       "    </tr>\n",
       "    <tr>\n",
       "      <th id=\"T_62ba3_level0_row4\" class=\"row_heading level0 row4\" >8</th>\n",
       "      <td id=\"T_62ba3_row4_col0\" class=\"data row4 col0\" >No poverty</td>\n",
       "      <td id=\"T_62ba3_row4_col1\" class=\"data row4 col1\" >2190</td>\n",
       "    </tr>\n",
       "    <tr>\n",
       "      <th id=\"T_62ba3_level0_row5\" class=\"row_heading level0 row5\" >5</th>\n",
       "      <td id=\"T_62ba3_row5_col0\" class=\"data row5 col0\" >Good Health and well-being</td>\n",
       "      <td id=\"T_62ba3_row5_col1\" class=\"data row5 col1\" >2132</td>\n",
       "    </tr>\n",
       "    <tr>\n",
       "      <th id=\"T_62ba3_level0_row6\" class=\"row_heading level0 row6\" >13</th>\n",
       "      <td id=\"T_62ba3_row6_col0\" class=\"data row6 col0\" >Zero Hunger</td>\n",
       "      <td id=\"T_62ba3_row6_col1\" class=\"data row6 col1\" >1963</td>\n",
       "    </tr>\n",
       "    <tr>\n",
       "      <th id=\"T_62ba3_level0_row7\" class=\"row_heading level0 row7\" >12</th>\n",
       "      <td id=\"T_62ba3_row7_col0\" class=\"data row7 col0\" >Sustainable cites and communities</td>\n",
       "      <td id=\"T_62ba3_row7_col1\" class=\"data row7 col1\" >1798</td>\n",
       "    </tr>\n",
       "    <tr>\n",
       "      <th id=\"T_62ba3_level0_row8\" class=\"row_heading level0 row8\" >2</th>\n",
       "      <td id=\"T_62ba3_row8_col0\" class=\"data row8 col0\" >Climate Action</td>\n",
       "      <td id=\"T_62ba3_row8_col1\" class=\"data row8 col1\" >1695</td>\n",
       "    </tr>\n",
       "    <tr>\n",
       "      <th id=\"T_62ba3_level0_row9\" class=\"row_heading level0 row9\" >3</th>\n",
       "      <td id=\"T_62ba3_row9_col0\" class=\"data row9 col0\" >Decent work and economic growth</td>\n",
       "      <td id=\"T_62ba3_row9_col1\" class=\"data row9 col1\" >1218</td>\n",
       "    </tr>\n",
       "    <tr>\n",
       "      <th id=\"T_62ba3_level0_row10\" class=\"row_heading level0 row10\" >14</th>\n",
       "      <td id=\"T_62ba3_row10_col0\" class=\"data row10 col0\" >life below water</td>\n",
       "      <td id=\"T_62ba3_row10_col1\" class=\"data row10 col1\" >917</td>\n",
       "    </tr>\n",
       "    <tr>\n",
       "      <th id=\"T_62ba3_level0_row11\" class=\"row_heading level0 row11\" >6</th>\n",
       "      <td id=\"T_62ba3_row11_col0\" class=\"data row11 col0\" >Industry, Innovation and Infrustructure</td>\n",
       "      <td id=\"T_62ba3_row11_col1\" class=\"data row11 col1\" >873</td>\n",
       "    </tr>\n",
       "    <tr>\n",
       "      <th id=\"T_62ba3_level0_row12\" class=\"row_heading level0 row12\" >10</th>\n",
       "      <td id=\"T_62ba3_row12_col0\" class=\"data row12 col0\" >Reduced Inequality</td>\n",
       "      <td id=\"T_62ba3_row12_col1\" class=\"data row12 col1\" >843</td>\n",
       "    </tr>\n",
       "    <tr>\n",
       "      <th id=\"T_62ba3_level0_row13\" class=\"row_heading level0 row13\" >7</th>\n",
       "      <td id=\"T_62ba3_row13_col0\" class=\"data row13 col0\" >Life on land</td>\n",
       "      <td id=\"T_62ba3_row13_col1\" class=\"data row13 col1\" >785</td>\n",
       "    </tr>\n",
       "    <tr>\n",
       "      <th id=\"T_62ba3_level0_row14\" class=\"row_heading level0 row14\" >11</th>\n",
       "      <td id=\"T_62ba3_row14_col0\" class=\"data row14 col0\" >Responsible consumption and production</td>\n",
       "      <td id=\"T_62ba3_row14_col1\" class=\"data row14 col1\" >373</td>\n",
       "    </tr>\n",
       "  </tbody>\n",
       "</table>\n"
      ],
      "text/plain": [
       "<pandas.io.formats.style.Styler at 0x1832f647790>"
      ]
     },
     "execution_count": 25,
     "metadata": {},
     "output_type": "execute_result"
    }
   ],
   "source": [
    "#for a better visualisation let view by the lables\n",
    "print(\"See distribution of messages per sdg : \")\n",
    "count = train.groupby(\"SDG_Labels\").count()[\"text\"].reset_index().sort_values(by=\"text\", ascending=False)\n",
    "count.style.background_gradient(cmap=\"Purples\")"
   ]
  },
  {
   "cell_type": "code",
   "execution_count": 26,
   "metadata": {},
   "outputs": [
    {
     "data": {
      "application/vnd.plotly.v1+json": {
       "config": {
        "plotlyServerURL": "https://plot.ly"
       },
       "data": [
        {
         "alignmentgroup": "True",
         "hovertemplate": "SDG_Labels=%{x}<br>text=%{marker.color}<extra></extra>",
         "legendgroup": "",
         "marker": {
          "color": [
           3438,
           2999,
           2473,
           2247,
           2190,
           2132,
           1963,
           1798,
           1695,
           1218,
           917,
           873,
           843,
           785,
           373
          ],
          "coloraxis": "coloraxis",
          "pattern": {
           "shape": ""
          }
         },
         "name": "",
         "offsetgroup": "",
         "orientation": "v",
         "showlegend": false,
         "textposition": "auto",
         "type": "bar",
         "x": [
          "Gender equality",
          "Quality Education",
          "Affordable and clean energy",
          "Clean water and sanitation",
          "No poverty",
          "Good Health and well-being",
          "Zero Hunger",
          "Sustainable cites and communities",
          "Climate Action",
          "Decent work and economic growth",
          "life below water",
          "Industry, Innovation and Infrustructure",
          "Reduced Inequality",
          "Life on land",
          "Responsible consumption and production"
         ],
         "xaxis": "x",
         "y": [
          3438,
          2999,
          2473,
          2247,
          2190,
          2132,
          1963,
          1798,
          1695,
          1218,
          917,
          873,
          843,
          785,
          373
         ],
         "yaxis": "y"
        }
       ],
       "layout": {
        "barmode": "relative",
        "coloraxis": {
         "colorbar": {
          "title": {
           "text": "text"
          }
         },
         "colorscale": [
          [
           0,
           "#0d0887"
          ],
          [
           0.1111111111111111,
           "#46039f"
          ],
          [
           0.2222222222222222,
           "#7201a8"
          ],
          [
           0.3333333333333333,
           "#9c179e"
          ],
          [
           0.4444444444444444,
           "#bd3786"
          ],
          [
           0.5555555555555556,
           "#d8576b"
          ],
          [
           0.6666666666666666,
           "#ed7953"
          ],
          [
           0.7777777777777778,
           "#fb9f3a"
          ],
          [
           0.8888888888888888,
           "#fdca26"
          ],
          [
           1,
           "#f0f921"
          ]
         ]
        },
        "legend": {
         "tracegroupgap": 0
        },
        "template": {
         "data": {
          "bar": [
           {
            "error_x": {
             "color": "#2a3f5f"
            },
            "error_y": {
             "color": "#2a3f5f"
            },
            "marker": {
             "line": {
              "color": "white",
              "width": 0.5
             },
             "pattern": {
              "fillmode": "overlay",
              "size": 10,
              "solidity": 0.2
             }
            },
            "type": "bar"
           }
          ],
          "barpolar": [
           {
            "marker": {
             "line": {
              "color": "white",
              "width": 0.5
             },
             "pattern": {
              "fillmode": "overlay",
              "size": 10,
              "solidity": 0.2
             }
            },
            "type": "barpolar"
           }
          ],
          "carpet": [
           {
            "aaxis": {
             "endlinecolor": "#2a3f5f",
             "gridcolor": "#C8D4E3",
             "linecolor": "#C8D4E3",
             "minorgridcolor": "#C8D4E3",
             "startlinecolor": "#2a3f5f"
            },
            "baxis": {
             "endlinecolor": "#2a3f5f",
             "gridcolor": "#C8D4E3",
             "linecolor": "#C8D4E3",
             "minorgridcolor": "#C8D4E3",
             "startlinecolor": "#2a3f5f"
            },
            "type": "carpet"
           }
          ],
          "choropleth": [
           {
            "colorbar": {
             "outlinewidth": 0,
             "ticks": ""
            },
            "type": "choropleth"
           }
          ],
          "contour": [
           {
            "colorbar": {
             "outlinewidth": 0,
             "ticks": ""
            },
            "colorscale": [
             [
              0,
              "#0d0887"
             ],
             [
              0.1111111111111111,
              "#46039f"
             ],
             [
              0.2222222222222222,
              "#7201a8"
             ],
             [
              0.3333333333333333,
              "#9c179e"
             ],
             [
              0.4444444444444444,
              "#bd3786"
             ],
             [
              0.5555555555555556,
              "#d8576b"
             ],
             [
              0.6666666666666666,
              "#ed7953"
             ],
             [
              0.7777777777777778,
              "#fb9f3a"
             ],
             [
              0.8888888888888888,
              "#fdca26"
             ],
             [
              1,
              "#f0f921"
             ]
            ],
            "type": "contour"
           }
          ],
          "contourcarpet": [
           {
            "colorbar": {
             "outlinewidth": 0,
             "ticks": ""
            },
            "type": "contourcarpet"
           }
          ],
          "heatmap": [
           {
            "colorbar": {
             "outlinewidth": 0,
             "ticks": ""
            },
            "colorscale": [
             [
              0,
              "#0d0887"
             ],
             [
              0.1111111111111111,
              "#46039f"
             ],
             [
              0.2222222222222222,
              "#7201a8"
             ],
             [
              0.3333333333333333,
              "#9c179e"
             ],
             [
              0.4444444444444444,
              "#bd3786"
             ],
             [
              0.5555555555555556,
              "#d8576b"
             ],
             [
              0.6666666666666666,
              "#ed7953"
             ],
             [
              0.7777777777777778,
              "#fb9f3a"
             ],
             [
              0.8888888888888888,
              "#fdca26"
             ],
             [
              1,
              "#f0f921"
             ]
            ],
            "type": "heatmap"
           }
          ],
          "heatmapgl": [
           {
            "colorbar": {
             "outlinewidth": 0,
             "ticks": ""
            },
            "colorscale": [
             [
              0,
              "#0d0887"
             ],
             [
              0.1111111111111111,
              "#46039f"
             ],
             [
              0.2222222222222222,
              "#7201a8"
             ],
             [
              0.3333333333333333,
              "#9c179e"
             ],
             [
              0.4444444444444444,
              "#bd3786"
             ],
             [
              0.5555555555555556,
              "#d8576b"
             ],
             [
              0.6666666666666666,
              "#ed7953"
             ],
             [
              0.7777777777777778,
              "#fb9f3a"
             ],
             [
              0.8888888888888888,
              "#fdca26"
             ],
             [
              1,
              "#f0f921"
             ]
            ],
            "type": "heatmapgl"
           }
          ],
          "histogram": [
           {
            "marker": {
             "pattern": {
              "fillmode": "overlay",
              "size": 10,
              "solidity": 0.2
             }
            },
            "type": "histogram"
           }
          ],
          "histogram2d": [
           {
            "colorbar": {
             "outlinewidth": 0,
             "ticks": ""
            },
            "colorscale": [
             [
              0,
              "#0d0887"
             ],
             [
              0.1111111111111111,
              "#46039f"
             ],
             [
              0.2222222222222222,
              "#7201a8"
             ],
             [
              0.3333333333333333,
              "#9c179e"
             ],
             [
              0.4444444444444444,
              "#bd3786"
             ],
             [
              0.5555555555555556,
              "#d8576b"
             ],
             [
              0.6666666666666666,
              "#ed7953"
             ],
             [
              0.7777777777777778,
              "#fb9f3a"
             ],
             [
              0.8888888888888888,
              "#fdca26"
             ],
             [
              1,
              "#f0f921"
             ]
            ],
            "type": "histogram2d"
           }
          ],
          "histogram2dcontour": [
           {
            "colorbar": {
             "outlinewidth": 0,
             "ticks": ""
            },
            "colorscale": [
             [
              0,
              "#0d0887"
             ],
             [
              0.1111111111111111,
              "#46039f"
             ],
             [
              0.2222222222222222,
              "#7201a8"
             ],
             [
              0.3333333333333333,
              "#9c179e"
             ],
             [
              0.4444444444444444,
              "#bd3786"
             ],
             [
              0.5555555555555556,
              "#d8576b"
             ],
             [
              0.6666666666666666,
              "#ed7953"
             ],
             [
              0.7777777777777778,
              "#fb9f3a"
             ],
             [
              0.8888888888888888,
              "#fdca26"
             ],
             [
              1,
              "#f0f921"
             ]
            ],
            "type": "histogram2dcontour"
           }
          ],
          "mesh3d": [
           {
            "colorbar": {
             "outlinewidth": 0,
             "ticks": ""
            },
            "type": "mesh3d"
           }
          ],
          "parcoords": [
           {
            "line": {
             "colorbar": {
              "outlinewidth": 0,
              "ticks": ""
             }
            },
            "type": "parcoords"
           }
          ],
          "pie": [
           {
            "automargin": true,
            "type": "pie"
           }
          ],
          "scatter": [
           {
            "marker": {
             "colorbar": {
              "outlinewidth": 0,
              "ticks": ""
             }
            },
            "type": "scatter"
           }
          ],
          "scatter3d": [
           {
            "line": {
             "colorbar": {
              "outlinewidth": 0,
              "ticks": ""
             }
            },
            "marker": {
             "colorbar": {
              "outlinewidth": 0,
              "ticks": ""
             }
            },
            "type": "scatter3d"
           }
          ],
          "scattercarpet": [
           {
            "marker": {
             "colorbar": {
              "outlinewidth": 0,
              "ticks": ""
             }
            },
            "type": "scattercarpet"
           }
          ],
          "scattergeo": [
           {
            "marker": {
             "colorbar": {
              "outlinewidth": 0,
              "ticks": ""
             }
            },
            "type": "scattergeo"
           }
          ],
          "scattergl": [
           {
            "marker": {
             "colorbar": {
              "outlinewidth": 0,
              "ticks": ""
             }
            },
            "type": "scattergl"
           }
          ],
          "scattermapbox": [
           {
            "marker": {
             "colorbar": {
              "outlinewidth": 0,
              "ticks": ""
             }
            },
            "type": "scattermapbox"
           }
          ],
          "scatterpolar": [
           {
            "marker": {
             "colorbar": {
              "outlinewidth": 0,
              "ticks": ""
             }
            },
            "type": "scatterpolar"
           }
          ],
          "scatterpolargl": [
           {
            "marker": {
             "colorbar": {
              "outlinewidth": 0,
              "ticks": ""
             }
            },
            "type": "scatterpolargl"
           }
          ],
          "scatterternary": [
           {
            "marker": {
             "colorbar": {
              "outlinewidth": 0,
              "ticks": ""
             }
            },
            "type": "scatterternary"
           }
          ],
          "surface": [
           {
            "colorbar": {
             "outlinewidth": 0,
             "ticks": ""
            },
            "colorscale": [
             [
              0,
              "#0d0887"
             ],
             [
              0.1111111111111111,
              "#46039f"
             ],
             [
              0.2222222222222222,
              "#7201a8"
             ],
             [
              0.3333333333333333,
              "#9c179e"
             ],
             [
              0.4444444444444444,
              "#bd3786"
             ],
             [
              0.5555555555555556,
              "#d8576b"
             ],
             [
              0.6666666666666666,
              "#ed7953"
             ],
             [
              0.7777777777777778,
              "#fb9f3a"
             ],
             [
              0.8888888888888888,
              "#fdca26"
             ],
             [
              1,
              "#f0f921"
             ]
            ],
            "type": "surface"
           }
          ],
          "table": [
           {
            "cells": {
             "fill": {
              "color": "#EBF0F8"
             },
             "line": {
              "color": "white"
             }
            },
            "header": {
             "fill": {
              "color": "#C8D4E3"
             },
             "line": {
              "color": "white"
             }
            },
            "type": "table"
           }
          ]
         },
         "layout": {
          "annotationdefaults": {
           "arrowcolor": "#2a3f5f",
           "arrowhead": 0,
           "arrowwidth": 1
          },
          "autotypenumbers": "strict",
          "coloraxis": {
           "colorbar": {
            "outlinewidth": 0,
            "ticks": ""
           }
          },
          "colorscale": {
           "diverging": [
            [
             0,
             "#8e0152"
            ],
            [
             0.1,
             "#c51b7d"
            ],
            [
             0.2,
             "#de77ae"
            ],
            [
             0.3,
             "#f1b6da"
            ],
            [
             0.4,
             "#fde0ef"
            ],
            [
             0.5,
             "#f7f7f7"
            ],
            [
             0.6,
             "#e6f5d0"
            ],
            [
             0.7,
             "#b8e186"
            ],
            [
             0.8,
             "#7fbc41"
            ],
            [
             0.9,
             "#4d9221"
            ],
            [
             1,
             "#276419"
            ]
           ],
           "sequential": [
            [
             0,
             "#0d0887"
            ],
            [
             0.1111111111111111,
             "#46039f"
            ],
            [
             0.2222222222222222,
             "#7201a8"
            ],
            [
             0.3333333333333333,
             "#9c179e"
            ],
            [
             0.4444444444444444,
             "#bd3786"
            ],
            [
             0.5555555555555556,
             "#d8576b"
            ],
            [
             0.6666666666666666,
             "#ed7953"
            ],
            [
             0.7777777777777778,
             "#fb9f3a"
            ],
            [
             0.8888888888888888,
             "#fdca26"
            ],
            [
             1,
             "#f0f921"
            ]
           ],
           "sequentialminus": [
            [
             0,
             "#0d0887"
            ],
            [
             0.1111111111111111,
             "#46039f"
            ],
            [
             0.2222222222222222,
             "#7201a8"
            ],
            [
             0.3333333333333333,
             "#9c179e"
            ],
            [
             0.4444444444444444,
             "#bd3786"
            ],
            [
             0.5555555555555556,
             "#d8576b"
            ],
            [
             0.6666666666666666,
             "#ed7953"
            ],
            [
             0.7777777777777778,
             "#fb9f3a"
            ],
            [
             0.8888888888888888,
             "#fdca26"
            ],
            [
             1,
             "#f0f921"
            ]
           ]
          },
          "colorway": [
           "#636efa",
           "#EF553B",
           "#00cc96",
           "#ab63fa",
           "#FFA15A",
           "#19d3f3",
           "#FF6692",
           "#B6E880",
           "#FF97FF",
           "#FECB52"
          ],
          "font": {
           "color": "#2a3f5f"
          },
          "geo": {
           "bgcolor": "white",
           "lakecolor": "white",
           "landcolor": "white",
           "showlakes": true,
           "showland": true,
           "subunitcolor": "#C8D4E3"
          },
          "hoverlabel": {
           "align": "left"
          },
          "hovermode": "closest",
          "mapbox": {
           "style": "light"
          },
          "paper_bgcolor": "white",
          "plot_bgcolor": "white",
          "polar": {
           "angularaxis": {
            "gridcolor": "#EBF0F8",
            "linecolor": "#EBF0F8",
            "ticks": ""
           },
           "bgcolor": "white",
           "radialaxis": {
            "gridcolor": "#EBF0F8",
            "linecolor": "#EBF0F8",
            "ticks": ""
           }
          },
          "scene": {
           "xaxis": {
            "backgroundcolor": "white",
            "gridcolor": "#DFE8F3",
            "gridwidth": 2,
            "linecolor": "#EBF0F8",
            "showbackground": true,
            "ticks": "",
            "zerolinecolor": "#EBF0F8"
           },
           "yaxis": {
            "backgroundcolor": "white",
            "gridcolor": "#DFE8F3",
            "gridwidth": 2,
            "linecolor": "#EBF0F8",
            "showbackground": true,
            "ticks": "",
            "zerolinecolor": "#EBF0F8"
           },
           "zaxis": {
            "backgroundcolor": "white",
            "gridcolor": "#DFE8F3",
            "gridwidth": 2,
            "linecolor": "#EBF0F8",
            "showbackground": true,
            "ticks": "",
            "zerolinecolor": "#EBF0F8"
           }
          },
          "shapedefaults": {
           "line": {
            "color": "#2a3f5f"
           }
          },
          "ternary": {
           "aaxis": {
            "gridcolor": "#DFE8F3",
            "linecolor": "#A2B1C6",
            "ticks": ""
           },
           "baxis": {
            "gridcolor": "#DFE8F3",
            "linecolor": "#A2B1C6",
            "ticks": ""
           },
           "bgcolor": "white",
           "caxis": {
            "gridcolor": "#DFE8F3",
            "linecolor": "#A2B1C6",
            "ticks": ""
           }
          },
          "title": {
           "x": 0.05
          },
          "xaxis": {
           "automargin": true,
           "gridcolor": "#EBF0F8",
           "linecolor": "#EBF0F8",
           "ticks": "",
           "title": {
            "standoff": 15
           },
           "zerolinecolor": "#EBF0F8",
           "zerolinewidth": 2
          },
          "yaxis": {
           "automargin": true,
           "gridcolor": "#EBF0F8",
           "linecolor": "#EBF0F8",
           "ticks": "",
           "title": {
            "standoff": 15
           },
           "zerolinecolor": "#EBF0F8",
           "zerolinewidth": 2
          }
         }
        },
        "title": {
         "text": "Top SDG in the Text column"
        },
        "xaxis": {
         "anchor": "y",
         "categoryorder": "total ascending",
         "domain": [
          0,
          1
         ],
         "title": {
          "text": "SDG_Labels"
         }
        },
        "yaxis": {
         "anchor": "x",
         "domain": [
          0,
          1
         ],
         "title": {
          "text": "text"
         }
        }
       }
      }
     },
     "metadata": {},
     "output_type": "display_data"
    }
   ],
   "source": [
    "fig = px.bar(count, x='SDG_Labels', y=\"text\", color='text', title='Top SDG in the Text column',\n",
    "             template='plotly_white', labels={'ngram': 'Bigram', 'count': 'text'}).update_xaxes(categoryorder='total ascending')\n",
    "fig.show()"
   ]
  },
  {
   "cell_type": "code",
   "execution_count": 27,
   "metadata": {},
   "outputs": [
    {
     "data": {
      "application/vnd.plotly.v1+json": {
       "config": {
        "plotlyServerURL": "https://plot.ly"
       },
       "data": [
        {
         "branchvalues": "total",
         "customdata": [
          [
           2473
          ],
          [
           2247
          ],
          [
           1695
          ],
          [
           1218
          ],
          [
           3438
          ],
          [
           2132
          ],
          [
           873
          ],
          [
           785
          ],
          [
           2190
          ],
          [
           2999
          ],
          [
           843
          ],
          [
           373
          ],
          [
           1798
          ],
          [
           1963
          ],
          [
           917
          ]
         ],
         "domain": {
          "x": [
           0,
           1
          ],
          "y": [
           0,
           1
          ]
         },
         "hovertemplate": "labels=%{label}<br>text_sum=%{value}<br>parent=%{parent}<br>id=%{id}<br>text=%{color}<extra></extra>",
         "ids": [
          "Affordable and clean energy",
          "Clean water and sanitation",
          "Climate Action",
          "Decent work and economic growth",
          "Gender equality",
          "Good Health and well-being",
          "Industry, Innovation and Infrustructure",
          "Life on land",
          "No poverty",
          "Quality Education",
          "Reduced Inequality",
          "Responsible consumption and production",
          "Sustainable cites and communities",
          "Zero Hunger",
          "life below water"
         ],
         "labels": [
          "Affordable and clean energy",
          "Clean water and sanitation",
          "Climate Action",
          "Decent work and economic growth",
          "Gender equality",
          "Good Health and well-being",
          "Industry, Innovation and Infrustructure",
          "Life on land",
          "No poverty",
          "Quality Education",
          "Reduced Inequality",
          "Responsible consumption and production",
          "Sustainable cites and communities",
          "Zero Hunger",
          "life below water"
         ],
         "marker": {
          "coloraxis": "coloraxis",
          "colors": [
           2473,
           2247,
           1695,
           1218,
           3438,
           2132,
           873,
           785,
           2190,
           2999,
           843,
           373,
           1798,
           1963,
           917
          ]
         },
         "name": "",
         "parents": [
          "",
          "",
          "",
          "",
          "",
          "",
          "",
          "",
          "",
          "",
          "",
          "",
          "",
          "",
          ""
         ],
         "type": "treemap",
         "values": [
          2473,
          2247,
          1695,
          1218,
          3438,
          2132,
          873,
          785,
          2190,
          2999,
          843,
          373,
          1798,
          1963,
          917
         ]
        }
       ],
       "layout": {
        "coloraxis": {
         "colorbar": {
          "title": {
           "text": "text"
          }
         },
         "colorscale": [
          [
           0,
           "#0d0887"
          ],
          [
           0.1111111111111111,
           "#46039f"
          ],
          [
           0.2222222222222222,
           "#7201a8"
          ],
          [
           0.3333333333333333,
           "#9c179e"
          ],
          [
           0.4444444444444444,
           "#bd3786"
          ],
          [
           0.5555555555555556,
           "#d8576b"
          ],
          [
           0.6666666666666666,
           "#ed7953"
          ],
          [
           0.7777777777777778,
           "#fb9f3a"
          ],
          [
           0.8888888888888888,
           "#fdca26"
          ],
          [
           1,
           "#f0f921"
          ]
         ]
        },
        "legend": {
         "tracegroupgap": 0
        },
        "template": {
         "data": {
          "bar": [
           {
            "error_x": {
             "color": "#2a3f5f"
            },
            "error_y": {
             "color": "#2a3f5f"
            },
            "marker": {
             "line": {
              "color": "#E5ECF6",
              "width": 0.5
             },
             "pattern": {
              "fillmode": "overlay",
              "size": 10,
              "solidity": 0.2
             }
            },
            "type": "bar"
           }
          ],
          "barpolar": [
           {
            "marker": {
             "line": {
              "color": "#E5ECF6",
              "width": 0.5
             },
             "pattern": {
              "fillmode": "overlay",
              "size": 10,
              "solidity": 0.2
             }
            },
            "type": "barpolar"
           }
          ],
          "carpet": [
           {
            "aaxis": {
             "endlinecolor": "#2a3f5f",
             "gridcolor": "white",
             "linecolor": "white",
             "minorgridcolor": "white",
             "startlinecolor": "#2a3f5f"
            },
            "baxis": {
             "endlinecolor": "#2a3f5f",
             "gridcolor": "white",
             "linecolor": "white",
             "minorgridcolor": "white",
             "startlinecolor": "#2a3f5f"
            },
            "type": "carpet"
           }
          ],
          "choropleth": [
           {
            "colorbar": {
             "outlinewidth": 0,
             "ticks": ""
            },
            "type": "choropleth"
           }
          ],
          "contour": [
           {
            "colorbar": {
             "outlinewidth": 0,
             "ticks": ""
            },
            "colorscale": [
             [
              0,
              "#0d0887"
             ],
             [
              0.1111111111111111,
              "#46039f"
             ],
             [
              0.2222222222222222,
              "#7201a8"
             ],
             [
              0.3333333333333333,
              "#9c179e"
             ],
             [
              0.4444444444444444,
              "#bd3786"
             ],
             [
              0.5555555555555556,
              "#d8576b"
             ],
             [
              0.6666666666666666,
              "#ed7953"
             ],
             [
              0.7777777777777778,
              "#fb9f3a"
             ],
             [
              0.8888888888888888,
              "#fdca26"
             ],
             [
              1,
              "#f0f921"
             ]
            ],
            "type": "contour"
           }
          ],
          "contourcarpet": [
           {
            "colorbar": {
             "outlinewidth": 0,
             "ticks": ""
            },
            "type": "contourcarpet"
           }
          ],
          "heatmap": [
           {
            "colorbar": {
             "outlinewidth": 0,
             "ticks": ""
            },
            "colorscale": [
             [
              0,
              "#0d0887"
             ],
             [
              0.1111111111111111,
              "#46039f"
             ],
             [
              0.2222222222222222,
              "#7201a8"
             ],
             [
              0.3333333333333333,
              "#9c179e"
             ],
             [
              0.4444444444444444,
              "#bd3786"
             ],
             [
              0.5555555555555556,
              "#d8576b"
             ],
             [
              0.6666666666666666,
              "#ed7953"
             ],
             [
              0.7777777777777778,
              "#fb9f3a"
             ],
             [
              0.8888888888888888,
              "#fdca26"
             ],
             [
              1,
              "#f0f921"
             ]
            ],
            "type": "heatmap"
           }
          ],
          "heatmapgl": [
           {
            "colorbar": {
             "outlinewidth": 0,
             "ticks": ""
            },
            "colorscale": [
             [
              0,
              "#0d0887"
             ],
             [
              0.1111111111111111,
              "#46039f"
             ],
             [
              0.2222222222222222,
              "#7201a8"
             ],
             [
              0.3333333333333333,
              "#9c179e"
             ],
             [
              0.4444444444444444,
              "#bd3786"
             ],
             [
              0.5555555555555556,
              "#d8576b"
             ],
             [
              0.6666666666666666,
              "#ed7953"
             ],
             [
              0.7777777777777778,
              "#fb9f3a"
             ],
             [
              0.8888888888888888,
              "#fdca26"
             ],
             [
              1,
              "#f0f921"
             ]
            ],
            "type": "heatmapgl"
           }
          ],
          "histogram": [
           {
            "marker": {
             "pattern": {
              "fillmode": "overlay",
              "size": 10,
              "solidity": 0.2
             }
            },
            "type": "histogram"
           }
          ],
          "histogram2d": [
           {
            "colorbar": {
             "outlinewidth": 0,
             "ticks": ""
            },
            "colorscale": [
             [
              0,
              "#0d0887"
             ],
             [
              0.1111111111111111,
              "#46039f"
             ],
             [
              0.2222222222222222,
              "#7201a8"
             ],
             [
              0.3333333333333333,
              "#9c179e"
             ],
             [
              0.4444444444444444,
              "#bd3786"
             ],
             [
              0.5555555555555556,
              "#d8576b"
             ],
             [
              0.6666666666666666,
              "#ed7953"
             ],
             [
              0.7777777777777778,
              "#fb9f3a"
             ],
             [
              0.8888888888888888,
              "#fdca26"
             ],
             [
              1,
              "#f0f921"
             ]
            ],
            "type": "histogram2d"
           }
          ],
          "histogram2dcontour": [
           {
            "colorbar": {
             "outlinewidth": 0,
             "ticks": ""
            },
            "colorscale": [
             [
              0,
              "#0d0887"
             ],
             [
              0.1111111111111111,
              "#46039f"
             ],
             [
              0.2222222222222222,
              "#7201a8"
             ],
             [
              0.3333333333333333,
              "#9c179e"
             ],
             [
              0.4444444444444444,
              "#bd3786"
             ],
             [
              0.5555555555555556,
              "#d8576b"
             ],
             [
              0.6666666666666666,
              "#ed7953"
             ],
             [
              0.7777777777777778,
              "#fb9f3a"
             ],
             [
              0.8888888888888888,
              "#fdca26"
             ],
             [
              1,
              "#f0f921"
             ]
            ],
            "type": "histogram2dcontour"
           }
          ],
          "mesh3d": [
           {
            "colorbar": {
             "outlinewidth": 0,
             "ticks": ""
            },
            "type": "mesh3d"
           }
          ],
          "parcoords": [
           {
            "line": {
             "colorbar": {
              "outlinewidth": 0,
              "ticks": ""
             }
            },
            "type": "parcoords"
           }
          ],
          "pie": [
           {
            "automargin": true,
            "type": "pie"
           }
          ],
          "scatter": [
           {
            "marker": {
             "colorbar": {
              "outlinewidth": 0,
              "ticks": ""
             }
            },
            "type": "scatter"
           }
          ],
          "scatter3d": [
           {
            "line": {
             "colorbar": {
              "outlinewidth": 0,
              "ticks": ""
             }
            },
            "marker": {
             "colorbar": {
              "outlinewidth": 0,
              "ticks": ""
             }
            },
            "type": "scatter3d"
           }
          ],
          "scattercarpet": [
           {
            "marker": {
             "colorbar": {
              "outlinewidth": 0,
              "ticks": ""
             }
            },
            "type": "scattercarpet"
           }
          ],
          "scattergeo": [
           {
            "marker": {
             "colorbar": {
              "outlinewidth": 0,
              "ticks": ""
             }
            },
            "type": "scattergeo"
           }
          ],
          "scattergl": [
           {
            "marker": {
             "colorbar": {
              "outlinewidth": 0,
              "ticks": ""
             }
            },
            "type": "scattergl"
           }
          ],
          "scattermapbox": [
           {
            "marker": {
             "colorbar": {
              "outlinewidth": 0,
              "ticks": ""
             }
            },
            "type": "scattermapbox"
           }
          ],
          "scatterpolar": [
           {
            "marker": {
             "colorbar": {
              "outlinewidth": 0,
              "ticks": ""
             }
            },
            "type": "scatterpolar"
           }
          ],
          "scatterpolargl": [
           {
            "marker": {
             "colorbar": {
              "outlinewidth": 0,
              "ticks": ""
             }
            },
            "type": "scatterpolargl"
           }
          ],
          "scatterternary": [
           {
            "marker": {
             "colorbar": {
              "outlinewidth": 0,
              "ticks": ""
             }
            },
            "type": "scatterternary"
           }
          ],
          "surface": [
           {
            "colorbar": {
             "outlinewidth": 0,
             "ticks": ""
            },
            "colorscale": [
             [
              0,
              "#0d0887"
             ],
             [
              0.1111111111111111,
              "#46039f"
             ],
             [
              0.2222222222222222,
              "#7201a8"
             ],
             [
              0.3333333333333333,
              "#9c179e"
             ],
             [
              0.4444444444444444,
              "#bd3786"
             ],
             [
              0.5555555555555556,
              "#d8576b"
             ],
             [
              0.6666666666666666,
              "#ed7953"
             ],
             [
              0.7777777777777778,
              "#fb9f3a"
             ],
             [
              0.8888888888888888,
              "#fdca26"
             ],
             [
              1,
              "#f0f921"
             ]
            ],
            "type": "surface"
           }
          ],
          "table": [
           {
            "cells": {
             "fill": {
              "color": "#EBF0F8"
             },
             "line": {
              "color": "white"
             }
            },
            "header": {
             "fill": {
              "color": "#C8D4E3"
             },
             "line": {
              "color": "white"
             }
            },
            "type": "table"
           }
          ]
         },
         "layout": {
          "annotationdefaults": {
           "arrowcolor": "#2a3f5f",
           "arrowhead": 0,
           "arrowwidth": 1
          },
          "autotypenumbers": "strict",
          "coloraxis": {
           "colorbar": {
            "outlinewidth": 0,
            "ticks": ""
           }
          },
          "colorscale": {
           "diverging": [
            [
             0,
             "#8e0152"
            ],
            [
             0.1,
             "#c51b7d"
            ],
            [
             0.2,
             "#de77ae"
            ],
            [
             0.3,
             "#f1b6da"
            ],
            [
             0.4,
             "#fde0ef"
            ],
            [
             0.5,
             "#f7f7f7"
            ],
            [
             0.6,
             "#e6f5d0"
            ],
            [
             0.7,
             "#b8e186"
            ],
            [
             0.8,
             "#7fbc41"
            ],
            [
             0.9,
             "#4d9221"
            ],
            [
             1,
             "#276419"
            ]
           ],
           "sequential": [
            [
             0,
             "#0d0887"
            ],
            [
             0.1111111111111111,
             "#46039f"
            ],
            [
             0.2222222222222222,
             "#7201a8"
            ],
            [
             0.3333333333333333,
             "#9c179e"
            ],
            [
             0.4444444444444444,
             "#bd3786"
            ],
            [
             0.5555555555555556,
             "#d8576b"
            ],
            [
             0.6666666666666666,
             "#ed7953"
            ],
            [
             0.7777777777777778,
             "#fb9f3a"
            ],
            [
             0.8888888888888888,
             "#fdca26"
            ],
            [
             1,
             "#f0f921"
            ]
           ],
           "sequentialminus": [
            [
             0,
             "#0d0887"
            ],
            [
             0.1111111111111111,
             "#46039f"
            ],
            [
             0.2222222222222222,
             "#7201a8"
            ],
            [
             0.3333333333333333,
             "#9c179e"
            ],
            [
             0.4444444444444444,
             "#bd3786"
            ],
            [
             0.5555555555555556,
             "#d8576b"
            ],
            [
             0.6666666666666666,
             "#ed7953"
            ],
            [
             0.7777777777777778,
             "#fb9f3a"
            ],
            [
             0.8888888888888888,
             "#fdca26"
            ],
            [
             1,
             "#f0f921"
            ]
           ]
          },
          "colorway": [
           "#636efa",
           "#EF553B",
           "#00cc96",
           "#ab63fa",
           "#FFA15A",
           "#19d3f3",
           "#FF6692",
           "#B6E880",
           "#FF97FF",
           "#FECB52"
          ],
          "font": {
           "color": "#2a3f5f"
          },
          "geo": {
           "bgcolor": "white",
           "lakecolor": "white",
           "landcolor": "#E5ECF6",
           "showlakes": true,
           "showland": true,
           "subunitcolor": "white"
          },
          "hoverlabel": {
           "align": "left"
          },
          "hovermode": "closest",
          "mapbox": {
           "style": "light"
          },
          "paper_bgcolor": "white",
          "plot_bgcolor": "#E5ECF6",
          "polar": {
           "angularaxis": {
            "gridcolor": "white",
            "linecolor": "white",
            "ticks": ""
           },
           "bgcolor": "#E5ECF6",
           "radialaxis": {
            "gridcolor": "white",
            "linecolor": "white",
            "ticks": ""
           }
          },
          "scene": {
           "xaxis": {
            "backgroundcolor": "#E5ECF6",
            "gridcolor": "white",
            "gridwidth": 2,
            "linecolor": "white",
            "showbackground": true,
            "ticks": "",
            "zerolinecolor": "white"
           },
           "yaxis": {
            "backgroundcolor": "#E5ECF6",
            "gridcolor": "white",
            "gridwidth": 2,
            "linecolor": "white",
            "showbackground": true,
            "ticks": "",
            "zerolinecolor": "white"
           },
           "zaxis": {
            "backgroundcolor": "#E5ECF6",
            "gridcolor": "white",
            "gridwidth": 2,
            "linecolor": "white",
            "showbackground": true,
            "ticks": "",
            "zerolinecolor": "white"
           }
          },
          "shapedefaults": {
           "line": {
            "color": "#2a3f5f"
           }
          },
          "ternary": {
           "aaxis": {
            "gridcolor": "white",
            "linecolor": "white",
            "ticks": ""
           },
           "baxis": {
            "gridcolor": "white",
            "linecolor": "white",
            "ticks": ""
           },
           "bgcolor": "#E5ECF6",
           "caxis": {
            "gridcolor": "white",
            "linecolor": "white",
            "ticks": ""
           }
          },
          "title": {
           "x": 0.05
          },
          "xaxis": {
           "automargin": true,
           "gridcolor": "white",
           "linecolor": "white",
           "ticks": "",
           "title": {
            "standoff": 15
           },
           "zerolinecolor": "white",
           "zerolinewidth": 2
          },
          "yaxis": {
           "automargin": true,
           "gridcolor": "white",
           "linecolor": "white",
           "ticks": "",
           "title": {
            "standoff": 15
           },
           "zerolinecolor": "white",
           "zerolinewidth": 2
          }
         }
        },
        "title": {
         "text": "Treemap chart by Top SDG in the Text column"
        }
       }
      }
     },
     "metadata": {},
     "output_type": "display_data"
    }
   ],
   "source": [
    "fig = px.treemap(count, path=['SDG_Labels'],title='Treemap chart by Top SDG in the Text column',\n",
    "                 values='text', color= \"text\")\n",
    "fig.show()"
   ]
  },
  {
   "cell_type": "markdown",
   "metadata": {},
   "source": [
    "#### Observations\n",
    "\n",
    "type here"
   ]
  },
  {
   "cell_type": "code",
   "execution_count": 28,
   "metadata": {},
   "outputs": [],
   "source": [
    "def sdglabler(train):\n",
    "    sdgLables = {1: \"No poverty\", 2: \"Zero Hunger\", 3: \"Good Health and well-being\", 4: \"Quality Education\", 5: \"Gender equality\", 6: \"Clean water and sanitation\", 7: \"Affordable and clean energy\", 9: \"Industry, Innovation and Infrustructure\", 8: \"Decent work and economic growth\",\n",
    "                 10: \"Reduced Inequality\", 13: \"Climate Action\", 11: \"Sustainable cites and communities\", 12: \"Responsible consumption and production\", 14: \"life below water\", 15: \"Life on land\", 16: \"Peace , Justice and strong institutions\", 17: \"Partnership for the goals\"}\n",
    "    train['SDG_Labels'] = train['sdg'].map(sdgLables)\n",
    "\n",
    "\n",
    "# creating a sdg_map\n",
    "sdg_dict = {'No poverty': 1, 'Zero Hunger': 2, 'Good Health and well-being': 3, 'Quality Education': 4, 'Gender equality': 5, 'Clean water and sanitation': 6, 'Affordable and clean energy': 7, 'Industry, Innovation and Infrustructure': 9,\n",
    "            'Decent work and economic growth': 8, 'Reduced Inequality': 10, 'Climate Action': 13, 'Sustainable cites and communities': 11, 'Responsible consumption and production': 12, 'life below water': 14, 'Life on land': 15}\n"
   ]
  },
  {
   "cell_type": "code",
   "execution_count": 29,
   "metadata": {},
   "outputs": [],
   "source": [
    "train_df = train.copy()\n",
    "train_df['text'] = train_df.text.apply(lambda x: ' '.join([str(i) for i in x])) #code to change from list to string"
   ]
  },
  {
   "cell_type": "markdown",
   "id": "1ccd5ed5",
   "metadata": {},
   "source": [
    "###   Countries involved in Climate Change"
   ]
  },
  {
   "cell_type": "markdown",
   "id": "b2b9e024",
   "metadata": {},
   "source": [
    "Part of our exploration involved finding out the countries involved in climate change from our text data. To acheive that, we had to extract the countries information from each texts by defining a list of countries, extracting the countries from the text using `cleaning_country` function and creating a plot to visualize the frequency those countries extract using `country_plot` function."
   ]
  },
  {
   "cell_type": "code",
   "execution_count": 30,
   "id": "6aa87309",
   "metadata": {},
   "outputs": [],
   "source": [
    "country_list = []\n",
    "for country in pycountry.countries:\n",
    "    country_list.append(country.name)"
   ]
  },
  {
   "cell_type": "code",
   "execution_count": 31,
   "id": "b17c909e",
   "metadata": {},
   "outputs": [],
   "source": [
    "country_list = list(map(lambda x: x.lower(),country_list))"
   ]
  },
  {
   "cell_type": "code",
   "execution_count": 32,
   "id": "b808b4e8",
   "metadata": {},
   "outputs": [],
   "source": [
    "def cleaning_country(text):\n",
    "    \"\"\"\n",
    "    This function helps to extract a country from each of the text and returns the country\n",
    "    \"\"\"\n",
    "    rem_punct = re.sub(r'[^a-zA-Z ]', '', text)\n",
    "    word_split = rem_punct.lower().split()\n",
    "    country_set = set(country_list)\n",
    "    country_ext = ' '.join([t for t in word_split if t in country_set])\n",
    "    return country_ext\n",
    "\n",
    "# Implementation of the text above\n",
    "train_df['country'] = train_df.text.apply(cleaning_country)\n"
   ]
  },
  {
   "cell_type": "code",
   "execution_count": 33,
   "id": "f45fa296",
   "metadata": {
    "scrolled": false
   },
   "outputs": [
    {
     "data": {
      "application/vnd.jupyter.widget-view+json": {
       "model_id": "58cd55fb797042d18792cba1f65c7035",
       "version_major": 2,
       "version_minor": 0
      },
      "text/plain": [
       "interactive(children=(IntSlider(value=10, description='Frequency', max=20, min=1), Dropdown(description='sdg',…"
      ]
     },
     "metadata": {},
     "output_type": "display_data"
    }
   ],
   "source": [
    "def country_plot(sdg: dict):\n",
    "    \"\"\" \n",
    "    This function plots a bar chart of frequency of countries involved in climate change for each sdg\n",
    "    \"\"\"\n",
    "    slider = widgets.IntSlider(value=10, min=1, max=20, step=1)\n",
    "    @interact_manual\n",
    "    def selecting(Frequency=slider, sdg=sdg_dict.keys()):\n",
    "        country_sdg = train_df['country'][train_df['sdg'] == sdg_dict[sdg]]\n",
    "        df = country_sdg.value_counts().to_frame().iloc[1:Frequency]\n",
    "        fig = px.bar(df, x=df.index, y='country', labels={'index':'Country', 'country': 'Count'},title='Bar chart of countries contributing  to this SDG',)\n",
    "        fig.show()\n",
    "        \n",
    "# calling the function above to plot our visual\n",
    "country_plot(sdg_dict)"
   ]
  },
  {
   "cell_type": "markdown",
   "metadata": {},
   "source": [
    "## 3.3 <a id=\"text_analysis\"><strong>Text Analysis</strong></a>\n",
    "[Table of Contents](#contents)\n",
    "\n",
    "* Separate Datframes of Text for each SDG \n",
    "\n",
    "\n",
    "From here, we'll delve further into our text, looking into each term and its frequency of occurrence individually."
   ]
  },
  {
   "cell_type": "code",
   "execution_count": 34,
   "metadata": {},
   "outputs": [
    {
     "data": {
      "image/png": "[encoded data removed]",
      "text/plain": [
       "<Figure size 2160x720 with 1 Axes>"
      ]
     },
     "metadata": {},
     "output_type": "display_data"
    }
   ],
   "source": [
    "words = train['text']\n",
    "allwords = []\n",
    "for wordlist in words:\n",
    "    allwords += wordlist\n",
    "    \n",
    "mostcommon = FreqDist(allwords).most_common(10000)\n",
    "wordcloud = WordCloud(width=700, height=700, background_color=\n",
    "                      'black').generate(str(mostcommon))\n",
    "fig = plt.figure(figsize=(30,10), facecolor='white')\n",
    "plt.imshow(wordcloud, interpolation=\"bilinear\")\n",
    "plt.axis('off')\n",
    "plt.tight_layout(pad=0)\n",
    "plt.show()"
   ]
  },
  {
   "cell_type": "markdown",
   "metadata": {},
   "source": [
    "## 3.4 <a id=\"class_balance\"><strong>Class Balance</strong></a>\n",
    "[Table of Contents](#contents)"
   ]
  },
  {
   "cell_type": "code",
   "execution_count": 35,
   "metadata": {},
   "outputs": [
    {
     "data": {
      "text/plain": [
       "Text(0.5, 0, 'sdg')"
      ]
     },
     "execution_count": 35,
     "metadata": {},
     "output_type": "execute_result"
    },
    {
     "data": {
      "image/png": "[encoded data removed]",
      "text/plain": [
       "<Figure size 432x288 with 1 Axes>"
      ]
     },
     "metadata": {
      "needs_background": "light"
     },
     "output_type": "display_data"
    }
   ],
   "source": [
    "# plotting the class distribution\n",
    "train.sdg.value_counts().plot(kind='bar')\n",
    "plt.ylabel('Frequency')\n",
    "plt.xlabel('sdg')"
   ]
  },
  {
   "cell_type": "markdown",
   "metadata": {},
   "source": [
    "From the distribution plot above, we can see that the class distribution has wide variations and it is very imbalance. Although, most sdg support the gender equality which is represented by `5` while we have a fewer responsibe consumption and production which is represented by `12`."
   ]
  },
  {
   "cell_type": "markdown",
   "metadata": {},
   "source": [
    "#### Dealing with data imbalance "
   ]
  },
  {
   "cell_type": "markdown",
   "metadata": {},
   "source": [
    "To deal with data imbalance and avoid bias predictions from the models we will build later on, we employed the resampling (Upsampling and Downsampling) method. "
   ]
  },
  {
   "cell_type": "code",
   "execution_count": 36,
   "metadata": {},
   "outputs": [],
   "source": [
    "train['text'] = train.text.apply(lambda x: ' '.join([str(i) for i in x])) #code to change from list to string"
   ]
  },
  {
   "cell_type": "code",
   "execution_count": 37,
   "metadata": {},
   "outputs": [],
   "source": [
    "test['text'] = test.text.apply(lambda x: ' '.join([str(i) for i in x])) #code to change from list to string"
   ]
  },
  {
   "cell_type": "code",
   "execution_count": 38,
   "metadata": {},
   "outputs": [
    {
     "name": "stdout",
     "output_type": "stream",
     "text": [
      "dual-sampling:\n"
     ]
    },
    {
     "data": {
      "text/html": [
       "<div>\n",
       "<style scoped>\n",
       "    .dataframe tbody tr th:only-of-type {\n",
       "        vertical-align: middle;\n",
       "    }\n",
       "\n",
       "    .dataframe tbody tr th {\n",
       "        vertical-align: top;\n",
       "    }\n",
       "\n",
       "    .dataframe thead th {\n",
       "        text-align: right;\n",
       "    }\n",
       "</style>\n",
       "<table border=\"1\" class=\"dataframe\">\n",
       "  <thead>\n",
       "    <tr style=\"text-align: right;\">\n",
       "      <th></th>\n",
       "      <th>doi</th>\n",
       "      <th>text_id</th>\n",
       "      <th>text</th>\n",
       "      <th>sdg</th>\n",
       "      <th>labels_negative</th>\n",
       "      <th>labels_positive</th>\n",
       "      <th>agreement</th>\n",
       "      <th>id</th>\n",
       "      <th>SDG_Labels</th>\n",
       "    </tr>\n",
       "  </thead>\n",
       "  <tbody>\n",
       "    <tr>\n",
       "      <th>24405</th>\n",
       "      <td>10.1787/9789264259089-8-en</td>\n",
       "      <td>d73261d6778f9254bb8c7fa3967a3312</td>\n",
       "      <td>however strategy never actively implemented mi...</td>\n",
       "      <td>9</td>\n",
       "      <td>0</td>\n",
       "      <td>3</td>\n",
       "      <td>1.0</td>\n",
       "      <td>24406</td>\n",
       "      <td>Industry, Innovation and Infrustructure</td>\n",
       "    </tr>\n",
       "  </tbody>\n",
       "</table>\n",
       "</div>"
      ],
      "text/plain": [
       "                              doi                           text_id  \\\n",
       "24405  10.1787/9789264259089-8-en  d73261d6778f9254bb8c7fa3967a3312   \n",
       "\n",
       "                                                    text  sdg  \\\n",
       "24405  however strategy never actively implemented mi...    9   \n",
       "\n",
       "       labels_negative  labels_positive  agreement     id  \\\n",
       "24405                0                3        1.0  24406   \n",
       "\n",
       "                                    SDG_Labels  \n",
       "24405  Industry, Innovation and Infrustructure  "
      ]
     },
     "metadata": {},
     "output_type": "display_data"
    },
    {
     "name": "stdout",
     "output_type": "stream",
     "text": [
      "Class with their new resampled sizes\n"
     ]
    },
    {
     "data": {
      "image/png": "[encoded data removed]",
      "text/plain": [
       "<Figure size 432x288 with 1 Axes>"
      ]
     },
     "metadata": {
      "needs_background": "light"
     },
     "output_type": "display_data"
    }
   ],
   "source": [
    "class_size = 3438 # setting an average or fixed size for each category in 'sdg'\n",
    "dd = train.sdg.value_counts() # getting category name and their size\n",
    "appended_data = [] # creating an empty list to append all category after resampling\n",
    "\n",
    "# Creating a for-loop to resample and append to a list\n",
    "for index, size in dd.items():\n",
    "    if size < class_size: # setting condition to check if it's downsampling or otherwise\n",
    "        temp_pd = resample(train[train['sdg']==index],\n",
    "                          replace=True, # sample with replacement\n",
    "                          n_samples=class_size, # match number in majority class\n",
    "                          random_state=27)\n",
    "    else:\n",
    "        temp_pd = resample(train[train['sdg']==index],\n",
    "                          replace=False, # sample with replacement (no need to duplicate observations)\n",
    "                          n_samples=class_size, # match number in minority class\n",
    "                          random_state=27)\n",
    "# Appending each category after resampling\n",
    "    appended_data.append(temp_pd)\n",
    "\n",
    "# Creating a new dataframe and viewing\n",
    "df_train_sampled = pd.concat(appended_data, axis=0)\n",
    "print('dual-sampling:')\n",
    "display(df_train_sampled.sample(1))\n",
    "print('Class with their new resampled sizes')\n",
    "# print(df_train_sampled.sdg.value_counts())\n",
    "\n",
    "# ploting the old and new graph frequency\n",
    "ax = train.sdg.value_counts().plot(kind='bar')\n",
    "df_train_sampled.sdg.value_counts().plot(kind='bar', title='Count (target)', \n",
    "                                               ax=ax,color='orange', alpha=0.5)\n",
    "plt.xticks(range(len(dd)),dd.index)\n",
    "plt.ylabel(\"# of observations\")\n",
    "plt.legend(['original','resampled'])\n",
    "plt.show()"
   ]
  },
  {
   "cell_type": "code",
   "execution_count": 39,
   "metadata": {},
   "outputs": [],
   "source": [
    "# # Working with resampled data\n",
    "train = df_train_sampled"
   ]
  },
  {
   "cell_type": "markdown",
   "id": "41007dfb",
   "metadata": {},
   "source": [
    "## 3.5 <a id=\"feature_engineering\"><strong>Feature Engineering</strong></a>\n",
    "[Table of Contents](#contents)"
   ]
  },
  {
   "cell_type": "markdown",
   "id": "4330885e",
   "metadata": {},
   "source": [
    "### 3.4.1 Vectorization"
   ]
  },
  {
   "cell_type": "markdown",
   "id": "e6ca56e7",
   "metadata": {},
   "source": [
    "At this point,we are using **CountVectorizer** function to convert the cleaned text to numerical entries in a matrix form"
   ]
  },
  {
   "cell_type": "code",
   "execution_count": 40,
   "id": "c7a4ae88",
   "metadata": {},
   "outputs": [],
   "source": [
    "# converting each word in the dataset into features\n",
    "vectorizer = CountVectorizer(analyzer = \"word\", max_features = 8000) "
   ]
  },
  {
   "cell_type": "markdown",
   "id": "66d21402",
   "metadata": {},
   "source": [
    "we set the maximum feature to random number 8000 by discretion and to have a faster training of our model<br><br>"
   ]
  },
  {
   "cell_type": "code",
   "execution_count": 41,
   "metadata": {},
   "outputs": [
    {
     "name": "stdout",
     "output_type": "stream",
     "text": [
      "Our new vectorized features have 51570 rows and 8000 feaures\n"
     ]
    }
   ],
   "source": [
    "# transforming the cleaned text to numerical entries in a matrix form\n",
    "reviews_vect = vectorizer.fit_transform(train['text'])\n",
    "\n",
    "# converting the features to numpy array for fast fitting of our dataset\n",
    "train_data_features = reviews_vect.toarray()\n",
    "\n",
    "# checking the shape to be sure of the size of the features\n",
    "print(f'Our new vectorized features have {train_data_features.shape[0]} rows and {train_data_features.shape[1]} feaures')"
   ]
  },
  {
   "cell_type": "code",
   "execution_count": 42,
   "metadata": {},
   "outputs": [],
   "source": [
    "# Converting the word of the all text into features using 'vectorizer' object created earlier\n",
    "reviews_vect_test = vectorizer.transform(test['text'])"
   ]
  },
  {
   "cell_type": "code",
   "execution_count": 43,
   "metadata": {},
   "outputs": [
    {
     "data": {
      "text/plain": [
       "(6487, 8000)"
      ]
     },
     "execution_count": 43,
     "metadata": {},
     "output_type": "execute_result"
    }
   ],
   "source": [
    "# converting into a numpy array\n",
    "test_data_features = reviews_vect_test.toarray() # for fast fitting of our dataset\n",
    "test_data_features.shape # checking to be sure is the same size with our 'train' dataset"
   ]
  },
  {
   "cell_type": "code",
   "execution_count": 44,
   "metadata": {},
   "outputs": [
    {
     "data": {
      "text/html": [
       "<div>\n",
       "<style scoped>\n",
       "    .dataframe tbody tr th:only-of-type {\n",
       "        vertical-align: middle;\n",
       "    }\n",
       "\n",
       "    .dataframe tbody tr th {\n",
       "        vertical-align: top;\n",
       "    }\n",
       "\n",
       "    .dataframe thead th {\n",
       "        text-align: right;\n",
       "    }\n",
       "</style>\n",
       "<table border=\"1\" class=\"dataframe\">\n",
       "  <thead>\n",
       "    <tr style=\"text-align: right;\">\n",
       "      <th></th>\n",
       "      <th>doi</th>\n",
       "      <th>text_id</th>\n",
       "      <th>text</th>\n",
       "      <th>labels_negative</th>\n",
       "      <th>labels_positive</th>\n",
       "      <th>agreement</th>\n",
       "      <th>id</th>\n",
       "    </tr>\n",
       "  </thead>\n",
       "  <tbody>\n",
       "    <tr>\n",
       "      <th>4828</th>\n",
       "      <td>10.1787/799337c2-en</td>\n",
       "      <td>dff5c70de9a0e47f6d40706702cae51c</td>\n",
       "      <td>united nation adopted sdgs framework continuou...</td>\n",
       "      <td>4</td>\n",
       "      <td>1</td>\n",
       "      <td>0.6</td>\n",
       "      <td>4829</td>\n",
       "    </tr>\n",
       "  </tbody>\n",
       "</table>\n",
       "</div>"
      ],
      "text/plain": [
       "                      doi                           text_id  \\\n",
       "4828  10.1787/799337c2-en  dff5c70de9a0e47f6d40706702cae51c   \n",
       "\n",
       "                                                   text  labels_negative  \\\n",
       "4828  united nation adopted sdgs framework continuou...                4   \n",
       "\n",
       "      labels_positive  agreement    id  \n",
       "4828                1        0.6  4829  "
      ]
     },
     "execution_count": 44,
     "metadata": {},
     "output_type": "execute_result"
    }
   ],
   "source": [
    "#  Double checking our dataframe was modified rightly\n",
    "test.sample(1)"
   ]
  },
  {
   "cell_type": "markdown",
   "metadata": {},
   "source": [
    "<a id=\"six\"></a>\n",
    "# 4.0 <a id=\"model\"><strong>Classification Models</strong></a>\n",
    "[Table of Contents](#contents)\n",
    "<a class=\"anchor\" id=\"1.1\"></a>\n",
    "<a href=#cont>Back to Table of Contents</a>\n",
    "\n",
    "---\n",
    "    \n",
    "| ⚡ Description: Classification Models ⚡ |\n",
    "| :--------------------------- |\n",
    "| In this section, we'll look at different models, try to explain them, and learn about their benefits and drawbacks. |\n",
    "\n",
    "---\n",
    "\n",
    "*  LinearSVC(Support Vector Classifier)<a id='svc'></a>\n",
    "*  Naives Bayes\n",
    "*  Logistic Regression\n",
    "*  \n",
    "\n",
    "\n"
   ]
  },
  {
   "cell_type": "markdown",
   "metadata": {},
   "source": [
    "### 8.1 Defining the independent (X) and dependent variables (y)"
   ]
  },
  {
   "cell_type": "code",
   "execution_count": 45,
   "metadata": {},
   "outputs": [],
   "source": [
    "# setting the target and features \n",
    "y = np.array(train['sdg'])\n",
    "X = train_data_features\n"
   ]
  },
  {
   "cell_type": "markdown",
   "metadata": {},
   "source": [
    "### 8.2 Spliting into Train and validation set"
   ]
  },
  {
   "cell_type": "markdown",
   "metadata": {},
   "source": [
    "Here, the train data set is divided into train and validation data set. The validation set size is 20% of the total records and it will be used in model evaluation."
   ]
  },
  {
   "cell_type": "code",
   "execution_count": 46,
   "metadata": {},
   "outputs": [],
   "source": [
    "# split the target ad features into train and test\n",
    "X_train, X_test, y_train, y_test = train_test_split(X, y, test_size=0.33, random_state=10)"
   ]
  },
  {
   "cell_type": "markdown",
   "id": "48e2c478",
   "metadata": {},
   "source": [
    "Splitting of the dataset into train and validation dataset, so that we can train and also see the performance of the model on unseen dataset"
   ]
  },
  {
   "cell_type": "markdown",
   "metadata": {},
   "source": [
    "## 4.1 <a id=\"modelpreprocessing\"><strong>Model Preprocessing</strong></a>\n",
    "[Table of Contents](#contents)"
   ]
  },
  {
   "cell_type": "markdown",
   "id": "a28fbb43",
   "metadata": {},
   "source": [
    "### 8.3.1 Defining function for building models"
   ]
  },
  {
   "cell_type": "markdown",
   "id": "424b4dd5",
   "metadata": {},
   "source": [
    "The function implements a machine learning moded with the use of the train_test_split concept. The function calculates various metrics to check for underfitting or overfitting and most importantly the performance of the model being executed."
   ]
  },
  {
   "cell_type": "code",
   "execution_count": 47,
   "metadata": {},
   "outputs": [],
   "source": [
    "sdgLables = {v: k for k, v in sdgLables.items()}"
   ]
  },
  {
   "cell_type": "code",
   "execution_count": 48,
   "metadata": {},
   "outputs": [],
   "source": [
    "sdgLables = {'No poverty': 1, 'Zero Hunger': 2, 'Good Health and well-being': 3, 'Quality Education': 4, 'Gender equality': 5, 'Clean water and sanitation': 6, 'Affordable and clean energy': 7, 'Industry, Innovation and Infrustructure': 9,\n",
    "             'Decent work and economic growth': 8, 'Reduced Inequality': 10, 'Climate Action': 13, 'Sustainable cites and communities': 11, 'Responsible consumption and production': 12, 'life below water': 14, 'Life on land': 15}\n"
   ]
  },
  {
   "cell_type": "code",
   "execution_count": 49,
   "id": "8256e94d",
   "metadata": {},
   "outputs": [],
   "source": [
    "# careating a function to fit the model and calculate various metrics\n",
    "def modelling(model, X_train=X_train, X_test=X_test, y_train=y_train, y_test=y_test):\n",
    "    \n",
    "    model.fit(X_train, y_train)\n",
    "    pred_train = model.predict(X_train)\n",
    "    pred_valid = model.predict(X_test)\n",
    "    \n",
    "# calculating the metrics\n",
    "    f1_train = f1_score(y_train, pred_train, average='weighted')\n",
    "    f1_test = f1_score(y_test, pred_valid,  average='weighted')\n",
    "    cm = confusion_matrix(y_test, pred_valid)\n",
    "    # sdgLables = {v: k for k, v in sdgLables.items()}\n",
    "    cr = classification_report(y_test, pred_valid, target_names=sdgLables, output_dict=True)\n",
    "    \n",
    "# creating a dataframe for 'confusion matrix' and 'classification report'\n",
    "    cm_df = pd.DataFrame(cm, index = sdgLables, columns = sdgLables)\n",
    "    cr_df = pd.DataFrame(cr)\n",
    "    \n",
    "    print('Confusion Matrix')\n",
    "    display(cm_df)\n",
    "    print('Classification Report')\n",
    "    display(cr_df)\n",
    "    \n",
    "# plotting the confusion matrix using heatmap\n",
    "    plt.figure(figsize=(10,5))\n",
    "    sns.heatmap(cm_df, annot=True)\n",
    "    plt.title('Confusion Matrix')\n",
    "    plt.ylabel('Actal Values')\n",
    "    plt.xlabel('Predicted Values')\n",
    "    plt.show()\n",
    "    \n",
    "    print(f'Train accuracy(f1) is: {round(f1_train, 3)} and Validation accuracy(f1) is {round(f1_test, 3)}')\n",
    "    return cm_df, cr_df, cm # returning metrics\n"
   ]
  },
  {
   "cell_type": "markdown",
   "id": "e8df6776",
   "metadata": {},
   "source": [
    "### 8.3.2  Applying the modelling function to build models"
   ]
  },
  {
   "cell_type": "markdown",
   "metadata": {},
   "source": [
    "### 4.2.1 <a id=\"model1\"><strong>Model 1</strong></a>\n",
    "[Table of Contents](#contents)"
   ]
  },
  {
   "cell_type": "markdown",
   "id": "adbe7cd1",
   "metadata": {},
   "source": [
    "#### a) Logistic Regression Classifier\n",
    "\n",
    "Logistics regression is a predictive analytics model that is used to describe data and explain the relationship between one dependent binary variable and one or more nominal, ordinal, interval or ratio-level independent variables.Sometimes, it can also be applied to a dependent variable that is multi-classed (ie have more than 2 variables). The model was adopted because it is a classification algorithm and suited our use case as well."
   ]
  },
  {
   "cell_type": "code",
   "execution_count": 50,
   "id": "37d2665f",
   "metadata": {
    "scrolled": false
   },
   "outputs": [
    {
     "name": "stdout",
     "output_type": "stream",
     "text": [
      "Confusion Matrix\n"
     ]
    },
    {
     "data": {
      "text/html": [
       "<div>\n",
       "<style scoped>\n",
       "    .dataframe tbody tr th:only-of-type {\n",
       "        vertical-align: middle;\n",
       "    }\n",
       "\n",
       "    .dataframe tbody tr th {\n",
       "        vertical-align: top;\n",
       "    }\n",
       "\n",
       "    .dataframe thead th {\n",
       "        text-align: right;\n",
       "    }\n",
       "</style>\n",
       "<table border=\"1\" class=\"dataframe\">\n",
       "  <thead>\n",
       "    <tr style=\"text-align: right;\">\n",
       "      <th></th>\n",
       "      <th>No poverty</th>\n",
       "      <th>Zero Hunger</th>\n",
       "      <th>Good Health and well-being</th>\n",
       "      <th>Quality Education</th>\n",
       "      <th>Gender equality</th>\n",
       "      <th>Clean water and sanitation</th>\n",
       "      <th>Affordable and clean energy</th>\n",
       "      <th>Industry, Innovation and Infrustructure</th>\n",
       "      <th>Decent work and economic growth</th>\n",
       "      <th>Reduced Inequality</th>\n",
       "      <th>Climate Action</th>\n",
       "      <th>Sustainable cites and communities</th>\n",
       "      <th>Responsible consumption and production</th>\n",
       "      <th>life below water</th>\n",
       "      <th>Life on land</th>\n",
       "    </tr>\n",
       "  </thead>\n",
       "  <tbody>\n",
       "    <tr>\n",
       "      <th>No poverty</th>\n",
       "      <td>941</td>\n",
       "      <td>8</td>\n",
       "      <td>7</td>\n",
       "      <td>7</td>\n",
       "      <td>47</td>\n",
       "      <td>2</td>\n",
       "      <td>4</td>\n",
       "      <td>18</td>\n",
       "      <td>6</td>\n",
       "      <td>26</td>\n",
       "      <td>11</td>\n",
       "      <td>0</td>\n",
       "      <td>4</td>\n",
       "      <td>0</td>\n",
       "      <td>1</td>\n",
       "    </tr>\n",
       "    <tr>\n",
       "      <th>Zero Hunger</th>\n",
       "      <td>17</td>\n",
       "      <td>1005</td>\n",
       "      <td>4</td>\n",
       "      <td>0</td>\n",
       "      <td>7</td>\n",
       "      <td>20</td>\n",
       "      <td>13</td>\n",
       "      <td>7</td>\n",
       "      <td>8</td>\n",
       "      <td>10</td>\n",
       "      <td>6</td>\n",
       "      <td>1</td>\n",
       "      <td>15</td>\n",
       "      <td>8</td>\n",
       "      <td>6</td>\n",
       "    </tr>\n",
       "    <tr>\n",
       "      <th>Good Health and well-being</th>\n",
       "      <td>14</td>\n",
       "      <td>5</td>\n",
       "      <td>1064</td>\n",
       "      <td>2</td>\n",
       "      <td>14</td>\n",
       "      <td>5</td>\n",
       "      <td>2</td>\n",
       "      <td>8</td>\n",
       "      <td>10</td>\n",
       "      <td>3</td>\n",
       "      <td>6</td>\n",
       "      <td>0</td>\n",
       "      <td>1</td>\n",
       "      <td>0</td>\n",
       "      <td>2</td>\n",
       "    </tr>\n",
       "    <tr>\n",
       "      <th>Quality Education</th>\n",
       "      <td>7</td>\n",
       "      <td>8</td>\n",
       "      <td>11</td>\n",
       "      <td>1029</td>\n",
       "      <td>25</td>\n",
       "      <td>5</td>\n",
       "      <td>7</td>\n",
       "      <td>24</td>\n",
       "      <td>6</td>\n",
       "      <td>10</td>\n",
       "      <td>7</td>\n",
       "      <td>3</td>\n",
       "      <td>2</td>\n",
       "      <td>3</td>\n",
       "      <td>1</td>\n",
       "    </tr>\n",
       "    <tr>\n",
       "      <th>Gender equality</th>\n",
       "      <td>59</td>\n",
       "      <td>11</td>\n",
       "      <td>25</td>\n",
       "      <td>27</td>\n",
       "      <td>906</td>\n",
       "      <td>5</td>\n",
       "      <td>8</td>\n",
       "      <td>44</td>\n",
       "      <td>20</td>\n",
       "      <td>30</td>\n",
       "      <td>8</td>\n",
       "      <td>5</td>\n",
       "      <td>3</td>\n",
       "      <td>3</td>\n",
       "      <td>3</td>\n",
       "    </tr>\n",
       "    <tr>\n",
       "      <th>Clean water and sanitation</th>\n",
       "      <td>2</td>\n",
       "      <td>17</td>\n",
       "      <td>4</td>\n",
       "      <td>3</td>\n",
       "      <td>11</td>\n",
       "      <td>1006</td>\n",
       "      <td>18</td>\n",
       "      <td>5</td>\n",
       "      <td>4</td>\n",
       "      <td>3</td>\n",
       "      <td>13</td>\n",
       "      <td>4</td>\n",
       "      <td>11</td>\n",
       "      <td>7</td>\n",
       "      <td>11</td>\n",
       "    </tr>\n",
       "    <tr>\n",
       "      <th>Affordable and clean energy</th>\n",
       "      <td>10</td>\n",
       "      <td>7</td>\n",
       "      <td>0</td>\n",
       "      <td>9</td>\n",
       "      <td>3</td>\n",
       "      <td>19</td>\n",
       "      <td>1009</td>\n",
       "      <td>5</td>\n",
       "      <td>12</td>\n",
       "      <td>4</td>\n",
       "      <td>10</td>\n",
       "      <td>3</td>\n",
       "      <td>16</td>\n",
       "      <td>3</td>\n",
       "      <td>4</td>\n",
       "    </tr>\n",
       "    <tr>\n",
       "      <th>Industry, Innovation and Infrustructure</th>\n",
       "      <td>5</td>\n",
       "      <td>10</td>\n",
       "      <td>7</td>\n",
       "      <td>9</td>\n",
       "      <td>28</td>\n",
       "      <td>1</td>\n",
       "      <td>8</td>\n",
       "      <td>1043</td>\n",
       "      <td>6</td>\n",
       "      <td>7</td>\n",
       "      <td>5</td>\n",
       "      <td>1</td>\n",
       "      <td>3</td>\n",
       "      <td>0</td>\n",
       "      <td>2</td>\n",
       "    </tr>\n",
       "    <tr>\n",
       "      <th>Decent work and economic growth</th>\n",
       "      <td>2</td>\n",
       "      <td>4</td>\n",
       "      <td>1</td>\n",
       "      <td>4</td>\n",
       "      <td>2</td>\n",
       "      <td>2</td>\n",
       "      <td>5</td>\n",
       "      <td>5</td>\n",
       "      <td>1138</td>\n",
       "      <td>3</td>\n",
       "      <td>9</td>\n",
       "      <td>0</td>\n",
       "      <td>2</td>\n",
       "      <td>4</td>\n",
       "      <td>1</td>\n",
       "    </tr>\n",
       "    <tr>\n",
       "      <th>Reduced Inequality</th>\n",
       "      <td>3</td>\n",
       "      <td>0</td>\n",
       "      <td>3</td>\n",
       "      <td>3</td>\n",
       "      <td>4</td>\n",
       "      <td>0</td>\n",
       "      <td>2</td>\n",
       "      <td>5</td>\n",
       "      <td>10</td>\n",
       "      <td>1114</td>\n",
       "      <td>0</td>\n",
       "      <td>0</td>\n",
       "      <td>1</td>\n",
       "      <td>0</td>\n",
       "      <td>0</td>\n",
       "    </tr>\n",
       "    <tr>\n",
       "      <th>Climate Action</th>\n",
       "      <td>8</td>\n",
       "      <td>10</td>\n",
       "      <td>7</td>\n",
       "      <td>7</td>\n",
       "      <td>5</td>\n",
       "      <td>25</td>\n",
       "      <td>11</td>\n",
       "      <td>5</td>\n",
       "      <td>5</td>\n",
       "      <td>13</td>\n",
       "      <td>998</td>\n",
       "      <td>2</td>\n",
       "      <td>10</td>\n",
       "      <td>0</td>\n",
       "      <td>9</td>\n",
       "    </tr>\n",
       "    <tr>\n",
       "      <th>Sustainable cites and communities</th>\n",
       "      <td>0</td>\n",
       "      <td>0</td>\n",
       "      <td>0</td>\n",
       "      <td>0</td>\n",
       "      <td>0</td>\n",
       "      <td>0</td>\n",
       "      <td>0</td>\n",
       "      <td>0</td>\n",
       "      <td>0</td>\n",
       "      <td>0</td>\n",
       "      <td>0</td>\n",
       "      <td>1125</td>\n",
       "      <td>0</td>\n",
       "      <td>0</td>\n",
       "      <td>0</td>\n",
       "    </tr>\n",
       "    <tr>\n",
       "      <th>Responsible consumption and production</th>\n",
       "      <td>7</td>\n",
       "      <td>6</td>\n",
       "      <td>3</td>\n",
       "      <td>1</td>\n",
       "      <td>4</td>\n",
       "      <td>19</td>\n",
       "      <td>29</td>\n",
       "      <td>4</td>\n",
       "      <td>2</td>\n",
       "      <td>3</td>\n",
       "      <td>4</td>\n",
       "      <td>3</td>\n",
       "      <td>1053</td>\n",
       "      <td>1</td>\n",
       "      <td>4</td>\n",
       "    </tr>\n",
       "    <tr>\n",
       "      <th>life below water</th>\n",
       "      <td>0</td>\n",
       "      <td>4</td>\n",
       "      <td>0</td>\n",
       "      <td>3</td>\n",
       "      <td>0</td>\n",
       "      <td>0</td>\n",
       "      <td>0</td>\n",
       "      <td>0</td>\n",
       "      <td>1</td>\n",
       "      <td>0</td>\n",
       "      <td>3</td>\n",
       "      <td>0</td>\n",
       "      <td>0</td>\n",
       "      <td>1117</td>\n",
       "      <td>3</td>\n",
       "    </tr>\n",
       "    <tr>\n",
       "      <th>Life on land</th>\n",
       "      <td>0</td>\n",
       "      <td>6</td>\n",
       "      <td>0</td>\n",
       "      <td>1</td>\n",
       "      <td>0</td>\n",
       "      <td>1</td>\n",
       "      <td>0</td>\n",
       "      <td>0</td>\n",
       "      <td>0</td>\n",
       "      <td>3</td>\n",
       "      <td>3</td>\n",
       "      <td>0</td>\n",
       "      <td>5</td>\n",
       "      <td>0</td>\n",
       "      <td>1141</td>\n",
       "    </tr>\n",
       "  </tbody>\n",
       "</table>\n",
       "</div>"
      ],
      "text/plain": [
       "                                         No poverty  Zero Hunger  \\\n",
       "No poverty                                      941            8   \n",
       "Zero Hunger                                      17         1005   \n",
       "Good Health and well-being                       14            5   \n",
       "Quality Education                                 7            8   \n",
       "Gender equality                                  59           11   \n",
       "Clean water and sanitation                        2           17   \n",
       "Affordable and clean energy                      10            7   \n",
       "Industry, Innovation and Infrustructure           5           10   \n",
       "Decent work and economic growth                   2            4   \n",
       "Reduced Inequality                                3            0   \n",
       "Climate Action                                    8           10   \n",
       "Sustainable cites and communities                 0            0   \n",
       "Responsible consumption and production            7            6   \n",
       "life below water                                  0            4   \n",
       "Life on land                                      0            6   \n",
       "\n",
       "                                         Good Health and well-being  \\\n",
       "No poverty                                                        7   \n",
       "Zero Hunger                                                       4   \n",
       "Good Health and well-being                                     1064   \n",
       "Quality Education                                                11   \n",
       "Gender equality                                                  25   \n",
       "Clean water and sanitation                                        4   \n",
       "Affordable and clean energy                                       0   \n",
       "Industry, Innovation and Infrustructure                           7   \n",
       "Decent work and economic growth                                   1   \n",
       "Reduced Inequality                                                3   \n",
       "Climate Action                                                    7   \n",
       "Sustainable cites and communities                                 0   \n",
       "Responsible consumption and production                            3   \n",
       "life below water                                                  0   \n",
       "Life on land                                                      0   \n",
       "\n",
       "                                         Quality Education  Gender equality  \\\n",
       "No poverty                                               7               47   \n",
       "Zero Hunger                                              0                7   \n",
       "Good Health and well-being                               2               14   \n",
       "Quality Education                                     1029               25   \n",
       "Gender equality                                         27              906   \n",
       "Clean water and sanitation                               3               11   \n",
       "Affordable and clean energy                              9                3   \n",
       "Industry, Innovation and Infrustructure                  9               28   \n",
       "Decent work and economic growth                          4                2   \n",
       "Reduced Inequality                                       3                4   \n",
       "Climate Action                                           7                5   \n",
       "Sustainable cites and communities                        0                0   \n",
       "Responsible consumption and production                   1                4   \n",
       "life below water                                         3                0   \n",
       "Life on land                                             1                0   \n",
       "\n",
       "                                         Clean water and sanitation  \\\n",
       "No poverty                                                        2   \n",
       "Zero Hunger                                                      20   \n",
       "Good Health and well-being                                        5   \n",
       "Quality Education                                                 5   \n",
       "Gender equality                                                   5   \n",
       "Clean water and sanitation                                     1006   \n",
       "Affordable and clean energy                                      19   \n",
       "Industry, Innovation and Infrustructure                           1   \n",
       "Decent work and economic growth                                   2   \n",
       "Reduced Inequality                                                0   \n",
       "Climate Action                                                   25   \n",
       "Sustainable cites and communities                                 0   \n",
       "Responsible consumption and production                           19   \n",
       "life below water                                                  0   \n",
       "Life on land                                                      1   \n",
       "\n",
       "                                         Affordable and clean energy  \\\n",
       "No poverty                                                         4   \n",
       "Zero Hunger                                                       13   \n",
       "Good Health and well-being                                         2   \n",
       "Quality Education                                                  7   \n",
       "Gender equality                                                    8   \n",
       "Clean water and sanitation                                        18   \n",
       "Affordable and clean energy                                     1009   \n",
       "Industry, Innovation and Infrustructure                            8   \n",
       "Decent work and economic growth                                    5   \n",
       "Reduced Inequality                                                 2   \n",
       "Climate Action                                                    11   \n",
       "Sustainable cites and communities                                  0   \n",
       "Responsible consumption and production                            29   \n",
       "life below water                                                   0   \n",
       "Life on land                                                       0   \n",
       "\n",
       "                                         Industry, Innovation and Infrustructure  \\\n",
       "No poverty                                                                    18   \n",
       "Zero Hunger                                                                    7   \n",
       "Good Health and well-being                                                     8   \n",
       "Quality Education                                                             24   \n",
       "Gender equality                                                               44   \n",
       "Clean water and sanitation                                                     5   \n",
       "Affordable and clean energy                                                    5   \n",
       "Industry, Innovation and Infrustructure                                     1043   \n",
       "Decent work and economic growth                                                5   \n",
       "Reduced Inequality                                                             5   \n",
       "Climate Action                                                                 5   \n",
       "Sustainable cites and communities                                              0   \n",
       "Responsible consumption and production                                         4   \n",
       "life below water                                                               0   \n",
       "Life on land                                                                   0   \n",
       "\n",
       "                                         Decent work and economic growth  \\\n",
       "No poverty                                                             6   \n",
       "Zero Hunger                                                            8   \n",
       "Good Health and well-being                                            10   \n",
       "Quality Education                                                      6   \n",
       "Gender equality                                                       20   \n",
       "Clean water and sanitation                                             4   \n",
       "Affordable and clean energy                                           12   \n",
       "Industry, Innovation and Infrustructure                                6   \n",
       "Decent work and economic growth                                     1138   \n",
       "Reduced Inequality                                                    10   \n",
       "Climate Action                                                         5   \n",
       "Sustainable cites and communities                                      0   \n",
       "Responsible consumption and production                                 2   \n",
       "life below water                                                       1   \n",
       "Life on land                                                           0   \n",
       "\n",
       "                                         Reduced Inequality  Climate Action  \\\n",
       "No poverty                                               26              11   \n",
       "Zero Hunger                                              10               6   \n",
       "Good Health and well-being                                3               6   \n",
       "Quality Education                                        10               7   \n",
       "Gender equality                                          30               8   \n",
       "Clean water and sanitation                                3              13   \n",
       "Affordable and clean energy                               4              10   \n",
       "Industry, Innovation and Infrustructure                   7               5   \n",
       "Decent work and economic growth                           3               9   \n",
       "Reduced Inequality                                     1114               0   \n",
       "Climate Action                                           13             998   \n",
       "Sustainable cites and communities                         0               0   \n",
       "Responsible consumption and production                    3               4   \n",
       "life below water                                          0               3   \n",
       "Life on land                                              3               3   \n",
       "\n",
       "                                         Sustainable cites and communities  \\\n",
       "No poverty                                                               0   \n",
       "Zero Hunger                                                              1   \n",
       "Good Health and well-being                                               0   \n",
       "Quality Education                                                        3   \n",
       "Gender equality                                                          5   \n",
       "Clean water and sanitation                                               4   \n",
       "Affordable and clean energy                                              3   \n",
       "Industry, Innovation and Infrustructure                                  1   \n",
       "Decent work and economic growth                                          0   \n",
       "Reduced Inequality                                                       0   \n",
       "Climate Action                                                           2   \n",
       "Sustainable cites and communities                                     1125   \n",
       "Responsible consumption and production                                   3   \n",
       "life below water                                                         0   \n",
       "Life on land                                                             0   \n",
       "\n",
       "                                         Responsible consumption and production  \\\n",
       "No poverty                                                                    4   \n",
       "Zero Hunger                                                                  15   \n",
       "Good Health and well-being                                                    1   \n",
       "Quality Education                                                             2   \n",
       "Gender equality                                                               3   \n",
       "Clean water and sanitation                                                   11   \n",
       "Affordable and clean energy                                                  16   \n",
       "Industry, Innovation and Infrustructure                                       3   \n",
       "Decent work and economic growth                                               2   \n",
       "Reduced Inequality                                                            1   \n",
       "Climate Action                                                               10   \n",
       "Sustainable cites and communities                                             0   \n",
       "Responsible consumption and production                                     1053   \n",
       "life below water                                                              0   \n",
       "Life on land                                                                  5   \n",
       "\n",
       "                                         life below water  Life on land  \n",
       "No poverty                                              0             1  \n",
       "Zero Hunger                                             8             6  \n",
       "Good Health and well-being                              0             2  \n",
       "Quality Education                                       3             1  \n",
       "Gender equality                                         3             3  \n",
       "Clean water and sanitation                              7            11  \n",
       "Affordable and clean energy                             3             4  \n",
       "Industry, Innovation and Infrustructure                 0             2  \n",
       "Decent work and economic growth                         4             1  \n",
       "Reduced Inequality                                      0             0  \n",
       "Climate Action                                          0             9  \n",
       "Sustainable cites and communities                       0             0  \n",
       "Responsible consumption and production                  1             4  \n",
       "life below water                                     1117             3  \n",
       "Life on land                                            0          1141  "
      ]
     },
     "metadata": {},
     "output_type": "display_data"
    },
    {
     "name": "stdout",
     "output_type": "stream",
     "text": [
      "Classification Report\n"
     ]
    },
    {
     "data": {
      "text/html": [
       "<div>\n",
       "<style scoped>\n",
       "    .dataframe tbody tr th:only-of-type {\n",
       "        vertical-align: middle;\n",
       "    }\n",
       "\n",
       "    .dataframe tbody tr th {\n",
       "        vertical-align: top;\n",
       "    }\n",
       "\n",
       "    .dataframe thead th {\n",
       "        text-align: right;\n",
       "    }\n",
       "</style>\n",
       "<table border=\"1\" class=\"dataframe\">\n",
       "  <thead>\n",
       "    <tr style=\"text-align: right;\">\n",
       "      <th></th>\n",
       "      <th>No poverty</th>\n",
       "      <th>Zero Hunger</th>\n",
       "      <th>Good Health and well-being</th>\n",
       "      <th>Quality Education</th>\n",
       "      <th>Gender equality</th>\n",
       "      <th>Clean water and sanitation</th>\n",
       "      <th>Affordable and clean energy</th>\n",
       "      <th>Industry, Innovation and Infrustructure</th>\n",
       "      <th>Decent work and economic growth</th>\n",
       "      <th>Reduced Inequality</th>\n",
       "      <th>Climate Action</th>\n",
       "      <th>Sustainable cites and communities</th>\n",
       "      <th>Responsible consumption and production</th>\n",
       "      <th>life below water</th>\n",
       "      <th>Life on land</th>\n",
       "      <th>accuracy</th>\n",
       "      <th>macro avg</th>\n",
       "      <th>weighted avg</th>\n",
       "    </tr>\n",
       "  </thead>\n",
       "  <tbody>\n",
       "    <tr>\n",
       "      <th>precision</th>\n",
       "      <td>0.875349</td>\n",
       "      <td>0.912807</td>\n",
       "      <td>0.93662</td>\n",
       "      <td>0.931222</td>\n",
       "      <td>0.857955</td>\n",
       "      <td>0.906306</td>\n",
       "      <td>0.904122</td>\n",
       "      <td>0.889173</td>\n",
       "      <td>0.926710</td>\n",
       "      <td>0.906428</td>\n",
       "      <td>0.921514</td>\n",
       "      <td>0.980820</td>\n",
       "      <td>0.935169</td>\n",
       "      <td>0.974695</td>\n",
       "      <td>0.960438</td>\n",
       "      <td>0.921852</td>\n",
       "      <td>0.921288</td>\n",
       "      <td>0.921420</td>\n",
       "    </tr>\n",
       "    <tr>\n",
       "      <th>recall</th>\n",
       "      <td>0.869686</td>\n",
       "      <td>0.891748</td>\n",
       "      <td>0.93662</td>\n",
       "      <td>0.896341</td>\n",
       "      <td>0.783060</td>\n",
       "      <td>0.899017</td>\n",
       "      <td>0.905745</td>\n",
       "      <td>0.918943</td>\n",
       "      <td>0.962775</td>\n",
       "      <td>0.972926</td>\n",
       "      <td>0.895067</td>\n",
       "      <td>1.000000</td>\n",
       "      <td>0.921260</td>\n",
       "      <td>0.987622</td>\n",
       "      <td>0.983621</td>\n",
       "      <td>0.921852</td>\n",
       "      <td>0.921629</td>\n",
       "      <td>0.921852</td>\n",
       "    </tr>\n",
       "    <tr>\n",
       "      <th>f1-score</th>\n",
       "      <td>0.872508</td>\n",
       "      <td>0.902154</td>\n",
       "      <td>0.93662</td>\n",
       "      <td>0.913449</td>\n",
       "      <td>0.818798</td>\n",
       "      <td>0.902647</td>\n",
       "      <td>0.904933</td>\n",
       "      <td>0.903813</td>\n",
       "      <td>0.944398</td>\n",
       "      <td>0.938500</td>\n",
       "      <td>0.908098</td>\n",
       "      <td>0.990317</td>\n",
       "      <td>0.928162</td>\n",
       "      <td>0.981116</td>\n",
       "      <td>0.971891</td>\n",
       "      <td>0.921852</td>\n",
       "      <td>0.921160</td>\n",
       "      <td>0.921334</td>\n",
       "    </tr>\n",
       "    <tr>\n",
       "      <th>support</th>\n",
       "      <td>1082.000000</td>\n",
       "      <td>1127.000000</td>\n",
       "      <td>1136.00000</td>\n",
       "      <td>1148.000000</td>\n",
       "      <td>1157.000000</td>\n",
       "      <td>1119.000000</td>\n",
       "      <td>1114.000000</td>\n",
       "      <td>1135.000000</td>\n",
       "      <td>1182.000000</td>\n",
       "      <td>1145.000000</td>\n",
       "      <td>1115.000000</td>\n",
       "      <td>1125.000000</td>\n",
       "      <td>1143.000000</td>\n",
       "      <td>1131.000000</td>\n",
       "      <td>1160.000000</td>\n",
       "      <td>0.921852</td>\n",
       "      <td>17019.000000</td>\n",
       "      <td>17019.000000</td>\n",
       "    </tr>\n",
       "  </tbody>\n",
       "</table>\n",
       "</div>"
      ],
      "text/plain": [
       "            No poverty  Zero Hunger  Good Health and well-being  \\\n",
       "precision     0.875349     0.912807                     0.93662   \n",
       "recall        0.869686     0.891748                     0.93662   \n",
       "f1-score      0.872508     0.902154                     0.93662   \n",
       "support    1082.000000  1127.000000                  1136.00000   \n",
       "\n",
       "           Quality Education  Gender equality  Clean water and sanitation  \\\n",
       "precision           0.931222         0.857955                    0.906306   \n",
       "recall              0.896341         0.783060                    0.899017   \n",
       "f1-score            0.913449         0.818798                    0.902647   \n",
       "support          1148.000000      1157.000000                 1119.000000   \n",
       "\n",
       "           Affordable and clean energy  \\\n",
       "precision                     0.904122   \n",
       "recall                        0.905745   \n",
       "f1-score                      0.904933   \n",
       "support                    1114.000000   \n",
       "\n",
       "           Industry, Innovation and Infrustructure  \\\n",
       "precision                                 0.889173   \n",
       "recall                                    0.918943   \n",
       "f1-score                                  0.903813   \n",
       "support                                1135.000000   \n",
       "\n",
       "           Decent work and economic growth  Reduced Inequality  \\\n",
       "precision                         0.926710            0.906428   \n",
       "recall                            0.962775            0.972926   \n",
       "f1-score                          0.944398            0.938500   \n",
       "support                        1182.000000         1145.000000   \n",
       "\n",
       "           Climate Action  Sustainable cites and communities  \\\n",
       "precision        0.921514                           0.980820   \n",
       "recall           0.895067                           1.000000   \n",
       "f1-score         0.908098                           0.990317   \n",
       "support       1115.000000                        1125.000000   \n",
       "\n",
       "           Responsible consumption and production  life below water  \\\n",
       "precision                                0.935169          0.974695   \n",
       "recall                                   0.921260          0.987622   \n",
       "f1-score                                 0.928162          0.981116   \n",
       "support                               1143.000000       1131.000000   \n",
       "\n",
       "           Life on land  accuracy     macro avg  weighted avg  \n",
       "precision      0.960438  0.921852      0.921288      0.921420  \n",
       "recall         0.983621  0.921852      0.921629      0.921852  \n",
       "f1-score       0.971891  0.921852      0.921160      0.921334  \n",
       "support     1160.000000  0.921852  17019.000000  17019.000000  "
      ]
     },
     "metadata": {},
     "output_type": "display_data"
    },
    {
     "data": {
      "image/png": "[encoded data removed]",
      "text/plain": [
       "<Figure size 720x360 with 2 Axes>"
      ]
     },
     "metadata": {
      "needs_background": "light"
     },
     "output_type": "display_data"
    },
    {
     "name": "stdout",
     "output_type": "stream",
     "text": [
      "Train accuracy(f1) is: 1.0 and Validation accuracy(f1) is 0.921\n"
     ]
    }
   ],
   "source": [
    "# create logistic regression model instance\n",
    "lm = LogisticRegression(C=2, solver='liblinear')\n",
    "\n",
    "# fitting and predictiion by calling the 'modelling' fuction \n",
    "cm_df_logit, cr_df_logit, cm_logit = modelling(lm)"
   ]
  },
  {
   "cell_type": "markdown",
   "id": "c0c5f533",
   "metadata": {},
   "source": [
    "From the confusion matrix we can see that the model did well at predicting the `Gender equality`. Therefore, we have more correctly predicted `Gender equality` sentiment than others with an accuracy of `78%`\n",
    "\n",
    "* Generally the model is overfitting having an accuracy score of `99%` in training vs `92%` while predicting unseen dataset\n"
   ]
  },
  {
   "cell_type": "code",
   "execution_count": 51,
   "metadata": {},
   "outputs": [],
   "source": [
    "# Create dictionaries for the data we want to log on comet\n",
    "\n",
    "params = {\"random_state\": 10,\n",
    "          \"model_type\": \"lm\"\n",
    "          }\n",
    "metrics = {\"f1\": cr_df_logit.loc['f1-score', 'weighted avg'],\n",
    "           \"precision\": cr_df_logit.loc['precision', 'weighted avg'],\n",
    "           \"recall\": cr_df_logit.loc['recall', 'weighted avg']\n",
    "           }"
   ]
  },
  {
   "cell_type": "code",
   "execution_count": 52,
   "metadata": {},
   "outputs": [
    {
     "data": {
      "text/plain": [
       "{'web': 'https://www.comet.com/api/asset/download?assetId=185548dc0d074835925683082dcadf43&experimentKey=f7de8d0aee214588a6ddb57c120b54ab',\n",
       " 'api': 'https://www.comet.com/api/rest/v2/experiment/asset/get-asset?assetId=185548dc0d074835925683082dcadf43&experimentKey=f7de8d0aee214588a6ddb57c120b54ab',\n",
       " 'assetId': '185548dc0d074835925683082dcadf43'}"
      ]
     },
     "execution_count": 52,
     "metadata": {},
     "output_type": "execute_result"
    }
   ],
   "source": [
    "# Log our parameters and results on comet\n",
    "experiment.log_parameters(params)\n",
    "experiment.log_metrics(metrics)\n",
    "experiment.log_confusion_matrix(matrix=cm_logit)"
   ]
  },
  {
   "cell_type": "markdown",
   "metadata": {},
   "source": [
    "### 4.2.2 <a id=\"model2\"><strong>Model 2</strong></a>\n",
    "[Table of Contents](#contents)"
   ]
  },
  {
   "cell_type": "markdown",
   "id": "a1d5c11c",
   "metadata": {},
   "source": [
    "### b)  Decision Tree classifier\n",
    "\n",
    "Decision Tree is a Supervised learning technique that can be used for both classification and Regression problems, but mostly it is preferred for solving Classification problems. It is a tree-structured classifier, where internal nodes represent the features of a dataset, branches represent the decision rules and each leaf node represents the outcome. In order to make prediction, the algorithm simply asks a question, and based on the answer (Yes/No), it further split the tree into subtrees till it get to the final outcome."
   ]
  },
  {
   "cell_type": "code",
   "execution_count": 53,
   "id": "2125078d",
   "metadata": {},
   "outputs": [],
   "source": [
    "#Inintiate Decision tree\n",
    "dt=DecisionTreeClassifier(random_state=1)\n",
    "\n",
    "#initiate a BaggingClassifier called bc consisting of 50 trees\n",
    "bc=BaggingClassifier(base_estimator=dt, n_estimators=50, random_state=1, n_jobs=-1)"
   ]
  },
  {
   "cell_type": "code",
   "execution_count": 54,
   "metadata": {},
   "outputs": [],
   "source": [
    "cm_df_dt, cr_df_dt, cm_dt = modelling(dt)"
   ]
  },
  {
   "cell_type": "markdown",
   "id": "dcfcc86b",
   "metadata": {},
   "source": [
    "From our result, the model performed poorly on unseen data. With the train data, an accuracy score of `100%` was recorded but on the test data, we have an accuracy score of `57.4%` which depicts overfitting. "
   ]
  },
  {
   "cell_type": "markdown",
   "id": "171fa99e",
   "metadata": {},
   "source": [
    "### Using pipeline"
   ]
  },
  {
   "cell_type": "markdown",
   "id": "adb4cc1a",
   "metadata": {},
   "source": [
    "Moving forward to build the rest of our model, we employed techiques like `Pipeline` and `GridsearchCV`.\n",
    "\n",
    "**Pipeline**\n",
    "\n",
    "When it comes to orchestrating the flow of data into and output from a machine learning model, a machine learning pipeline comes in handy. It is known as an end-to-end structure that orchestrates the flow of data into and output from a machine learning model is known as a machine learning pipeline (or set of multiple models). It covers the input of the raw data, the features, the outputs, the machine learning model and model parameters, and the outputs of the predictions.\n",
    "\n",
    "Here, a machine learning pipeline is employed to easy feature extraction from our text data. The pipeline employed executes the following steps in chronological order to extract these features and make predictions. They include:\n",
    "\n",
    "* Count Vectorization: The CountVectorizer tool in Scikit-learn is used to turn a group of text documents into a vector of term/token counts. Additionally, it enables text data to be pre-processed before being turned into a vector form. Its capabilities turn it into a very versatile feature representation module for text.\n",
    "&emsp;\n",
    "\n",
    "\n",
    "* TF-ID Transformer: With TF-ID transformer, a count matrix is transformed into a normalised tf or tf-idf representation. To reduce the impact of tokens that appear often in a corpus, tf-idf is used in place of the raw frequencies of occurrence of a token in a specific document \n",
    "\n",
    "\n",
    "\n",
    "* Model: This represents the adopted Machine Learning model\n",
    "\n",
    "\n",
    "**GridsearchCV**\n",
    "\n",
    "GridSearchCV is the process of performing hyperparameter tuning in order to determine the optimal values for a given model. The performance of a model significantly depends on the value of hyperparameters and there is no way to know in advance the best values for hyperparameters. So ideally, we need to try all possible values to know the optimal values. That is why we employ GridSearchCV to automate the tuning of hyperparameters."
   ]
  },
  {
   "cell_type": "markdown",
   "metadata": {},
   "source": [
    "### 4.2.3 <a id=\"model3\"><strong>Model 3</strong></a>\n",
    "[Table of Contents](#contents)"
   ]
  },
  {
   "cell_type": "markdown",
   "id": "69abd5ff",
   "metadata": {},
   "source": [
    "### c) Naive Bayes classifier\n",
    "\n",
    "Mostly employed in Natural Language Processing, the Multinomial Naive Bayes algorithm is a probabilistic learning technique (NLP). The method, which guesses the tag of a text such as an email or newspaper article, is based on the Bayes theorem. For a given sample, it determines the probabilities of each tag, and then outputs the tag with the highest probability.\n",
    "\n",
    "The Naive Bayes classifier is a collection of many methods, all of which are based on the idea that each feature being classified is independent of every other feature. The existence or absence of one feature has no bearing on the other feature's existence or absence"
   ]
  },
  {
   "cell_type": "code",
   "execution_count": null,
   "id": "01a09478",
   "metadata": {},
   "outputs": [],
   "source": [
    "# split the target and features into train and test\n",
    "x_train, x_valid, y_train, y_valid = train_test_split(train['text'], train.sdg, test_size=0.33, random_state=10)"
   ]
  },
  {
   "cell_type": "markdown",
   "id": "7fd652a6",
   "metadata": {},
   "source": [
    "Here, we split our dataset again into `Train` and `Validation` set for the purpose of fitting the data into our pipeline"
   ]
  },
  {
   "cell_type": "markdown",
   "id": "41b2712e",
   "metadata": {},
   "source": [
    "##### Building a pipeline to be more concise"
   ]
  },
  {
   "cell_type": "code",
   "execution_count": null,
   "id": "14ed0060",
   "metadata": {},
   "outputs": [],
   "source": [
    "# pipline with naive_bayes and using the 'clean_text' from dataset to fit the model\n",
    "text_clf = Pipeline([('vect', CountVectorizer()),\n",
    "                     ('tfidf', TfidfTransformer()),\n",
    "                     ('clf', MultinomialNB()),])\n",
    "# cross validation\n",
    "scores = cross_validate(text_clf, train['text'], train.sdg, return_train_score=True)\n",
    "pd.DataFrame(scores)"
   ]
  },
  {
   "cell_type": "markdown",
   "id": "2a3035c1",
   "metadata": {},
   "source": [
    "The model seem to be under performing and overfitting at the same time\n",
    "- Using GridsearchCV we can find the best hyper-parameters"
   ]
  },
  {
   "cell_type": "code",
   "execution_count": null,
   "id": "50e020cd",
   "metadata": {},
   "outputs": [],
   "source": [
    "parameters = {'vect__ngram_range': [(1, 1), (1, 2), (2, 2)],\n",
    "              'clf__alpha': (1e-2, 1e-3),\n",
    "             'clf__fit_prior': (True, False)}\n",
    "nb_clf = GridSearchCV(text_clf, parameters, n_jobs=-1)\n",
    "nb_clf = nb_clf.fit(x_train, y_train)\n",
    "display('The best accuracy is:',nb_clf.best_score_)\n",
    "display(nb_clf.best_params_)\n",
    "\n",
    "# predictions\n",
    "predicts = nb_clf.predict(x_valid)\n",
    "cm = confusion_matrix(y_valid,  predicts)\n",
    "pd.DataFrame(cm, index = sdgLables, columns = sdgLables)"
   ]
  },
  {
   "cell_type": "markdown",
   "id": "060906f8",
   "metadata": {},
   "source": [
    "Using our split dataset so we can train on seen data and validate our model with the unseen dataset"
   ]
  },
  {
   "cell_type": "code",
   "execution_count": null,
   "id": "a4162d16",
   "metadata": {},
   "outputs": [],
   "source": [
    "# Create dictionaries for the data we want to log\n",
    "params = nb_clf.best_params_\n",
    "metrics = {\"f1\": nb_clf.best_score_}\n",
    "\n",
    "# Log our parameters and results\n",
    "experiment.log_parameters(params)\n",
    "experiment.log_metrics(metrics)\n",
    "experiment.log_confusion_matrix(matrix=cm)"
   ]
  },
  {
   "cell_type": "markdown",
   "metadata": {},
   "source": [
    "### 4.2.4 <a id=\"model4\"><strong>Model 3</strong></a>\n",
    "[Table of Contents](#contents)"
   ]
  },
  {
   "cell_type": "markdown",
   "id": "66af18ef",
   "metadata": {},
   "source": [
    "### d) K-Neighbors Classifier"
   ]
  },
  {
   "cell_type": "markdown",
   "id": "d56520a6",
   "metadata": {},
   "source": [
    "Building a pipeline to be more concise"
   ]
  },
  {
   "cell_type": "markdown",
   "metadata": {},
   "source": [
    "<script src=\"https://github.com/kojosbk/RentingProject/blob/main/rent_in_Ghana%20copy.ipynb\"></script>"
   ]
  },
  {
   "cell_type": "code",
   "execution_count": null,
   "id": "b74962c8",
   "metadata": {
    "scrolled": true
   },
   "outputs": [],
   "source": [
    "# pipline with naive_bayes and using the 'clean_text' from dataset to fit the model\n",
    "knc_clf = Pipeline([('vect', CountVectorizer()),\n",
    "                    ('tfidf', TfidfTransformer()),\n",
    "                     ('clf', KNeighborsClassifier()),])\n",
    "# cross validation\n",
    "scores = cross_validate(knc_clf, train['text'], train.sdg, return_train_score=True)\n",
    "pd.DataFrame(scores)"
   ]
  },
  {
   "cell_type": "markdown",
   "id": "51f7e1c0",
   "metadata": {},
   "source": [
    "The model seem to be under performing and overfitting at the same time\n",
    "- Using GridsearchCV we can find the best hyper-parameters"
   ]
  },
  {
   "cell_type": "code",
   "execution_count": null,
   "id": "97319e99",
   "metadata": {},
   "outputs": [],
   "source": [
    "parameters = {'vect__ngram_range': [(1, 1), (1, 2)],\n",
    "              'clf__n_neighbors': (1, 31)}\n",
    "knn_clf = GridSearchCV(knc_clf, parameters, n_jobs=-1)\n",
    "knn_clf = knn_clf.fit(x_train, y_train)\n",
    "display(f'The best accuracy is: {knn_clf.best_score_}')\n",
    "display(knn_clf.best_params_)\n",
    "\n",
    "# predictions\n",
    "predicts = knn_clf.predict(x_valid)\n",
    "cm = confusion_matrix(y_valid,  predicts)\n",
    "pd.DataFrame(cm, index = sdgLables, columns = sdgLables)"
   ]
  },
  {
   "cell_type": "code",
   "execution_count": null,
   "metadata": {},
   "outputs": [],
   "source": [
    "# Create dictionaries for the data we want to log\n",
    "\n",
    "params = knn_clf.best_params_\n",
    "metrics = {\"f1\": knn_clf.best_score_}\n",
    "\n",
    "# Log our parameters and results\n",
    "experiment.log_parameters(params)\n",
    "experiment.log_metrics(metrics)\n",
    "experiment.log_confusion_matrix(matrix=cm)"
   ]
  },
  {
   "cell_type": "markdown",
   "id": "a2a19900",
   "metadata": {},
   "source": [
    "The above cells are used to log/commit our model to comet "
   ]
  },
  {
   "cell_type": "markdown",
   "id": "f58622c4",
   "metadata": {},
   "source": [
    "<a id=\"seven\"></a>\n",
    "## 7. Model Performance\n",
    "<a class=\"anchor\" id=\"1.1\"></a>\n",
    "<a href=#cont>Back to Table of Contents</a>"
   ]
  },
  {
   "cell_type": "markdown",
   "id": "8487a3c7",
   "metadata": {},
   "source": [
    "In order to evaluate how well our models have performed, we employed the following classification metrics:\n",
    "\n",
    "* **1. Accuracy**\n",
    "\n",
    "Accuracy simply measures how often the classifier correctly predicts. We can define accuracy as the ratio of the number of correct predictions and the total number of predictions.\n",
    "\n",
    "* **2. Precision**\n",
    "\n",
    "Precision explains how many of the correctly predicted cases actually turned out to be positive. Precision is useful in the cases where False Positive is a higher concern than False Negatives.\n",
    "\n",
    "* **3. Recall**\n",
    "\n",
    "Recall explains how many of the actual positive cases we were able to predict correctly with our model. It is a useful metric in cases where False Negative is of higher concern than False Positive.\n",
    "\n",
    "* **4. F1-Score**\n",
    "\n",
    "It gives a combined idea about Precision and Recall metrics.F1 Score is the harmonic mean of precision and recall."
   ]
  },
  {
   "cell_type": "code",
   "execution_count": null,
   "id": "d473cfbf",
   "metadata": {},
   "outputs": [],
   "source": [
    "from sklearn import metrics"
   ]
  },
  {
   "cell_type": "code",
   "execution_count": null,
   "id": "db8f918f",
   "metadata": {},
   "outputs": [],
   "source": [
    "# Predicting with each model of choice\n",
    "lm_preds = lm.predict(X_test) # LogisticRegression\n",
    "nb_clf_preds = nb_clf.predict(x_valid) # Naive Bayes\n",
    "knn_clf_preds = knn_clf.predict(x_valid)# K-Neighbors Classifier\n",
    "dt_preds = dt.predict(X_test) # Decision Tree Classifier\n"
   ]
  },
  {
   "cell_type": "code",
   "execution_count": null,
   "metadata": {},
   "outputs": [],
   "source": [
    "# creating a map for our model and there prediction array of values\n",
    "metrics_dict = {\"LogisticRegression\":lm_preds, \"Naive Bayes\":nb_clf_preds, \"K-Neighbors Classifier\":knn_clf_preds,\n",
    "                \"Decision Tree Classifier\": dt_preds}\n",
    "metrics_list = [] #initiating a new list to store our metrics value temporarily"
   ]
  },
  {
   "cell_type": "code",
   "execution_count": null,
   "metadata": {},
   "outputs": [],
   "source": [
    "# iterating through the dictionary to calculate metrics for each model and make a dataframe off it\n",
    "for name, prediction in metrics_dict.items():\n",
    "    f1_score = metrics.f1_score(y_valid, prediction, average=\"weighted\")  \n",
    "    precision = metrics.precision_score(y_valid, prediction, average=\"weighted\")\n",
    "    recall = metrics.recall_score(y_valid, prediction, average=\"weighted\")\n",
    "    metrics_list.append([name, f1_score, precision, recall])\n",
    "perf_df = pd.DataFrame(metrics_list, columns=[\"Classifier\", \"F1_score\", \"Precision\", \"Recall\"])\n",
    "perf_df.set_index(\"Classifier\", inplace=True)\n"
   ]
  },
  {
   "cell_type": "code",
   "execution_count": null,
   "id": "fd06df92",
   "metadata": {},
   "outputs": [],
   "source": [
    "# overview of the dataframe created above\n",
    "perf_df = perf_df.sort_values(by=['F1_score'], ascending=False)\n",
    "perf_df"
   ]
  },
  {
   "cell_type": "code",
   "execution_count": null,
   "id": "9afaddc3",
   "metadata": {},
   "outputs": [],
   "source": [
    "# plotting the metrics complied \n",
    "perf_df.plot(kind=\"bar\", figsize=(15,6))"
   ]
  },
  {
   "cell_type": "markdown",
   "id": "ce341772",
   "metadata": {},
   "source": [
    "All the Classification metrics point to `Naive Bayes` as the better Model\n"
   ]
  },
  {
   "cell_type": "markdown",
   "id": "0d7f5f03",
   "metadata": {},
   "source": [
    "#### predicting our `test` DataSet with the best model"
   ]
  },
  {
   "cell_type": "code",
   "execution_count": null,
   "id": "05b93acc",
   "metadata": {},
   "outputs": [],
   "source": [
    "# Naive bayes \n",
    "# Using the fitted (train) model to predict the 'test' dataset\n",
    "pred_test = nb_clf.predict(test['text'])"
   ]
  },
  {
   "cell_type": "code",
   "execution_count": null,
   "metadata": {},
   "outputs": [],
   "source": [
    "# Saving test predictions to csv file\n",
    "output = pd.DataFrame({'id': test.id,\n",
    "                       'sdg': pred_test})\n",
    "output.to_csv('Team A1.csv', index=False)"
   ]
  },
  {
   "cell_type": "code",
   "execution_count": null,
   "metadata": {},
   "outputs": [],
   "source": [
    "experiment.end()"
   ]
  },
  {
   "cell_type": "markdown",
   "metadata": {},
   "source": [
    "# 5.0 <a id=\"Conclusion/Recommendation\"><strong>CONCLUSION AND RECOMMENDATION</strong></a>\n",
    "[Table of Contents](#contents)"
   ]
  },
  {
   "cell_type": "markdown",
   "metadata": {},
   "source": [
    "## 5.1 <a id=\"Conclusion\"><strong>Conclusion</strong></a>\n",
    "[Table of Contents](#contents)"
   ]
  },
  {
   "cell_type": "markdown",
   "metadata": {},
   "source": [
    "## 5.2 <a id=\"Recommendation\"><strong>Recommendation</strong></a>\n",
    "[Table of Contents](#contents)"
   ]
  },
  {
   "cell_type": "markdown",
   "metadata": {},
   "source": [
    "# 6.0 <a id=\"reference\"><strong>REFERENCES</strong></a>\n",
    "[Table of Contents](#contents)"
   ]
  }
 ],
 "metadata": {
  "kernelspec": {
   "display_name": "Python 3 (ipykernel)",
   "language": "python",
   "name": "python3"
  },
  "language_info": {
   "codemirror_mode": {
    "name": "ipython",
    "version": 3
   },
   "file_extension": ".py",
   "mimetype": "text/x-python",
   "name": "python",
   "nbconvert_exporter": "python",
   "pygments_lexer": "ipython3",
   "version": "3.10.0"
  },
  "vscode": {
   "interpreter": {
    "hash": "320c1f05b41b6296d6cdeadbc8f37198b22e160db062b16d8b8cc9d95c25d782"
   }
  }
 },
 "nbformat": 4,
 "nbformat_minor": 2
}
