{
 "cells": [
  {
   "cell_type": "markdown",
   "metadata": {},
   "source": [
    "# **Sustainable Development Goals (SDGs) Classifier**\n",
    "\n",
    "![](https://www.idsa.in/system/files/sdg-un-banner.jpg)\n",
    "\n",
    "# <a id=\"contents\">Table of Contents</a><br>\n",
    "1. [**Introduction**](#introduction)\n",
    "  > 1.1 [**Problem Statement**](#problem_statement) <br>\n",
    "    1.2 [**Data Description**](#data)<br>\n",
    "    1.3 [**Importing Libraries**](#importing_libraries)<br>\n",
    "    1.4 [**Loading Data**](#loading_data) <br>\n",
    "    \n",
    "2. [**Data Preprocessing**](#preprocessing)\n",
    ">   2.1 <br>\n",
    "    2.2 <br>\n",
    "    2.3 <br>\n",
    "\n",
    "3. [**Exploratory Data Analysis**](#EDA) <br>\n",
    "   \n",
    "4. [**Modeling**](#model) <br>\n",
    "    4.1 [**Model Training**](#modeltraining) <br>\n",
    "    > 4.1.1. [**Model 1**](#model1) <br>\n",
    "     4.1.2. [**Model 2**](#model2) <br>\n",
    "     4.1.3. [**Model 3**](#model3) <br>\n",
    "     \n",
    "    4.2 [**Mertics Evaluation**](#merticsevaluation) <br>\n",
    "    \n",
    "5. [**Conclusion and Recommendation**](#Conclusion/Recommendation) <br>\n",
    "   > 5.1 [**Conclusion**](#Conclusion) <br>\n",
    "     5.2 [**Recommendation**](#Recommendation) <br><br>\n",
    "\n",
    "6. [**References**](#reference) <br>\n",
    "\n",
    "# 1.0 <a id=\"introduction\"><strong>INTRODUCTION</strong></a>\n",
    "[Table of Contents](#contents)<br>\n",
    "\n",
    "\n",
    "\n",
    "## 1.1 <a id=\"problem_statement\"><strong>Problem Statement</strong></a>\n",
    "[Table of Contents](#contents)<br>\n",
    "\n",
    "\n",
    "## 1.2 <a id=\"data\"><strong>Data Description</strong></a>\n",
    "[Table of Contents](#contents)<br>\n",
    "\n",
    "\n",
    " ## 1.3  <a id=\"importing_libraries\"><strong>Importing Libraries</strong></a>\n",
    "[Table of Contents](#contents)<br>\n",
    "\n",
    "\n",
    "## 1.4 <a id=\"loading_data\"><strong>Loading Data</strong></a>\n",
    "[Table of Contents](#contents)\n",
    "\n",
    "\n",
    "# 2.0 <a id=\"preprocessing\"><strong>DATA PREPROCESSING</strong></a>\n",
    "[Table of Contents](#contents)\n",
    "\n",
    "\n",
    "# 3.0 <a id=\"EDA\"><strong>EXPLORATORY DATA ANALYSIS</strong></a>\n",
    "[Table of Contents](#contents)\n",
    "\n",
    "\n",
    "\n",
    "# 4.0 <a id=\"model\"><strong>Classification Models</strong></a>\n",
    "[Table of Contents](#contents)\n",
    "\n",
    "\n",
    "## 4.1 <a id=\"modelpreprocessing\"><strong>Model Preprocessing</strong></a>\n",
    "[Table of Contents](#contents)\n",
    "\n",
    "\n",
    "## 4.2 <a id=\"modeltraining\"><strong>Model Training</strong></a>\n",
    "[Table of Contents](#contents)\n",
    "\n",
    "\n",
    "### 4.2.1 <a id=\"model1\"><strong>Model 1</strong></a>\n",
    "[Table of Contents](#contents)\n",
    "\n",
    "\n",
    "### 4.2.2 <a id=\"model2\"><strong>Model 2</strong></a>\n",
    "[Table of Contents](#contents)\n",
    "\n",
    "\n",
    "### 4.2.3 <a id=\"model3\"><strong>Model 3</strong></a>\n",
    "[Table of Contents](#contents)\n",
    "\n",
    "\n",
    "# 5.0 <a id=\"Conclusion/Recommendation\"><strong>CONCLUSION AND RECOMMENDATION</strong></a>\n",
    "[Table of Contents](#contents)\n",
    "\n",
    "## 5.1 <a id=\"Conclusion\"><strong>Conclusion</strong></a>\n",
    "[Table of Contents](#contents)\n",
    "\n",
    "## 5.2 <a id=\"Recommendation\"><strong>Recommendation</strong></a>\n",
    "[Table of Contents](#contents)\n",
    "\n",
    "# 6.0 <a id=\"reference\"><strong>REFERENCES</strong></a>\n",
    "[Table of Contents](#contents)"
   ]
  },
  {
   "cell_type": "code",
   "execution_count": 2,
   "id": "9c072c42",
   "metadata": {},
   "outputs": [],
   "source": [
    "#importing comet for tracking\n",
    "from comet_ml import Experiment"
   ]
  },
  {
   "cell_type": "code",
   "execution_count": 3,
   "id": "8f8a77cc",
   "metadata": {},
   "outputs": [
    {
     "name": "stderr",
     "output_type": "stream",
     "text": [
      "COMET WARNING: As you are running in a Jupyter environment, you will need to call `experiment.end()` when finished to ensure all metrics and code are logged before exiting.\n",
      "COMET INFO: Experiment is live on comet.ml https://www.comet.com/kojosbk/sustainable-development-goals-sdgs-classifier/e2eff95f697a409095beea9ee0d90b58\n",
      "\n"
     ]
    }
   ],
   "source": [
    "# Setting the API key (saved as environment variable)\n",
    "#initialize experiment for Comet\n",
    "experiment = Experiment(\n",
    "    api_key=\"bEFY9Hn1QccermEDT6aTyQMOA\",\n",
    "    project_name=\"sustainable-development-goals-sdgs-classifier\",\n",
    "    workspace=\"kojosbk\",\n",
    ")\n"
   ]
  },
  {
   "cell_type": "markdown",
   "metadata": {},
   "source": [
    " <a id=\"one\"></a>\n",
    "## 1. <strong>INTRODUCTION</strong></a>\n",
    "<a href=#cont>Back to Table of Contents</a>\n",
    "\n",
    "---\n",
    "    \n",
    "| ⚡ Description: INTRODUCTION ⚡ |\n",
    "| :--------------------------- |\n",
    "| We will address the problem statement and objectives, as well as the classification of data aspects and a brief discussion of the Climate Change Belief Analysis in this part.|"
   ]
  },
  {
   "cell_type": "markdown",
   "metadata": {},
   "source": [
    "The Sustainable Development Goals (SDGs) were established in 2015 as a blueprint for peace and prosperity for people and the planet, now and into the future. The SDGs must be monitored in order to gauge development and challenges to achieving such common objectives. Teams from the United Nations evaluate streams of SDG-related papers created by governments, academia, business, and public bodies to determine how well each SDG is progressing.\n",
    "Although UNEP has experts in many domains that can help in evaluating streams of SDG-related papers, connections to the SDGs outside of their areas of expertise may be missed.\n",
    "so for that reason we , members of team A have been tasked to build an NLP module that would help identify SDGs based on articles fed to the module"
   ]
  },
  {
   "cell_type": "markdown",
   "metadata": {},
   "source": [
    "### 1.1 <strong>Problem Statement</strong></a>\n",
    "---\n",
    "\n",
    "to be typed"
   ]
  },
  {
   "cell_type": "markdown",
   "metadata": {},
   "source": [
    "<a id=\"po\"></a>\n",
    "\n",
    "### 1.2 <strong>Project Objectives</strong></a>\n",
    "---\n",
    "\n",
    "* Clean the dataset so that it may be utilized for model development.\n",
    "\n",
    "* Create a variety of models to identify the various SDGs.\n",
    "\n",
    "* Using the provided Test Data, assess the model's accuracy in making predictions.\n",
    "\n",
    "* Pick the best model for categorizing SDG articles."
   ]
  },
  {
   "cell_type": "markdown",
   "metadata": {},
   "source": [
    "<a id=\"dodf\"></a>\n",
    "\n",
    "### 1.3 <strong>Definition of Data Features</strong></a>\n",
    "---\n",
    "#### I. Data Source\n",
    "The Sustainable Development Goals (SDGs) Community Dataset (OSDG-CD) is the end product of hundreds of volunteers' efforts on the OSDG Community Platform to advance our understanding of the SDGs (OSDG-CP). It includes hundreds of text snippets that community volunteers labeled with regard to the SDGs.\n",
    "\n",
    "#### I. Goal Description\n",
    "1. End poverty in all its forms everywhere\n",
    "2. End hunger, achieve food security and improved nutrition and promote sustainable agriculture\n",
    "3. Ensure healthy lives and promote well-being for all at all ages\n",
    "4. Ensure inclusive and equitable quality education and promote lifelong learning opportunities for all\n",
    "5. Achieve gender equality and empower all women and girls\n",
    "6. Ensure availability and sustainable management of water and sanitation for all\n",
    "7. Ensure access to affordable, reliable, sustainable and modern energy for all\n",
    "8. Promote sustained, inclusive and sustainable economic growth, full and productive employment and decent work for all\n",
    "9. Build resilient infrastructure, promote inclusive and sustainable industrialization and foster innovation\n",
    "10. Reduce inequality within and among countries\n",
    "11. Make cities and human settlements inclusive, safe, resilient and sustainable\n",
    "12. Ensure sustainable consumption and production patterns\n",
    "13. Take urgent action to combat climate change and its impacts\n",
    "14. Conserve and sustainably use the oceans, seas and marine resources for sustainable development\n",
    "15. Protect, restore and promote sustainable use of terrestrial ecosystems, sustainably manage forests, combat desertification, and halt and reverse land degradation and halt biodiversity loss\n",
    "16. Promote peaceful and inclusive societies for sustainable development, provide access to justice for all and build effective, accountable and inclusive institutions at all levels\n",
    "17. Strengthen the means of implementation and revitalize the Global Partnership for Sustainable Development\n",
    "\n",
    "\n",
    "\n",
    "#### II. Column Definitions\n",
    "The OSDG-CD dataset is provided in a .csv format. It is a flat tabular dataset that contains the following columns:\n",
    "\n",
    "* doi : Digital Object Identifier of the original document\n",
    "* text_id : unique text identifier;\n",
    "* text : text excerpt from the document;\n",
    "* sdg : the SDG the text is validated against;\n",
    "* labels_negative : the number of volunteers who rejected the suggested SDG label;\n",
    "* labels_positive : the number of volunteers who accepted the suggested SDG label;\n",
    "* agreement : agreement score based on the formula described <a href=\"https://github.com/osdg-ai/osdg-data\"> Here</a>"
   ]
  },
  {
   "cell_type": "markdown",
   "metadata": {},
   "source": [
    " <a id=\"two\"></a>\n",
    "## 2. <strong>Import Necessary Libraries</strong></a>\n",
    "<a href=#cont>Back to Table of Contents</a>\n",
    "\n",
    "---\n",
    "    \n",
    "| ⚡ Description: Import necessary libraries ⚡ |\n",
    "| :--------------------------- |\n",
    "| We'd be importing all of the necessary libraries for the notebook to run smoothly..|\n",
    "\n"
   ]
  },
  {
   "cell_type": "code",
   "execution_count": 4,
   "metadata": {},
   "outputs": [],
   "source": [
    "# importing basic and fundamental libaries\n",
    "import numpy as np\n",
    "from scipy import stats\n",
    "import pandas as pd\n",
    "import string\n",
    "import re\n",
    "import pickle\n",
    "import pycountry\n",
    "\n",
    "# imports for data visualisation\n",
    "import matplotlib.pyplot as plt\n",
    "import seaborn as sns\n",
    "%matplotlib inline\n",
    "from textblob import TextBlob\n",
    "from nltk.probability import FreqDist\n",
    "from wordcloud import WordCloud, ImageColorGenerator #Pip install wordcloud\n",
    "import plotly.express as px\n",
    "import plotly.graph_objects as go\n",
    "from wordcloud import WordCloud\n",
    "\n",
    "# libraries for NLP\n",
    "import nltk\n",
    "from nltk import SnowballStemmer, PorterStemmer, LancasterStemmer\n",
    "from nltk.stem import WordNetLemmatizer\n",
    "from sklearn.feature_extraction.text import TfidfVectorizer\n",
    "from nltk.corpus import stopwords, wordnet\n",
    "from nltk.tokenize import word_tokenize\n",
    "from nltk.tokenize import TreebankWordTokenizer\n",
    "\n",
    "# importing libraries for utility from sklearn\n",
    "from sklearn.model_selection import train_test_split\n",
    "from sklearn.feature_extraction.text import CountVectorizer\n",
    "from sklearn.preprocessing import MinMaxScaler\n",
    "from sklearn.utils import resample\n",
    "from sklearn.pipeline import Pipeline\n",
    "from sklearn.model_selection import cross_validate\n",
    "from sklearn.feature_extraction.text import TfidfTransformer\n",
    "from sklearn.model_selection import GridSearchCV\n",
    "\n",
    "# importing libraries for modelling form sklearn\n",
    "from sklearn.ensemble import RandomForestClassifier\n",
    "from sklearn.linear_model import LogisticRegression\n",
    "from sklearn.naive_bayes import MultinomialNB\n",
    "from sklearn.neighbors import KNeighborsClassifier\n",
    "from sklearn.svm import SVC\n",
    "from sklearn.tree import DecisionTreeClassifier\n",
    "from sklearn.ensemble import BaggingClassifier\n",
    "\n",
    "# imports for other libraires\n",
    "import pickle\n",
    "import warnings\n",
    "warnings.filterwarnings(\"ignore\")\n",
    "import en_core_web_sm\n",
    "import spacy\n",
    "# libraries to check model metrics from sklearn\n",
    "from sklearn.metrics import confusion_matrix, f1_score, classification_report,accuracy_score\n",
    "\n",
    "# Enable interactive visualisations in Jupyter\n",
    "from ipywidgets import interact, interact_manual, widgets\n",
    "import plotly.express as px\n",
    "\n",
    "# Suppressing unnwarranted warnings\n",
    "import warnings\n",
    "warnings.filterwarnings(\"ignore\")"
   ]
  },
  {
   "cell_type": "markdown",
   "metadata": {},
   "source": [
    "<a id=\"Three\"></a>\n",
    "## 3. <strong>Loading the Data</strong></a>\n",
    "<a class=\"anchor\" id=\"1.1\"></a>\n",
    "<a href=#cont>Back to Table of Contents</a>\n",
    "\n",
    "---\n",
    "    \n",
    "| ⚡ Description: Loading the data ⚡ |\n",
    "| :--------------------------- |\n",
    "| The data from the `train` file is loaded into a DataFrame in this section.. |\n",
    "\n",
    "---"
   ]
  },
  {
   "cell_type": "code",
   "execution_count": 5,
   "metadata": {},
   "outputs": [],
   "source": [
    "# Importing the train & test data sets\n",
    "train = pd.read_csv('data/train.csv')\n",
    "test = pd.read_csv('data/test.csv')\n",
    "\n",
    "# EDA Datasets\n",
    "train_eda = pd.read_csv('data/train.csv')\n",
    "test_eda = pd.read_csv('data/test.csv')\n"
   ]
  },
  {
   "cell_type": "code",
   "execution_count": 6,
   "metadata": {},
   "outputs": [
    {
     "data": {
      "text/html": [
       "<div>\n",
       "<style scoped>\n",
       "    .dataframe tbody tr th:only-of-type {\n",
       "        vertical-align: middle;\n",
       "    }\n",
       "\n",
       "    .dataframe tbody tr th {\n",
       "        vertical-align: top;\n",
       "    }\n",
       "\n",
       "    .dataframe thead th {\n",
       "        text-align: right;\n",
       "    }\n",
       "</style>\n",
       "<table border=\"1\" class=\"dataframe\">\n",
       "  <thead>\n",
       "    <tr style=\"text-align: right;\">\n",
       "      <th></th>\n",
       "      <th>doi</th>\n",
       "      <th>text_id</th>\n",
       "      <th>text</th>\n",
       "      <th>sdg</th>\n",
       "      <th>labels_negative</th>\n",
       "      <th>labels_positive</th>\n",
       "      <th>agreement</th>\n",
       "      <th>id</th>\n",
       "    </tr>\n",
       "  </thead>\n",
       "  <tbody>\n",
       "    <tr>\n",
       "      <th>0</th>\n",
       "      <td>10.18356/5950d914-en</td>\n",
       "      <td>bf7763beb5ad7a16764d1b7fa87ab018</td>\n",
       "      <td>Indicators for targets 9.b and 9.c have data a...</td>\n",
       "      <td>9</td>\n",
       "      <td>4</td>\n",
       "      <td>5</td>\n",
       "      <td>0.111111</td>\n",
       "      <td>1</td>\n",
       "    </tr>\n",
       "    <tr>\n",
       "      <th>1</th>\n",
       "      <td>10.18356/5950d914-en</td>\n",
       "      <td>b6415a528064b85fdde4b4c61239ed3a</td>\n",
       "      <td>Manufacturing value added as a percentage of G...</td>\n",
       "      <td>9</td>\n",
       "      <td>0</td>\n",
       "      <td>3</td>\n",
       "      <td>1.000000</td>\n",
       "      <td>2</td>\n",
       "    </tr>\n",
       "    <tr>\n",
       "      <th>2</th>\n",
       "      <td>10.18356/31959a6d-en</td>\n",
       "      <td>29127def7e81b999b87c8e887a4fe882</td>\n",
       "      <td>To Share or Not to Share: That is the Question...</td>\n",
       "      <td>5</td>\n",
       "      <td>2</td>\n",
       "      <td>7</td>\n",
       "      <td>0.555556</td>\n",
       "      <td>3</td>\n",
       "    </tr>\n",
       "    <tr>\n",
       "      <th>3</th>\n",
       "      <td>10.1787/eco/surveys-cze-2014-6-en</td>\n",
       "      <td>459db322b9e44630320fda76783e0f69</td>\n",
       "      <td>As of 2004, parents can work without losing th...</td>\n",
       "      <td>4</td>\n",
       "      <td>2</td>\n",
       "      <td>2</td>\n",
       "      <td>0.000000</td>\n",
       "      <td>4</td>\n",
       "    </tr>\n",
       "    <tr>\n",
       "      <th>4</th>\n",
       "      <td>10.1787/9789264119536-11-en</td>\n",
       "      <td>8b7d8c6c605fe9695d08ab03d601e0e9</td>\n",
       "      <td>A question of considerable policy relevance is...</td>\n",
       "      <td>10</td>\n",
       "      <td>1</td>\n",
       "      <td>4</td>\n",
       "      <td>0.600000</td>\n",
       "      <td>5</td>\n",
       "    </tr>\n",
       "  </tbody>\n",
       "</table>\n",
       "</div>"
      ],
      "text/plain": [
       "                                 doi                           text_id  \\\n",
       "0               10.18356/5950d914-en  bf7763beb5ad7a16764d1b7fa87ab018   \n",
       "1               10.18356/5950d914-en  b6415a528064b85fdde4b4c61239ed3a   \n",
       "2               10.18356/31959a6d-en  29127def7e81b999b87c8e887a4fe882   \n",
       "3  10.1787/eco/surveys-cze-2014-6-en  459db322b9e44630320fda76783e0f69   \n",
       "4        10.1787/9789264119536-11-en  8b7d8c6c605fe9695d08ab03d601e0e9   \n",
       "\n",
       "                                                text  sdg  labels_negative  \\\n",
       "0  Indicators for targets 9.b and 9.c have data a...    9                4   \n",
       "1  Manufacturing value added as a percentage of G...    9                0   \n",
       "2  To Share or Not to Share: That is the Question...    5                2   \n",
       "3  As of 2004, parents can work without losing th...    4                2   \n",
       "4  A question of considerable policy relevance is...   10                1   \n",
       "\n",
       "   labels_positive  agreement  id  \n",
       "0                5   0.111111   1  \n",
       "1                3   1.000000   2  \n",
       "2                7   0.555556   3  \n",
       "3                2   0.000000   4  \n",
       "4                4   0.600000   5  "
      ]
     },
     "execution_count": 6,
     "metadata": {},
     "output_type": "execute_result"
    }
   ],
   "source": [
    "train_eda.head()"
   ]
  },
  {
   "cell_type": "markdown",
   "metadata": {},
   "source": [
    "<a id=three1></a>\n",
    "\n",
    "#### 3.1 <strong>Set Pandas to enable viewing of all columns</strong></a>\n",
    "Due to the length of th content of the text column, pandas cannot display all of them at once by default. While doing EDA and data cleansing, we will need to see all of the columns. When the dataframe is presented, the code below allows us to see the whole set of columns in our data collection. "
   ]
  },
  {
   "cell_type": "code",
   "execution_count": 7,
   "metadata": {},
   "outputs": [],
   "source": [
    "# # Set option to display all columns\n",
    "# pd.set_option('display.max_colwidth', None)"
   ]
  },
  {
   "cell_type": "markdown",
   "metadata": {},
   "source": [
    "<a id=three2></a>\n",
    "\n",
    "#### 3.2 <strong>Check the \"Shape\" of the data-sets</strong></a>\n",
    "As demonstrated by the shape of both datasets, the data has been separated into two sets. The form also shows that the training data set has eight columns, but the test data set has seven . Our model is designed to forecast the column that is not present in the test set. We can look for that specific item by looking for the missing entity (Column) in the test data set. After looking at both datasets, the column may be identified as the SDG column."
   ]
  },
  {
   "cell_type": "code",
   "execution_count": 8,
   "metadata": {},
   "outputs": [
    {
     "data": {
      "text/plain": [
       "((25944, 8), (6487, 7))"
      ]
     },
     "execution_count": 8,
     "metadata": {},
     "output_type": "execute_result"
    }
   ],
   "source": [
    "#Checking the shape of the data sets\n",
    "train.shape, test.shape"
   ]
  },
  {
   "cell_type": "code",
   "execution_count": 9,
   "metadata": {},
   "outputs": [
    {
     "data": {
      "text/plain": [
       "(Index(['doi', 'text_id', 'text', 'sdg', 'labels_negative', 'labels_positive',\n",
       "        'agreement', 'id'],\n",
       "       dtype='object'),\n",
       " Index(['doi', 'text_id', 'text', 'labels_negative', 'labels_positive',\n",
       "        'agreement', 'id'],\n",
       "       dtype='object'))"
      ]
     },
     "execution_count": 9,
     "metadata": {},
     "output_type": "execute_result"
    }
   ],
   "source": [
    "#Checking the columns of the data set\n",
    "train_eda.columns, test_eda.columns"
   ]
  },
  {
   "cell_type": "markdown",
   "metadata": {},
   "source": [
    "<a id=four1></a>\n",
    "\n",
    "#### 3.3 <strong>Dataset summary</strong></a>\n",
    "\n",
    "It is important to identify the columns that have null entries as null values can affect the performance of our model. The \"isnull\" function shows the number of null values that are contained in each column of the dataset. This data set is relatively clean \n",
    "Pandas dataframe.info() function is used to get a concise summary of the dataframe"
   ]
  },
  {
   "cell_type": "code",
   "execution_count": 10,
   "metadata": {},
   "outputs": [],
   "source": [
    "def Summary(df):\n",
    "    i = df.info()\n",
    "    print (\"NUL Values\")\n",
    "    n = df.isna().sum()\n",
    "    return i,n"
   ]
  },
  {
   "cell_type": "code",
   "execution_count": 11,
   "metadata": {},
   "outputs": [
    {
     "name": "stdout",
     "output_type": "stream",
     "text": [
      "<class 'pandas.core.frame.DataFrame'>\n",
      "RangeIndex: 25944 entries, 0 to 25943\n",
      "Data columns (total 8 columns):\n",
      " #   Column           Non-Null Count  Dtype  \n",
      "---  ------           --------------  -----  \n",
      " 0   doi              25944 non-null  object \n",
      " 1   text_id          25944 non-null  object \n",
      " 2   text             25944 non-null  object \n",
      " 3   sdg              25944 non-null  int64  \n",
      " 4   labels_negative  25944 non-null  int64  \n",
      " 5   labels_positive  25944 non-null  int64  \n",
      " 6   agreement        25944 non-null  float64\n",
      " 7   id               25944 non-null  int64  \n",
      "dtypes: float64(1), int64(4), object(3)\n",
      "memory usage: 1.6+ MB\n",
      "NUL Values\n"
     ]
    },
    {
     "data": {
      "text/plain": [
       "(None,\n",
       " doi                0\n",
       " text_id            0\n",
       " text               0\n",
       " sdg                0\n",
       " labels_negative    0\n",
       " labels_positive    0\n",
       " agreement          0\n",
       " id                 0\n",
       " dtype: int64)"
      ]
     },
     "execution_count": 11,
     "metadata": {},
     "output_type": "execute_result"
    }
   ],
   "source": [
    "Summary(train)"
   ]
  },
  {
   "cell_type": "markdown",
   "metadata": {},
   "source": [
    "<a id=\"four\"></a>\n",
    "## 4. <strong>Data Preprocessing (Cleaning)</strong></a>\n",
    "<a class=\"anchor\" id=\"1.1\"></a>\n",
    "<a href=#cont>Back to Table of Contents</a>\n",
    "\n",
    "| ⚡ Description: Data Cleaning ⚡ |\n",
    "| :--------------------------- |\n",
    "| In this phase, we'll convert the data into a readable and desired format, as well as filter out the most relevant information.. |\n",
    "# "
   ]
  },
  {
   "cell_type": "code",
   "execution_count": 12,
   "metadata": {},
   "outputs": [],
   "source": [
    "# keeping only the texts whose suggested sdg labels is accepted and the agreement score is at least .6\n",
    "def sdg_selector(train):\n",
    "    print('Shape before:', train.shape)\n",
    "    train = train.query('agreement >= .6 and labels_positive > labels_negative').copy()\n",
    "    print('Shape after :', train.shape)\n",
    "    display(train.head(1))"
   ]
  },
  {
   "cell_type": "code",
   "execution_count": 13,
   "metadata": {},
   "outputs": [
    {
     "name": "stdout",
     "output_type": "stream",
     "text": [
      "Shape before: (25944, 8)\n",
      "Shape after : (14446, 8)\n"
     ]
    },
    {
     "data": {
      "text/html": [
       "<div>\n",
       "<style scoped>\n",
       "    .dataframe tbody tr th:only-of-type {\n",
       "        vertical-align: middle;\n",
       "    }\n",
       "\n",
       "    .dataframe tbody tr th {\n",
       "        vertical-align: top;\n",
       "    }\n",
       "\n",
       "    .dataframe thead th {\n",
       "        text-align: right;\n",
       "    }\n",
       "</style>\n",
       "<table border=\"1\" class=\"dataframe\">\n",
       "  <thead>\n",
       "    <tr style=\"text-align: right;\">\n",
       "      <th></th>\n",
       "      <th>doi</th>\n",
       "      <th>text_id</th>\n",
       "      <th>text</th>\n",
       "      <th>sdg</th>\n",
       "      <th>labels_negative</th>\n",
       "      <th>labels_positive</th>\n",
       "      <th>agreement</th>\n",
       "      <th>id</th>\n",
       "    </tr>\n",
       "  </thead>\n",
       "  <tbody>\n",
       "    <tr>\n",
       "      <th>1</th>\n",
       "      <td>10.18356/5950d914-en</td>\n",
       "      <td>b6415a528064b85fdde4b4c61239ed3a</td>\n",
       "      <td>Manufacturing value added as a percentage of GDP stood at 10.5 per cent in Africa (excluding North Africa) and 11.3 per cent in North Africa in 2015. By comparison, the figure was 14.0 per cent in Latin America and the Caribbean and 12.6 per cent for all the least developed countries, 23 per cent for Asia and the Pacific and 16 per cent globally. Neither North Africa nor the rest of Africa made significant progress during the first half of the current decade. Manufacturing value added as a percentage of GDP increased only slightly, from 10.3 to 10.5 per cent during the period 2010-2015 for Africa (excluding North Africa) and from 11.2 to 11.5 per cent for North Africa.</td>\n",
       "      <td>9</td>\n",
       "      <td>0</td>\n",
       "      <td>3</td>\n",
       "      <td>1.0</td>\n",
       "      <td>2</td>\n",
       "    </tr>\n",
       "  </tbody>\n",
       "</table>\n",
       "</div>"
      ],
      "text/plain": [
       "                    doi                           text_id  \\\n",
       "1  10.18356/5950d914-en  b6415a528064b85fdde4b4c61239ed3a   \n",
       "\n",
       "                                                                                                                                                                                                                                                                                                                                                                                                                                                                                                                                                                                                                                                                                                    text  \\\n",
       "1  Manufacturing value added as a percentage of GDP stood at 10.5 per cent in Africa (excluding North Africa) and 11.3 per cent in North Africa in 2015. By comparison, the figure was 14.0 per cent in Latin America and the Caribbean and 12.6 per cent for all the least developed countries, 23 per cent for Asia and the Pacific and 16 per cent globally. Neither North Africa nor the rest of Africa made significant progress during the first half of the current decade. Manufacturing value added as a percentage of GDP increased only slightly, from 10.3 to 10.5 per cent during the period 2010-2015 for Africa (excluding North Africa) and from 11.2 to 11.5 per cent for North Africa.   \n",
       "\n",
       "   sdg  labels_negative  labels_positive  agreement  id  \n",
       "1    9                0                3        1.0   2  "
      ]
     },
     "metadata": {},
     "output_type": "display_data"
    }
   ],
   "source": [
    "sdg_selector(train)"
   ]
  },
  {
   "cell_type": "markdown",
   "metadata": {},
   "source": [
    "<a id=four1></a>\n",
    "### 4.1 <strong>Preprocessing the Dataset</strong></a>\n",
    "\n",
    "#### Due to the presence of a non numerical column in our datasets, some preprocessing processes must be performed, including:\n",
    "\n",
    "\n",
    "* letter casing :Converting all letters to upper case or lower case is called letter casing.\n",
    "\n",
    "* Tokenization :Tokenizing refers to the process of converting tweets to tokens. Words separated by spaces in a text are referred to as tokens.\n",
    "\n",
    "* Noise removal: Unwanted characters such as HTML tags, punctuation marks, special characters, white spaces, and so on are removed.\n",
    "\n",
    "* Stopwords should be removed because they don't contribute anything to the machine learning model. The nltk library can specify a list of stopwords, or it can be tailored to a particular company.\n",
    "\n",
    "* Lemmatization: the process of reducing a word's several forms to a single form, such as converting \"builds,\" \"building,\" or \"built\" to the lemma.\n",
    "\n",
    "---"
   ]
  },
  {
   "cell_type": "code",
   "execution_count": 14,
   "metadata": {},
   "outputs": [],
   "source": [
    "#removing links\n",
    "train['text'] = train['text'].str.replace('http\\S+|www.\\S+', '', case=False)\n",
    "train['text'] = train['text'].str.replace(r's*https?://S+(s+|$)', ' ',case=False).str.strip()\n",
    "test['text'] = test['text'].str.replace('http\\S+|www.\\S+', '', case=False)\n",
    "test['text'] = test['text'].str.replace(r's*https?://S+(s+|$)', ' ',case=False).str.strip()"
   ]
  },
  {
   "cell_type": "code",
   "execution_count": 15,
   "metadata": {},
   "outputs": [],
   "source": [
    "def preprocess(text):\n",
    "    \"\"\"This function takes in pandas dataframe, removes URL hyperlinks, stopwords, punctuation noises,contractions and lemmatize the text.\"\"\"\n",
    "\n",
    "    tokenizer = TreebankWordTokenizer() \n",
    "    lemmatizer = WordNetLemmatizer()\n",
    "    stopwords_list = stopwords.words('english')\n",
    "    point_noise = string.punctuation + '0123456789'\n",
    "    \n",
    "    cleanText = re.sub(r'@[a-zA-Z0-9\\_\\w]+', '', text)#Remove @mentions\n",
    "    cleanText = re.sub(r'#[a-zA-Z0-9]+', '', cleanText) #Remove '#' symbols\n",
    "    cleanText = re.sub(r'RT', '', cleanText)#Remove RT from text\n",
    "    #Panding Contractions\n",
    "    # specific\n",
    "    cleanText = re.sub(r\"won\\'t\", \"will not\", cleanText)\n",
    "    cleanText = re.sub(r\"can\\'t\", \"can not\", cleanText)\n",
    "    cleanText = re.sub(r\"also\", \"\", cleanText)\n",
    "    #Panding Contractions\n",
    "    # general\n",
    "    cleanText = re.sub(r\"n\\'t\", \" not\", cleanText)\n",
    "    cleanText = re.sub(r\"\\'re\", \" are\", cleanText)\n",
    "    cleanText = re.sub(r\"\\'s\", \" is\", cleanText)\n",
    "    cleanText = re.sub(r\"\\'d\", \" would\", cleanText)\n",
    "    cleanText = re.sub(r\"\\'ll\", \" will\", cleanText)\n",
    "    cleanText = re.sub(r\"\\'t\", \" not\", cleanText)\n",
    "    cleanText = re.sub(r\"\\'ve\", \" have\", cleanText)\n",
    "    cleanText = re.sub(r\"\\'m\", \" am\", cleanText)\n",
    "    cleanText = ''.join([word for word in cleanText if word not in point_noise]) #Removing punctuations and numbers.\n",
    "    cleanText = cleanText.lower() #Lowering case\n",
    "    cleanText = \"\".join(word for word in cleanText if ord(word)<128) #Removing NonAscii\n",
    "    cleanText = tokenizer.tokenize(cleanText) #Coverting each words to tokens\n",
    "    cleanText = [lemmatizer.lemmatize(word) for word in cleanText if word not in stopwords_list] #Lemmatizing and removing stopwords\n",
    "    cleanText = [word for word in cleanText if len(word) >= 2]\n",
    "    # cleanText = ' '.join(cleanText)\n",
    "    #return cleanText\n",
    "    return cleanText"
   ]
  },
  {
   "cell_type": "code",
   "execution_count": 16,
   "metadata": {},
   "outputs": [],
   "source": [
    "#applying the preprocess function\n",
    "train[\"text\"]=train[\"text\"].apply(preprocess)\n"
   ]
  },
  {
   "cell_type": "code",
   "execution_count": 17,
   "metadata": {},
   "outputs": [],
   "source": [
    "test[\"text\"]=test[\"text\"].apply(preprocess)"
   ]
  },
  {
   "cell_type": "code",
   "execution_count": 18,
   "metadata": {},
   "outputs": [
    {
     "data": {
      "text/html": [
       "<div>\n",
       "<style scoped>\n",
       "    .dataframe tbody tr th:only-of-type {\n",
       "        vertical-align: middle;\n",
       "    }\n",
       "\n",
       "    .dataframe tbody tr th {\n",
       "        vertical-align: top;\n",
       "    }\n",
       "\n",
       "    .dataframe thead th {\n",
       "        text-align: right;\n",
       "    }\n",
       "</style>\n",
       "<table border=\"1\" class=\"dataframe\">\n",
       "  <thead>\n",
       "    <tr style=\"text-align: right;\">\n",
       "      <th></th>\n",
       "      <th>doi</th>\n",
       "      <th>text_id</th>\n",
       "      <th>text</th>\n",
       "      <th>sdg</th>\n",
       "      <th>labels_negative</th>\n",
       "      <th>labels_positive</th>\n",
       "      <th>agreement</th>\n",
       "      <th>id</th>\n",
       "    </tr>\n",
       "  </thead>\n",
       "  <tbody>\n",
       "    <tr>\n",
       "      <th>0</th>\n",
       "      <td>10.18356/5950d914-en</td>\n",
       "      <td>bf7763beb5ad7a16764d1b7fa87ab018</td>\n",
       "      <td>[indicator, target, data, available, globally, energy, efficiency, use, cleaner, fuel, technology, reduced, carbon, dioxide, emission, per, unit, value, added, per, cent, although, expenditure, research, development, continues, grow, globally, poorest, country, especially, africa, spend, small, proportion, gdp, expenditure, global, investment, research, development, stood, trillion, purchasing, power, parity, billion]</td>\n",
       "      <td>9</td>\n",
       "      <td>4</td>\n",
       "      <td>5</td>\n",
       "      <td>0.111111</td>\n",
       "      <td>1</td>\n",
       "    </tr>\n",
       "  </tbody>\n",
       "</table>\n",
       "</div>"
      ],
      "text/plain": [
       "                    doi                           text_id  \\\n",
       "0  10.18356/5950d914-en  bf7763beb5ad7a16764d1b7fa87ab018   \n",
       "\n",
       "                                                                                                                                                                                                                                                                                                                                                                                                                                    text  \\\n",
       "0  [indicator, target, data, available, globally, energy, efficiency, use, cleaner, fuel, technology, reduced, carbon, dioxide, emission, per, unit, value, added, per, cent, although, expenditure, research, development, continues, grow, globally, poorest, country, especially, africa, spend, small, proportion, gdp, expenditure, global, investment, research, development, stood, trillion, purchasing, power, parity, billion]   \n",
       "\n",
       "   sdg  labels_negative  labels_positive  agreement  id  \n",
       "0    9                4                5   0.111111   1  "
      ]
     },
     "execution_count": 18,
     "metadata": {},
     "output_type": "execute_result"
    }
   ],
   "source": [
    "train.head(1)"
   ]
  },
  {
   "cell_type": "markdown",
   "metadata": {},
   "source": [
    "<a id=\"five\"></a>\n",
    "## 5. <strong>Exploratory Data Analysis (EDA)</strong></a>\n",
    "<a class=\"anchor\" id=\"1.1\"></a>\n",
    "<a href=#cont>Back to Table of Contents</a>\n",
    "\n",
    "---\n",
    "    \n",
    "| ⚡ Description: Exploratory data analysis ⚡ |\n",
    "| :--------------------------- |\n",
    "| We'll use a range of strategies in this part to maximize specific insights into our dataset, uncover underlying structure, extract relevant variables, find outliers and anomalies, test assumptions, and establish the optimum estimation parameters. In other words, we want to go deeper into our dataset in order to learn more about its behavior! |\n",
    "\n",
    "---\n",
    "\n"
   ]
  },
  {
   "cell_type": "markdown",
   "metadata": {},
   "source": [
    "<a id=four3></a>\n",
    "\n",
    "#### 5.1 <strong>Most Frequent Words</strong></a>"
   ]
  },
  {
   "cell_type": "code",
   "execution_count": 19,
   "metadata": {},
   "outputs": [
    {
     "data": {
      "text/plain": [
       "[('country', 11043),\n",
       " ('policy', 6583),\n",
       " ('woman', 5843),\n",
       " ('development', 5827),\n",
       " ('water', 5423)]"
      ]
     },
     "execution_count": 19,
     "metadata": {},
     "output_type": "execute_result"
    }
   ],
   "source": [
    "from collections import Counter\n",
    "cnt = Counter()\n",
    "for message in train['text'].values:\n",
    "    for word in message:\n",
    "        cnt[word] += 1\n",
    "        \n",
    "cnt.most_common(5)"
   ]
  },
  {
   "cell_type": "markdown",
   "metadata": {},
   "source": [
    "<a id=four3></a>\n",
    "\n",
    "#### 5.1 <strong>Visualisation</strong></a>\n",
    "---\n",
    "* Separate Datframes of Text for each SDG "
   ]
  },
  {
   "cell_type": "code",
   "execution_count": 20,
   "metadata": {},
   "outputs": [
    {
     "name": "stdout",
     "output_type": "stream",
     "text": [
      "See distribution of messages per SDG : \n"
     ]
    },
    {
     "data": {
      "text/html": [
       "<style type=\"text/css\">\n",
       "#T_372b9_row0_col0 {\n",
       "  background-color: #d1d2e7;\n",
       "  color: #000000;\n",
       "}\n",
       "#T_372b9_row0_col1, #T_372b9_row13_col0 {\n",
       "  background-color: #3f007d;\n",
       "  color: #f1f1f1;\n",
       "}\n",
       "#T_372b9_row1_col0 {\n",
       "  background-color: #e0e0ee;\n",
       "  color: #000000;\n",
       "}\n",
       "#T_372b9_row1_col1, #T_372b9_row8_col0 {\n",
       "  background-color: #572c92;\n",
       "  color: #f1f1f1;\n",
       "}\n",
       "#T_372b9_row2_col0 {\n",
       "  background-color: #afaed4;\n",
       "  color: #000000;\n",
       "}\n",
       "#T_372b9_row2_col1 {\n",
       "  background-color: #7567af;\n",
       "  color: #f1f1f1;\n",
       "}\n",
       "#T_372b9_row3_col0 {\n",
       "  background-color: #c0c1de;\n",
       "  color: #000000;\n",
       "}\n",
       "#T_372b9_row3_col1 {\n",
       "  background-color: #8380bb;\n",
       "  color: #f1f1f1;\n",
       "}\n",
       "#T_372b9_row4_col0, #T_372b9_row14_col1 {\n",
       "  background-color: #fcfbfd;\n",
       "  color: #000000;\n",
       "}\n",
       "#T_372b9_row4_col1 {\n",
       "  background-color: #8885be;\n",
       "  color: #f1f1f1;\n",
       "}\n",
       "#T_372b9_row5_col0 {\n",
       "  background-color: #ecebf4;\n",
       "  color: #000000;\n",
       "}\n",
       "#T_372b9_row5_col1, #T_372b9_row11_col0 {\n",
       "  background-color: #8d89c0;\n",
       "  color: #f1f1f1;\n",
       "}\n",
       "#T_372b9_row6_col0 {\n",
       "  background-color: #f5f3f8;\n",
       "  color: #000000;\n",
       "}\n",
       "#T_372b9_row6_col1 {\n",
       "  background-color: #9a96c6;\n",
       "  color: #f1f1f1;\n",
       "}\n",
       "#T_372b9_row7_col0 {\n",
       "  background-color: #705eaa;\n",
       "  color: #f1f1f1;\n",
       "}\n",
       "#T_372b9_row7_col1 {\n",
       "  background-color: #a6a3cd;\n",
       "  color: #f1f1f1;\n",
       "}\n",
       "#T_372b9_row8_col1 {\n",
       "  background-color: #aeadd3;\n",
       "  color: #000000;\n",
       "}\n",
       "#T_372b9_row9_col0 {\n",
       "  background-color: #9e9ac8;\n",
       "  color: #f1f1f1;\n",
       "}\n",
       "#T_372b9_row9_col1 {\n",
       "  background-color: #d4d4e8;\n",
       "  color: #000000;\n",
       "}\n",
       "#T_372b9_row10_col0 {\n",
       "  background-color: #4b1687;\n",
       "  color: #f1f1f1;\n",
       "}\n",
       "#T_372b9_row10_col1 {\n",
       "  background-color: #e6e5f1;\n",
       "  color: #000000;\n",
       "}\n",
       "#T_372b9_row11_col1 {\n",
       "  background-color: #e9e8f2;\n",
       "  color: #000000;\n",
       "}\n",
       "#T_372b9_row12_col0 {\n",
       "  background-color: #7d77b7;\n",
       "  color: #f1f1f1;\n",
       "}\n",
       "#T_372b9_row12_col1 {\n",
       "  background-color: #eae9f3;\n",
       "  color: #000000;\n",
       "}\n",
       "#T_372b9_row13_col1 {\n",
       "  background-color: #eeecf4;\n",
       "  color: #000000;\n",
       "}\n",
       "#T_372b9_row14_col0 {\n",
       "  background-color: #63449d;\n",
       "  color: #f1f1f1;\n",
       "}\n",
       "</style>\n",
       "<table id=\"T_372b9\">\n",
       "  <thead>\n",
       "    <tr>\n",
       "      <th class=\"blank level0\" >&nbsp;</th>\n",
       "      <th id=\"T_372b9_level0_col0\" class=\"col_heading level0 col0\" >sdg</th>\n",
       "      <th id=\"T_372b9_level0_col1\" class=\"col_heading level0 col1\" >text</th>\n",
       "    </tr>\n",
       "  </thead>\n",
       "  <tbody>\n",
       "    <tr>\n",
       "      <th id=\"T_372b9_level0_row0\" class=\"row_heading level0 row0\" >4</th>\n",
       "      <td id=\"T_372b9_row0_col0\" class=\"data row0 col0\" >5</td>\n",
       "      <td id=\"T_372b9_row0_col1\" class=\"data row0 col1\" >3438</td>\n",
       "    </tr>\n",
       "    <tr>\n",
       "      <th id=\"T_372b9_level0_row1\" class=\"row_heading level0 row1\" >3</th>\n",
       "      <td id=\"T_372b9_row1_col0\" class=\"data row1 col0\" >4</td>\n",
       "      <td id=\"T_372b9_row1_col1\" class=\"data row1 col1\" >2999</td>\n",
       "    </tr>\n",
       "    <tr>\n",
       "      <th id=\"T_372b9_level0_row2\" class=\"row_heading level0 row2\" >6</th>\n",
       "      <td id=\"T_372b9_row2_col0\" class=\"data row2 col0\" >7</td>\n",
       "      <td id=\"T_372b9_row2_col1\" class=\"data row2 col1\" >2473</td>\n",
       "    </tr>\n",
       "    <tr>\n",
       "      <th id=\"T_372b9_level0_row3\" class=\"row_heading level0 row3\" >5</th>\n",
       "      <td id=\"T_372b9_row3_col0\" class=\"data row3 col0\" >6</td>\n",
       "      <td id=\"T_372b9_row3_col1\" class=\"data row3 col1\" >2247</td>\n",
       "    </tr>\n",
       "    <tr>\n",
       "      <th id=\"T_372b9_level0_row4\" class=\"row_heading level0 row4\" >0</th>\n",
       "      <td id=\"T_372b9_row4_col0\" class=\"data row4 col0\" >1</td>\n",
       "      <td id=\"T_372b9_row4_col1\" class=\"data row4 col1\" >2190</td>\n",
       "    </tr>\n",
       "    <tr>\n",
       "      <th id=\"T_372b9_level0_row5\" class=\"row_heading level0 row5\" >2</th>\n",
       "      <td id=\"T_372b9_row5_col0\" class=\"data row5 col0\" >3</td>\n",
       "      <td id=\"T_372b9_row5_col1\" class=\"data row5 col1\" >2132</td>\n",
       "    </tr>\n",
       "    <tr>\n",
       "      <th id=\"T_372b9_level0_row6\" class=\"row_heading level0 row6\" >1</th>\n",
       "      <td id=\"T_372b9_row6_col0\" class=\"data row6 col0\" >2</td>\n",
       "      <td id=\"T_372b9_row6_col1\" class=\"data row6 col1\" >1963</td>\n",
       "    </tr>\n",
       "    <tr>\n",
       "      <th id=\"T_372b9_level0_row7\" class=\"row_heading level0 row7\" >10</th>\n",
       "      <td id=\"T_372b9_row7_col0\" class=\"data row7 col0\" >11</td>\n",
       "      <td id=\"T_372b9_row7_col1\" class=\"data row7 col1\" >1798</td>\n",
       "    </tr>\n",
       "    <tr>\n",
       "      <th id=\"T_372b9_level0_row8\" class=\"row_heading level0 row8\" >12</th>\n",
       "      <td id=\"T_372b9_row8_col0\" class=\"data row8 col0\" >13</td>\n",
       "      <td id=\"T_372b9_row8_col1\" class=\"data row8 col1\" >1695</td>\n",
       "    </tr>\n",
       "    <tr>\n",
       "      <th id=\"T_372b9_level0_row9\" class=\"row_heading level0 row9\" >7</th>\n",
       "      <td id=\"T_372b9_row9_col0\" class=\"data row9 col0\" >8</td>\n",
       "      <td id=\"T_372b9_row9_col1\" class=\"data row9 col1\" >1218</td>\n",
       "    </tr>\n",
       "    <tr>\n",
       "      <th id=\"T_372b9_level0_row10\" class=\"row_heading level0 row10\" >13</th>\n",
       "      <td id=\"T_372b9_row10_col0\" class=\"data row10 col0\" >14</td>\n",
       "      <td id=\"T_372b9_row10_col1\" class=\"data row10 col1\" >917</td>\n",
       "    </tr>\n",
       "    <tr>\n",
       "      <th id=\"T_372b9_level0_row11\" class=\"row_heading level0 row11\" >8</th>\n",
       "      <td id=\"T_372b9_row11_col0\" class=\"data row11 col0\" >9</td>\n",
       "      <td id=\"T_372b9_row11_col1\" class=\"data row11 col1\" >873</td>\n",
       "    </tr>\n",
       "    <tr>\n",
       "      <th id=\"T_372b9_level0_row12\" class=\"row_heading level0 row12\" >9</th>\n",
       "      <td id=\"T_372b9_row12_col0\" class=\"data row12 col0\" >10</td>\n",
       "      <td id=\"T_372b9_row12_col1\" class=\"data row12 col1\" >843</td>\n",
       "    </tr>\n",
       "    <tr>\n",
       "      <th id=\"T_372b9_level0_row13\" class=\"row_heading level0 row13\" >14</th>\n",
       "      <td id=\"T_372b9_row13_col0\" class=\"data row13 col0\" >15</td>\n",
       "      <td id=\"T_372b9_row13_col1\" class=\"data row13 col1\" >785</td>\n",
       "    </tr>\n",
       "    <tr>\n",
       "      <th id=\"T_372b9_level0_row14\" class=\"row_heading level0 row14\" >11</th>\n",
       "      <td id=\"T_372b9_row14_col0\" class=\"data row14 col0\" >12</td>\n",
       "      <td id=\"T_372b9_row14_col1\" class=\"data row14 col1\" >373</td>\n",
       "    </tr>\n",
       "  </tbody>\n",
       "</table>\n"
      ],
      "text/plain": [
       "<pandas.io.formats.style.Styler at 0x2d29a6f4910>"
      ]
     },
     "execution_count": 20,
     "metadata": {},
     "output_type": "execute_result"
    }
   ],
   "source": [
    "print(\"See distribution of messages per SDG : \")\n",
    "count = train.groupby(\"sdg\").count()[\"text\"].reset_index().sort_values(by=\"text\", ascending=False)\n",
    "count.style.background_gradient(cmap=\"Purples\")"
   ]
  },
  {
   "cell_type": "code",
   "execution_count": 21,
   "metadata": {},
   "outputs": [
    {
     "data": {
      "text/html": [
       "<div>\n",
       "<style scoped>\n",
       "    .dataframe tbody tr th:only-of-type {\n",
       "        vertical-align: middle;\n",
       "    }\n",
       "\n",
       "    .dataframe tbody tr th {\n",
       "        vertical-align: top;\n",
       "    }\n",
       "\n",
       "    .dataframe thead th {\n",
       "        text-align: right;\n",
       "    }\n",
       "</style>\n",
       "<table border=\"1\" class=\"dataframe\">\n",
       "  <thead>\n",
       "    <tr style=\"text-align: right;\">\n",
       "      <th></th>\n",
       "      <th>doi</th>\n",
       "      <th>text_id</th>\n",
       "      <th>text</th>\n",
       "      <th>sdg</th>\n",
       "      <th>labels_negative</th>\n",
       "      <th>labels_positive</th>\n",
       "      <th>agreement</th>\n",
       "      <th>id</th>\n",
       "      <th>SDG_Labels</th>\n",
       "    </tr>\n",
       "  </thead>\n",
       "  <tbody>\n",
       "    <tr>\n",
       "      <th>0</th>\n",
       "      <td>10.18356/5950d914-en</td>\n",
       "      <td>bf7763beb5ad7a16764d1b7fa87ab018</td>\n",
       "      <td>[indicator, target, data, available, globally, energy, efficiency, use, cleaner, fuel, technology, reduced, carbon, dioxide, emission, per, unit, value, added, per, cent, although, expenditure, research, development, continues, grow, globally, poorest, country, especially, africa, spend, small, proportion, gdp, expenditure, global, investment, research, development, stood, trillion, purchasing, power, parity, billion]</td>\n",
       "      <td>9</td>\n",
       "      <td>4</td>\n",
       "      <td>5</td>\n",
       "      <td>0.111111</td>\n",
       "      <td>1</td>\n",
       "      <td>Industry, Innovation and Infrustructure</td>\n",
       "    </tr>\n",
       "  </tbody>\n",
       "</table>\n",
       "</div>"
      ],
      "text/plain": [
       "                    doi                           text_id  \\\n",
       "0  10.18356/5950d914-en  bf7763beb5ad7a16764d1b7fa87ab018   \n",
       "\n",
       "                                                                                                                                                                                                                                                                                                                                                                                                                                    text  \\\n",
       "0  [indicator, target, data, available, globally, energy, efficiency, use, cleaner, fuel, technology, reduced, carbon, dioxide, emission, per, unit, value, added, per, cent, although, expenditure, research, development, continues, grow, globally, poorest, country, especially, africa, spend, small, proportion, gdp, expenditure, global, investment, research, development, stood, trillion, purchasing, power, parity, billion]   \n",
       "\n",
       "   sdg  labels_negative  labels_positive  agreement  id  \\\n",
       "0    9                4                5   0.111111   1   \n",
       "\n",
       "                                SDG_Labels  \n",
       "0  Industry, Innovation and Infrustructure  "
      ]
     },
     "execution_count": 21,
     "metadata": {},
     "output_type": "execute_result"
    }
   ],
   "source": [
    "# Map the target variable name to their code for better understanding\n",
    "sdgLables = {1: \"No poverty\", 2: \"Zero Hunger\", 3: \"Good Health and well-being\", 4: \"Quality Education\", 5: \"Gender equality\", 6: \"Clean water and sanitation\", 7: \"Affordable and clean energy\", 9: \"Industry, Innovation and Infrustructure\", 8: \"Decent work and economic growth\",\n",
    "             10: \"Reduced Inequality\", 13: \"Climate Action\", 11: \"Sustainable cites and communities\", 12: \"Responsible consumption and production\", 14: \"life below water\", 15: \"Life on land\", 16: \"Peace , Justice and strong institutions\", 17: \"Partnership for the goals\"}\n",
    "train['SDG_Labels'] = train['sdg'].map(sdgLables)\n",
    "\n",
    "# Confirm the dataset\n",
    "train.head(1)\n"
   ]
  },
  {
   "cell_type": "code",
   "execution_count": 22,
   "metadata": {},
   "outputs": [
    {
     "name": "stdout",
     "output_type": "stream",
     "text": [
      "See distribution of messages per sdg : \n"
     ]
    },
    {
     "data": {
      "text/html": [
       "<style type=\"text/css\">\n",
       "#T_72121_row0_col1 {\n",
       "  background-color: #3f007d;\n",
       "  color: #f1f1f1;\n",
       "}\n",
       "#T_72121_row1_col1 {\n",
       "  background-color: #572c92;\n",
       "  color: #f1f1f1;\n",
       "}\n",
       "#T_72121_row2_col1 {\n",
       "  background-color: #7567af;\n",
       "  color: #f1f1f1;\n",
       "}\n",
       "#T_72121_row3_col1 {\n",
       "  background-color: #8380bb;\n",
       "  color: #f1f1f1;\n",
       "}\n",
       "#T_72121_row4_col1 {\n",
       "  background-color: #8885be;\n",
       "  color: #f1f1f1;\n",
       "}\n",
       "#T_72121_row5_col1 {\n",
       "  background-color: #8d89c0;\n",
       "  color: #f1f1f1;\n",
       "}\n",
       "#T_72121_row6_col1 {\n",
       "  background-color: #9a96c6;\n",
       "  color: #f1f1f1;\n",
       "}\n",
       "#T_72121_row7_col1 {\n",
       "  background-color: #a6a3cd;\n",
       "  color: #f1f1f1;\n",
       "}\n",
       "#T_72121_row8_col1 {\n",
       "  background-color: #aeadd3;\n",
       "  color: #000000;\n",
       "}\n",
       "#T_72121_row9_col1 {\n",
       "  background-color: #d4d4e8;\n",
       "  color: #000000;\n",
       "}\n",
       "#T_72121_row10_col1 {\n",
       "  background-color: #e6e5f1;\n",
       "  color: #000000;\n",
       "}\n",
       "#T_72121_row11_col1 {\n",
       "  background-color: #e9e8f2;\n",
       "  color: #000000;\n",
       "}\n",
       "#T_72121_row12_col1 {\n",
       "  background-color: #eae9f3;\n",
       "  color: #000000;\n",
       "}\n",
       "#T_72121_row13_col1 {\n",
       "  background-color: #eeecf4;\n",
       "  color: #000000;\n",
       "}\n",
       "#T_72121_row14_col1 {\n",
       "  background-color: #fcfbfd;\n",
       "  color: #000000;\n",
       "}\n",
       "</style>\n",
       "<table id=\"T_72121\">\n",
       "  <thead>\n",
       "    <tr>\n",
       "      <th class=\"blank level0\" >&nbsp;</th>\n",
       "      <th id=\"T_72121_level0_col0\" class=\"col_heading level0 col0\" >SDG_Labels</th>\n",
       "      <th id=\"T_72121_level0_col1\" class=\"col_heading level0 col1\" >text</th>\n",
       "    </tr>\n",
       "  </thead>\n",
       "  <tbody>\n",
       "    <tr>\n",
       "      <th id=\"T_72121_level0_row0\" class=\"row_heading level0 row0\" >4</th>\n",
       "      <td id=\"T_72121_row0_col0\" class=\"data row0 col0\" >Gender equality</td>\n",
       "      <td id=\"T_72121_row0_col1\" class=\"data row0 col1\" >3438</td>\n",
       "    </tr>\n",
       "    <tr>\n",
       "      <th id=\"T_72121_level0_row1\" class=\"row_heading level0 row1\" >9</th>\n",
       "      <td id=\"T_72121_row1_col0\" class=\"data row1 col0\" >Quality Education</td>\n",
       "      <td id=\"T_72121_row1_col1\" class=\"data row1 col1\" >2999</td>\n",
       "    </tr>\n",
       "    <tr>\n",
       "      <th id=\"T_72121_level0_row2\" class=\"row_heading level0 row2\" >0</th>\n",
       "      <td id=\"T_72121_row2_col0\" class=\"data row2 col0\" >Affordable and clean energy</td>\n",
       "      <td id=\"T_72121_row2_col1\" class=\"data row2 col1\" >2473</td>\n",
       "    </tr>\n",
       "    <tr>\n",
       "      <th id=\"T_72121_level0_row3\" class=\"row_heading level0 row3\" >1</th>\n",
       "      <td id=\"T_72121_row3_col0\" class=\"data row3 col0\" >Clean water and sanitation</td>\n",
       "      <td id=\"T_72121_row3_col1\" class=\"data row3 col1\" >2247</td>\n",
       "    </tr>\n",
       "    <tr>\n",
       "      <th id=\"T_72121_level0_row4\" class=\"row_heading level0 row4\" >8</th>\n",
       "      <td id=\"T_72121_row4_col0\" class=\"data row4 col0\" >No poverty</td>\n",
       "      <td id=\"T_72121_row4_col1\" class=\"data row4 col1\" >2190</td>\n",
       "    </tr>\n",
       "    <tr>\n",
       "      <th id=\"T_72121_level0_row5\" class=\"row_heading level0 row5\" >5</th>\n",
       "      <td id=\"T_72121_row5_col0\" class=\"data row5 col0\" >Good Health and well-being</td>\n",
       "      <td id=\"T_72121_row5_col1\" class=\"data row5 col1\" >2132</td>\n",
       "    </tr>\n",
       "    <tr>\n",
       "      <th id=\"T_72121_level0_row6\" class=\"row_heading level0 row6\" >13</th>\n",
       "      <td id=\"T_72121_row6_col0\" class=\"data row6 col0\" >Zero Hunger</td>\n",
       "      <td id=\"T_72121_row6_col1\" class=\"data row6 col1\" >1963</td>\n",
       "    </tr>\n",
       "    <tr>\n",
       "      <th id=\"T_72121_level0_row7\" class=\"row_heading level0 row7\" >12</th>\n",
       "      <td id=\"T_72121_row7_col0\" class=\"data row7 col0\" >Sustainable cites and communities</td>\n",
       "      <td id=\"T_72121_row7_col1\" class=\"data row7 col1\" >1798</td>\n",
       "    </tr>\n",
       "    <tr>\n",
       "      <th id=\"T_72121_level0_row8\" class=\"row_heading level0 row8\" >2</th>\n",
       "      <td id=\"T_72121_row8_col0\" class=\"data row8 col0\" >Climate Action</td>\n",
       "      <td id=\"T_72121_row8_col1\" class=\"data row8 col1\" >1695</td>\n",
       "    </tr>\n",
       "    <tr>\n",
       "      <th id=\"T_72121_level0_row9\" class=\"row_heading level0 row9\" >3</th>\n",
       "      <td id=\"T_72121_row9_col0\" class=\"data row9 col0\" >Decent work and economic growth</td>\n",
       "      <td id=\"T_72121_row9_col1\" class=\"data row9 col1\" >1218</td>\n",
       "    </tr>\n",
       "    <tr>\n",
       "      <th id=\"T_72121_level0_row10\" class=\"row_heading level0 row10\" >14</th>\n",
       "      <td id=\"T_72121_row10_col0\" class=\"data row10 col0\" >life below water</td>\n",
       "      <td id=\"T_72121_row10_col1\" class=\"data row10 col1\" >917</td>\n",
       "    </tr>\n",
       "    <tr>\n",
       "      <th id=\"T_72121_level0_row11\" class=\"row_heading level0 row11\" >6</th>\n",
       "      <td id=\"T_72121_row11_col0\" class=\"data row11 col0\" >Industry, Innovation and Infrustructure</td>\n",
       "      <td id=\"T_72121_row11_col1\" class=\"data row11 col1\" >873</td>\n",
       "    </tr>\n",
       "    <tr>\n",
       "      <th id=\"T_72121_level0_row12\" class=\"row_heading level0 row12\" >10</th>\n",
       "      <td id=\"T_72121_row12_col0\" class=\"data row12 col0\" >Reduced Inequality</td>\n",
       "      <td id=\"T_72121_row12_col1\" class=\"data row12 col1\" >843</td>\n",
       "    </tr>\n",
       "    <tr>\n",
       "      <th id=\"T_72121_level0_row13\" class=\"row_heading level0 row13\" >7</th>\n",
       "      <td id=\"T_72121_row13_col0\" class=\"data row13 col0\" >Life on land</td>\n",
       "      <td id=\"T_72121_row13_col1\" class=\"data row13 col1\" >785</td>\n",
       "    </tr>\n",
       "    <tr>\n",
       "      <th id=\"T_72121_level0_row14\" class=\"row_heading level0 row14\" >11</th>\n",
       "      <td id=\"T_72121_row14_col0\" class=\"data row14 col0\" >Responsible consumption and production</td>\n",
       "      <td id=\"T_72121_row14_col1\" class=\"data row14 col1\" >373</td>\n",
       "    </tr>\n",
       "  </tbody>\n",
       "</table>\n"
      ],
      "text/plain": [
       "<pandas.io.formats.style.Styler at 0x2d2b0672f20>"
      ]
     },
     "execution_count": 22,
     "metadata": {},
     "output_type": "execute_result"
    }
   ],
   "source": [
    "#for a better visualisation let view by the lables\n",
    "print(\"See distribution of messages per sdg : \")\n",
    "count = train.groupby(\"SDG_Labels\").count()[\"text\"].reset_index().sort_values(by=\"text\", ascending=False)\n",
    "count.style.background_gradient(cmap=\"Purples\")"
   ]
  },
  {
   "cell_type": "code",
   "execution_count": 23,
   "metadata": {},
   "outputs": [
    {
     "data": {
      "application/vnd.plotly.v1+json": {
       "config": {
        "plotlyServerURL": "https://plot.ly"
       },
       "data": [
        {
         "alignmentgroup": "True",
         "hovertemplate": "SDG_Labels=%{x}<br>text=%{marker.color}<extra></extra>",
         "legendgroup": "",
         "marker": {
          "color": [
           3438,
           2999,
           2473,
           2247,
           2190,
           2132,
           1963,
           1798,
           1695,
           1218,
           917,
           873,
           843,
           785,
           373
          ],
          "coloraxis": "coloraxis",
          "pattern": {
           "shape": ""
          }
         },
         "name": "",
         "offsetgroup": "",
         "orientation": "v",
         "showlegend": false,
         "textposition": "auto",
         "type": "bar",
         "x": [
          "Gender equality",
          "Quality Education",
          "Affordable and clean energy",
          "Clean water and sanitation",
          "No poverty",
          "Good Health and well-being",
          "Zero Hunger",
          "Sustainable cites and communities",
          "Climate Action",
          "Decent work and economic growth",
          "life below water",
          "Industry, Innovation and Infrustructure",
          "Reduced Inequality",
          "Life on land",
          "Responsible consumption and production"
         ],
         "xaxis": "x",
         "y": [
          3438,
          2999,
          2473,
          2247,
          2190,
          2132,
          1963,
          1798,
          1695,
          1218,
          917,
          873,
          843,
          785,
          373
         ],
         "yaxis": "y"
        }
       ],
       "layout": {
        "barmode": "relative",
        "coloraxis": {
         "colorbar": {
          "title": {
           "text": "text"
          }
         },
         "colorscale": [
          [
           0,
           "#0d0887"
          ],
          [
           0.1111111111111111,
           "#46039f"
          ],
          [
           0.2222222222222222,
           "#7201a8"
          ],
          [
           0.3333333333333333,
           "#9c179e"
          ],
          [
           0.4444444444444444,
           "#bd3786"
          ],
          [
           0.5555555555555556,
           "#d8576b"
          ],
          [
           0.6666666666666666,
           "#ed7953"
          ],
          [
           0.7777777777777778,
           "#fb9f3a"
          ],
          [
           0.8888888888888888,
           "#fdca26"
          ],
          [
           1,
           "#f0f921"
          ]
         ]
        },
        "legend": {
         "tracegroupgap": 0
        },
        "template": {
         "data": {
          "bar": [
           {
            "error_x": {
             "color": "#2a3f5f"
            },
            "error_y": {
             "color": "#2a3f5f"
            },
            "marker": {
             "line": {
              "color": "white",
              "width": 0.5
             },
             "pattern": {
              "fillmode": "overlay",
              "size": 10,
              "solidity": 0.2
             }
            },
            "type": "bar"
           }
          ],
          "barpolar": [
           {
            "marker": {
             "line": {
              "color": "white",
              "width": 0.5
             },
             "pattern": {
              "fillmode": "overlay",
              "size": 10,
              "solidity": 0.2
             }
            },
            "type": "barpolar"
           }
          ],
          "carpet": [
           {
            "aaxis": {
             "endlinecolor": "#2a3f5f",
             "gridcolor": "#C8D4E3",
             "linecolor": "#C8D4E3",
             "minorgridcolor": "#C8D4E3",
             "startlinecolor": "#2a3f5f"
            },
            "baxis": {
             "endlinecolor": "#2a3f5f",
             "gridcolor": "#C8D4E3",
             "linecolor": "#C8D4E3",
             "minorgridcolor": "#C8D4E3",
             "startlinecolor": "#2a3f5f"
            },
            "type": "carpet"
           }
          ],
          "choropleth": [
           {
            "colorbar": {
             "outlinewidth": 0,
             "ticks": ""
            },
            "type": "choropleth"
           }
          ],
          "contour": [
           {
            "colorbar": {
             "outlinewidth": 0,
             "ticks": ""
            },
            "colorscale": [
             [
              0,
              "#0d0887"
             ],
             [
              0.1111111111111111,
              "#46039f"
             ],
             [
              0.2222222222222222,
              "#7201a8"
             ],
             [
              0.3333333333333333,
              "#9c179e"
             ],
             [
              0.4444444444444444,
              "#bd3786"
             ],
             [
              0.5555555555555556,
              "#d8576b"
             ],
             [
              0.6666666666666666,
              "#ed7953"
             ],
             [
              0.7777777777777778,
              "#fb9f3a"
             ],
             [
              0.8888888888888888,
              "#fdca26"
             ],
             [
              1,
              "#f0f921"
             ]
            ],
            "type": "contour"
           }
          ],
          "contourcarpet": [
           {
            "colorbar": {
             "outlinewidth": 0,
             "ticks": ""
            },
            "type": "contourcarpet"
           }
          ],
          "heatmap": [
           {
            "colorbar": {
             "outlinewidth": 0,
             "ticks": ""
            },
            "colorscale": [
             [
              0,
              "#0d0887"
             ],
             [
              0.1111111111111111,
              "#46039f"
             ],
             [
              0.2222222222222222,
              "#7201a8"
             ],
             [
              0.3333333333333333,
              "#9c179e"
             ],
             [
              0.4444444444444444,
              "#bd3786"
             ],
             [
              0.5555555555555556,
              "#d8576b"
             ],
             [
              0.6666666666666666,
              "#ed7953"
             ],
             [
              0.7777777777777778,
              "#fb9f3a"
             ],
             [
              0.8888888888888888,
              "#fdca26"
             ],
             [
              1,
              "#f0f921"
             ]
            ],
            "type": "heatmap"
           }
          ],
          "heatmapgl": [
           {
            "colorbar": {
             "outlinewidth": 0,
             "ticks": ""
            },
            "colorscale": [
             [
              0,
              "#0d0887"
             ],
             [
              0.1111111111111111,
              "#46039f"
             ],
             [
              0.2222222222222222,
              "#7201a8"
             ],
             [
              0.3333333333333333,
              "#9c179e"
             ],
             [
              0.4444444444444444,
              "#bd3786"
             ],
             [
              0.5555555555555556,
              "#d8576b"
             ],
             [
              0.6666666666666666,
              "#ed7953"
             ],
             [
              0.7777777777777778,
              "#fb9f3a"
             ],
             [
              0.8888888888888888,
              "#fdca26"
             ],
             [
              1,
              "#f0f921"
             ]
            ],
            "type": "heatmapgl"
           }
          ],
          "histogram": [
           {
            "marker": {
             "pattern": {
              "fillmode": "overlay",
              "size": 10,
              "solidity": 0.2
             }
            },
            "type": "histogram"
           }
          ],
          "histogram2d": [
           {
            "colorbar": {
             "outlinewidth": 0,
             "ticks": ""
            },
            "colorscale": [
             [
              0,
              "#0d0887"
             ],
             [
              0.1111111111111111,
              "#46039f"
             ],
             [
              0.2222222222222222,
              "#7201a8"
             ],
             [
              0.3333333333333333,
              "#9c179e"
             ],
             [
              0.4444444444444444,
              "#bd3786"
             ],
             [
              0.5555555555555556,
              "#d8576b"
             ],
             [
              0.6666666666666666,
              "#ed7953"
             ],
             [
              0.7777777777777778,
              "#fb9f3a"
             ],
             [
              0.8888888888888888,
              "#fdca26"
             ],
             [
              1,
              "#f0f921"
             ]
            ],
            "type": "histogram2d"
           }
          ],
          "histogram2dcontour": [
           {
            "colorbar": {
             "outlinewidth": 0,
             "ticks": ""
            },
            "colorscale": [
             [
              0,
              "#0d0887"
             ],
             [
              0.1111111111111111,
              "#46039f"
             ],
             [
              0.2222222222222222,
              "#7201a8"
             ],
             [
              0.3333333333333333,
              "#9c179e"
             ],
             [
              0.4444444444444444,
              "#bd3786"
             ],
             [
              0.5555555555555556,
              "#d8576b"
             ],
             [
              0.6666666666666666,
              "#ed7953"
             ],
             [
              0.7777777777777778,
              "#fb9f3a"
             ],
             [
              0.8888888888888888,
              "#fdca26"
             ],
             [
              1,
              "#f0f921"
             ]
            ],
            "type": "histogram2dcontour"
           }
          ],
          "mesh3d": [
           {
            "colorbar": {
             "outlinewidth": 0,
             "ticks": ""
            },
            "type": "mesh3d"
           }
          ],
          "parcoords": [
           {
            "line": {
             "colorbar": {
              "outlinewidth": 0,
              "ticks": ""
             }
            },
            "type": "parcoords"
           }
          ],
          "pie": [
           {
            "automargin": true,
            "type": "pie"
           }
          ],
          "scatter": [
           {
            "marker": {
             "colorbar": {
              "outlinewidth": 0,
              "ticks": ""
             }
            },
            "type": "scatter"
           }
          ],
          "scatter3d": [
           {
            "line": {
             "colorbar": {
              "outlinewidth": 0,
              "ticks": ""
             }
            },
            "marker": {
             "colorbar": {
              "outlinewidth": 0,
              "ticks": ""
             }
            },
            "type": "scatter3d"
           }
          ],
          "scattercarpet": [
           {
            "marker": {
             "colorbar": {
              "outlinewidth": 0,
              "ticks": ""
             }
            },
            "type": "scattercarpet"
           }
          ],
          "scattergeo": [
           {
            "marker": {
             "colorbar": {
              "outlinewidth": 0,
              "ticks": ""
             }
            },
            "type": "scattergeo"
           }
          ],
          "scattergl": [
           {
            "marker": {
             "colorbar": {
              "outlinewidth": 0,
              "ticks": ""
             }
            },
            "type": "scattergl"
           }
          ],
          "scattermapbox": [
           {
            "marker": {
             "colorbar": {
              "outlinewidth": 0,
              "ticks": ""
             }
            },
            "type": "scattermapbox"
           }
          ],
          "scatterpolar": [
           {
            "marker": {
             "colorbar": {
              "outlinewidth": 0,
              "ticks": ""
             }
            },
            "type": "scatterpolar"
           }
          ],
          "scatterpolargl": [
           {
            "marker": {
             "colorbar": {
              "outlinewidth": 0,
              "ticks": ""
             }
            },
            "type": "scatterpolargl"
           }
          ],
          "scatterternary": [
           {
            "marker": {
             "colorbar": {
              "outlinewidth": 0,
              "ticks": ""
             }
            },
            "type": "scatterternary"
           }
          ],
          "surface": [
           {
            "colorbar": {
             "outlinewidth": 0,
             "ticks": ""
            },
            "colorscale": [
             [
              0,
              "#0d0887"
             ],
             [
              0.1111111111111111,
              "#46039f"
             ],
             [
              0.2222222222222222,
              "#7201a8"
             ],
             [
              0.3333333333333333,
              "#9c179e"
             ],
             [
              0.4444444444444444,
              "#bd3786"
             ],
             [
              0.5555555555555556,
              "#d8576b"
             ],
             [
              0.6666666666666666,
              "#ed7953"
             ],
             [
              0.7777777777777778,
              "#fb9f3a"
             ],
             [
              0.8888888888888888,
              "#fdca26"
             ],
             [
              1,
              "#f0f921"
             ]
            ],
            "type": "surface"
           }
          ],
          "table": [
           {
            "cells": {
             "fill": {
              "color": "#EBF0F8"
             },
             "line": {
              "color": "white"
             }
            },
            "header": {
             "fill": {
              "color": "#C8D4E3"
             },
             "line": {
              "color": "white"
             }
            },
            "type": "table"
           }
          ]
         },
         "layout": {
          "annotationdefaults": {
           "arrowcolor": "#2a3f5f",
           "arrowhead": 0,
           "arrowwidth": 1
          },
          "autotypenumbers": "strict",
          "coloraxis": {
           "colorbar": {
            "outlinewidth": 0,
            "ticks": ""
           }
          },
          "colorscale": {
           "diverging": [
            [
             0,
             "#8e0152"
            ],
            [
             0.1,
             "#c51b7d"
            ],
            [
             0.2,
             "#de77ae"
            ],
            [
             0.3,
             "#f1b6da"
            ],
            [
             0.4,
             "#fde0ef"
            ],
            [
             0.5,
             "#f7f7f7"
            ],
            [
             0.6,
             "#e6f5d0"
            ],
            [
             0.7,
             "#b8e186"
            ],
            [
             0.8,
             "#7fbc41"
            ],
            [
             0.9,
             "#4d9221"
            ],
            [
             1,
             "#276419"
            ]
           ],
           "sequential": [
            [
             0,
             "#0d0887"
            ],
            [
             0.1111111111111111,
             "#46039f"
            ],
            [
             0.2222222222222222,
             "#7201a8"
            ],
            [
             0.3333333333333333,
             "#9c179e"
            ],
            [
             0.4444444444444444,
             "#bd3786"
            ],
            [
             0.5555555555555556,
             "#d8576b"
            ],
            [
             0.6666666666666666,
             "#ed7953"
            ],
            [
             0.7777777777777778,
             "#fb9f3a"
            ],
            [
             0.8888888888888888,
             "#fdca26"
            ],
            [
             1,
             "#f0f921"
            ]
           ],
           "sequentialminus": [
            [
             0,
             "#0d0887"
            ],
            [
             0.1111111111111111,
             "#46039f"
            ],
            [
             0.2222222222222222,
             "#7201a8"
            ],
            [
             0.3333333333333333,
             "#9c179e"
            ],
            [
             0.4444444444444444,
             "#bd3786"
            ],
            [
             0.5555555555555556,
             "#d8576b"
            ],
            [
             0.6666666666666666,
             "#ed7953"
            ],
            [
             0.7777777777777778,
             "#fb9f3a"
            ],
            [
             0.8888888888888888,
             "#fdca26"
            ],
            [
             1,
             "#f0f921"
            ]
           ]
          },
          "colorway": [
           "#636efa",
           "#EF553B",
           "#00cc96",
           "#ab63fa",
           "#FFA15A",
           "#19d3f3",
           "#FF6692",
           "#B6E880",
           "#FF97FF",
           "#FECB52"
          ],
          "font": {
           "color": "#2a3f5f"
          },
          "geo": {
           "bgcolor": "white",
           "lakecolor": "white",
           "landcolor": "white",
           "showlakes": true,
           "showland": true,
           "subunitcolor": "#C8D4E3"
          },
          "hoverlabel": {
           "align": "left"
          },
          "hovermode": "closest",
          "mapbox": {
           "style": "light"
          },
          "paper_bgcolor": "white",
          "plot_bgcolor": "white",
          "polar": {
           "angularaxis": {
            "gridcolor": "#EBF0F8",
            "linecolor": "#EBF0F8",
            "ticks": ""
           },
           "bgcolor": "white",
           "radialaxis": {
            "gridcolor": "#EBF0F8",
            "linecolor": "#EBF0F8",
            "ticks": ""
           }
          },
          "scene": {
           "xaxis": {
            "backgroundcolor": "white",
            "gridcolor": "#DFE8F3",
            "gridwidth": 2,
            "linecolor": "#EBF0F8",
            "showbackground": true,
            "ticks": "",
            "zerolinecolor": "#EBF0F8"
           },
           "yaxis": {
            "backgroundcolor": "white",
            "gridcolor": "#DFE8F3",
            "gridwidth": 2,
            "linecolor": "#EBF0F8",
            "showbackground": true,
            "ticks": "",
            "zerolinecolor": "#EBF0F8"
           },
           "zaxis": {
            "backgroundcolor": "white",
            "gridcolor": "#DFE8F3",
            "gridwidth": 2,
            "linecolor": "#EBF0F8",
            "showbackground": true,
            "ticks": "",
            "zerolinecolor": "#EBF0F8"
           }
          },
          "shapedefaults": {
           "line": {
            "color": "#2a3f5f"
           }
          },
          "ternary": {
           "aaxis": {
            "gridcolor": "#DFE8F3",
            "linecolor": "#A2B1C6",
            "ticks": ""
           },
           "baxis": {
            "gridcolor": "#DFE8F3",
            "linecolor": "#A2B1C6",
            "ticks": ""
           },
           "bgcolor": "white",
           "caxis": {
            "gridcolor": "#DFE8F3",
            "linecolor": "#A2B1C6",
            "ticks": ""
           }
          },
          "title": {
           "x": 0.05
          },
          "xaxis": {
           "automargin": true,
           "gridcolor": "#EBF0F8",
           "linecolor": "#EBF0F8",
           "ticks": "",
           "title": {
            "standoff": 15
           },
           "zerolinecolor": "#EBF0F8",
           "zerolinewidth": 2
          },
          "yaxis": {
           "automargin": true,
           "gridcolor": "#EBF0F8",
           "linecolor": "#EBF0F8",
           "ticks": "",
           "title": {
            "standoff": 15
           },
           "zerolinecolor": "#EBF0F8",
           "zerolinewidth": 2
          }
         }
        },
        "title": {
         "text": "Top SDG in the Text column"
        },
        "xaxis": {
         "anchor": "y",
         "categoryorder": "total ascending",
         "domain": [
          0,
          1
         ],
         "title": {
          "text": "SDG_Labels"
         }
        },
        "yaxis": {
         "anchor": "x",
         "domain": [
          0,
          1
         ],
         "title": {
          "text": "text"
         }
        }
       }
      }
     },
     "metadata": {},
     "output_type": "display_data"
    }
   ],
   "source": [
    "fig = px.bar(count, x='SDG_Labels', y=\"text\", color='text', title='Top SDG in the Text column',\n",
    "             template='plotly_white', labels={'ngram': 'Bigram', 'count': 'text'}).update_xaxes(categoryorder='total ascending')\n",
    "fig.show()"
   ]
  },
  {
   "cell_type": "code",
   "execution_count": 24,
   "metadata": {},
   "outputs": [
    {
     "data": {
      "application/vnd.plotly.v1+json": {
       "config": {
        "plotlyServerURL": "https://plot.ly"
       },
       "data": [
        {
         "branchvalues": "total",
         "customdata": [
          [
           2473
          ],
          [
           2247
          ],
          [
           1695
          ],
          [
           1218
          ],
          [
           3438
          ],
          [
           2132
          ],
          [
           873
          ],
          [
           785
          ],
          [
           2190
          ],
          [
           2999
          ],
          [
           843
          ],
          [
           373
          ],
          [
           1798
          ],
          [
           1963
          ],
          [
           917
          ]
         ],
         "domain": {
          "x": [
           0,
           1
          ],
          "y": [
           0,
           1
          ]
         },
         "hovertemplate": "labels=%{label}<br>text_sum=%{value}<br>parent=%{parent}<br>id=%{id}<br>text=%{color}<extra></extra>",
         "ids": [
          "Affordable and clean energy",
          "Clean water and sanitation",
          "Climate Action",
          "Decent work and economic growth",
          "Gender equality",
          "Good Health and well-being",
          "Industry, Innovation and Infrustructure",
          "Life on land",
          "No poverty",
          "Quality Education",
          "Reduced Inequality",
          "Responsible consumption and production",
          "Sustainable cites and communities",
          "Zero Hunger",
          "life below water"
         ],
         "labels": [
          "Affordable and clean energy",
          "Clean water and sanitation",
          "Climate Action",
          "Decent work and economic growth",
          "Gender equality",
          "Good Health and well-being",
          "Industry, Innovation and Infrustructure",
          "Life on land",
          "No poverty",
          "Quality Education",
          "Reduced Inequality",
          "Responsible consumption and production",
          "Sustainable cites and communities",
          "Zero Hunger",
          "life below water"
         ],
         "marker": {
          "coloraxis": "coloraxis",
          "colors": [
           2473,
           2247,
           1695,
           1218,
           3438,
           2132,
           873,
           785,
           2190,
           2999,
           843,
           373,
           1798,
           1963,
           917
          ]
         },
         "name": "",
         "parents": [
          "",
          "",
          "",
          "",
          "",
          "",
          "",
          "",
          "",
          "",
          "",
          "",
          "",
          "",
          ""
         ],
         "type": "treemap",
         "values": [
          2473,
          2247,
          1695,
          1218,
          3438,
          2132,
          873,
          785,
          2190,
          2999,
          843,
          373,
          1798,
          1963,
          917
         ]
        }
       ],
       "layout": {
        "coloraxis": {
         "colorbar": {
          "title": {
           "text": "text"
          }
         },
         "colorscale": [
          [
           0,
           "#0d0887"
          ],
          [
           0.1111111111111111,
           "#46039f"
          ],
          [
           0.2222222222222222,
           "#7201a8"
          ],
          [
           0.3333333333333333,
           "#9c179e"
          ],
          [
           0.4444444444444444,
           "#bd3786"
          ],
          [
           0.5555555555555556,
           "#d8576b"
          ],
          [
           0.6666666666666666,
           "#ed7953"
          ],
          [
           0.7777777777777778,
           "#fb9f3a"
          ],
          [
           0.8888888888888888,
           "#fdca26"
          ],
          [
           1,
           "#f0f921"
          ]
         ]
        },
        "legend": {
         "tracegroupgap": 0
        },
        "template": {
         "data": {
          "bar": [
           {
            "error_x": {
             "color": "#2a3f5f"
            },
            "error_y": {
             "color": "#2a3f5f"
            },
            "marker": {
             "line": {
              "color": "#E5ECF6",
              "width": 0.5
             },
             "pattern": {
              "fillmode": "overlay",
              "size": 10,
              "solidity": 0.2
             }
            },
            "type": "bar"
           }
          ],
          "barpolar": [
           {
            "marker": {
             "line": {
              "color": "#E5ECF6",
              "width": 0.5
             },
             "pattern": {
              "fillmode": "overlay",
              "size": 10,
              "solidity": 0.2
             }
            },
            "type": "barpolar"
           }
          ],
          "carpet": [
           {
            "aaxis": {
             "endlinecolor": "#2a3f5f",
             "gridcolor": "white",
             "linecolor": "white",
             "minorgridcolor": "white",
             "startlinecolor": "#2a3f5f"
            },
            "baxis": {
             "endlinecolor": "#2a3f5f",
             "gridcolor": "white",
             "linecolor": "white",
             "minorgridcolor": "white",
             "startlinecolor": "#2a3f5f"
            },
            "type": "carpet"
           }
          ],
          "choropleth": [
           {
            "colorbar": {
             "outlinewidth": 0,
             "ticks": ""
            },
            "type": "choropleth"
           }
          ],
          "contour": [
           {
            "colorbar": {
             "outlinewidth": 0,
             "ticks": ""
            },
            "colorscale": [
             [
              0,
              "#0d0887"
             ],
             [
              0.1111111111111111,
              "#46039f"
             ],
             [
              0.2222222222222222,
              "#7201a8"
             ],
             [
              0.3333333333333333,
              "#9c179e"
             ],
             [
              0.4444444444444444,
              "#bd3786"
             ],
             [
              0.5555555555555556,
              "#d8576b"
             ],
             [
              0.6666666666666666,
              "#ed7953"
             ],
             [
              0.7777777777777778,
              "#fb9f3a"
             ],
             [
              0.8888888888888888,
              "#fdca26"
             ],
             [
              1,
              "#f0f921"
             ]
            ],
            "type": "contour"
           }
          ],
          "contourcarpet": [
           {
            "colorbar": {
             "outlinewidth": 0,
             "ticks": ""
            },
            "type": "contourcarpet"
           }
          ],
          "heatmap": [
           {
            "colorbar": {
             "outlinewidth": 0,
             "ticks": ""
            },
            "colorscale": [
             [
              0,
              "#0d0887"
             ],
             [
              0.1111111111111111,
              "#46039f"
             ],
             [
              0.2222222222222222,
              "#7201a8"
             ],
             [
              0.3333333333333333,
              "#9c179e"
             ],
             [
              0.4444444444444444,
              "#bd3786"
             ],
             [
              0.5555555555555556,
              "#d8576b"
             ],
             [
              0.6666666666666666,
              "#ed7953"
             ],
             [
              0.7777777777777778,
              "#fb9f3a"
             ],
             [
              0.8888888888888888,
              "#fdca26"
             ],
             [
              1,
              "#f0f921"
             ]
            ],
            "type": "heatmap"
           }
          ],
          "heatmapgl": [
           {
            "colorbar": {
             "outlinewidth": 0,
             "ticks": ""
            },
            "colorscale": [
             [
              0,
              "#0d0887"
             ],
             [
              0.1111111111111111,
              "#46039f"
             ],
             [
              0.2222222222222222,
              "#7201a8"
             ],
             [
              0.3333333333333333,
              "#9c179e"
             ],
             [
              0.4444444444444444,
              "#bd3786"
             ],
             [
              0.5555555555555556,
              "#d8576b"
             ],
             [
              0.6666666666666666,
              "#ed7953"
             ],
             [
              0.7777777777777778,
              "#fb9f3a"
             ],
             [
              0.8888888888888888,
              "#fdca26"
             ],
             [
              1,
              "#f0f921"
             ]
            ],
            "type": "heatmapgl"
           }
          ],
          "histogram": [
           {
            "marker": {
             "pattern": {
              "fillmode": "overlay",
              "size": 10,
              "solidity": 0.2
             }
            },
            "type": "histogram"
           }
          ],
          "histogram2d": [
           {
            "colorbar": {
             "outlinewidth": 0,
             "ticks": ""
            },
            "colorscale": [
             [
              0,
              "#0d0887"
             ],
             [
              0.1111111111111111,
              "#46039f"
             ],
             [
              0.2222222222222222,
              "#7201a8"
             ],
             [
              0.3333333333333333,
              "#9c179e"
             ],
             [
              0.4444444444444444,
              "#bd3786"
             ],
             [
              0.5555555555555556,
              "#d8576b"
             ],
             [
              0.6666666666666666,
              "#ed7953"
             ],
             [
              0.7777777777777778,
              "#fb9f3a"
             ],
             [
              0.8888888888888888,
              "#fdca26"
             ],
             [
              1,
              "#f0f921"
             ]
            ],
            "type": "histogram2d"
           }
          ],
          "histogram2dcontour": [
           {
            "colorbar": {
             "outlinewidth": 0,
             "ticks": ""
            },
            "colorscale": [
             [
              0,
              "#0d0887"
             ],
             [
              0.1111111111111111,
              "#46039f"
             ],
             [
              0.2222222222222222,
              "#7201a8"
             ],
             [
              0.3333333333333333,
              "#9c179e"
             ],
             [
              0.4444444444444444,
              "#bd3786"
             ],
             [
              0.5555555555555556,
              "#d8576b"
             ],
             [
              0.6666666666666666,
              "#ed7953"
             ],
             [
              0.7777777777777778,
              "#fb9f3a"
             ],
             [
              0.8888888888888888,
              "#fdca26"
             ],
             [
              1,
              "#f0f921"
             ]
            ],
            "type": "histogram2dcontour"
           }
          ],
          "mesh3d": [
           {
            "colorbar": {
             "outlinewidth": 0,
             "ticks": ""
            },
            "type": "mesh3d"
           }
          ],
          "parcoords": [
           {
            "line": {
             "colorbar": {
              "outlinewidth": 0,
              "ticks": ""
             }
            },
            "type": "parcoords"
           }
          ],
          "pie": [
           {
            "automargin": true,
            "type": "pie"
           }
          ],
          "scatter": [
           {
            "marker": {
             "colorbar": {
              "outlinewidth": 0,
              "ticks": ""
             }
            },
            "type": "scatter"
           }
          ],
          "scatter3d": [
           {
            "line": {
             "colorbar": {
              "outlinewidth": 0,
              "ticks": ""
             }
            },
            "marker": {
             "colorbar": {
              "outlinewidth": 0,
              "ticks": ""
             }
            },
            "type": "scatter3d"
           }
          ],
          "scattercarpet": [
           {
            "marker": {
             "colorbar": {
              "outlinewidth": 0,
              "ticks": ""
             }
            },
            "type": "scattercarpet"
           }
          ],
          "scattergeo": [
           {
            "marker": {
             "colorbar": {
              "outlinewidth": 0,
              "ticks": ""
             }
            },
            "type": "scattergeo"
           }
          ],
          "scattergl": [
           {
            "marker": {
             "colorbar": {
              "outlinewidth": 0,
              "ticks": ""
             }
            },
            "type": "scattergl"
           }
          ],
          "scattermapbox": [
           {
            "marker": {
             "colorbar": {
              "outlinewidth": 0,
              "ticks": ""
             }
            },
            "type": "scattermapbox"
           }
          ],
          "scatterpolar": [
           {
            "marker": {
             "colorbar": {
              "outlinewidth": 0,
              "ticks": ""
             }
            },
            "type": "scatterpolar"
           }
          ],
          "scatterpolargl": [
           {
            "marker": {
             "colorbar": {
              "outlinewidth": 0,
              "ticks": ""
             }
            },
            "type": "scatterpolargl"
           }
          ],
          "scatterternary": [
           {
            "marker": {
             "colorbar": {
              "outlinewidth": 0,
              "ticks": ""
             }
            },
            "type": "scatterternary"
           }
          ],
          "surface": [
           {
            "colorbar": {
             "outlinewidth": 0,
             "ticks": ""
            },
            "colorscale": [
             [
              0,
              "#0d0887"
             ],
             [
              0.1111111111111111,
              "#46039f"
             ],
             [
              0.2222222222222222,
              "#7201a8"
             ],
             [
              0.3333333333333333,
              "#9c179e"
             ],
             [
              0.4444444444444444,
              "#bd3786"
             ],
             [
              0.5555555555555556,
              "#d8576b"
             ],
             [
              0.6666666666666666,
              "#ed7953"
             ],
             [
              0.7777777777777778,
              "#fb9f3a"
             ],
             [
              0.8888888888888888,
              "#fdca26"
             ],
             [
              1,
              "#f0f921"
             ]
            ],
            "type": "surface"
           }
          ],
          "table": [
           {
            "cells": {
             "fill": {
              "color": "#EBF0F8"
             },
             "line": {
              "color": "white"
             }
            },
            "header": {
             "fill": {
              "color": "#C8D4E3"
             },
             "line": {
              "color": "white"
             }
            },
            "type": "table"
           }
          ]
         },
         "layout": {
          "annotationdefaults": {
           "arrowcolor": "#2a3f5f",
           "arrowhead": 0,
           "arrowwidth": 1
          },
          "autotypenumbers": "strict",
          "coloraxis": {
           "colorbar": {
            "outlinewidth": 0,
            "ticks": ""
           }
          },
          "colorscale": {
           "diverging": [
            [
             0,
             "#8e0152"
            ],
            [
             0.1,
             "#c51b7d"
            ],
            [
             0.2,
             "#de77ae"
            ],
            [
             0.3,
             "#f1b6da"
            ],
            [
             0.4,
             "#fde0ef"
            ],
            [
             0.5,
             "#f7f7f7"
            ],
            [
             0.6,
             "#e6f5d0"
            ],
            [
             0.7,
             "#b8e186"
            ],
            [
             0.8,
             "#7fbc41"
            ],
            [
             0.9,
             "#4d9221"
            ],
            [
             1,
             "#276419"
            ]
           ],
           "sequential": [
            [
             0,
             "#0d0887"
            ],
            [
             0.1111111111111111,
             "#46039f"
            ],
            [
             0.2222222222222222,
             "#7201a8"
            ],
            [
             0.3333333333333333,
             "#9c179e"
            ],
            [
             0.4444444444444444,
             "#bd3786"
            ],
            [
             0.5555555555555556,
             "#d8576b"
            ],
            [
             0.6666666666666666,
             "#ed7953"
            ],
            [
             0.7777777777777778,
             "#fb9f3a"
            ],
            [
             0.8888888888888888,
             "#fdca26"
            ],
            [
             1,
             "#f0f921"
            ]
           ],
           "sequentialminus": [
            [
             0,
             "#0d0887"
            ],
            [
             0.1111111111111111,
             "#46039f"
            ],
            [
             0.2222222222222222,
             "#7201a8"
            ],
            [
             0.3333333333333333,
             "#9c179e"
            ],
            [
             0.4444444444444444,
             "#bd3786"
            ],
            [
             0.5555555555555556,
             "#d8576b"
            ],
            [
             0.6666666666666666,
             "#ed7953"
            ],
            [
             0.7777777777777778,
             "#fb9f3a"
            ],
            [
             0.8888888888888888,
             "#fdca26"
            ],
            [
             1,
             "#f0f921"
            ]
           ]
          },
          "colorway": [
           "#636efa",
           "#EF553B",
           "#00cc96",
           "#ab63fa",
           "#FFA15A",
           "#19d3f3",
           "#FF6692",
           "#B6E880",
           "#FF97FF",
           "#FECB52"
          ],
          "font": {
           "color": "#2a3f5f"
          },
          "geo": {
           "bgcolor": "white",
           "lakecolor": "white",
           "landcolor": "#E5ECF6",
           "showlakes": true,
           "showland": true,
           "subunitcolor": "white"
          },
          "hoverlabel": {
           "align": "left"
          },
          "hovermode": "closest",
          "mapbox": {
           "style": "light"
          },
          "paper_bgcolor": "white",
          "plot_bgcolor": "#E5ECF6",
          "polar": {
           "angularaxis": {
            "gridcolor": "white",
            "linecolor": "white",
            "ticks": ""
           },
           "bgcolor": "#E5ECF6",
           "radialaxis": {
            "gridcolor": "white",
            "linecolor": "white",
            "ticks": ""
           }
          },
          "scene": {
           "xaxis": {
            "backgroundcolor": "#E5ECF6",
            "gridcolor": "white",
            "gridwidth": 2,
            "linecolor": "white",
            "showbackground": true,
            "ticks": "",
            "zerolinecolor": "white"
           },
           "yaxis": {
            "backgroundcolor": "#E5ECF6",
            "gridcolor": "white",
            "gridwidth": 2,
            "linecolor": "white",
            "showbackground": true,
            "ticks": "",
            "zerolinecolor": "white"
           },
           "zaxis": {
            "backgroundcolor": "#E5ECF6",
            "gridcolor": "white",
            "gridwidth": 2,
            "linecolor": "white",
            "showbackground": true,
            "ticks": "",
            "zerolinecolor": "white"
           }
          },
          "shapedefaults": {
           "line": {
            "color": "#2a3f5f"
           }
          },
          "ternary": {
           "aaxis": {
            "gridcolor": "white",
            "linecolor": "white",
            "ticks": ""
           },
           "baxis": {
            "gridcolor": "white",
            "linecolor": "white",
            "ticks": ""
           },
           "bgcolor": "#E5ECF6",
           "caxis": {
            "gridcolor": "white",
            "linecolor": "white",
            "ticks": ""
           }
          },
          "title": {
           "x": 0.05
          },
          "xaxis": {
           "automargin": true,
           "gridcolor": "white",
           "linecolor": "white",
           "ticks": "",
           "title": {
            "standoff": 15
           },
           "zerolinecolor": "white",
           "zerolinewidth": 2
          },
          "yaxis": {
           "automargin": true,
           "gridcolor": "white",
           "linecolor": "white",
           "ticks": "",
           "title": {
            "standoff": 15
           },
           "zerolinecolor": "white",
           "zerolinewidth": 2
          }
         }
        },
        "title": {
         "text": "Treemap chart by Top SDG in the Text column"
        }
       }
      }
     },
     "metadata": {},
     "output_type": "display_data"
    }
   ],
   "source": [
    "fig = px.treemap(count, path=['SDG_Labels'],title='Treemap chart by Top SDG in the Text column',\n",
    "                 values='text', color= \"text\")\n",
    "fig.show()"
   ]
  },
  {
   "cell_type": "markdown",
   "metadata": {},
   "source": [
    "#### Observations\n",
    "\n",
    "type here"
   ]
  },
  {
   "cell_type": "markdown",
   "metadata": {},
   "source": [
    "<a id=five4></a>\n",
    "\n",
    "#### 5.2 Investigative  Text Analysis\n",
    "From here, we'll delve further into our text, looking into each term and its frequency of occurrence individually.\n",
    "\n",
    "---"
   ]
  },
  {
   "cell_type": "code",
   "execution_count": 25,
   "metadata": {},
   "outputs": [
    {
     "data": {
      "image/png": "[encoded data removed]",
      "text/plain": [
       "<Figure size 2160x720 with 1 Axes>"
      ]
     },
     "metadata": {},
     "output_type": "display_data"
    }
   ],
   "source": [
    "words = train['text']\n",
    "allwords = []\n",
    "for wordlist in words:\n",
    "    allwords += wordlist\n",
    "    \n",
    "mostcommon = FreqDist(allwords).most_common(10000)\n",
    "wordcloud = WordCloud(width=700, height=700, background_color=\n",
    "                      'black').generate(str(mostcommon))\n",
    "fig = plt.figure(figsize=(30,10), facecolor='white')\n",
    "plt.imshow(wordcloud, interpolation=\"bilinear\")\n",
    "plt.axis('off')\n",
    "plt.tight_layout(pad=0)\n",
    "plt.show()"
   ]
  },
  {
   "cell_type": "markdown",
   "metadata": {},
   "source": [
    "### 5.3 Checking class balance"
   ]
  },
  {
   "cell_type": "code",
   "execution_count": 26,
   "metadata": {},
   "outputs": [
    {
     "data": {
      "text/plain": [
       "Text(0.5, 0, 'sdg')"
      ]
     },
     "execution_count": 26,
     "metadata": {},
     "output_type": "execute_result"
    },
    {
     "data": {
      "image/png": "[encoded data removed]",
      "text/plain": [
       "<Figure size 432x288 with 1 Axes>"
      ]
     },
     "metadata": {
      "needs_background": "light"
     },
     "output_type": "display_data"
    }
   ],
   "source": [
    "# plotting the class distribution\n",
    "train.sdg.value_counts().plot(kind='bar')\n",
    "plt.ylabel('Frequency')\n",
    "plt.xlabel('sdg')"
   ]
  },
  {
   "cell_type": "markdown",
   "metadata": {},
   "source": [
    "From the distribution plot above, we can see that the class distribution has wide variations and it is very imbalance. Although, most sdg support the gender equality which is represented by `5` while we have a fewer responsibe consumption and production which is represented by `12`.\n",
    "\n",
    "\n",
    "&emsp;"
   ]
  },
  {
   "cell_type": "markdown",
   "metadata": {},
   "source": [
    "### 5.4 Dealing with data imbalance "
   ]
  },
  {
   "cell_type": "markdown",
   "metadata": {},
   "source": [
    "To deal with data imbalance and avoid bias predictions from the models we will build later on, we employed the resampling (Upsampling and Downsampling) method. "
   ]
  },
  {
   "cell_type": "code",
   "execution_count": 27,
   "metadata": {},
   "outputs": [],
   "source": [
    "train['text'] = train.text.apply(lambda x: ' '.join([str(i) for i in x])) #code to change from list to string"
   ]
  },
  {
   "cell_type": "code",
   "execution_count": 28,
   "metadata": {},
   "outputs": [],
   "source": [
    "test['text'] = test.text.apply(lambda x: ' '.join([str(i) for i in x])) #code to change from list to string"
   ]
  },
  {
   "cell_type": "code",
   "execution_count": 29,
   "metadata": {},
   "outputs": [
    {
     "name": "stdout",
     "output_type": "stream",
     "text": [
      "dual-sampling:\n"
     ]
    },
    {
     "data": {
      "text/html": [
       "<div>\n",
       "<style scoped>\n",
       "    .dataframe tbody tr th:only-of-type {\n",
       "        vertical-align: middle;\n",
       "    }\n",
       "\n",
       "    .dataframe tbody tr th {\n",
       "        vertical-align: top;\n",
       "    }\n",
       "\n",
       "    .dataframe thead th {\n",
       "        text-align: right;\n",
       "    }\n",
       "</style>\n",
       "<table border=\"1\" class=\"dataframe\">\n",
       "  <thead>\n",
       "    <tr style=\"text-align: right;\">\n",
       "      <th></th>\n",
       "      <th>doi</th>\n",
       "      <th>text_id</th>\n",
       "      <th>text</th>\n",
       "      <th>sdg</th>\n",
       "      <th>labels_negative</th>\n",
       "      <th>labels_positive</th>\n",
       "      <th>agreement</th>\n",
       "      <th>id</th>\n",
       "      <th>SDG_Labels</th>\n",
       "    </tr>\n",
       "  </thead>\n",
       "  <tbody>\n",
       "    <tr>\n",
       "      <th>19845</th>\n",
       "      <td>10.18356/a11581d8-en</td>\n",
       "      <td>816653b04e30f596ad4cf2c92d70116e</td>\n",
       "      <td>recent crossnational study show large variation level internal migration across country within geographic region measured period one year five year high level internal migration generally found highincome country oceania australia new zealand northern america northern western europe eastern asia japan republic korea internal migration generally low eastern europe southcentral southeastern western asia substantial variation exists among country africa latin america caribbean</td>\n",
       "      <td>11</td>\n",
       "      <td>4</td>\n",
       "      <td>5</td>\n",
       "      <td>0.111111</td>\n",
       "      <td>19846</td>\n",
       "      <td>Sustainable cites and communities</td>\n",
       "    </tr>\n",
       "  </tbody>\n",
       "</table>\n",
       "</div>"
      ],
      "text/plain": [
       "                        doi                           text_id  \\\n",
       "19845  10.18356/a11581d8-en  816653b04e30f596ad4cf2c92d70116e   \n",
       "\n",
       "                                                                                                                                                                                                                                                                                                                                                                                                                                                                                                 text  \\\n",
       "19845  recent crossnational study show large variation level internal migration across country within geographic region measured period one year five year high level internal migration generally found highincome country oceania australia new zealand northern america northern western europe eastern asia japan republic korea internal migration generally low eastern europe southcentral southeastern western asia substantial variation exists among country africa latin america caribbean   \n",
       "\n",
       "       sdg  labels_negative  labels_positive  agreement     id  \\\n",
       "19845   11                4                5   0.111111  19846   \n",
       "\n",
       "                              SDG_Labels  \n",
       "19845  Sustainable cites and communities  "
      ]
     },
     "metadata": {},
     "output_type": "display_data"
    },
    {
     "name": "stdout",
     "output_type": "stream",
     "text": [
      "Class with their new resampled sizes\n"
     ]
    },
    {
     "data": {
      "image/png": "[encoded data removed]",
      "text/plain": [
       "<Figure size 432x288 with 1 Axes>"
      ]
     },
     "metadata": {
      "needs_background": "light"
     },
     "output_type": "display_data"
    }
   ],
   "source": [
    "class_size = 3438 # setting an average or fixed size for each category in 'sdg'\n",
    "dd = train.sdg.value_counts() # getting category name and their size\n",
    "appended_data = [] # creating an empty list to append all category after resampling\n",
    "\n",
    "# Creating a for-loop to resample and append to a list\n",
    "for index, size in dd.items():\n",
    "    if size < class_size: # setting condition to check if it's downsampling or otherwise\n",
    "        temp_pd = resample(train[train['sdg']==index],\n",
    "                          replace=True, # sample with replacement\n",
    "                          n_samples=class_size, # match number in majority class\n",
    "                          random_state=27)\n",
    "    else:\n",
    "        temp_pd = resample(train[train['sdg']==index],\n",
    "                          replace=False, # sample with replacement (no need to duplicate observations)\n",
    "                          n_samples=class_size, # match number in minority class\n",
    "                          random_state=27)\n",
    "# Appending each category after resampling\n",
    "    appended_data.append(temp_pd)\n",
    "\n",
    "# Creating a new dataframe and viewing\n",
    "df_train_sampled = pd.concat(appended_data, axis=0)\n",
    "print('dual-sampling:')\n",
    "display(df_train_sampled.sample(1))\n",
    "print('Class with their new resampled sizes')\n",
    "# print(df_train_sampled.sdg.value_counts())\n",
    "\n",
    "# ploting the old and new graph frequency\n",
    "ax = train.sdg.value_counts().plot(kind='bar')\n",
    "df_train_sampled.sdg.value_counts().plot(kind='bar', title='Count (target)', \n",
    "                                               ax=ax,color='orange', alpha=0.5)\n",
    "plt.xticks(range(len(dd)),dd.index)\n",
    "plt.ylabel(\"# of observations\")\n",
    "plt.legend(['original','resampled'])\n",
    "plt.show()"
   ]
  },
  {
   "cell_type": "code",
   "execution_count": 30,
   "metadata": {},
   "outputs": [],
   "source": [
    "train = df_train_sampled"
   ]
  },
  {
   "cell_type": "code",
   "execution_count": 31,
   "metadata": {},
   "outputs": [
    {
     "data": {
      "text/plain": [
       "(51570, 9)"
      ]
     },
     "execution_count": 31,
     "metadata": {},
     "output_type": "execute_result"
    }
   ],
   "source": [
    "train.shape"
   ]
  },
  {
   "cell_type": "markdown",
   "id": "41007dfb",
   "metadata": {},
   "source": [
    "<a id=\"seven\"></a>\n",
    "## 7. Data or Feature Engineering\n",
    "<a class=\"anchor\" id=\"1.1\"></a>\n",
    "<a href=#cont>Back to Table of Contents</a>\n",
    "\n",
    "---\n",
    "    \n",
    "| ⚡ Description: Data engineering ⚡ |\n",
    "| :--------------------------- |\n",
    "| In this section we would be: We will be looking at one of feature selection in text data namely the `tfidfVectorizer`. |\n",
    "\n",
    "---\n",
    "<a id='seven1'></a>\n"
   ]
  },
  {
   "cell_type": "markdown",
   "id": "4330885e",
   "metadata": {},
   "source": [
    "### 7.1 Vectorization"
   ]
  },
  {
   "cell_type": "markdown",
   "id": "e6ca56e7",
   "metadata": {},
   "source": [
    "At this point,we are using **CountVectorizer** function to convert the cleaned text to numerical entries in a matrix form"
   ]
  },
  {
   "cell_type": "code",
   "execution_count": 32,
   "id": "c7a4ae88",
   "metadata": {},
   "outputs": [],
   "source": [
    "# converting each word in the dataset into features\n",
    "vectorizer = CountVectorizer(analyzer = \"word\", max_features = 8000) "
   ]
  },
  {
   "cell_type": "markdown",
   "id": "66d21402",
   "metadata": {},
   "source": [
    "we set the maximum feature to random number 8000 by discretion and to have a faster training of our model<br><br>"
   ]
  },
  {
   "cell_type": "code",
   "execution_count": 33,
   "metadata": {},
   "outputs": [
    {
     "name": "stdout",
     "output_type": "stream",
     "text": [
      "Our new vectorized features have 51570 rows and 8000 feaures\n"
     ]
    }
   ],
   "source": [
    "# transforming the cleaned tweet to numerical entries in a matrix form\n",
    "reviews_vect = vectorizer.fit_transform(train['text'])\n",
    "\n",
    "# converting the features to numpy array for fast fitting of our dataset\n",
    "train_data_features = reviews_vect.toarray()\n",
    "\n",
    "# checking the shape to be sure of the size of the features\n",
    "print(f'Our new vectorized features have {train_data_features.shape[0]} rows and {train_data_features.shape[1]} feaures')"
   ]
  },
  {
   "cell_type": "code",
   "execution_count": 34,
   "metadata": {},
   "outputs": [],
   "source": [
    "# Converting the word of the all tweet into features using 'vectorizer' object created earlier\n",
    "reviews_vect_test = vectorizer.transform(test['text'])"
   ]
  },
  {
   "cell_type": "code",
   "execution_count": 35,
   "metadata": {},
   "outputs": [
    {
     "data": {
      "text/plain": [
       "(6487, 8000)"
      ]
     },
     "execution_count": 35,
     "metadata": {},
     "output_type": "execute_result"
    }
   ],
   "source": [
    "# converting into a numpy array\n",
    "test_data_features = reviews_vect_test.toarray() # for fast fitting of our dataset\n",
    "test_data_features.shape # checking to be sure is the same size with our 'train' dataset"
   ]
  },
  {
   "cell_type": "code",
   "execution_count": 36,
   "metadata": {},
   "outputs": [
    {
     "data": {
      "text/html": [
       "<div>\n",
       "<style scoped>\n",
       "    .dataframe tbody tr th:only-of-type {\n",
       "        vertical-align: middle;\n",
       "    }\n",
       "\n",
       "    .dataframe tbody tr th {\n",
       "        vertical-align: top;\n",
       "    }\n",
       "\n",
       "    .dataframe thead th {\n",
       "        text-align: right;\n",
       "    }\n",
       "</style>\n",
       "<table border=\"1\" class=\"dataframe\">\n",
       "  <thead>\n",
       "    <tr style=\"text-align: right;\">\n",
       "      <th></th>\n",
       "      <th>doi</th>\n",
       "      <th>text_id</th>\n",
       "      <th>text</th>\n",
       "      <th>labels_negative</th>\n",
       "      <th>labels_positive</th>\n",
       "      <th>agreement</th>\n",
       "      <th>id</th>\n",
       "    </tr>\n",
       "  </thead>\n",
       "  <tbody>\n",
       "    <tr>\n",
       "      <th>1524</th>\n",
       "      <td>10.18356/9fd805e3-en</td>\n",
       "      <td>66f2bcf9a376a95bf354b876173e66a7</td>\n",
       "      <td>latter figure show percentage particular purpose travel travel occurring per every hour day time however ticket fare exceed level passenger would consider ticket fare affordable high price cause demand mobility shifting public transport mode</td>\n",
       "      <td>0</td>\n",
       "      <td>3</td>\n",
       "      <td>1.0</td>\n",
       "      <td>1525</td>\n",
       "    </tr>\n",
       "  </tbody>\n",
       "</table>\n",
       "</div>"
      ],
      "text/plain": [
       "                       doi                           text_id  \\\n",
       "1524  10.18356/9fd805e3-en  66f2bcf9a376a95bf354b876173e66a7   \n",
       "\n",
       "                                                                                                                                                                                                                                                   text  \\\n",
       "1524  latter figure show percentage particular purpose travel travel occurring per every hour day time however ticket fare exceed level passenger would consider ticket fare affordable high price cause demand mobility shifting public transport mode   \n",
       "\n",
       "      labels_negative  labels_positive  agreement    id  \n",
       "1524                0                3        1.0  1525  "
      ]
     },
     "execution_count": 36,
     "metadata": {},
     "output_type": "execute_result"
    }
   ],
   "source": [
    "#  Double checking our dataframe was modified rightly\n",
    "test.sample(1)"
   ]
  },
  {
   "cell_type": "markdown",
   "metadata": {},
   "source": [
    "<a id=\"six\"></a>\n",
    "## 8. Classification Models\n",
    "<a class=\"anchor\" id=\"1.1\"></a>\n",
    "<a href=#cont>Back to Table of Contents</a>\n",
    "\n",
    "---\n",
    "    \n",
    "| ⚡ Description: Classification Models ⚡ |\n",
    "| :--------------------------- |\n",
    "| In this section, we'll look at different models, try to explain them, and learn about their benefits and drawbacks. |\n",
    "\n",
    "---\n",
    "\n",
    "*  LinearSVC(Support Vector Classifier)<a id='svc'></a>\n",
    "*  LGBMClassifier(Light Gradient Boosting Machine Classifier)<a id='LGBM'></a>\n",
    "*  Logistic Regression\n",
    "*  Stochastic\n",
    "\n"
   ]
  },
  {
   "cell_type": "markdown",
   "metadata": {},
   "source": [
    "### 8.1 Defining the independent (X) and dependent variables (y)"
   ]
  },
  {
   "cell_type": "code",
   "execution_count": 42,
   "metadata": {},
   "outputs": [],
   "source": [
    "# # setting the target and features \n",
    "# y = np.array(train['sdg'])\n",
    "# X = train_data_features\n"
   ]
  },
  {
   "cell_type": "markdown",
   "metadata": {},
   "source": [
    "### 8.2 Spliting into Train and validation set"
   ]
  },
  {
   "cell_type": "markdown",
   "metadata": {},
   "source": [
    "Here, the train data set is divided into train and validation data set. The validation set size is 20% of the total records and it will be used in model evaluation."
   ]
  },
  {
   "cell_type": "code",
   "execution_count": 43,
   "metadata": {},
   "outputs": [],
   "source": [
    "# split the target ad features into train and test\n",
    "X_train, X_test, y_train, y_test = train_test_split(X, y, test_size=0.20, random_state=10)"
   ]
  },
  {
   "cell_type": "markdown",
   "id": "48e2c478",
   "metadata": {},
   "source": [
    "Splitting of the dataset into train and validation dataset, so that we can train and also see the performance of the model on unseen dataset"
   ]
  },
  {
   "cell_type": "markdown",
   "id": "8faa4002",
   "metadata": {},
   "source": [
    "### 8.3 Modeling building"
   ]
  },
  {
   "cell_type": "markdown",
   "id": "a28fbb43",
   "metadata": {},
   "source": [
    "### 8.3.1 Defining function for building models"
   ]
  },
  {
   "cell_type": "markdown",
   "id": "424b4dd5",
   "metadata": {},
   "source": [
    "The function implements a machine learning moded with the use of the train_test_split concept. The function calculates various metrics to check for underfitting or overfitting and most importantly the performance of the model being executed."
   ]
  },
  {
   "cell_type": "code",
   "execution_count": 44,
   "metadata": {},
   "outputs": [],
   "source": [
    "sdgLables = {v: k for k, v in sdgLables.items()}\n",
    "sdgLables = {'No poverty': 1, 'Zero Hunger': 2, 'Good Health and well-being': 3, 'Quality Education': 4, 'Gender equality': 5, 'Clean water and sanitation': 6, 'Affordable and clean energy': 7, 'Industry, Innovation and Infrustructure': 9, 'Decent work and economic growth': 8,\n",
    "             'Reduced Inequality': 10, 'Climate Action': 13, 'Sustainable cites and communities': 11, 'Responsible consumption and production': 12, 'life below water': 14, 'Life on land': 15}"
   ]
  },
  {
   "cell_type": "code",
   "execution_count": 45,
   "id": "8256e94d",
   "metadata": {},
   "outputs": [],
   "source": [
    "# careating a function to fit the model and calculate various metrics\n",
    "def modelling(model, X_train=X_train, X_test=X_test, y_train=y_train, y_test=y_test):\n",
    "    \n",
    "    model.fit(X_train, y_train)\n",
    "    pred_train = model.predict(X_train)\n",
    "    pred_valid = model.predict(X_test)\n",
    "    \n",
    "# calculating the metrics\n",
    "    f1_train = f1_score(y_train, pred_train, average='weighted')\n",
    "    f1_test = f1_score(y_test, pred_valid,  average='weighted')\n",
    "    cm = confusion_matrix(y_test, pred_valid)\n",
    "    cr = classification_report(y_test, pred_valid, target_names=sdgLables, output_dict=True)\n",
    "    \n",
    "# creating a dataframe for 'confusion matrix' and 'classification report'\n",
    "    cm_df = pd.DataFrame(cm, index = sdgLables, columns = sdgLables)\n",
    "    cr_df = pd.DataFrame(cr)\n",
    "    \n",
    "    print('Confusion Matrix')\n",
    "    display(cm_df)\n",
    "    print('Classification Report')\n",
    "    display(cr_df)\n",
    "    \n",
    "# plotting the confusion matrix using heatmap\n",
    "    plt.figure(figsize=(10,5))\n",
    "    sns.heatmap(cm_df, annot=True)\n",
    "    plt.title('Confusion Matrix')\n",
    "    plt.ylabel('Actal Values')\n",
    "    plt.xlabel('Predicted Values')\n",
    "    plt.show()\n",
    "    \n",
    "    print(f'Train accuracy(f1) is: {round(f1_train, 3)} and Validation accuracy(f1) is {round(f1_test, 3)}')\n",
    "    return cm_df, cr_df, cm # returning metrics\n"
   ]
  },
  {
   "cell_type": "markdown",
   "id": "e8df6776",
   "metadata": {},
   "source": [
    "### 8.3.2  Applying the modelling function to build models"
   ]
  },
  {
   "cell_type": "markdown",
   "id": "adbe7cd1",
   "metadata": {},
   "source": [
    "#### a) Logistic Regression Classifier\n",
    "\n",
    "Logistics regression is a predictive analytics model that is used to describe data and explain the relationship between one dependent binary variable and one or more nominal, ordinal, interval or ratio-level independent variables.Sometimes, it can also be applied to a dependent variable that is multi-classed (ie have more than 2 variables). The model was adopted because it is a classification algorithm and suited our use case as well."
   ]
  },
  {
   "cell_type": "code",
   "execution_count": 46,
   "id": "37d2665f",
   "metadata": {
    "scrolled": false
   },
   "outputs": [
    {
     "ename": "ValueError",
     "evalue": "could not convert string to float: 'recent data indicator cover child across entirety child life course highpolicy relevance result directly influenced social protection child welfare policy household survey data weighted make child unit analysis data indicator around end poverty highly policy relevant including health schoolbased intervention physical activity obesity neither indicator reflects experience later adolescence overage data malnutrition form stunting wasting replaced malnutrition form obesity given focus highincome country prevalence overweight obesity case comparison form malnutrition'",
     "output_type": "error",
     "traceback": [
      "\u001b[1;31m---------------------------------------------------------------------------\u001b[0m",
      "\u001b[1;31mValueError\u001b[0m                                Traceback (most recent call last)",
      "\u001b[1;32mc:\\Users\\Silas_Dell\\Documents\\GitHub\\classification-predict-streamlit-template - ZF5\\UN-SDG-Study_Team-A\\UN_SDG_STUDY_NOTEBOOK copy.ipynb Cell 77\u001b[0m in \u001b[0;36m<module>\u001b[1;34m\u001b[0m\n\u001b[0;32m      <a href='vscode-notebook-cell:/c%3A/Users/Silas_Dell/Documents/GitHub/classification-predict-streamlit-template%20-%20ZF5/UN-SDG-Study_Team-A/UN_SDG_STUDY_NOTEBOOK%20copy.ipynb#Y131sZmlsZQ%3D%3D?line=1'>2</a>\u001b[0m lm \u001b[39m=\u001b[39m LogisticRegression(C\u001b[39m=\u001b[39m\u001b[39m2\u001b[39m, solver\u001b[39m=\u001b[39m\u001b[39m'\u001b[39m\u001b[39mliblinear\u001b[39m\u001b[39m'\u001b[39m)\n\u001b[0;32m      <a href='vscode-notebook-cell:/c%3A/Users/Silas_Dell/Documents/GitHub/classification-predict-streamlit-template%20-%20ZF5/UN-SDG-Study_Team-A/UN_SDG_STUDY_NOTEBOOK%20copy.ipynb#Y131sZmlsZQ%3D%3D?line=3'>4</a>\u001b[0m \u001b[39m# fitting and predictiion by calling the 'modelling' fuction \u001b[39;00m\n\u001b[1;32m----> <a href='vscode-notebook-cell:/c%3A/Users/Silas_Dell/Documents/GitHub/classification-predict-streamlit-template%20-%20ZF5/UN-SDG-Study_Team-A/UN_SDG_STUDY_NOTEBOOK%20copy.ipynb#Y131sZmlsZQ%3D%3D?line=4'>5</a>\u001b[0m cm_df_logit, cr_df_logit, cm_logit \u001b[39m=\u001b[39m modelling(lm)\n",
      "\u001b[1;32mc:\\Users\\Silas_Dell\\Documents\\GitHub\\classification-predict-streamlit-template - ZF5\\UN-SDG-Study_Team-A\\UN_SDG_STUDY_NOTEBOOK copy.ipynb Cell 77\u001b[0m in \u001b[0;36mmodelling\u001b[1;34m(model, X_train, X_test, y_train, y_test)\u001b[0m\n\u001b[0;32m      <a href='vscode-notebook-cell:/c%3A/Users/Silas_Dell/Documents/GitHub/classification-predict-streamlit-template%20-%20ZF5/UN-SDG-Study_Team-A/UN_SDG_STUDY_NOTEBOOK%20copy.ipynb#Y131sZmlsZQ%3D%3D?line=1'>2</a>\u001b[0m \u001b[39mdef\u001b[39;00m \u001b[39mmodelling\u001b[39m(model, X_train\u001b[39m=\u001b[39mX_train, X_test\u001b[39m=\u001b[39mX_test, y_train\u001b[39m=\u001b[39my_train, y_test\u001b[39m=\u001b[39my_test):\n\u001b[1;32m----> <a href='vscode-notebook-cell:/c%3A/Users/Silas_Dell/Documents/GitHub/classification-predict-streamlit-template%20-%20ZF5/UN-SDG-Study_Team-A/UN_SDG_STUDY_NOTEBOOK%20copy.ipynb#Y131sZmlsZQ%3D%3D?line=3'>4</a>\u001b[0m     model\u001b[39m.\u001b[39;49mfit(X_train, y_train)\n\u001b[0;32m      <a href='vscode-notebook-cell:/c%3A/Users/Silas_Dell/Documents/GitHub/classification-predict-streamlit-template%20-%20ZF5/UN-SDG-Study_Team-A/UN_SDG_STUDY_NOTEBOOK%20copy.ipynb#Y131sZmlsZQ%3D%3D?line=4'>5</a>\u001b[0m     pred_train \u001b[39m=\u001b[39m model\u001b[39m.\u001b[39mpredict(X_train)\n\u001b[0;32m      <a href='vscode-notebook-cell:/c%3A/Users/Silas_Dell/Documents/GitHub/classification-predict-streamlit-template%20-%20ZF5/UN-SDG-Study_Team-A/UN_SDG_STUDY_NOTEBOOK%20copy.ipynb#Y131sZmlsZQ%3D%3D?line=5'>6</a>\u001b[0m     pred_valid \u001b[39m=\u001b[39m model\u001b[39m.\u001b[39mpredict(X_test)\n",
      "File \u001b[1;32mc:\\Users\\Silas_Dell\\AppData\\Local\\Programs\\Python\\Python310\\lib\\site-packages\\comet_ml\\monkey_patching.py:312\u001b[0m, in \u001b[0;36mEntrypoint.<locals>.wrapper\u001b[1;34m(*args, **kwargs)\u001b[0m\n\u001b[0;32m    307\u001b[0m         \u001b[39mexcept\u001b[39;00m \u001b[39mException\u001b[39;00m:\n\u001b[0;32m    308\u001b[0m             LOGGER\u001b[39m.\u001b[39mdebug(\n\u001b[0;32m    309\u001b[0m                 \u001b[39m\"\u001b[39m\u001b[39mException calling before callback \u001b[39m\u001b[39m%r\u001b[39;00m\u001b[39m\"\u001b[39m, callback, exc_info\u001b[39m=\u001b[39m\u001b[39mTrue\u001b[39;00m\n\u001b[0;32m    310\u001b[0m             )\n\u001b[1;32m--> 312\u001b[0m return_value \u001b[39m=\u001b[39m original(\u001b[39m*\u001b[39margs, \u001b[39m*\u001b[39m\u001b[39m*\u001b[39mkwargs)\n\u001b[0;32m    314\u001b[0m \u001b[39m# Call after callbacks once we have the return value\u001b[39;00m\n\u001b[0;32m    315\u001b[0m \u001b[39mif\u001b[39;00m should_run:\n",
      "File \u001b[1;32mc:\\Users\\Silas_Dell\\AppData\\Local\\Programs\\Python\\Python310\\lib\\site-packages\\sklearn\\linear_model\\_logistic.py:1138\u001b[0m, in \u001b[0;36mLogisticRegression.fit\u001b[1;34m(self, X, y, sample_weight)\u001b[0m\n\u001b[0;32m   1135\u001b[0m \u001b[39melse\u001b[39;00m:\n\u001b[0;32m   1136\u001b[0m     _dtype \u001b[39m=\u001b[39m [np\u001b[39m.\u001b[39mfloat64, np\u001b[39m.\u001b[39mfloat32]\n\u001b[1;32m-> 1138\u001b[0m X, y \u001b[39m=\u001b[39m \u001b[39mself\u001b[39;49m\u001b[39m.\u001b[39;49m_validate_data(\n\u001b[0;32m   1139\u001b[0m     X,\n\u001b[0;32m   1140\u001b[0m     y,\n\u001b[0;32m   1141\u001b[0m     accept_sparse\u001b[39m=\u001b[39;49m\u001b[39m\"\u001b[39;49m\u001b[39mcsr\u001b[39;49m\u001b[39m\"\u001b[39;49m,\n\u001b[0;32m   1142\u001b[0m     dtype\u001b[39m=\u001b[39;49m_dtype,\n\u001b[0;32m   1143\u001b[0m     order\u001b[39m=\u001b[39;49m\u001b[39m\"\u001b[39;49m\u001b[39mC\u001b[39;49m\u001b[39m\"\u001b[39;49m,\n\u001b[0;32m   1144\u001b[0m     accept_large_sparse\u001b[39m=\u001b[39;49msolver \u001b[39mnot\u001b[39;49;00m \u001b[39min\u001b[39;49;00m [\u001b[39m\"\u001b[39;49m\u001b[39mliblinear\u001b[39;49m\u001b[39m\"\u001b[39;49m, \u001b[39m\"\u001b[39;49m\u001b[39msag\u001b[39;49m\u001b[39m\"\u001b[39;49m, \u001b[39m\"\u001b[39;49m\u001b[39msaga\u001b[39;49m\u001b[39m\"\u001b[39;49m],\n\u001b[0;32m   1145\u001b[0m )\n\u001b[0;32m   1146\u001b[0m check_classification_targets(y)\n\u001b[0;32m   1147\u001b[0m \u001b[39mself\u001b[39m\u001b[39m.\u001b[39mclasses_ \u001b[39m=\u001b[39m np\u001b[39m.\u001b[39munique(y)\n",
      "File \u001b[1;32mc:\\Users\\Silas_Dell\\AppData\\Local\\Programs\\Python\\Python310\\lib\\site-packages\\sklearn\\base.py:596\u001b[0m, in \u001b[0;36mBaseEstimator._validate_data\u001b[1;34m(self, X, y, reset, validate_separately, **check_params)\u001b[0m\n\u001b[0;32m    594\u001b[0m         y \u001b[39m=\u001b[39m check_array(y, input_name\u001b[39m=\u001b[39m\u001b[39m\"\u001b[39m\u001b[39my\u001b[39m\u001b[39m\"\u001b[39m, \u001b[39m*\u001b[39m\u001b[39m*\u001b[39mcheck_y_params)\n\u001b[0;32m    595\u001b[0m     \u001b[39melse\u001b[39;00m:\n\u001b[1;32m--> 596\u001b[0m         X, y \u001b[39m=\u001b[39m check_X_y(X, y, \u001b[39m*\u001b[39m\u001b[39m*\u001b[39mcheck_params)\n\u001b[0;32m    597\u001b[0m     out \u001b[39m=\u001b[39m X, y\n\u001b[0;32m    599\u001b[0m \u001b[39mif\u001b[39;00m \u001b[39mnot\u001b[39;00m no_val_X \u001b[39mand\u001b[39;00m check_params\u001b[39m.\u001b[39mget(\u001b[39m\"\u001b[39m\u001b[39mensure_2d\u001b[39m\u001b[39m\"\u001b[39m, \u001b[39mTrue\u001b[39;00m):\n",
      "File \u001b[1;32mc:\\Users\\Silas_Dell\\AppData\\Local\\Programs\\Python\\Python310\\lib\\site-packages\\sklearn\\utils\\validation.py:1074\u001b[0m, in \u001b[0;36mcheck_X_y\u001b[1;34m(X, y, accept_sparse, accept_large_sparse, dtype, order, copy, force_all_finite, ensure_2d, allow_nd, multi_output, ensure_min_samples, ensure_min_features, y_numeric, estimator)\u001b[0m\n\u001b[0;32m   1069\u001b[0m         estimator_name \u001b[39m=\u001b[39m _check_estimator_name(estimator)\n\u001b[0;32m   1070\u001b[0m     \u001b[39mraise\u001b[39;00m \u001b[39mValueError\u001b[39;00m(\n\u001b[0;32m   1071\u001b[0m         \u001b[39mf\u001b[39m\u001b[39m\"\u001b[39m\u001b[39m{\u001b[39;00mestimator_name\u001b[39m}\u001b[39;00m\u001b[39m requires y to be passed, but the target y is None\u001b[39m\u001b[39m\"\u001b[39m\n\u001b[0;32m   1072\u001b[0m     )\n\u001b[1;32m-> 1074\u001b[0m X \u001b[39m=\u001b[39m check_array(\n\u001b[0;32m   1075\u001b[0m     X,\n\u001b[0;32m   1076\u001b[0m     accept_sparse\u001b[39m=\u001b[39;49maccept_sparse,\n\u001b[0;32m   1077\u001b[0m     accept_large_sparse\u001b[39m=\u001b[39;49maccept_large_sparse,\n\u001b[0;32m   1078\u001b[0m     dtype\u001b[39m=\u001b[39;49mdtype,\n\u001b[0;32m   1079\u001b[0m     order\u001b[39m=\u001b[39;49morder,\n\u001b[0;32m   1080\u001b[0m     copy\u001b[39m=\u001b[39;49mcopy,\n\u001b[0;32m   1081\u001b[0m     force_all_finite\u001b[39m=\u001b[39;49mforce_all_finite,\n\u001b[0;32m   1082\u001b[0m     ensure_2d\u001b[39m=\u001b[39;49mensure_2d,\n\u001b[0;32m   1083\u001b[0m     allow_nd\u001b[39m=\u001b[39;49mallow_nd,\n\u001b[0;32m   1084\u001b[0m     ensure_min_samples\u001b[39m=\u001b[39;49mensure_min_samples,\n\u001b[0;32m   1085\u001b[0m     ensure_min_features\u001b[39m=\u001b[39;49mensure_min_features,\n\u001b[0;32m   1086\u001b[0m     estimator\u001b[39m=\u001b[39;49mestimator,\n\u001b[0;32m   1087\u001b[0m     input_name\u001b[39m=\u001b[39;49m\u001b[39m\"\u001b[39;49m\u001b[39mX\u001b[39;49m\u001b[39m\"\u001b[39;49m,\n\u001b[0;32m   1088\u001b[0m )\n\u001b[0;32m   1090\u001b[0m y \u001b[39m=\u001b[39m _check_y(y, multi_output\u001b[39m=\u001b[39mmulti_output, y_numeric\u001b[39m=\u001b[39my_numeric, estimator\u001b[39m=\u001b[39mestimator)\n\u001b[0;32m   1092\u001b[0m check_consistent_length(X, y)\n",
      "File \u001b[1;32mc:\\Users\\Silas_Dell\\AppData\\Local\\Programs\\Python\\Python310\\lib\\site-packages\\sklearn\\utils\\validation.py:856\u001b[0m, in \u001b[0;36mcheck_array\u001b[1;34m(array, accept_sparse, accept_large_sparse, dtype, order, copy, force_all_finite, ensure_2d, allow_nd, ensure_min_samples, ensure_min_features, estimator, input_name)\u001b[0m\n\u001b[0;32m    854\u001b[0m         array \u001b[39m=\u001b[39m array\u001b[39m.\u001b[39mastype(dtype, casting\u001b[39m=\u001b[39m\u001b[39m\"\u001b[39m\u001b[39munsafe\u001b[39m\u001b[39m\"\u001b[39m, copy\u001b[39m=\u001b[39m\u001b[39mFalse\u001b[39;00m)\n\u001b[0;32m    855\u001b[0m     \u001b[39melse\u001b[39;00m:\n\u001b[1;32m--> 856\u001b[0m         array \u001b[39m=\u001b[39m np\u001b[39m.\u001b[39;49masarray(array, order\u001b[39m=\u001b[39;49morder, dtype\u001b[39m=\u001b[39;49mdtype)\n\u001b[0;32m    857\u001b[0m \u001b[39mexcept\u001b[39;00m ComplexWarning \u001b[39mas\u001b[39;00m complex_warning:\n\u001b[0;32m    858\u001b[0m     \u001b[39mraise\u001b[39;00m \u001b[39mValueError\u001b[39;00m(\n\u001b[0;32m    859\u001b[0m         \u001b[39m\"\u001b[39m\u001b[39mComplex data not supported\u001b[39m\u001b[39m\\n\u001b[39;00m\u001b[39m{}\u001b[39;00m\u001b[39m\\n\u001b[39;00m\u001b[39m\"\u001b[39m\u001b[39m.\u001b[39mformat(array)\n\u001b[0;32m    860\u001b[0m     ) \u001b[39mfrom\u001b[39;00m \u001b[39mcomplex_warning\u001b[39;00m\n",
      "File \u001b[1;32mc:\\Users\\Silas_Dell\\AppData\\Local\\Programs\\Python\\Python310\\lib\\site-packages\\pandas\\core\\series.py:872\u001b[0m, in \u001b[0;36mSeries.__array__\u001b[1;34m(self, dtype)\u001b[0m\n\u001b[0;32m    825\u001b[0m \u001b[39mdef\u001b[39;00m \u001b[39m__array__\u001b[39m(\u001b[39mself\u001b[39m, dtype: npt\u001b[39m.\u001b[39mDTypeLike \u001b[39m|\u001b[39m \u001b[39mNone\u001b[39;00m \u001b[39m=\u001b[39m \u001b[39mNone\u001b[39;00m) \u001b[39m-\u001b[39m\u001b[39m>\u001b[39m np\u001b[39m.\u001b[39mndarray:\n\u001b[0;32m    826\u001b[0m     \u001b[39m\"\"\"\u001b[39;00m\n\u001b[0;32m    827\u001b[0m \u001b[39m    Return the values as a NumPy array.\u001b[39;00m\n\u001b[0;32m    828\u001b[0m \n\u001b[1;32m   (...)\u001b[0m\n\u001b[0;32m    870\u001b[0m \u001b[39m          dtype='datetime64[ns]')\u001b[39;00m\n\u001b[0;32m    871\u001b[0m \u001b[39m    \"\"\"\u001b[39;00m\n\u001b[1;32m--> 872\u001b[0m     \u001b[39mreturn\u001b[39;00m np\u001b[39m.\u001b[39;49masarray(\u001b[39mself\u001b[39;49m\u001b[39m.\u001b[39;49m_values, dtype)\n",
      "\u001b[1;31mValueError\u001b[0m: could not convert string to float: 'recent data indicator cover child across entirety child life course highpolicy relevance result directly influenced social protection child welfare policy household survey data weighted make child unit analysis data indicator around end poverty highly policy relevant including health schoolbased intervention physical activity obesity neither indicator reflects experience later adolescence overage data malnutrition form stunting wasting replaced malnutrition form obesity given focus highincome country prevalence overweight obesity case comparison form malnutrition'"
     ]
    }
   ],
   "source": [
    "# create logistic regression model instance\n",
    "lm = LogisticRegression(C=2, solver='liblinear')\n",
    "\n",
    "# fitting and predictiion by calling the 'modelling' fuction \n",
    "cm_df_logit, cr_df_logit, cm_logit = modelling(lm)"
   ]
  },
  {
   "cell_type": "markdown",
   "id": "c0c5f533",
   "metadata": {},
   "source": [
    "From the confusion matrix we can see that the model did well at predicting the `Gender equality`. Therefore, we have more correctly predicted `Gender equality` sentiment than others with an accuracy of `78%`\n",
    "\n",
    "* Generally the model is overfitting having an accuracy score of `99%` in training vs `71%` while predicting unseen dataset\n"
   ]
  },
  {
   "cell_type": "code",
   "execution_count": null,
   "metadata": {},
   "outputs": [],
   "source": [
    "# Create dictionaries for the data we want to log on comet\n",
    "\n",
    "params = {\"random_state\": 10,\n",
    "          \"model_type\": \"lm\"\n",
    "          }\n",
    "metrics = {\"f1\": cr_df_logit.loc['f1-score', 'weighted avg'],\n",
    "           \"precision\": cr_df_logit.loc['precision', 'weighted avg'],\n",
    "           \"recall\": cr_df_logit.loc['recall', 'weighted avg']\n",
    "           }"
   ]
  },
  {
   "cell_type": "code",
   "execution_count": null,
   "metadata": {},
   "outputs": [],
   "source": [
    "# Log our parameters and results on comet\n",
    "experiment.log_parameters(params)\n",
    "experiment.log_metrics(metrics)\n",
    "experiment.log_confusion_matrix(matrix=cm_logit)"
   ]
  },
  {
   "cell_type": "markdown",
   "metadata": {},
   "source": [
    "#### b) Support Vector Machine Classifier\n",
    "\n",
    "A linear model for classification and regression issues is the SVM, or Support Vector Machine. It works well for many real-world issues and can solve both linear and non-linear problems. The SVM concept is straightforward: A line or a hyperplane that divides the data into classes is produced by the algorithm."
   ]
  },
  {
   "cell_type": "code",
   "execution_count": null,
   "metadata": {},
   "outputs": [],
   "source": [
    "# #implementing SVC. Please note that this took 47min to run on an i5 12gig ram 1terabite laptop\n",
    "# Uncomment if you want to run\n",
    "# svc = SVC(kernel='linear')\n",
    "\n",
    "# # fitting and predictiion by calling the 'modelling' fuction \n",
    "# cm_df_svc, cr_df_svc, cm_svc = modelling(svc)\n",
    "\n",
    "# # loging the confusion matric to comet\n",
    "# #experiment.log_confusion_matrix(matrix=cm)"
   ]
  },
  {
   "cell_type": "markdown",
   "metadata": {},
   "source": [
    "Generally the model is overfitting having an accuracy score of approximately `100%` in training vs `70%` while predicting unseen dataset"
   ]
  },
  {
   "cell_type": "markdown",
   "id": "a1d5c11c",
   "metadata": {},
   "source": [
    "### c)  Decision Tree classifier\n",
    "\n",
    "Decision Tree is a Supervised learning technique that can be used for both classification and Regression problems, but mostly it is preferred for solving Classification problems. It is a tree-structured classifier, where internal nodes represent the features of a dataset, branches represent the decision rules and each leaf node represents the outcome. In order to make prediction, the algorithm simply asks a question, and based on the answer (Yes/No), it further split the tree into subtrees till it get to the final outcome."
   ]
  },
  {
   "cell_type": "code",
   "execution_count": null,
   "id": "2125078d",
   "metadata": {},
   "outputs": [],
   "source": [
    "#Inintiate Decision tree\n",
    "dt=DecisionTreeClassifier(random_state=1)\n",
    "\n",
    "#initiate a BaggingClassifier called bc consisting of 50 trees\n",
    "bc=BaggingClassifier(base_estimator=dt, n_estimators=50, random_state=1, n_jobs=-1)"
   ]
  },
  {
   "cell_type": "code",
   "execution_count": null,
   "metadata": {},
   "outputs": [],
   "source": [
    "cm_df_dt, cr_df_dt, cm_dt = modelling(dt)"
   ]
  },
  {
   "cell_type": "markdown",
   "id": "dcfcc86b",
   "metadata": {},
   "source": [
    "From our result, the model performed poorly on unseen data. With the train data, an accuracy score of `100%` was recorded but on the test data, we have an accuracy score of `57.4%` which depicts overfitting. "
   ]
  },
  {
   "cell_type": "markdown",
   "id": "171fa99e",
   "metadata": {},
   "source": [
    "### Using pipeline"
   ]
  },
  {
   "cell_type": "markdown",
   "id": "adb4cc1a",
   "metadata": {},
   "source": [
    "Moving forward to build the rest of our model, we employed techiques like `Pipeline` and `GridsearchCV`.\n",
    "\n",
    "**Pipeline**\n",
    "\n",
    "When it comes to orchestrating the flow of data into and output from a machine learning model, a machine learning pipeline comes in handy. It is known as an end-to-end structure that orchestrates the flow of data into and output from a machine learning model is known as a machine learning pipeline (or set of multiple models). It covers the input of the raw data, the features, the outputs, the machine learning model and model parameters, and the outputs of the predictions.\n",
    "\n",
    "Here, a machine learning pipeline is employed to easy feature extraction from our text data. The pipeline employed executes the following steps in chronological order to extract these features and make predictions. They include:\n",
    "\n",
    "* Count Vectorization: The CountVectorizer tool in Scikit-learn is used to turn a group of text documents into a vector of term/token counts. Additionally, it enables text data to be pre-processed before being turned into a vector form. Its capabilities turn it into a very versatile feature representation module for text.\n",
    "&emsp;\n",
    "\n",
    "\n",
    "* TF-ID Transformer: With TF-ID transformer, a count matrix is transformed into a normalised tf or tf-idf representation. To reduce the impact of tokens that appear often in a corpus, tf-idf is used in place of the raw frequencies of occurrence of a token in a specific document \n",
    "\n",
    "\n",
    "\n",
    "* Model: This represents the adopted Machine Learning model\n",
    "\n",
    "\n",
    "**GridsearchCV**\n",
    "\n",
    "GridSearchCV is the process of performing hyperparameter tuning in order to determine the optimal values for a given model. The performance of a model significantly depends on the value of hyperparameters and there is no way to know in advance the best values for hyperparameters. So ideally, we need to try all possible values to know the optimal values. That is why we employ GridSearchCV to automate the tuning of hyperparameters."
   ]
  },
  {
   "cell_type": "markdown",
   "id": "69abd5ff",
   "metadata": {},
   "source": [
    "### d) Naive Bayes classifier\n",
    "\n",
    "Mostly employed in Natural Language Processing, the Multinomial Naive Bayes algorithm is a probabilistic learning technique (NLP). The method, which guesses the tag of a text such as an email or newspaper article, is based on the Bayes theorem. For a given sample, it determines the probabilities of each tag, and then outputs the tag with the highest probability.\n",
    "\n",
    "The Naive Bayes classifier is a collection of many methods, all of which are based on the idea that each feature being classified is independent of every other feature. The existence or absence of one feature has no bearing on the other feature's existence or absence"
   ]
  },
  {
   "cell_type": "code",
   "execution_count": null,
   "id": "01a09478",
   "metadata": {},
   "outputs": [],
   "source": [
    "# split the target and features into train and test\n",
    "x_train, x_valid, y_train, y_valid = train_test_split(train['text'], train.sdg, test_size=0.2, random_state=10)"
   ]
  },
  {
   "cell_type": "markdown",
   "id": "7fd652a6",
   "metadata": {},
   "source": [
    "Here, we split our dataset again into `Train` and `Validation` set for the purpose of fitting the data into our pipeline"
   ]
  },
  {
   "cell_type": "markdown",
   "id": "41b2712e",
   "metadata": {},
   "source": [
    "##### Building a pipeline to be more concise"
   ]
  },
  {
   "cell_type": "code",
   "execution_count": null,
   "id": "14ed0060",
   "metadata": {},
   "outputs": [],
   "source": [
    "# pipline with naive_bayes and using the 'clean_tweet' from dataset to fit the model\n",
    "text_clf = Pipeline([('vect', CountVectorizer()),\n",
    "                     ('tfidf', TfidfTransformer()),\n",
    "                     ('clf', MultinomialNB()),])\n",
    "# cross validation\n",
    "scores = cross_validate(text_clf, train['text'], train.sdg, return_train_score=True)\n",
    "pd.DataFrame(scores)"
   ]
  },
  {
   "cell_type": "markdown",
   "id": "2a3035c1",
   "metadata": {},
   "source": [
    "The model seem to be under performing and overfitting at the same time\n",
    "- Using GridsearchCV we can find the best hyper-parameters"
   ]
  },
  {
   "cell_type": "code",
   "execution_count": null,
   "id": "50e020cd",
   "metadata": {},
   "outputs": [],
   "source": [
    "parameters = {'vect__ngram_range': [(1, 1), (1, 2), (2, 2)],\n",
    "              'clf__alpha': (1e-2, 1e-3),\n",
    "             'clf__fit_prior': (True, False)}\n",
    "nb_clf = GridSearchCV(text_clf, parameters, n_jobs=-1)\n",
    "nb_clf = nb_clf.fit(x_train, y_train)\n",
    "display('The best accuracy is:',nb_clf.best_score_)\n",
    "display(nb_clf.best_params_)\n",
    "\n",
    "# predictions\n",
    "predicts = nb_clf.predict(x_valid)\n",
    "cm = confusion_matrix(y_valid,  predicts)\n",
    "pd.DataFrame(cm, index = sdgLables, columns = sdgLables)"
   ]
  },
  {
   "cell_type": "markdown",
   "id": "060906f8",
   "metadata": {},
   "source": [
    "Using our split dataset so we can train on seen data and validate our model with the unseen dataset"
   ]
  },
  {
   "cell_type": "code",
   "execution_count": null,
   "id": "e71df992",
   "metadata": {},
   "outputs": [],
   "source": [
    "# Saving the trained model as a pickle file\n",
    "Pkl_Filename = \"naive_bayes_model.pkl\"  \n",
    "\n",
    "with open(Pkl_Filename, 'wb') as file:  \n",
    "    pickle.dump(nb_clf, file)"
   ]
  },
  {
   "cell_type": "code",
   "execution_count": null,
   "id": "a4162d16",
   "metadata": {},
   "outputs": [],
   "source": [
    "# Create dictionaries for the data we want to log\n",
    "params = nb_clf.best_params_\n",
    "metrics = {\"f1\": nb_clf.best_score_}\n",
    "\n",
    "# Log our parameters and results\n",
    "experiment.log_parameters(params)\n",
    "experiment.log_metrics(metrics)\n",
    "experiment.log_confusion_matrix(matrix=cm)"
   ]
  },
  {
   "cell_type": "markdown",
   "id": "66af18ef",
   "metadata": {},
   "source": [
    "### e) K-Neighbors Classifier"
   ]
  },
  {
   "cell_type": "markdown",
   "id": "d56520a6",
   "metadata": {},
   "source": [
    "Building a pipeline to be more concise"
   ]
  },
  {
   "cell_type": "code",
   "execution_count": null,
   "id": "b74962c8",
   "metadata": {
    "scrolled": true
   },
   "outputs": [],
   "source": [
    "# pipline with naive_bayes and using the 'clean_tweet' from dataset to fit the model\n",
    "knc_clf = Pipeline([('vect', CountVectorizer()),\n",
    "                    ('tfidf', TfidfTransformer()),\n",
    "                     ('clf', KNeighborsClassifier()),])\n",
    "# cross validation\n",
    "scores = cross_validate(knc_clf, train['text'], train.sdg, return_train_score=True)\n",
    "pd.DataFrame(scores)"
   ]
  },
  {
   "cell_type": "markdown",
   "id": "51f7e1c0",
   "metadata": {},
   "source": [
    "The model seem to be under performing and overfitting at the same time\n",
    "- Using GridsearchCV we can find the best hyper-parameters"
   ]
  },
  {
   "cell_type": "code",
   "execution_count": null,
   "id": "97319e99",
   "metadata": {},
   "outputs": [],
   "source": [
    "parameters = {'vect__ngram_range': [(1, 1), (1, 2)],\n",
    "              'clf__n_neighbors': (1, 31)}\n",
    "knn_clf = GridSearchCV(knc_clf, parameters, n_jobs=-1)\n",
    "knn_clf = knn_clf.fit(x_train, y_train)\n",
    "display(f'The best accuracy is: {knn_clf.best_score_}')\n",
    "display(knn_clf.best_params_)\n",
    "\n",
    "# predictions\n",
    "predicts = knn_clf.predict(x_valid)\n",
    "cm = confusion_matrix(y_valid,  predicts)\n",
    "pd.DataFrame(cm, index = sdgLables, columns = sdgLables)"
   ]
  },
  {
   "cell_type": "code",
   "execution_count": null,
   "id": "e71df992",
   "metadata": {},
   "outputs": [],
   "source": [
    "# Saving the trained model as a pickle file\n",
    "Pkl_Filename = \"KNeighborsC_model.pkl\"  \n",
    "\n",
    "with open(Pkl_Filename, 'wb') as file:  \n",
    "    pickle.dump(knn_clf, file)"
   ]
  },
  {
   "cell_type": "code",
   "execution_count": null,
   "metadata": {},
   "outputs": [],
   "source": [
    "# Create dictionaries for the data we want to log\n",
    "\n",
    "params = knn_clf.best_params_\n",
    "metrics = {\"f1\": knn_clf.best_score_}\n",
    "\n",
    "# Log our parameters and results\n",
    "experiment.log_parameters(params)\n",
    "experiment.log_metrics(metrics)\n",
    "experiment.log_confusion_matrix(matrix=cm)"
   ]
  },
  {
   "cell_type": "markdown",
   "id": "a2a19900",
   "metadata": {},
   "source": [
    "The above cells are used to log/commit our model to comet "
   ]
  },
  {
   "cell_type": "markdown",
   "id": "f58622c4",
   "metadata": {},
   "source": [
    "<a id=\"seven\"></a>\n",
    "## 7. Model Performance\n",
    "<a class=\"anchor\" id=\"1.1\"></a>\n",
    "<a href=#cont>Back to Table of Contents</a>"
   ]
  },
  {
   "cell_type": "markdown",
   "id": "8487a3c7",
   "metadata": {},
   "source": [
    "In order to evaluate how well our models have performed, we employed the following classification metrics:\n",
    "\n",
    "* **1. Accuracy**\n",
    "\n",
    "Accuracy simply measures how often the classifier correctly predicts. We can define accuracy as the ratio of the number of correct predictions and the total number of predictions.\n",
    "\n",
    "* **2. Precision**\n",
    "\n",
    "Precision explains how many of the correctly predicted cases actually turned out to be positive. Precision is useful in the cases where False Positive is a higher concern than False Negatives.\n",
    "\n",
    "* **3. Recall**\n",
    "\n",
    "Recall explains how many of the actual positive cases we were able to predict correctly with our model. It is a useful metric in cases where False Negative is of higher concern than False Positive.\n",
    "\n",
    "* **4. F1-Score**\n",
    "\n",
    "It gives a combined idea about Precision and Recall metrics.F1 Score is the harmonic mean of precision and recall."
   ]
  },
  {
   "cell_type": "code",
   "execution_count": null,
   "id": "d473cfbf",
   "metadata": {},
   "outputs": [],
   "source": [
    "from sklearn import metrics"
   ]
  },
  {
   "cell_type": "code",
   "execution_count": null,
   "id": "db8f918f",
   "metadata": {},
   "outputs": [],
   "source": [
    "# Predicting with each model of choice\n",
    "lm_preds = lm.predict(X_test) # LogisticRegression\n",
    "nb_clf_preds = nb_clf.predict(x_valid) # Naive Bayes\n",
    "knn_clf_preds = knn_clf.predict(x_valid)# K-Neighbors Classifier\n",
    "# svc_preds = svc.predict(X_test) #Linear SVC\n",
    "#bagg_preds = bc.predict(X_test) #Bagging Classifier\n",
    "dt_preds = dt.predict(X_test) # Decision Tree Classifier\n"
   ]
  },
  {
   "cell_type": "code",
   "execution_count": null,
   "metadata": {},
   "outputs": [],
   "source": [
    "# Uncomment this part and run if you runed the SVC up above \n",
    "# # creating a map for our model and there prediction array of values\n",
    "# metrics_dict = {\"LogisticRegression\":lm_preds, \"Naive Bayes\":nb_clf_preds, \"K-Neighbors Classifier\":knn_clf_preds,\n",
    "#                 \"Linear SVC\": svc_preds,\"Decision Tree Classifier\": dt_preds}\n",
    "# metrics_list = [] #initiating a new list to store our metrics value temporarily"
   ]
  },
  {
   "cell_type": "code",
   "execution_count": null,
   "metadata": {},
   "outputs": [],
   "source": [
    "# creating a map for our model and there prediction array of values\n",
    "metrics_dict = {\"LogisticRegression\":lm_preds, \"Naive Bayes\":nb_clf_preds, \"K-Neighbors Classifier\":knn_clf_preds,\n",
    "                \"Decision Tree Classifier\": dt_preds}\n",
    "metrics_list = [] #initiating a new list to store our metrics value temporarily"
   ]
  },
  {
   "cell_type": "code",
   "execution_count": null,
   "metadata": {},
   "outputs": [],
   "source": [
    "# iterating through the dictionary to calculate metrics for each model and make a dataframe off it\n",
    "for name, prediction in metrics_dict.items():\n",
    "    f1_score = metrics.f1_score(y_valid, prediction, average=\"weighted\")  \n",
    "    precision = metrics.precision_score(y_valid, prediction, average=\"weighted\")\n",
    "    recall = metrics.recall_score(y_valid, prediction, average=\"weighted\")\n",
    "    metrics_list.append([name, f1_score, precision, recall])\n",
    "perf_df = pd.DataFrame(metrics_list, columns=[\"Classifier\", \"F1_score\", \"Precision\", \"Recall\"])\n",
    "perf_df.set_index(\"Classifier\", inplace=True)\n"
   ]
  },
  {
   "cell_type": "code",
   "execution_count": null,
   "metadata": {},
   "outputs": [],
   "source": [
    "y_valid.shape"
   ]
  },
  {
   "cell_type": "code",
   "execution_count": null,
   "metadata": {},
   "outputs": [],
   "source": [
    "lm_preds.shape"
   ]
  },
  {
   "cell_type": "code",
   "execution_count": null,
   "id": "fd06df92",
   "metadata": {},
   "outputs": [],
   "source": [
    "# overview of the dataframe created above\n",
    "perf_df"
   ]
  },
  {
   "cell_type": "code",
   "execution_count": null,
   "id": "9afaddc3",
   "metadata": {},
   "outputs": [],
   "source": [
    "# plotting the metrics complied \n",
    "perf_df.plot(kind=\"bar\", figsize=(15,6));"
   ]
  },
  {
   "cell_type": "markdown",
   "id": "ce341772",
   "metadata": {},
   "source": [
    "All the Classification metrics point to `Naive Bayes` as the better Model\n"
   ]
  },
  {
   "cell_type": "markdown",
   "id": "0d7f5f03",
   "metadata": {},
   "source": [
    "#### predicting our `test` DataSet with the best model"
   ]
  },
  {
   "cell_type": "code",
   "execution_count": null,
   "id": "05b93acc",
   "metadata": {},
   "outputs": [],
   "source": [
    "# logistic reggression\n",
    "# Using the fitted (train) model to predict the 'test' dataset\n",
    "pred_test = lm.predict(test_data_features)"
   ]
  },
  {
   "cell_type": "code",
   "execution_count": null,
   "metadata": {},
   "outputs": [],
   "source": [
    "# Saving test predictions to csv file\n",
    "output = pd.DataFrame({'id': test.id,\n",
    "                       'sdg': pred_test})\n",
    "output.to_csv('submission1.csv', index=False)"
   ]
  },
  {
   "cell_type": "code",
   "execution_count": null,
   "id": "05b93acc",
   "metadata": {},
   "outputs": [],
   "source": [
    "# # Naive bayes is given me errors .fix it if you can\n",
    "# # Using the fitted (train) model to predict the 'test' dataset\n",
    "# pred_test1 = nb_clf.predict(test_data_features)"
   ]
  },
  {
   "cell_type": "code",
   "execution_count": null,
   "metadata": {},
   "outputs": [],
   "source": [
    "# # Saving test predictions to csv file\n",
    "# output = pd.DataFrame({'id': test.id,\n",
    "#                        'sdg': pred_test1})\n",
    "# output.to_csv('submission2.csv', index=False)"
   ]
  }
 ],
 "metadata": {
  "kernelspec": {
   "display_name": "Python 3.10.0 64-bit",
   "language": "python",
   "name": "python3"
  },
  "language_info": {
   "codemirror_mode": {
    "name": "ipython",
    "version": 3
   },
   "file_extension": ".py",
   "mimetype": "text/x-python",
   "name": "python",
   "nbconvert_exporter": "python",
   "pygments_lexer": "ipython3",
   "version": "3.10.0"
  },
  "vscode": {
   "interpreter": {
    "hash": "320c1f05b41b6296d6cdeadbc8f37198b22e160db062b16d8b8cc9d95c25d782"
   }
  }
 },
 "nbformat": 4,
 "nbformat_minor": 2
}
