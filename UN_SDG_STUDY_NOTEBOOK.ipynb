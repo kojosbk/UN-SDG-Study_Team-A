{
 "cells": [
  {
   "cell_type": "markdown",
   "metadata": {},
   "source": [
    "<a id='Top'></a>\n",
    "# U.N SDG text classification task\n",
    "\n",
    "© Explore Data AI\n",
    "\n",
    "---\n"
   ]
  },
  {
   "cell_type": "markdown",
   "metadata": {},
   "source": [
    "\n",
    "<a id=\"cont\"></a>\n",
    "\n",
    "## Table of Contents"
   ]
  },
  {
   "cell_type": "markdown",
   "metadata": {},
   "source": [
    " <a id=\"one\"></a>\n",
    "## 1. INTRODUCTION\n",
    "<a href=#cont>Back to Table of Contents</a>\n",
    "\n",
    "---\n",
    "    \n",
    "| ⚡ Description: INTRODUCTION ⚡ |\n",
    "| :--------------------------- |\n",
    "| We will address the problem statement and objectives, as well as the classification of data aspects and a brief discussion of the Climate Change Belief Analysis in this part.|"
   ]
  },
  {
   "cell_type": "markdown",
   "metadata": {},
   "source": [
    "As a \"common blueprint for peace and prosperity for people and the planet, now and into the future,\" the 17 Sustainable Development Goals (SDGs) were established. They have helped in finding answers to a number of interconnected global concerns since 2015 The SDGs must be monitored in order to gauge development and challenges to achieving such common objectives. Teams from the United Nations evaluate streams of SDG-related papers created by governments, academia, business, and public bodies to determine how well each SDG is progressing. To move on to more thorough analyses, this calls for labeling. To determine whether SDGs are referenced in the text or connected to it, experts must study it.\n",
    "\n",
    "These mapping exercises take a lot of time and depend on the individual's understanding of the relationships between the SDGs and the content of the document. Although UNEP has experts in many domains, connections to the SDGs outside of their areas of expertise may be missed.\n",
    "so for that reason we have been tasked to build an NLP module that would help identify SDGs based on articles fed to the module"
   ]
  }
 ],
 "metadata": {
  "kernelspec": {
   "display_name": "Python 3.10.0 64-bit",
   "language": "python",
   "name": "python3"
  },
  "language_info": {
   "name": "python",
   "version": "3.10.0"
  },
  "orig_nbformat": 4,
  "vscode": {
   "interpreter": {
    "hash": "320c1f05b41b6296d6cdeadbc8f37198b22e160db062b16d8b8cc9d95c25d782"
   }
  }
 },
 "nbformat": 4,
 "nbformat_minor": 2
}
